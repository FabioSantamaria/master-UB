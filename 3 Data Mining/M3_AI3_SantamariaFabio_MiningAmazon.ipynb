{
 "cells": [
  {
   "cell_type": "markdown",
   "metadata": {
    "id": "mpuJIpOjfV7L"
   },
   "source": [
    "\n",
    "# **Gestión de datos y datos digitales**\n",
    "\n",
    "## **Actividad individual 3: \"Películas recomendadas en Amazon\"**\n",
    "\n",
    "\n",
    "### Autor: Fabio Santamaría Iglesias\n",
    "\n",
    "\n",
    "\n",
    "15/03/2021"
   ]
  },
  {
   "cell_type": "markdown",
   "metadata": {
    "id": "nxOSlTTMfV7Q"
   },
   "source": [
    "## **Introducción:**\n",
    "\n",
    "Preparamos el entorno instalando e importando los paquetes adecuados:\n",
    "    \n",
    "    "
   ]
  },
  {
   "cell_type": "code",
   "execution_count": 1,
   "metadata": {
    "colab": {
     "base_uri": "https://localhost:8080/"
    },
    "executionInfo": {
     "elapsed": 18318,
     "status": "ok",
     "timestamp": 1615756356222,
     "user": {
      "displayName": "Fabio Santamaría",
      "photoUrl": "https://lh3.googleusercontent.com/a-/AOh14GhxUBKouDaR9YiR2FHLACQp7u9Q4TgQOMjnvMyWoQ=s64",
      "userId": "16998571430491345217"
     },
     "user_tz": -60
    },
    "id": "IJ-JD3dJfV7Q",
    "outputId": "e9087906-e513-42e9-f421-1b6b71ee5b19"
   },
   "outputs": [],
   "source": [
    "from IPython import get_ipython\n",
    "from IPython import display\n",
    "if 'google.colab' in str(get_ipython()):\n",
    "  # instalar drivers\n",
    "  !apt-get update\n",
    "  !apt install chromium-chromedriver\n",
    "  !cp /usr/lib/chromium-browser/chromedriver /usr/bin\n",
    "  !pip install selenium\n",
    "  !pip install numpy\n",
    "  !pip install pandas\n",
    "  !pip install cssselect"
   ]
  },
  {
   "cell_type": "markdown",
   "metadata": {
    "id": "G-bF4HqifV7R"
   },
   "source": [
    "Abrimos el navegador desde Selenium:"
   ]
  },
  {
   "cell_type": "code",
   "execution_count": 2,
   "metadata": {
    "executionInfo": {
     "elapsed": 19537,
     "status": "ok",
     "timestamp": 1615756357447,
     "user": {
      "displayName": "Fabio Santamaría",
      "photoUrl": "https://lh3.googleusercontent.com/a-/AOh14GhxUBKouDaR9YiR2FHLACQp7u9Q4TgQOMjnvMyWoQ=s64",
      "userId": "16998571430491345217"
     },
     "user_tz": -60
    },
    "id": "t_zW_DfLfV7R"
   },
   "outputs": [],
   "source": [
    "import numpy as np\n",
    "import pandas as pd\n",
    "\n",
    "from selenium import webdriver\n",
    "from selenium.webdriver.common.by import By\n",
    "from selenium.webdriver.common.by import By\n",
    "from selenium.webdriver.common.action_chains import ActionChains\n",
    "from selenium.webdriver.support import expected_conditions\n",
    "from selenium.webdriver.support.wait import WebDriverWait\n",
    "from selenium.webdriver.common.keys import Keys\n",
    "from selenium.webdriver.common.desired_capabilities import DesiredCapabilities\n",
    "if 'google.colab' in str(get_ipython()):\n",
    "  # instalar drivers\n",
    "  options = webdriver.ChromeOptions()\n",
    "  options.add_argument('-headless')\n",
    "  options.add_argument('-no-sandbox')\n",
    "  options.add_argument('-disable-dev-shm-usage')\n",
    "  driver = webdriver.Chrome('chromedriver',options=options)\n",
    "else:\n",
    "  import os \n",
    "  os.environ[\"PATH\"] = '$PATH:.'\n",
    "  options = webdriver.ChromeOptions()\n",
    "  driver = webdriver.Chrome()"
   ]
  },
  {
   "cell_type": "markdown",
   "metadata": {
    "id": "179CAAQOfV7R"
   },
   "source": [
    "Accedemos a la página de Amazon y aceptamos las cookies si las hubiera."
   ]
  },
  {
   "cell_type": "code",
   "execution_count": 3,
   "metadata": {
    "executionInfo": {
     "elapsed": 21745,
     "status": "ok",
     "timestamp": 1615756359658,
     "user": {
      "displayName": "Fabio Santamaría",
      "photoUrl": "https://lh3.googleusercontent.com/a-/AOh14GhxUBKouDaR9YiR2FHLACQp7u9Q4TgQOMjnvMyWoQ=s64",
      "userId": "16998571430491345217"
     },
     "user_tz": -60
    },
    "id": "iqSWwIR5fV7R"
   },
   "outputs": [],
   "source": [
    "driver.get(\"https://www.amazon.es/\")\n",
    "\n",
    "driver.implicitly_wait(10)\n",
    "\n",
    "try:\n",
    "    driver.find_element(By.ID,'sp-cc-accept').click()\n",
    "except:\n",
    "    print('No hay cookies que aceptar')"
   ]
  },
  {
   "cell_type": "markdown",
   "metadata": {
    "id": "W83RywLafV7S"
   },
   "source": [
    "Buscamos la caja de búsqueda por ID, borramos el contenido, introducimos la nuestra película favorita y simulamos enter para lanzar la petición."
   ]
  },
  {
   "cell_type": "code",
   "execution_count": 4,
   "metadata": {
    "executionInfo": {
     "elapsed": 23962,
     "status": "ok",
     "timestamp": 1615756361878,
     "user": {
      "displayName": "Fabio Santamaría",
      "photoUrl": "https://lh3.googleusercontent.com/a-/AOh14GhxUBKouDaR9YiR2FHLACQp7u9Q4TgQOMjnvMyWoQ=s64",
      "userId": "16998571430491345217"
     },
     "user_tz": -60
    },
    "id": "ZrTsUSIcfV7S"
   },
   "outputs": [],
   "source": [
    "driver.find_element(By.ID, \"twotabsearchtextbox\").clear()\n",
    "\n",
    "#INCLUIR SIEMPRE LA PALABRA \"DVD\"\n",
    "driver.find_element(By.ID, \"twotabsearchtextbox\").send_keys(\"El señor de los anillos dvd\")\n",
    "\n",
    "driver.find_element(By.ID, \"twotabsearchtextbox\").send_keys(Keys.ENTER)\n",
    "\n",
    "driver.implicitly_wait(10)"
   ]
  },
  {
   "cell_type": "markdown",
   "metadata": {
    "id": "rhKM_EA1fV7S"
   },
   "source": [
    "Buscamos el primer resultado por XPATH. Estamos buscando la primera caja de texto del resultado de la búsqueda que además contenga la palabra \"DVD\". Hacemos click sobre el elemento, que nos conduce a la página de nuestra película favorita."
   ]
  },
  {
   "cell_type": "code",
   "execution_count": 35,
   "metadata": {
    "executionInfo": {
     "elapsed": 26296,
     "status": "ok",
     "timestamp": 1615756364214,
     "user": {
      "displayName": "Fabio Santamaría",
      "photoUrl": "https://lh3.googleusercontent.com/a-/AOh14GhxUBKouDaR9YiR2FHLACQp7u9Q4TgQOMjnvMyWoQ=s64",
      "userId": "16998571430491345217"
     },
     "user_tz": -60
    },
    "id": "JifRC_befV7S"
   },
   "outputs": [],
   "source": [
    "driver.find_element(By.XPATH,'(//span[@class=\"a-size-base-plus a-color-base a-text-normal\" and contains(text(), \\\"DVD\\\")])').click()"
   ]
  },
  {
   "cell_type": "markdown",
   "metadata": {
    "id": "b1zg3Z8vfV7T"
   },
   "source": [
    "Capturamos el código html con la librería lxml. Podríamos cerrar la página ahora y continuar con el código capturado. No obstante, dejamos esto para el final para poder ver que la información obtenida es la correcta."
   ]
  },
  {
   "cell_type": "code",
   "execution_count": 36,
   "metadata": {
    "executionInfo": {
     "elapsed": 26295,
     "status": "ok",
     "timestamp": 1615756364216,
     "user": {
      "displayName": "Fabio Santamaría",
      "photoUrl": "https://lh3.googleusercontent.com/a-/AOh14GhxUBKouDaR9YiR2FHLACQp7u9Q4TgQOMjnvMyWoQ=s64",
      "userId": "16998571430491345217"
     },
     "user_tz": -60
    },
    "id": "U7tm6rDEfV7T"
   },
   "outputs": [],
   "source": [
    "import lxml\n",
    "\n",
    "from lxml import html\n",
    "from lxml import cssselect"
   ]
  },
  {
   "cell_type": "code",
   "execution_count": 37,
   "metadata": {
    "executionInfo": {
     "elapsed": 26616,
     "status": "ok",
     "timestamp": 1615756364539,
     "user": {
      "displayName": "Fabio Santamaría",
      "photoUrl": "https://lh3.googleusercontent.com/a-/AOh14GhxUBKouDaR9YiR2FHLACQp7u9Q4TgQOMjnvMyWoQ=s64",
      "userId": "16998571430491345217"
     },
     "user_tz": -60
    },
    "id": "7k8TXJvSfV7T"
   },
   "outputs": [],
   "source": [
    "html_text = driver.page_source\n",
    "tree = html.document_fromstring(html_text)"
   ]
  },
  {
   "cell_type": "markdown",
   "metadata": {
    "id": "I7xVNmFHfV7T"
   },
   "source": [
    "Con document_fromstring convertimos el texto html a un árbol de nodos. De aquí podemos sacar la información. Por ejemplo, el título del producto seleccionado, en este caso, nuestra película favorita:"
   ]
  },
  {
   "cell_type": "code",
   "execution_count": 38,
   "metadata": {
    "colab": {
     "base_uri": "https://localhost:8080/"
    },
    "executionInfo": {
     "elapsed": 26614,
     "status": "ok",
     "timestamp": 1615756364540,
     "user": {
      "displayName": "Fabio Santamaría",
      "photoUrl": "https://lh3.googleusercontent.com/a-/AOh14GhxUBKouDaR9YiR2FHLACQp7u9Q4TgQOMjnvMyWoQ=s64",
      "userId": "16998571430491345217"
     },
     "user_tz": -60
    },
    "id": "s6hsYbzufV7T",
    "outputId": "f6d2cf6a-1389-46c5-83b9-c06d0894df00"
   },
   "outputs": [
    {
     "name": "stdout",
     "output_type": "stream",
     "text": [
      "Trilogía El Señor De Los Anillos Cinematográfica [DVD]\n"
     ]
    }
   ],
   "source": [
    "prod = tree.xpath('//*[@id=\"productTitle\"]')[0]\n",
    "print(prod.text_content().strip())"
   ]
  },
  {
   "cell_type": "markdown",
   "metadata": {
    "id": "BV99OFJCfV7U"
   },
   "source": [
    "También podemos seleccionar los productos comprados juntos habitualmente con cssselect."
   ]
  },
  {
   "cell_type": "code",
   "execution_count": 39,
   "metadata": {
    "colab": {
     "base_uri": "https://localhost:8080/"
    },
    "executionInfo": {
     "elapsed": 26611,
     "status": "ok",
     "timestamp": 1615756364540,
     "user": {
      "displayName": "Fabio Santamaría",
      "photoUrl": "https://lh3.googleusercontent.com/a-/AOh14GhxUBKouDaR9YiR2FHLACQp7u9Q4TgQOMjnvMyWoQ=s64",
      "userId": "16998571430491345217"
     },
     "user_tz": -60
    },
    "id": "H0Vg-X6nfV7U",
    "outputId": "29f62025-7307-4fcd-b10c-357dcbcba37f"
   },
   "outputs": [
    {
     "name": "stdout",
     "output_type": "stream",
     "text": [
      "Trilogia El Hobbit Extendida [DVD]\n",
      "\n",
      "Pack Harry Potter - Colección Completa Golden Steelbook 2019 [DVD]\n",
      "\n"
     ]
    }
   ],
   "source": [
    "recomended_products_name_list = tree.cssselect('#sims-fbt-form > div.sims-fbt-rows > fieldset > ul > li:nth-child(n) > span > span > div > label > span > div > a')\n",
    "prod_list = []\n",
    "for name in recomended_products_name_list:\n",
    "      prod_list.append(name.text_content())\n",
    "      print(name.text_content() + \"\\n\")"
   ]
  },
  {
   "cell_type": "code",
   "execution_count": 40,
   "metadata": {
    "colab": {
     "base_uri": "https://localhost:8080/"
    },
    "executionInfo": {
     "elapsed": 26609,
     "status": "ok",
     "timestamp": 1615756364541,
     "user": {
      "displayName": "Fabio Santamaría",
      "photoUrl": "https://lh3.googleusercontent.com/a-/AOh14GhxUBKouDaR9YiR2FHLACQp7u9Q4TgQOMjnvMyWoQ=s64",
      "userId": "16998571430491345217"
     },
     "user_tz": -60
    },
    "id": "gHmG_f17fV7U",
    "outputId": "ce46a967-dccd-4673-c116-3e8307f86e12"
   },
   "outputs": [
    {
     "name": "stdout",
     "output_type": "stream",
     "text": [
      "50,58 €\n",
      "\n",
      "39,99 €\n",
      "\n"
     ]
    }
   ],
   "source": [
    "recomended_products_price_list = tree.cssselect('#sims-fbt-form > div.sims-fbt-rows > fieldset > ul > li:nth-child(n+2) > span > span > div > label > span > div > span.a-color-price > span')\n",
    "price_list = []\n",
    "for price in recomended_products_price_list:\n",
    "      price_list.append(price.text_content())\n",
    "      print(price.text_content() + \"\\n\")"
   ]
  },
  {
   "cell_type": "markdown",
   "metadata": {
    "id": "yyyoa_k9fV7U"
   },
   "source": [
    "Por último, podemos convertir la información capturada en un dataframe."
   ]
  },
  {
   "cell_type": "code",
   "execution_count": 41,
   "metadata": {
    "colab": {
     "base_uri": "https://localhost:8080/",
     "height": 111
    },
    "executionInfo": {
     "elapsed": 26605,
     "status": "ok",
     "timestamp": 1615756364541,
     "user": {
      "displayName": "Fabio Santamaría",
      "photoUrl": "https://lh3.googleusercontent.com/a-/AOh14GhxUBKouDaR9YiR2FHLACQp7u9Q4TgQOMjnvMyWoQ=s64",
      "userId": "16998571430491345217"
     },
     "user_tz": -60
    },
    "id": "N2tNazLGfV7V",
    "outputId": "1f523599-fc10-45db-932b-0bb9777aecf0"
   },
   "outputs": [
    {
     "data": {
      "text/html": [
       "<div>\n",
       "<style scoped>\n",
       "    .dataframe tbody tr th:only-of-type {\n",
       "        vertical-align: middle;\n",
       "    }\n",
       "\n",
       "    .dataframe tbody tr th {\n",
       "        vertical-align: top;\n",
       "    }\n",
       "\n",
       "    .dataframe thead th {\n",
       "        text-align: right;\n",
       "    }\n",
       "</style>\n",
       "<table border=\"1\" class=\"dataframe\">\n",
       "  <thead>\n",
       "    <tr style=\"text-align: right;\">\n",
       "      <th></th>\n",
       "      <th>products</th>\n",
       "      <th>price</th>\n",
       "    </tr>\n",
       "  </thead>\n",
       "  <tbody>\n",
       "    <tr>\n",
       "      <th>0</th>\n",
       "      <td>Trilogia El Hobbit Extendida [DVD]</td>\n",
       "      <td>50,58 €</td>\n",
       "    </tr>\n",
       "    <tr>\n",
       "      <th>1</th>\n",
       "      <td>Pack Harry Potter - Colección Completa Golden ...</td>\n",
       "      <td>39,99 €</td>\n",
       "    </tr>\n",
       "  </tbody>\n",
       "</table>\n",
       "</div>"
      ],
      "text/plain": [
       "                                            products    price\n",
       "0                 Trilogia El Hobbit Extendida [DVD]  50,58 €\n",
       "1  Pack Harry Potter - Colección Completa Golden ...  39,99 €"
      ]
     },
     "metadata": {
      "tags": []
     },
     "output_type": "display_data"
    }
   ],
   "source": [
    "if prod_list:\n",
    "    display.display(pd.DataFrame({'products' : prod_list, 'price': price_list}))\n",
    "else:\n",
    "    print(\"Este producto no tiene productos comprados juntos habitualmente\")"
   ]
  },
  {
   "cell_type": "markdown",
   "metadata": {
    "id": "MP0BxY6AfV7V"
   },
   "source": [
    "Una vez que hemos comprobado que la informarción capturada es correcta, cerramos la página:"
   ]
  },
  {
   "cell_type": "code",
   "execution_count": 42,
   "metadata": {
    "executionInfo": {
     "elapsed": 26600,
     "status": "ok",
     "timestamp": 1615756364542,
     "user": {
      "displayName": "Fabio Santamaría",
      "photoUrl": "https://lh3.googleusercontent.com/a-/AOh14GhxUBKouDaR9YiR2FHLACQp7u9Q4TgQOMjnvMyWoQ=s64",
      "userId": "16998571430491345217"
     },
     "user_tz": -60
    },
    "id": "JPTqZLEafV7V"
   },
   "outputs": [],
   "source": [
    "#driver.quit()"
   ]
  },
  {
   "cell_type": "markdown",
   "metadata": {
    "id": "O8WeZEA-fV7V"
   },
   "source": [
    "Es posible repetir el proceso para otras películas. Algunas con las que se ha probado son las siguientes:\n",
    "\n",
    "*  El Rey León DVD\n",
    "*  Interstellar DVD\n",
    "*  Odisea 2001 DVD\n",
    "*  El viaje de Chihiro DVD\n",
    "*  El señor de los anillos DVD\n",
    "*  Star Wars I DVD\n",
    "\n",
    "En todas ellas se ha verificado que los resultados son correctos. "
   ]
  }
 ],
 "metadata": {
  "colab": {
   "name": "M3_AI3_SantamariaFabio.ipynb",
   "provenance": []
  },
  "kernelspec": {
   "display_name": "Python 3",
   "language": "python",
   "name": "python3"
  },
  "language_info": {
   "codemirror_mode": {
    "name": "ipython",
    "version": 3
   },
   "file_extension": ".py",
   "mimetype": "text/x-python",
   "name": "python",
   "nbconvert_exporter": "python",
   "pygments_lexer": "ipython3",
   "version": "3.8.5"
  }
 },
 "nbformat": 4,
 "nbformat_minor": 5
}
