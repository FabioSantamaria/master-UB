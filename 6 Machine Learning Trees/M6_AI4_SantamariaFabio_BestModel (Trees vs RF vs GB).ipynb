{
  "nbformat": 4,
  "nbformat_minor": 0,
  "metadata": {
    "kernelspec": {
      "display_name": "mbdds_rpy20",
      "language": "python",
      "name": "mbdds_rpy20"
    },
    "language_info": {
      "codemirror_mode": {
        "name": "ipython",
        "version": 3
      },
      "file_extension": ".py",
      "mimetype": "text/x-python",
      "name": "python",
      "nbconvert_exporter": "python",
      "pygments_lexer": "ipython3",
      "version": "3.6.9"
    },
    "colab": {
      "name": "M6_AI4_SantamariaFabio.ipynb",
      "provenance": [],
      "collapsed_sections": [],
      "toc_visible": true
    }
  },
  "cells": [
    {
      "cell_type": "markdown",
      "metadata": {
        "id": "tW3jK_BDgjno"
      },
      "source": [
        "# **Técnicas Avanzadas de Aprendizaje**\n",
        "\n",
        "##Estimación de precios de inmuebles##\n",
        "\n",
        "###Fabio Santamaría Iglesias###\n",
        "\n",
        "28 de junio de 2021\n",
        "\n",
        "---"
      ]
    },
    {
      "cell_type": "markdown",
      "metadata": {
        "id": "5cDBZD87glsM"
      },
      "source": [
        "Disponemos de un dataset con información de inmuebles vendidos en el Condado de King, incluida la ciudad de Seattle, entre mayo de 2014 y mayo de 2015.\n",
        "\n",
        "El objetivo de la práctica consiste en utilizar un árbol de decisión, un modelo Random Forest y el algoritmo Gradient Boosting vistos en el módulo para la estimación de los precios de venta de inmuebles en este condado y para esas fechas.\n"
      ]
    },
    {
      "cell_type": "markdown",
      "metadata": {
        "id": "5zZfGqOugjnr"
      },
      "source": [
        "# Preparación del entorno\n",
        "\n",
        "Importamos los paquetes necesarios:"
      ]
    },
    {
      "cell_type": "code",
      "metadata": {
        "id": "JiKiPQdQgjnu"
      },
      "source": [
        "import pandas as pd\n",
        "import numpy as np\n",
        "import seaborn as sn\n",
        "import re\n",
        "import matplotlib.pyplot as plt"
      ],
      "execution_count": 2,
      "outputs": []
    },
    {
      "cell_type": "markdown",
      "metadata": {
        "id": "EljLebnxgjqM"
      },
      "source": [
        "# Dataset\n",
        "\n",
        "Las variables son las siguientes: \n",
        "\n",
        "- Id: identificador del inmueble. \n",
        "- Date: fecha de venta en formato “YYYYMMDDT000000”. \n",
        "- Price: precio de venta final en $. \n",
        "- Bedrooms: número de habitaciones del inmueble. \n",
        "- Bathrooms: número de aseos del inmueble. \n",
        "- Sqft_living: área del inmueble en pies cuadrados. \n",
        "- Sqft_lot: área de la parcela en la que se encuentra. \n",
        "- Floors: número de pisos del inmueble. \n",
        "- Waterfront: valor = 0 si no tiene vistas al mar; valor = 1 si tiene vistas al mar. \n",
        "- View: nos dice si ha sido visitada por potenciales compradores muchas o pocas veces (0 pocas, 4 muchas). \n",
        "- Condition: condición en la que se encuentra el inmueble (1 mal, 5 muy bien). \n",
        "- Grade: calificación dada al inmueble, basada en un sistema propio del Condado de King (cuanto mayor es el valor, mejor es el inmueble). \n",
        "- Sqft_above: área en pies cuadrados del inmueble si no contamos el sótano. \n",
        "- Sqft_basement: área en pies cuadrados del sótano. \n",
        "- Yr_built: año de construcción. \n",
        "- Yr_renovated: año en que fue reformado/restaurado. \n",
        "- Zipcode: parecido al código postal español. \n",
        "- Lat: latitud en grados. \n",
        "- Lon: longitud en grados. \n",
        "- Sqft_living: área media de los 15 inmuebles vecinos más cercanos. \n",
        "- Sqft_lot15: área media de las 15 parcelas vecinas más cercanas. \n",
        "\n",
        "\n"
      ]
    },
    {
      "cell_type": "markdown",
      "metadata": {
        "id": "agzSjaAaBdFH"
      },
      "source": [
        "Lo primero es crear el acceso a *Google Drive* para luego importar los datos:"
      ]
    },
    {
      "cell_type": "code",
      "metadata": {
        "id": "EkGVgsFtgjqN",
        "colab": {
          "base_uri": "https://localhost:8080/"
        },
        "outputId": "8bd54659-653e-4566-9f0c-b6708e2b343a"
      },
      "source": [
        "from google.colab import drive\n",
        "drive.mount(\"/content/drive\")"
      ],
      "execution_count": 3,
      "outputs": [
        {
          "output_type": "stream",
          "text": [
            "Mounted at /content/drive\n"
          ],
          "name": "stdout"
        }
      ]
    },
    {
      "cell_type": "markdown",
      "metadata": {
        "id": "mjsmvJGnBkKg"
      },
      "source": [
        "Almacenamos los datos contenidos en el .csv en un *dataframe*:"
      ]
    },
    {
      "cell_type": "code",
      "metadata": {
        "colab": {
          "base_uri": "https://localhost:8080/",
          "height": 230
        },
        "id": "Rvv4vRcsLnQV",
        "outputId": "30925ddd-e40c-4530-a4df-732ceba7c686"
      },
      "source": [
        "path = \"/content/drive/MyDrive/Colab Notebooks/Modulo 6/act4_kc_house_data.csv\"\n",
        "df_ini = pd.read_csv(path, parse_dates=['date'])\n",
        "print(df_ini.shape)\n",
        "df_ini.head(3)"
      ],
      "execution_count": 4,
      "outputs": [
        {
          "output_type": "stream",
          "text": [
            "(21613, 21)\n"
          ],
          "name": "stdout"
        },
        {
          "output_type": "execute_result",
          "data": {
            "text/html": [
              "<div>\n",
              "<style scoped>\n",
              "    .dataframe tbody tr th:only-of-type {\n",
              "        vertical-align: middle;\n",
              "    }\n",
              "\n",
              "    .dataframe tbody tr th {\n",
              "        vertical-align: top;\n",
              "    }\n",
              "\n",
              "    .dataframe thead th {\n",
              "        text-align: right;\n",
              "    }\n",
              "</style>\n",
              "<table border=\"1\" class=\"dataframe\">\n",
              "  <thead>\n",
              "    <tr style=\"text-align: right;\">\n",
              "      <th></th>\n",
              "      <th>id</th>\n",
              "      <th>date</th>\n",
              "      <th>price</th>\n",
              "      <th>bedrooms</th>\n",
              "      <th>bathrooms</th>\n",
              "      <th>sqft_living</th>\n",
              "      <th>sqft_lot</th>\n",
              "      <th>floors</th>\n",
              "      <th>waterfront</th>\n",
              "      <th>view</th>\n",
              "      <th>condition</th>\n",
              "      <th>grade</th>\n",
              "      <th>sqft_above</th>\n",
              "      <th>sqft_basement</th>\n",
              "      <th>yr_built</th>\n",
              "      <th>yr_renovated</th>\n",
              "      <th>zipcode</th>\n",
              "      <th>lat</th>\n",
              "      <th>long</th>\n",
              "      <th>sqft_living15</th>\n",
              "      <th>sqft_lot15</th>\n",
              "    </tr>\n",
              "  </thead>\n",
              "  <tbody>\n",
              "    <tr>\n",
              "      <th>0</th>\n",
              "      <td>7129300520</td>\n",
              "      <td>2014-10-13</td>\n",
              "      <td>221900.0</td>\n",
              "      <td>3</td>\n",
              "      <td>1.00</td>\n",
              "      <td>1180</td>\n",
              "      <td>5650</td>\n",
              "      <td>1.0</td>\n",
              "      <td>0</td>\n",
              "      <td>0</td>\n",
              "      <td>3</td>\n",
              "      <td>7</td>\n",
              "      <td>1180</td>\n",
              "      <td>0</td>\n",
              "      <td>1955</td>\n",
              "      <td>0</td>\n",
              "      <td>98178</td>\n",
              "      <td>47.5112</td>\n",
              "      <td>-122.257</td>\n",
              "      <td>1340</td>\n",
              "      <td>5650</td>\n",
              "    </tr>\n",
              "    <tr>\n",
              "      <th>1</th>\n",
              "      <td>6414100192</td>\n",
              "      <td>2014-12-09</td>\n",
              "      <td>538000.0</td>\n",
              "      <td>3</td>\n",
              "      <td>2.25</td>\n",
              "      <td>2570</td>\n",
              "      <td>7242</td>\n",
              "      <td>2.0</td>\n",
              "      <td>0</td>\n",
              "      <td>0</td>\n",
              "      <td>3</td>\n",
              "      <td>7</td>\n",
              "      <td>2170</td>\n",
              "      <td>400</td>\n",
              "      <td>1951</td>\n",
              "      <td>1991</td>\n",
              "      <td>98125</td>\n",
              "      <td>47.7210</td>\n",
              "      <td>-122.319</td>\n",
              "      <td>1690</td>\n",
              "      <td>7639</td>\n",
              "    </tr>\n",
              "    <tr>\n",
              "      <th>2</th>\n",
              "      <td>5631500400</td>\n",
              "      <td>2015-02-25</td>\n",
              "      <td>180000.0</td>\n",
              "      <td>2</td>\n",
              "      <td>1.00</td>\n",
              "      <td>770</td>\n",
              "      <td>10000</td>\n",
              "      <td>1.0</td>\n",
              "      <td>0</td>\n",
              "      <td>0</td>\n",
              "      <td>3</td>\n",
              "      <td>6</td>\n",
              "      <td>770</td>\n",
              "      <td>0</td>\n",
              "      <td>1933</td>\n",
              "      <td>0</td>\n",
              "      <td>98028</td>\n",
              "      <td>47.7379</td>\n",
              "      <td>-122.233</td>\n",
              "      <td>2720</td>\n",
              "      <td>8062</td>\n",
              "    </tr>\n",
              "  </tbody>\n",
              "</table>\n",
              "</div>"
            ],
            "text/plain": [
              "           id       date     price  ...     long  sqft_living15  sqft_lot15\n",
              "0  7129300520 2014-10-13  221900.0  ... -122.257           1340        5650\n",
              "1  6414100192 2014-12-09  538000.0  ... -122.319           1690        7639\n",
              "2  5631500400 2015-02-25  180000.0  ... -122.233           2720        8062\n",
              "\n",
              "[3 rows x 21 columns]"
            ]
          },
          "metadata": {
            "tags": []
          },
          "execution_count": 4
        }
      ]
    },
    {
      "cell_type": "markdown",
      "metadata": {
        "id": "ppwhk4VjgguG"
      },
      "source": [
        "Observamos que hemos importado 21613 registros y que las variables son de diferente tipo:"
      ]
    },
    {
      "cell_type": "code",
      "metadata": {
        "colab": {
          "base_uri": "https://localhost:8080/"
        },
        "id": "35_1ahQXB6Nj",
        "outputId": "c818f78c-4d3d-4360-9aa5-402bb66d0a65"
      },
      "source": [
        "df_ini.info()"
      ],
      "execution_count": 5,
      "outputs": [
        {
          "output_type": "stream",
          "text": [
            "<class 'pandas.core.frame.DataFrame'>\n",
            "RangeIndex: 21613 entries, 0 to 21612\n",
            "Data columns (total 21 columns):\n",
            " #   Column         Non-Null Count  Dtype         \n",
            "---  ------         --------------  -----         \n",
            " 0   id             21613 non-null  int64         \n",
            " 1   date           21613 non-null  datetime64[ns]\n",
            " 2   price          21613 non-null  float64       \n",
            " 3   bedrooms       21613 non-null  int64         \n",
            " 4   bathrooms      21613 non-null  float64       \n",
            " 5   sqft_living    21613 non-null  int64         \n",
            " 6   sqft_lot       21613 non-null  int64         \n",
            " 7   floors         21613 non-null  float64       \n",
            " 8   waterfront     21613 non-null  int64         \n",
            " 9   view           21613 non-null  int64         \n",
            " 10  condition      21613 non-null  int64         \n",
            " 11  grade          21613 non-null  int64         \n",
            " 12  sqft_above     21613 non-null  int64         \n",
            " 13  sqft_basement  21613 non-null  int64         \n",
            " 14  yr_built       21613 non-null  int64         \n",
            " 15  yr_renovated   21613 non-null  int64         \n",
            " 16  zipcode        21613 non-null  int64         \n",
            " 17  lat            21613 non-null  float64       \n",
            " 18  long           21613 non-null  float64       \n",
            " 19  sqft_living15  21613 non-null  int64         \n",
            " 20  sqft_lot15     21613 non-null  int64         \n",
            "dtypes: datetime64[ns](1), float64(5), int64(15)\n",
            "memory usage: 3.5 MB\n"
          ],
          "name": "stdout"
        }
      ]
    },
    {
      "cell_type": "markdown",
      "metadata": {
        "id": "a7QcbOzZ9c-3"
      },
      "source": [
        "A continuación, buscamos si hay valores faltantes:"
      ]
    },
    {
      "cell_type": "code",
      "metadata": {
        "colab": {
          "base_uri": "https://localhost:8080/"
        },
        "id": "viEh0_06hcw8",
        "outputId": "f3f0f2ef-8bfc-4109-cac4-95c1f807df6a"
      },
      "source": [
        "np.sum(df_ini.isnull())"
      ],
      "execution_count": 6,
      "outputs": [
        {
          "output_type": "execute_result",
          "data": {
            "text/plain": [
              "id               0\n",
              "date             0\n",
              "price            0\n",
              "bedrooms         0\n",
              "bathrooms        0\n",
              "sqft_living      0\n",
              "sqft_lot         0\n",
              "floors           0\n",
              "waterfront       0\n",
              "view             0\n",
              "condition        0\n",
              "grade            0\n",
              "sqft_above       0\n",
              "sqft_basement    0\n",
              "yr_built         0\n",
              "yr_renovated     0\n",
              "zipcode          0\n",
              "lat              0\n",
              "long             0\n",
              "sqft_living15    0\n",
              "sqft_lot15       0\n",
              "dtype: int64"
            ]
          },
          "metadata": {
            "tags": []
          },
          "execution_count": 6
        }
      ]
    },
    {
      "cell_type": "markdown",
      "metadata": {
        "id": "Wh8WXQdFQAkv"
      },
      "source": [
        "o valores duplicados:"
      ]
    },
    {
      "cell_type": "code",
      "metadata": {
        "colab": {
          "base_uri": "https://localhost:8080/"
        },
        "id": "1IranzvEPPaS",
        "outputId": "d97061b3-6a7e-47c9-8a01-6d2df7b43d53"
      },
      "source": [
        "df_ini.duplicated().any()"
      ],
      "execution_count": 11,
      "outputs": [
        {
          "output_type": "execute_result",
          "data": {
            "text/plain": [
              "False"
            ]
          },
          "metadata": {
            "tags": []
          },
          "execution_count": 11
        }
      ]
    },
    {
      "cell_type": "markdown",
      "metadata": {
        "id": "pLQ8SbQK9hm1"
      },
      "source": [
        "Como vemos, disponemos de un conjunto de datos completo sin duplicidades."
      ]
    },
    {
      "cell_type": "markdown",
      "metadata": {
        "id": "M0-yIG5Thc60"
      },
      "source": [
        "#Preprocesado\n",
        "\n",
        "Antes de comenzar a modelizar, es necesario preparar el conjunto de datos. Con esta finalidad, aplicaremos las siguientes transformaciones:\n",
        "\n",
        "* Convertir las áreas a metros cuadrados. \n",
        "\n",
        "* Convertir la fecha de venta en string “YYYYMMDD”. \n",
        "\n"
      ]
    },
    {
      "cell_type": "code",
      "metadata": {
        "colab": {
          "base_uri": "https://localhost:8080/",
          "height": 162
        },
        "id": "7zSlt5dapTnV",
        "outputId": "3f68ccdc-2f40-41f6-8e4a-69cf0477eb5d"
      },
      "source": [
        "df_all = df_ini.copy(deep=True)\n",
        "\n",
        "#convertir sqft a sqm\n",
        "sqftToSqm = 0.092903\n",
        "df_all.loc[:, df_all.columns.str.startswith('sqft')] = df_all.loc[:, df_all.columns.str.startswith('sqft')].apply(lambda x: x*sqftToSqm)\n",
        "df_all.rename(columns=lambda x: re.sub('sqft*','sqm',x), inplace=True)\n",
        "\n",
        "#convertir fecha a str\n",
        "df_all['date'] = df_all['date'].dt.strftime('%Y%m%d')\n",
        "\n",
        "df_all.head(3)"
      ],
      "execution_count": null,
      "outputs": [
        {
          "output_type": "execute_result",
          "data": {
            "text/html": [
              "<div>\n",
              "<style scoped>\n",
              "    .dataframe tbody tr th:only-of-type {\n",
              "        vertical-align: middle;\n",
              "    }\n",
              "\n",
              "    .dataframe tbody tr th {\n",
              "        vertical-align: top;\n",
              "    }\n",
              "\n",
              "    .dataframe thead th {\n",
              "        text-align: right;\n",
              "    }\n",
              "</style>\n",
              "<table border=\"1\" class=\"dataframe\">\n",
              "  <thead>\n",
              "    <tr style=\"text-align: right;\">\n",
              "      <th></th>\n",
              "      <th>id</th>\n",
              "      <th>date</th>\n",
              "      <th>price</th>\n",
              "      <th>bedrooms</th>\n",
              "      <th>bathrooms</th>\n",
              "      <th>sqm_living</th>\n",
              "      <th>sqm_lot</th>\n",
              "      <th>floors</th>\n",
              "      <th>waterfront</th>\n",
              "      <th>view</th>\n",
              "      <th>condition</th>\n",
              "      <th>grade</th>\n",
              "      <th>sqm_above</th>\n",
              "      <th>sqm_basement</th>\n",
              "      <th>yr_built</th>\n",
              "      <th>yr_renovated</th>\n",
              "      <th>zipcode</th>\n",
              "      <th>lat</th>\n",
              "      <th>long</th>\n",
              "      <th>sqm_living15</th>\n",
              "      <th>sqm_lot15</th>\n",
              "    </tr>\n",
              "  </thead>\n",
              "  <tbody>\n",
              "    <tr>\n",
              "      <th>0</th>\n",
              "      <td>7129300520</td>\n",
              "      <td>20141013</td>\n",
              "      <td>221900.0</td>\n",
              "      <td>3</td>\n",
              "      <td>1.00</td>\n",
              "      <td>109.62554</td>\n",
              "      <td>524.901950</td>\n",
              "      <td>1.0</td>\n",
              "      <td>0</td>\n",
              "      <td>0</td>\n",
              "      <td>3</td>\n",
              "      <td>7</td>\n",
              "      <td>109.62554</td>\n",
              "      <td>0.0000</td>\n",
              "      <td>1955</td>\n",
              "      <td>0</td>\n",
              "      <td>98178</td>\n",
              "      <td>47.5112</td>\n",
              "      <td>-122.257</td>\n",
              "      <td>124.49002</td>\n",
              "      <td>524.901950</td>\n",
              "    </tr>\n",
              "    <tr>\n",
              "      <th>1</th>\n",
              "      <td>6414100192</td>\n",
              "      <td>20141209</td>\n",
              "      <td>538000.0</td>\n",
              "      <td>3</td>\n",
              "      <td>2.25</td>\n",
              "      <td>238.76071</td>\n",
              "      <td>672.803526</td>\n",
              "      <td>2.0</td>\n",
              "      <td>0</td>\n",
              "      <td>0</td>\n",
              "      <td>3</td>\n",
              "      <td>7</td>\n",
              "      <td>201.59951</td>\n",
              "      <td>37.1612</td>\n",
              "      <td>1951</td>\n",
              "      <td>1991</td>\n",
              "      <td>98125</td>\n",
              "      <td>47.7210</td>\n",
              "      <td>-122.319</td>\n",
              "      <td>157.00607</td>\n",
              "      <td>709.686017</td>\n",
              "    </tr>\n",
              "    <tr>\n",
              "      <th>2</th>\n",
              "      <td>5631500400</td>\n",
              "      <td>20150225</td>\n",
              "      <td>180000.0</td>\n",
              "      <td>2</td>\n",
              "      <td>1.00</td>\n",
              "      <td>71.53531</td>\n",
              "      <td>929.030000</td>\n",
              "      <td>1.0</td>\n",
              "      <td>0</td>\n",
              "      <td>0</td>\n",
              "      <td>3</td>\n",
              "      <td>6</td>\n",
              "      <td>71.53531</td>\n",
              "      <td>0.0000</td>\n",
              "      <td>1933</td>\n",
              "      <td>0</td>\n",
              "      <td>98028</td>\n",
              "      <td>47.7379</td>\n",
              "      <td>-122.233</td>\n",
              "      <td>252.69616</td>\n",
              "      <td>748.983986</td>\n",
              "    </tr>\n",
              "  </tbody>\n",
              "</table>\n",
              "</div>"
            ],
            "text/plain": [
              "           id      date     price  ...     long  sqm_living15   sqm_lot15\n",
              "0  7129300520  20141013  221900.0  ... -122.257     124.49002  524.901950\n",
              "1  6414100192  20141209  538000.0  ... -122.319     157.00607  709.686017\n",
              "2  5631500400  20150225  180000.0  ... -122.233     252.69616  748.983986\n",
              "\n",
              "[3 rows x 21 columns]"
            ]
          },
          "metadata": {
            "tags": []
          },
          "execution_count": 6
        }
      ]
    },
    {
      "cell_type": "markdown",
      "metadata": {
        "id": "xHuLVpeL6kUh"
      },
      "source": [
        "Se han transformado todas las columnas que empiezan con la cadena *sqft* (square feet) y se han renombrado a *sqm* (square meter). Además, se ha convertido la fecha a tipo string siguiendo el formato americano."
      ]
    },
    {
      "cell_type": "markdown",
      "metadata": {
        "id": "WZULd2qhu0An"
      },
      "source": [
        "#Estimación de precios\n",
        "\n",
        "A continuación, seleccionamos las variables predictoras y construimos los subconjuntos train (70%) y test (30%):"
      ]
    },
    {
      "cell_type": "code",
      "metadata": {
        "id": "Ili9F-jCDCFI"
      },
      "source": [
        "X = df_all.drop(['id', 'price'], axis=1)\n",
        "y = df_all['price']"
      ],
      "execution_count": null,
      "outputs": []
    },
    {
      "cell_type": "markdown",
      "metadata": {
        "id": "oHcRkEp0-RXZ"
      },
      "source": [
        "Se ha descartado la variable *id* ya que no aporta información relevante."
      ]
    },
    {
      "cell_type": "code",
      "metadata": {
        "colab": {
          "base_uri": "https://localhost:8080/"
        },
        "id": "h2-7fCW3bvn-",
        "outputId": "81ae680a-8de3-4bc8-a874-a8f3bbd1f7e3"
      },
      "source": [
        "from sklearn.model_selection import train_test_split\n",
        "X_train, X_test, y_train, y_test = train_test_split(X.values, y.values, \n",
        "                                                    random_state=42, test_size=0.3)\n",
        "print (X_train.shape, y_train.shape)\n",
        "print (X_test.shape, y_test.shape)"
      ],
      "execution_count": null,
      "outputs": [
        {
          "output_type": "stream",
          "text": [
            "(15129, 19) (15129,)\n",
            "(6484, 19) (6484,)\n"
          ],
          "name": "stdout"
        }
      ]
    },
    {
      "cell_type": "markdown",
      "metadata": {
        "id": "Nx7ClGal-edF"
      },
      "source": [
        "Ya estamos en condiciones de realizar los diferentes modelizados."
      ]
    },
    {
      "cell_type": "markdown",
      "metadata": {
        "id": "SOt2lUgB0Ll8"
      },
      "source": [
        "## Árbol de decisión\n",
        "\n",
        "Empezamos realizando un árbol de decisión. Para seleccionar cuál es el modelo óptimo, entrenamos varios con distintas profundidades. Después, predecimos los resultados y calculamos el score tanto para el conjunto train como para el test."
      ]
    },
    {
      "cell_type": "code",
      "metadata": {
        "id": "6j_ydcDsvwOh"
      },
      "source": [
        "from sklearn.tree import DecisionTreeRegressor\n",
        "from sklearn.metrics import r2_score"
      ],
      "execution_count": null,
      "outputs": []
    },
    {
      "cell_type": "code",
      "metadata": {
        "id": "hjoM3U4zcQMZ"
      },
      "source": [
        "md_list = []\n",
        "score_train_list = []\n",
        "score_test_list = []\n",
        "\n",
        "\n",
        "for maxdepth in list(range(1,30,2)):\n",
        "  tree_model = DecisionTreeRegressor(random_state=0, max_depth=maxdepth)\n",
        "  tree_model.fit(X_train, y_train)\n",
        "\n",
        "  pred_train = tree_model.predict(X_train)\n",
        "  pred_test = tree_model.predict(X_test)\n",
        "\n",
        "  ## Generación de listas\n",
        "  md_list.append(maxdepth)\n",
        "  score_train_list.append(100.0*tree_model.score(X_train, y_train))\n",
        "  score_test_list.append(100.0*tree_model.score(X_test, y_test))\n",
        "\n",
        "df_model_max_depth = pd.DataFrame({\"max_depth\":md_list, \n",
        "                   \"score_train\":score_train_list,\n",
        "                   \"score_test\":score_test_list\n",
        "                   })\n",
        "\n",
        "df_model_max_depth.set_index(\"max_depth\", inplace=True)"
      ],
      "execution_count": null,
      "outputs": []
    },
    {
      "cell_type": "code",
      "metadata": {
        "colab": {
          "base_uri": "https://localhost:8080/",
          "height": 309
        },
        "id": "rUrvjDZYH857",
        "outputId": "75afeaa5-3e4e-4375-df9f-6d51c71642e8"
      },
      "source": [
        "df_model_max_depth[\"score_train\"].plot(label=\"Train Score\")\n",
        "df_model_max_depth[\"score_test\"].plot(label=\"Test Score\")\n",
        "plt.suptitle(\"R2: Overfitting vs Underfitting\")\n",
        "plt.legend()\n",
        "plt.show();"
      ],
      "execution_count": null,
      "outputs": [
        {
          "output_type": "display_data",
          "data": {
            "image/png": "[encoded data removed]",
            "text/plain": [
              "<Figure size 432x288 with 1 Axes>"
            ]
          },
          "metadata": {
            "tags": [],
            "needs_background": "light"
          }
        }
      ]
    },
    {
      "cell_type": "markdown",
      "metadata": {
        "id": "rfz4Xx5I8Ue_"
      },
      "source": [
        "Para el conjunto de entrenamiento, conforme la profundidad aumenta, el $R^2$ mejora. De hecho, para valores altos, la *accuracy* alcanzada es de casi el 100%.\n",
        "\n",
        "Por su parte, en el conjunto test el indicador $R^2$ crece hasta que la profundidad del árbol alcanza los 10 niveles. A partir de este valor, la *accuracy* se estanca alrededor del 75%.\n",
        "\n",
        "Como vemos, para valores pequeños, inferiores a una profundidad de 10, los modelos no son lo suficientemente complejos para funcionar todo lo bien que podrían. Se dice por tanto que presentan *underfitting*.\n",
        "\n",
        "Por otro lado, con más de 10 niveles de profundidad el comportamiento en ambos subconjuntos comienza a diferir. Mientras que a mayor profundidad observamos como el árbol se va ajustando cada vez mejor al conjunto de entrenamiento, para el conjunto de prueba, esta mejorar se estanca. Por esta razón, se indica que estos modelos manifiestan *overfitting*.\n",
        "\n",
        "El modelo óptimo es aquel que escapa del *underfitting* y el *overfitting*, siendo el más sencillo posible con el mejor comportamiento en el conjunto test. En nuestro caso, esto ocurre para el valor *max_depth = 9*:"
      ]
    },
    {
      "cell_type": "code",
      "metadata": {
        "colab": {
          "base_uri": "https://localhost:8080/",
          "height": 111
        },
        "id": "4yZSQZxy_9Y-",
        "outputId": "6638fe7a-6a21-4796-a825-bc2d00b46238"
      },
      "source": [
        "df_model_max_depth[df_model_max_depth.score_test == df_model_max_depth.score_test.max()]"
      ],
      "execution_count": null,
      "outputs": [
        {
          "output_type": "execute_result",
          "data": {
            "text/html": [
              "<div>\n",
              "<style scoped>\n",
              "    .dataframe tbody tr th:only-of-type {\n",
              "        vertical-align: middle;\n",
              "    }\n",
              "\n",
              "    .dataframe tbody tr th {\n",
              "        vertical-align: top;\n",
              "    }\n",
              "\n",
              "    .dataframe thead th {\n",
              "        text-align: right;\n",
              "    }\n",
              "</style>\n",
              "<table border=\"1\" class=\"dataframe\">\n",
              "  <thead>\n",
              "    <tr style=\"text-align: right;\">\n",
              "      <th></th>\n",
              "      <th>score_train</th>\n",
              "      <th>score_test</th>\n",
              "    </tr>\n",
              "    <tr>\n",
              "      <th>max_depth</th>\n",
              "      <th></th>\n",
              "      <th></th>\n",
              "    </tr>\n",
              "  </thead>\n",
              "  <tbody>\n",
              "    <tr>\n",
              "      <th>9</th>\n",
              "      <td>89.750767</td>\n",
              "      <td>76.667265</td>\n",
              "    </tr>\n",
              "  </tbody>\n",
              "</table>\n",
              "</div>"
            ],
            "text/plain": [
              "           score_train  score_test\n",
              "max_depth                         \n",
              "9            89.750767   76.667265"
            ]
          },
          "metadata": {
            "tags": []
          },
          "execution_count": 12
        }
      ]
    },
    {
      "cell_type": "markdown",
      "metadata": {
        "id": "8iyY5T-6Ek_j"
      },
      "source": [
        "De esta forma, construimos nuestro árbol de decisión final con dicha profundidad:"
      ]
    },
    {
      "cell_type": "code",
      "metadata": {
        "colab": {
          "base_uri": "https://localhost:8080/"
        },
        "id": "WOQAaz0bAV5T",
        "outputId": "30b10754-e3f5-4e0e-a39a-e03e1c7473c6"
      },
      "source": [
        "tree_model_final = DecisionTreeRegressor(random_state=0, max_depth=9)\n",
        "tree_model_final.fit(X_train, y_train)\n",
        "\n",
        "print(\"Precisión sobre los datos de entrenamiento: {:.2f}\".format(100.0*tree_model_final.score(X_train, y_train)))\n",
        "print(\"Precisión sobre los datos de test: {:.2f}\".format(100.0*tree_model_final.score(X_test, y_test)))"
      ],
      "execution_count": null,
      "outputs": [
        {
          "output_type": "stream",
          "text": [
            "Precisión sobre los datos de entrenamiento: 89.75\n",
            "Precisión sobre los datos de test: 76.67\n"
          ],
          "name": "stdout"
        }
      ]
    },
    {
      "cell_type": "markdown",
      "metadata": {
        "id": "KEpgT8StE1m6"
      },
      "source": [
        "Uno de resultados más interesantes en un problema de regresión como este es poder conocer la importancia de las variables predictoras. Esta información está contenida en el atributo *feature_importances_* de nuestro modelo y se puede representar gráficamente:"
      ]
    },
    {
      "cell_type": "code",
      "metadata": {
        "colab": {
          "base_uri": "https://localhost:8080/",
          "height": 265
        },
        "id": "YN0KaaC7_-1V",
        "outputId": "0e9accb7-2fb7-46d3-bb99-2e2ecce7a25d"
      },
      "source": [
        "df_imp = pd.DataFrame(tree_model_final.feature_importances_.reshape(1,-1), columns=X.columns, index=[\"Feature Importances\"])\n",
        "df_imp.T.plot.barh()\n",
        "plt.legend()\n",
        "plt.show();"
      ],
      "execution_count": null,
      "outputs": [
        {
          "output_type": "display_data",
          "data": {
            "image/png": "[encoded data removed]",
            "text/plain": [
              "<Figure size 432x288 with 1 Axes>"
            ]
          },
          "metadata": {
            "tags": [],
            "needs_background": "light"
          }
        }
      ]
    },
    {
      "cell_type": "markdown",
      "metadata": {
        "id": "-4pMK_0gFQ9E"
      },
      "source": [
        "Como vemos, la valoración otorgada por el ayuntamiento (*grade*) y los metros cuadrados del inmnueble (*sqm_living*) son las variables más importantes de nuestro modelo."
      ]
    },
    {
      "cell_type": "markdown",
      "metadata": {
        "id": "Tfmpc_1l0HjV"
      },
      "source": [
        "## Random Forest\n",
        "\n",
        "A continuación, buscaremos un algoritmo de *Random Forest* adecuado para tratar de predecir el precio de las viviendas.\n",
        "\n",
        "Estos modelos no son más que un conjunto de árboles de decisión trabajando en paralelo. Estos árboles son diferentes entre sí, ya que cada uno se entrena de forma distinta. Por un lado, se juega con las variables predictoras en cada ramificación de cada árbol. Por otro, cada árbol se entrena con un subconjunto diferente del conjunto de entrenamiento. Por último, para obtener la predicción final, se agregan los resultados de todos los árboles.\n",
        "\n",
        "Jugaremos tanto con la profundidad de los árboles como con el número de estos  para tratar de encontrar el modelo óptimo. Así, primero probamos a usar diferentes profundidades con modelos con 10 árboles de decisión:"
      ]
    },
    {
      "cell_type": "code",
      "metadata": {
        "id": "Y4wYigoNAp9e"
      },
      "source": [
        "from sklearn.ensemble import RandomForestRegressor\n",
        "\n",
        "md_list = []\n",
        "score_train_list = []\n",
        "score_test_list = []\n",
        "\n",
        "for maxdepth in list(range(1, 15)):\n",
        "  rf_model = RandomForestRegressor(random_state=0, max_depth=maxdepth, n_estimators = 10, n_jobs=-1)\n",
        "  rf_model.fit(X_train, y_train)\n",
        "\n",
        "  ## Generación de listas\n",
        "  md_list.append(maxdepth)\n",
        "  score_train_list.append(100.0*rf_model.score(X_train, y_train))\n",
        "  score_test_list.append(100.0*rf_model.score(X_test, y_test))"
      ],
      "execution_count": null,
      "outputs": []
    },
    {
      "cell_type": "code",
      "metadata": {
        "colab": {
          "base_uri": "https://localhost:8080/",
          "height": 309
        },
        "id": "YQSJoKAz1Zme",
        "outputId": "072a6c73-206b-4199-ff5d-a4d13e778a9e"
      },
      "source": [
        "df = pd.DataFrame({\"max_depth\":md_list, \n",
        "                   \"score_train\":score_train_list,\n",
        "                   \"score_test\":score_test_list})\n",
        "\n",
        "df.set_index(\"max_depth\", inplace=True)\n",
        "df[\"score_train\"].plot(label=\"Train Score\")\n",
        "df[\"score_test\"].plot(label=\"Test Score\")\n",
        "plt.suptitle(\"Accuracy Train and Test\")\n",
        "plt.legend()\n",
        "plt.show();"
      ],
      "execution_count": null,
      "outputs": [
        {
          "output_type": "display_data",
          "data": {
            "image/png": "[encoded data removed]",
            "text/plain": [
              "<Figure size 432x288 with 1 Axes>"
            ]
          },
          "metadata": {
            "tags": [],
            "needs_background": "light"
          }
        }
      ]
    },
    {
      "cell_type": "markdown",
      "metadata": {
        "id": "w1urx0VMJUVi"
      },
      "source": [
        "La gráfica obtenida es muy similar a la observada en el modelo de árbol de decisión. El análisis y las conclusiones son idénticas, debemos buscar el valor más pequeño de la profundidad que maximice el comportamiento en el conjunto test:"
      ]
    },
    {
      "cell_type": "code",
      "metadata": {
        "colab": {
          "base_uri": "https://localhost:8080/",
          "height": 111
        },
        "id": "OLFuAQWnKBoD",
        "outputId": "ac4d2d07-5b22-465c-a79b-e8a8358cb2ab"
      },
      "source": [
        "df[df.score_test == df.score_test.max()]"
      ],
      "execution_count": null,
      "outputs": [
        {
          "output_type": "execute_result",
          "data": {
            "text/html": [
              "<div>\n",
              "<style scoped>\n",
              "    .dataframe tbody tr th:only-of-type {\n",
              "        vertical-align: middle;\n",
              "    }\n",
              "\n",
              "    .dataframe tbody tr th {\n",
              "        vertical-align: top;\n",
              "    }\n",
              "\n",
              "    .dataframe thead th {\n",
              "        text-align: right;\n",
              "    }\n",
              "</style>\n",
              "<table border=\"1\" class=\"dataframe\">\n",
              "  <thead>\n",
              "    <tr style=\"text-align: right;\">\n",
              "      <th></th>\n",
              "      <th>score_train</th>\n",
              "      <th>score_test</th>\n",
              "    </tr>\n",
              "    <tr>\n",
              "      <th>max_depth</th>\n",
              "      <th></th>\n",
              "      <th></th>\n",
              "    </tr>\n",
              "  </thead>\n",
              "  <tbody>\n",
              "    <tr>\n",
              "      <th>12</th>\n",
              "      <td>95.178144</td>\n",
              "      <td>83.41899</td>\n",
              "    </tr>\n",
              "  </tbody>\n",
              "</table>\n",
              "</div>"
            ],
            "text/plain": [
              "           score_train  score_test\n",
              "max_depth                         \n",
              "12           95.178144    83.41899"
            ]
          },
          "metadata": {
            "tags": []
          },
          "execution_count": 17
        }
      ]
    },
    {
      "cell_type": "markdown",
      "metadata": {
        "id": "ezmeIA4skmgm"
      },
      "source": [
        "Se obtiene un valor *max_depth = 12*, mayor que el *max_depth = 9* para el árbol de decisión. Asimismo, el *accuracy* en el conjunto test es superior. En principio, esto puede deberse a que el algoritmo *Random Forest* es más resistente al *overfitting* y soporta mejor árboles más complejos que pueden mejorar el $R^2$.\n",
        "\n",
        "A continuación, para el mejor valor de profundidad, variamos el número de estimadores, es decir, el número de árboles de decisión que trabajan en paralelo en nuestro *Random Forest*:"
      ]
    },
    {
      "cell_type": "code",
      "metadata": {
        "id": "6d09jpmT1wRL"
      },
      "source": [
        "n_estimators_list = []\n",
        "score_train_list = []\n",
        "score_test_list = []\n",
        "\n",
        "for n_estimators in list(range(10,100,10)):\n",
        "  rf_model = RandomForestRegressor(random_state=0, n_estimators = n_estimators, max_depth=12, n_jobs=-1)\n",
        "  rf_model.fit(X_train, y_train)\n",
        "\n",
        "  ## Generación de listas\n",
        "  n_estimators_list.append(n_estimators)\n",
        "  score_train_list.append(100.0*rf_model.score(X_train, y_train))\n",
        "  score_test_list.append(100.0*rf_model.score(X_test, y_test))"
      ],
      "execution_count": null,
      "outputs": []
    },
    {
      "cell_type": "code",
      "metadata": {
        "colab": {
          "base_uri": "https://localhost:8080/",
          "height": 309
        },
        "id": "V7zt6xFF1wRM",
        "outputId": "9d4bf8ae-a06a-4d79-8c48-db63af2b791b"
      },
      "source": [
        "df = pd.DataFrame({\"n_estimators\":n_estimators_list, \n",
        "                   \"score_train\":score_train_list,\n",
        "                   \"score_test\":score_test_list})\n",
        "\n",
        "df.set_index(\"n_estimators\", inplace=True)\n",
        "df[\"score_train\"].plot(label=\"Train Score\")\n",
        "df[\"score_test\"].plot(label=\"Test Score\")\n",
        "plt.suptitle(\"Accuracy Train and Test\")\n",
        "plt.legend()\n",
        "plt.show();"
      ],
      "execution_count": null,
      "outputs": [
        {
          "output_type": "display_data",
          "data": {
            "image/png": "[encoded data removed]",
            "text/plain": [
              "<Figure size 432x288 with 1 Axes>"
            ]
          },
          "metadata": {
            "tags": [],
            "needs_background": "light"
          }
        }
      ]
    },
    {
      "cell_type": "markdown",
      "metadata": {
        "id": "29Q6XE_xltSp"
      },
      "source": [
        "El $R^2$ mejora levemente conforme aumenta el número de árboles de decisión hasta hacerse plano para un determinado valor. En concreto, para el conjunto test, podemos observar que a partir de 40 estimadores no hay una mejora significativa.\n",
        "\n",
        "Como el número de estimadores es proporcional a la cantidad de recursos necesarios para entrenar y predecir con nuestro algoritmo, es conveniente elegir el mínimo posible manteniendo en lo preferible un buen comportamiento. Teniendo esto en cuenta, decidimos usar *n_estimartors = 40*.\n",
        "\n",
        "Dicho todo esto, creamos nuestro modelo *Random Forest* definitivo:"
      ]
    },
    {
      "cell_type": "code",
      "metadata": {
        "colab": {
          "base_uri": "https://localhost:8080/"
        },
        "id": "9shD_K_uAKJI",
        "outputId": "8c251e2f-a955-4a20-baee-35843368facf"
      },
      "source": [
        "rf_model_final = RandomForestRegressor(random_state=0, n_estimators = 40, max_depth=12, n_jobs=-1)\n",
        "rf_model_final.fit(X_train, y_train)\n",
        "\n",
        "print(\"Precisión sobre los datos de entrenamiento: {:.2f}\".format(100.0*rf_model_final.score(X_train, y_train)))\n",
        "print(\"Precisión sobre los datos de test: {:.2f}\".format(100.0*rf_model_final.score(X_test, y_test)))"
      ],
      "execution_count": null,
      "outputs": [
        {
          "output_type": "stream",
          "text": [
            "Precisión sobre los datos de entrenamiento: 95.71\n",
            "Precisión sobre los datos de test: 85.08\n"
          ],
          "name": "stdout"
        }
      ]
    },
    {
      "cell_type": "markdown",
      "metadata": {
        "id": "nOeYyaC5mp2o"
      },
      "source": [
        "Al igual que hicimos con el árbol de decisión, podemos intentar ver las variables más relevantes a la hora de influir en el precio de un inmueble:"
      ]
    },
    {
      "cell_type": "code",
      "metadata": {
        "colab": {
          "base_uri": "https://localhost:8080/",
          "height": 265
        },
        "id": "oq8L1nbS_4g_",
        "outputId": "f8286417-a139-47f9-c9eb-351f4ea5d1c2"
      },
      "source": [
        "df_imp = pd.DataFrame(rf_model_final.feature_importances_.reshape(1,-1), columns=X.columns, index=[\"Feature Importances\"])\n",
        "df_imp.T.plot.barh()\n",
        "plt.legend()\n",
        "plt.show();"
      ],
      "execution_count": null,
      "outputs": [
        {
          "output_type": "display_data",
          "data": {
            "image/png": "[encoded data removed]",
            "text/plain": [
              "<Figure size 432x288 with 1 Axes>"
            ]
          },
          "metadata": {
            "tags": [],
            "needs_background": "light"
          }
        }
      ]
    },
    {
      "cell_type": "markdown",
      "metadata": {
        "id": "h_p7qEJam4mH"
      },
      "source": [
        "Se obtiene un resultado muy similar, con *grade* y *sqm_living* jugando el papel más importante.\n",
        "\n",
        "Si nos fijamos, vemos que variables que el árbol de decisión había desechado casi por completo, como *date*, *bethrooms*, *sqm_lot*, etc... son más relevantes. En el apartado de conclusiones analizaremos por qué puede suceder esto."
      ]
    },
    {
      "cell_type": "markdown",
      "metadata": {
        "id": "xI_-Xmrh0DoL"
      },
      "source": [
        "## Gradient Boosting\n",
        "\n",
        "Por último, usaremos el algoritmo *Gradient Boosting* para tratar de predecir también el precio de un inmueble.\n",
        "\n",
        "Estos modelos están compuestos de árboles de decisión en serie. De esta forma, el primero realiza una primera aproximación sobre el conjunto de entrenamiento. Para ello, se define una función de coste que cuantifique el error. Esto permite que el siguiente árbol se entrene sobre el error obtenido en el primero. Así, conforme se van añadiendo árboles, se tiende a ir minimizando el error total cometido por el algoritmo. Por este motivo, los árboles que se usan suelen ser muy poco profundos. Para obtener la predicción final se suman las predicciones resultantes de cada árbol, a modo de aproximación perturbativa. \n",
        "\n",
        "Para definir el modelo entran en juego diferentes parámetros:\n",
        "\n",
        "* max_depth: máxima profundidad de los árboles de decisión usados.\n",
        "\n",
        "* n_estimators: número de árboles de decisión en serie que conforman el modelo\n",
        "\n",
        "* learning_rate: peso que tiene los árboles a la hora de ir minimizando la función de coste. Cuanto mayor sea, más efecto tendrá un árbol a la hora de corrregir el error del árbol predecesor."
      ]
    },
    {
      "cell_type": "markdown",
      "metadata": {
        "id": "aQhA5y6f7SCu"
      },
      "source": [
        "Tal y como hemos venido haciendo, entrenaremos diferentes modelos cambiando estos hiperparámetros con la finalidad de encontrar el mejor algoritmo que se adecue a nuestra necesidad. Comenzamos, como ya es habitual, probando profundidades distintas. Esperamos que los árboles sean muy poco profundos, así que intentamos números del 1 al 5."
      ]
    },
    {
      "cell_type": "code",
      "metadata": {
        "id": "z2Nm77sGyV_C"
      },
      "source": [
        "from sklearn.ensemble import GradientBoostingRegressor\n",
        "from sklearn.metrics import mean_squared_error"
      ],
      "execution_count": null,
      "outputs": []
    },
    {
      "cell_type": "code",
      "metadata": {
        "id": "9e1g7sCGSGwP"
      },
      "source": [
        "md_list = []\n",
        "score_train_list = []\n",
        "score_test_list = []\n",
        "\n",
        "for maxdepth in list(range(1, 5)):\n",
        "\n",
        "  gb_model = GradientBoostingRegressor(random_state=0, n_estimators=1000, max_depth=maxdepth, learning_rate=0.5)\n",
        "  gb_model.fit(X_train, y_train)\n",
        "\n",
        "  pred_test_gb = gb_model.predict(X_test)\n",
        "  pred_train_gb = gb_model.predict(X_train)\n",
        "\n",
        "  ## Generación de listas\n",
        "  md_list.append(maxdepth)\n",
        "  score_train_list.append(100.0*gb_model.score(X_train, y_train))\n",
        "  score_test_list.append(100.0*gb_model.score(X_test, y_test))\n",
        "\n",
        "df_model_max_depth = pd.DataFrame({\"max_depth\":md_list, \n",
        "                   \"score_train\":score_train_list,\n",
        "                   \"score_test\":score_test_list\n",
        "                   })\n",
        "\n",
        "df_model_max_depth.set_index(\"max_depth\", inplace=True)"
      ],
      "execution_count": null,
      "outputs": []
    },
    {
      "cell_type": "code",
      "metadata": {
        "colab": {
          "base_uri": "https://localhost:8080/",
          "height": 309
        },
        "id": "z0HL7Rp_y6sT",
        "outputId": "6ac2e7fc-8ae3-4b93-cf29-06b4d9f4c2c9"
      },
      "source": [
        "df = pd.DataFrame({\"max_depth\":md_list, \n",
        "                   \"score_train\":score_train_list,\n",
        "                   \"score_test\":score_test_list})\n",
        "\n",
        "df.set_index(\"max_depth\", inplace=True)\n",
        "df[\"score_train\"].plot(label=\"Train Score\")\n",
        "df[\"score_test\"].plot(label=\"Test Score\")\n",
        "plt.suptitle(\"Accuracy Train and Test\")\n",
        "plt.legend()\n",
        "plt.show();"
      ],
      "execution_count": null,
      "outputs": [
        {
          "output_type": "display_data",
          "data": {
            "image/png": "[encoded data removed]",
            "text/plain": [
              "<Figure size 432x288 with 1 Axes>"
            ]
          },
          "metadata": {
            "tags": [],
            "needs_background": "light"
          }
        }
      ]
    },
    {
      "cell_type": "markdown",
      "metadata": {
        "id": "z8FK6mGrjOWR"
      },
      "source": [
        "Para una profundidad de un nivel observamos un $R^2$ aproximado del 80%. Si incrementamos a dos niveles, el *accuracy* alcanza el 87%. A partir de este valor, ya no se observa una mejora significativa:"
      ]
    },
    {
      "cell_type": "code",
      "metadata": {
        "colab": {
          "base_uri": "https://localhost:8080/",
          "height": 204
        },
        "id": "-6nXj0Od8gjw",
        "outputId": "f05ce373-1bd0-4a5d-d894-4b1d60e22bbd"
      },
      "source": [
        "df"
      ],
      "execution_count": null,
      "outputs": [
        {
          "output_type": "execute_result",
          "data": {
            "text/html": [
              "<div>\n",
              "<style scoped>\n",
              "    .dataframe tbody tr th:only-of-type {\n",
              "        vertical-align: middle;\n",
              "    }\n",
              "\n",
              "    .dataframe tbody tr th {\n",
              "        vertical-align: top;\n",
              "    }\n",
              "\n",
              "    .dataframe thead th {\n",
              "        text-align: right;\n",
              "    }\n",
              "</style>\n",
              "<table border=\"1\" class=\"dataframe\">\n",
              "  <thead>\n",
              "    <tr style=\"text-align: right;\">\n",
              "      <th></th>\n",
              "      <th>score_train</th>\n",
              "      <th>score_test</th>\n",
              "    </tr>\n",
              "    <tr>\n",
              "      <th>max_depth</th>\n",
              "      <th></th>\n",
              "      <th></th>\n",
              "    </tr>\n",
              "  </thead>\n",
              "  <tbody>\n",
              "    <tr>\n",
              "      <th>1</th>\n",
              "      <td>87.271721</td>\n",
              "      <td>80.929727</td>\n",
              "    </tr>\n",
              "    <tr>\n",
              "      <th>2</th>\n",
              "      <td>96.264070</td>\n",
              "      <td>87.311808</td>\n",
              "    </tr>\n",
              "    <tr>\n",
              "      <th>3</th>\n",
              "      <td>98.709497</td>\n",
              "      <td>87.243885</td>\n",
              "    </tr>\n",
              "    <tr>\n",
              "      <th>4</th>\n",
              "      <td>99.712473</td>\n",
              "      <td>85.935040</td>\n",
              "    </tr>\n",
              "  </tbody>\n",
              "</table>\n",
              "</div>"
            ],
            "text/plain": [
              "           score_train  score_test\n",
              "max_depth                         \n",
              "1            87.271721   80.929727\n",
              "2            96.264070   87.311808\n",
              "3            98.709497   87.243885\n",
              "4            99.712473   85.935040"
            ]
          },
          "metadata": {
            "tags": []
          },
          "execution_count": 57
        }
      ]
    },
    {
      "cell_type": "markdown",
      "metadata": {
        "id": "-jm1fY6njsDb"
      },
      "source": [
        "El mejor comportamiento en el conjunto de prueba se da cuando la profundidad es de 3 niveles. Elegimos este valor para los árboles de decisión de nuestro algoritmo.\n",
        "\n",
        "El siguiente parámetro que variamos es el *learning_rate*. Probamos con 0.1, 0.3, 0.5, 0.7 y 0.9:"
      ]
    },
    {
      "cell_type": "code",
      "metadata": {
        "id": "PriKMUWB1YvK"
      },
      "source": [
        "learning_rate_list = []\n",
        "score_train_list = []\n",
        "score_test_list = []\n",
        "best_n_AD_test_list = []\n",
        "best_n_AD_train_list = []\n",
        "errors_test_list = []\n",
        "errors_train_list = []\n",
        "\n",
        "for learning_rate in np.arange(0.1, 1, 0.2):\n",
        "\n",
        "  gb_model = GradientBoostingRegressor(random_state=0, n_estimators=1000, max_depth=3, learning_rate=learning_rate)\n",
        "  gb_model.fit(X_train, y_train)\n",
        "\n",
        "  pred_test_gb = gb_model.predict(X_test)\n",
        "  pred_train_gb = gb_model.predict(X_train)\n",
        "\n",
        "  ## Generación de listas\n",
        "  learning_rate_list.append(learning_rate)\n",
        "  score_train_list.append(100.0*gb_model.score(X_train, y_train))\n",
        "  score_test_list.append(100.0*gb_model.score(X_test, y_test))\n",
        "\n",
        "  errors_test = [mean_squared_error(y_test, y_pred) for y_pred in gb_model.staged_predict(X_test)]\n",
        "  errors_train = [mean_squared_error(y_train, y_pred) for y_pred in gb_model.staged_predict(X_train)]\n",
        "  errors_test_list.append(errors_test)\n",
        "  errors_train_list.append(errors_train)\n",
        "  ## el mejor número de AD nos lo da el índice donde MSE es menor\n",
        "  best_n_AD_test_list.append(np.argmin(errors_test))\n",
        "  best_n_AD_train_list.append(np.argmin(errors_train))\n",
        "\n",
        "df_model_learning_rate = pd.DataFrame({\"learning_rate\":learning_rate_list, \n",
        "                   \"score_train\":score_train_list,\n",
        "                   \"score_test\":score_test_list,\n",
        "                   \"best_n_test\":best_n_AD_test_list,\n",
        "                   \"best_n_train\":best_n_AD_train_list\n",
        "                   })"
      ],
      "execution_count": null,
      "outputs": []
    },
    {
      "cell_type": "code",
      "metadata": {
        "colab": {
          "base_uri": "https://localhost:8080/",
          "height": 294
        },
        "id": "_8HiCsTQ23to",
        "outputId": "a5059530-6124-418b-b8e3-eee1a0014f1b"
      },
      "source": [
        "plt.plot(df_model_learning_rate[\"learning_rate\"], df_model_learning_rate[\"score_train\"], label=\"Train Score\")\n",
        "plt.plot(df_model_learning_rate[\"learning_rate\"], df_model_learning_rate[\"score_test\"], label=\"Test Score\")\n",
        "plt.suptitle(\"Accuracy Train and Test\")\n",
        "plt.legend()\n",
        "plt.show();"
      ],
      "execution_count": null,
      "outputs": [
        {
          "output_type": "display_data",
          "data": {
            "image/png": "[encoded data removed]",
            "text/plain": [
              "<Figure size 432x288 with 1 Axes>"
            ]
          },
          "metadata": {
            "tags": [],
            "needs_background": "light"
          }
        }
      ]
    },
    {
      "cell_type": "markdown",
      "metadata": {
        "id": "67S2T5kemksT"
      },
      "source": [
        "Aquí, hemos representado la *accuracy* frente al *learning_rate*. Como vemos, conforme vamos aumentando la importancia de las correciones de los árboles sucesivos, el $R^2$ va disminuyendo en el conjunto de prueba y aumentando en el conjunto de entrenamiento, adentrándonos en la zona de *overfitting*. No obstante, para poder tomar una decisión sobre el valor de aprendizaje adecuado, observemos con cuántos estimadores obtenemos el menor error en el cojunto de prueba: "
      ]
    },
    {
      "cell_type": "code",
      "metadata": {
        "colab": {
          "base_uri": "https://localhost:8080/",
          "height": 294
        },
        "id": "GNxgIJaD24VV",
        "outputId": "6fc26db3-983c-45a0-e440-1897526516a7"
      },
      "source": [
        "plt.plot(df_model_learning_rate[\"learning_rate\"], df_model_learning_rate[\"best_n_train\"], label=\"Train Score\")\n",
        "plt.plot(df_model_learning_rate[\"learning_rate\"], df_model_learning_rate[\"best_n_test\"], label=\"Test Score\")\n",
        "plt.suptitle(\"Best Number of Estimators\")\n",
        "plt.legend()\n",
        "plt.show();"
      ],
      "execution_count": null,
      "outputs": [
        {
          "output_type": "display_data",
          "data": {
            "image/png": "[encoded data removed]",
            "text/plain": [
              "<Figure size 432x288 with 1 Axes>"
            ]
          },
          "metadata": {
            "tags": [],
            "needs_background": "light"
          }
        }
      ]
    },
    {
      "cell_type": "markdown",
      "metadata": {
        "id": "lNRiVa_gniaO"
      },
      "source": [
        "Por un lado, el conjunto de entrenamiento va mejorando con cada último estimador. Por el otro, en el conjunto de prueba se ve como a un mayor *learning_rate* menor número de estimadores necesitamos.\n",
        "\n",
        "El caso ideal es el de learning rate bajo y número de árboles de decisión alto. Aunque esto lleva a modelos muy lentos de entrenar. En nuestro caso, **elegimos como valor óptimo un learning_rate = 0.5**, pues, si bien la *accuracy* es similar a los valores 0.1 o 0.3 (aproximadamente 87%), el número de estimadores necesarios es significativamente menor.\n",
        "\n",
        "De esta forma, tras un ajuste meticuloso y más elaborado en comparación con el resto de modelos, llegamos a nuestro algoritmo final:\n"
      ]
    },
    {
      "cell_type": "code",
      "metadata": {
        "colab": {
          "base_uri": "https://localhost:8080/"
        },
        "id": "QA5UxoX30HYf",
        "outputId": "31f8129a-6888-4d74-cb0a-f578ffb3f903"
      },
      "source": [
        "gb_model_final = GradientBoostingRegressor(random_state=0, n_estimators=250, max_depth=3, learning_rate=0.5)\n",
        "gb_model_final.fit(X_train, y_train)\n",
        "\n",
        "pred_test_gb = gb_model_final.predict(X_test)\n",
        "pred_train_gb = gb_model_final.predict(X_train)\n",
        "\n",
        "print(\"Precisión sobre los datos de entrenamiento: {:.2f}\".format(100.0*gb_model_final.score(X_train, y_train)))\n",
        "print(\"Precisión sobre los datos de test: {:.2f}\".format(100.0*gb_model_final.score(X_test, y_test)))"
      ],
      "execution_count": null,
      "outputs": [
        {
          "output_type": "stream",
          "text": [
            "Precisión sobre los datos de entrenamiento: 96.66\n",
            "Precisión sobre los datos de test: 87.61\n"
          ],
          "name": "stdout"
        }
      ]
    },
    {
      "cell_type": "markdown",
      "metadata": {
        "id": "TvJvklGmrGrx"
      },
      "source": [
        "La *accuracy* final de nuestro modelo es de 87,61% en el conjunto de prueba, un mejor resultado comparado con el algoritmo *Random Forest* (85.08%) y el árbol de decisión (76.67%)."
      ]
    },
    {
      "cell_type": "markdown",
      "metadata": {
        "id": "7jT0sYorsCxo"
      },
      "source": [
        "Este modelo también nos ofrece la posibilidad de ver cuáles son las variables más relevantes a la hora de influir en el precio de un inmueble:"
      ]
    },
    {
      "cell_type": "code",
      "metadata": {
        "colab": {
          "base_uri": "https://localhost:8080/",
          "height": 265
        },
        "id": "9FH8K0GdccJ3",
        "outputId": "a4ce5360-ae63-40ba-f21b-f8d5c8726ec3"
      },
      "source": [
        "df_imp = pd.DataFrame(gb_model_final.feature_importances_.reshape(1,-1), columns=X.columns, index=[\"Feature Importances\"])\n",
        "df_imp.T.plot.barh()\n",
        "plt.legend()\n",
        "plt.show();"
      ],
      "execution_count": null,
      "outputs": [
        {
          "output_type": "display_data",
          "data": {
            "image/png": "[encoded data removed]",
            "text/plain": [
              "<Figure size 432x288 with 1 Axes>"
            ]
          },
          "metadata": {
            "tags": [],
            "needs_background": "light"
          }
        }
      ]
    },
    {
      "cell_type": "markdown",
      "metadata": {
        "id": "E2Wz6nDAsPrA"
      },
      "source": [
        "El parámetro *grade* y *sqm_living* siguen jugando el papel más importante. El gráfico es muy similar al obtenido con el resto de modelos."
      ]
    },
    {
      "cell_type": "markdown",
      "metadata": {
        "id": "sc8nTtc2wpZj"
      },
      "source": [
        "# **Conclusiones**\n",
        "\n",
        "\n",
        "\n"
      ]
    },
    {
      "cell_type": "markdown",
      "metadata": {
        "id": "bQ5lUA3kiJr0"
      },
      "source": [
        "En esta tarea se han usado diferentes algoritmos para tratar de predecir el precio de un inmueble en base a sus características. En la siguiente tabla, resumimos los resultados obtenidos: \n",
        "\n",
        "|    Modelo  | $R^2$ (sobre el subconjunto de prueba) |\n",
        "|---------------|:-------------:|\n",
        "|   *Árbol de decisión (max_depth=9)*    |      76,67    |\n",
        "|   *Random Forest (n_estimators = 40, max_depth=12)*        |      85,08    |\n",
        "|   *Gradient Boosting (n_estimators=250, max_depth=3, learning_rate=0.5)*    |     87,61     |\n"
      ]
    },
    {
      "cell_type": "markdown",
      "metadata": {
        "id": "MY-1dQeAuJKS"
      },
      "source": [
        "Así, para el árbol de decisión más óptimo que hemos encontrado se ha obtenido el peor resultado de todos, mientras que con el algoritmo de *Gradient Boosting* hemos conseguido la mejor capacidad predictiva. No obstante, encontrar el mejor modelo *Gradient Boosting* ha exigido una búsqueda mucho más intensiva que en cualquier otro, teniendo que ajustar 3 hiperparámetros de una forma mucho más delicada y exhaustiva.\n",
        "\n",
        "En cuanto a las variables, hemos visto cómo todos los modelos concuerdan en que *grade* y *sqm_living* (orginalmente *sqrf_living*) son las más relevantes. Las diferencias más grandes aquí se observan en el *Random Forest*, pues da más importancia a variables que en el resto de modelos llegan a ser incluso descartadas. La teoría nos dice que esto se debe al bagging, la elección de variables predictoras que se hace en cada split de cada árbol. En esencia, este mecanismo fuerza a que los árboles sean diferentes restringiendo de forma distinta la cantidad de variables que pueden ser usadas. Por lo tanto, existe la posibilidad de que haya árboles de decisión que, por azar, se hayan construido con variables muy poco relevantes. Es por ello que al final estas variables pueden verse sobrerrepresentadas en importancia.\n",
        "\n",
        "En conclusión, el árbol de decisión es el modelo más simple, y por ende el que mejor se puede interpretar, pero es el que peor predice. *Random Forest* es más complejo, permitiendo una mejora significativa en el poder predictivo acosta de perder interpretabilidad. Por último, *Gradient Boosting* es el que mejor predice. Sin embargo, también es el que más trabajo requiere a la hora de ajustar sus hiperparámetros."
      ]
    }
  ]
}