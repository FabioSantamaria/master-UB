{
  "nbformat": 4,
  "nbformat_minor": 0,
  "metadata": {
    "colab": {
      "name": "M6_AI2_SantamariaFabio.ipynb",
      "provenance": [],
      "collapsed_sections": [
        "sVvdQrXOYyUL"
      ]
    },
    "kernelspec": {
      "name": "python3",
      "display_name": "Python 3"
    },
    "language_info": {
      "name": "python"
    }
  },
  "cells": [
    {
      "cell_type": "markdown",
      "metadata": {
        "id": "sVvdQrXOYyUL"
      },
      "source": [
        "# **Técnicas Avanzadas de Aprendizaje**\n",
        "\n",
        "## Actividad individual 2: \"ACCIDENTES CEREBROVASCULARES\"\n",
        "\n",
        "Fabio Santamaría Iglesias\n",
        "\n",
        "14/06/2021"
      ]
    },
    {
      "cell_type": "markdown",
      "metadata": {
        "id": "_pj-kLww7ah6"
      },
      "source": [
        "# **Introducción: Dataset**\n",
        "\n",
        "Este conjunto de datos se utiliza para predecir si es probable que un paciente sufra un accidente cerebrovascular en función de los parámetros de entrada como el sexo, la edad, diversas enfermedades y el tabaquismo. Cada fila de datos proporciona información relevante sobre el paciente.\n",
        "\n",
        "Información de atributos:\n",
        "\n",
        "* Id: identificador único. \n",
        "* Gender: \"Masculino\", \"Femenino\" u \"Otro\". \n",
        "* Age: edad del paciente. \n",
        "* Hypertension: 0 si el paciente no tiene hipertensión, 1 si el paciente tiene hipertensión.\n",
        "* Heart_disease: 0 si el paciente no tiene ninguna enfermedad cardíaca, 1 si el paciente tiene una enfermedad cardíaca. \n",
        "* Ever_married: si ha estado alguna vez casado: \"No\" o \"Yes\". \n",
        "* Work_type: \"Children/Cuidado de hijos\", \"Govt_job/Funcionario del Gobierno\", \"Never_worked/Nunca ha trabajado\", \"Private/trabajador por cuenta ajena\" o \"Self-employeed/Trabajador por cuenta propia\". \n",
        "* Residence_type: \"Rural\" o \"Urbano\". \n",
        "* Avg_glucose_level: nivel medio de glucosa en sangre. \n",
        "* Bmi: índice de masa corporal (IMC). \n",
        "* Smoking_status: \"Fue fumador\", \"Nunca ha fumado\", \"Fuma actualmente\" o \"Desconocido\". \n",
        "* Stroke: 1 si el paciente tuvo un accidente cerebrovascular o 0 si no lo tuvo. \n",
        "\n",
        "Se importan las librerías básicas con las que trabajaremos:"
      ]
    },
    {
      "cell_type": "code",
      "metadata": {
        "id": "zxW6dUbDYPut"
      },
      "source": [
        "import pandas as pd\n",
        "import numpy as np\n",
        "import matplotlib.pyplot as plt\n",
        "%matplotlib inline"
      ],
      "execution_count": 39,
      "outputs": []
    },
    {
      "cell_type": "markdown",
      "metadata": {
        "id": "PRDi9h8E8D9w"
      },
      "source": [
        "## **Lectura del dataset**"
      ]
    },
    {
      "cell_type": "markdown",
      "metadata": {
        "id": "0ylSVGYbR3BZ"
      },
      "source": [
        "Subimos el archivo al entorno:"
      ]
    },
    {
      "cell_type": "code",
      "metadata": {
        "colab": {
          "resources": {
            "http://localhost:8080/nbextensions/google.colab/files.js": {
              "data": "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",
              "ok": true,
              "headers": [
                [
                  "content-type",
                  "application/javascript"
                ]
              ],
              "status": 200,
              "status_text": ""
            }
          },
          "base_uri": "https://localhost:8080/",
          "height": 54
        },
        "id": "2S0MKbFhZ3aO",
        "outputId": "0a30d9f2-99cb-4853-f811-3436e2711b76"
      },
      "source": [
        "from google.colab import files\n",
        "\n",
        "files.upload()"
      ],
      "execution_count": 40,
      "outputs": [
        {
          "output_type": "display_data",
          "data": {
            "text/html": [
              "\n",
              "     <input type=\"file\" id=\"files-1910f359-e76c-4cef-8726-26bb4e7a2bb2\" name=\"files[]\" multiple disabled\n",
              "        style=\"border:none\" />\n",
              "     <output id=\"result-1910f359-e76c-4cef-8726-26bb4e7a2bb2\">\n",
              "      Upload widget is only available when the cell has been executed in the\n",
              "      current browser session. Please rerun this cell to enable.\n",
              "      </output>\n",
              "      <script src=\"/nbextensions/google.colab/files.js\"></script> "
            ],
            "text/plain": [
              "<IPython.core.display.HTML object>"
            ]
          },
          "metadata": {
            "tags": []
          }
        },
        {
          "output_type": "execute_result",
          "data": {
            "text/plain": [
              "{}"
            ]
          },
          "metadata": {
            "tags": []
          },
          "execution_count": 40
        }
      ]
    },
    {
      "cell_type": "markdown",
      "metadata": {
        "id": "ND4ewT3y8HcA"
      },
      "source": [
        "Se lee el archivo y se pintan los primeros registros:"
      ]
    },
    {
      "cell_type": "code",
      "metadata": {
        "colab": {
          "base_uri": "https://localhost:8080/",
          "height": 224
        },
        "id": "pbZxxbjKZ6pR",
        "outputId": "40826b2a-de32-48ef-f6cf-83ca1e2b8526"
      },
      "source": [
        "path = \"/content/act1_healthcare-dataset-stroke-data.csv\"\n",
        "df_ini = pd.read_csv(path, sep=\",\")\n",
        "print(df_ini.shape)\n",
        "df_ini.head()"
      ],
      "execution_count": 41,
      "outputs": [
        {
          "output_type": "stream",
          "text": [
            "(5110, 12)\n"
          ],
          "name": "stdout"
        },
        {
          "output_type": "execute_result",
          "data": {
            "text/html": [
              "<div>\n",
              "<style scoped>\n",
              "    .dataframe tbody tr th:only-of-type {\n",
              "        vertical-align: middle;\n",
              "    }\n",
              "\n",
              "    .dataframe tbody tr th {\n",
              "        vertical-align: top;\n",
              "    }\n",
              "\n",
              "    .dataframe thead th {\n",
              "        text-align: right;\n",
              "    }\n",
              "</style>\n",
              "<table border=\"1\" class=\"dataframe\">\n",
              "  <thead>\n",
              "    <tr style=\"text-align: right;\">\n",
              "      <th></th>\n",
              "      <th>id</th>\n",
              "      <th>gender</th>\n",
              "      <th>age</th>\n",
              "      <th>hypertension</th>\n",
              "      <th>heart_disease</th>\n",
              "      <th>ever_married</th>\n",
              "      <th>work_type</th>\n",
              "      <th>Residence_type</th>\n",
              "      <th>avg_glucose_level</th>\n",
              "      <th>bmi</th>\n",
              "      <th>smoking_status</th>\n",
              "      <th>stroke</th>\n",
              "    </tr>\n",
              "  </thead>\n",
              "  <tbody>\n",
              "    <tr>\n",
              "      <th>0</th>\n",
              "      <td>9046</td>\n",
              "      <td>Male</td>\n",
              "      <td>67.0</td>\n",
              "      <td>0</td>\n",
              "      <td>1</td>\n",
              "      <td>Yes</td>\n",
              "      <td>Private</td>\n",
              "      <td>Urban</td>\n",
              "      <td>228.69</td>\n",
              "      <td>36.6</td>\n",
              "      <td>formerly smoked</td>\n",
              "      <td>1</td>\n",
              "    </tr>\n",
              "    <tr>\n",
              "      <th>1</th>\n",
              "      <td>51676</td>\n",
              "      <td>Female</td>\n",
              "      <td>61.0</td>\n",
              "      <td>0</td>\n",
              "      <td>0</td>\n",
              "      <td>Yes</td>\n",
              "      <td>Self-employed</td>\n",
              "      <td>Rural</td>\n",
              "      <td>202.21</td>\n",
              "      <td>NaN</td>\n",
              "      <td>never smoked</td>\n",
              "      <td>1</td>\n",
              "    </tr>\n",
              "    <tr>\n",
              "      <th>2</th>\n",
              "      <td>31112</td>\n",
              "      <td>Male</td>\n",
              "      <td>80.0</td>\n",
              "      <td>0</td>\n",
              "      <td>1</td>\n",
              "      <td>Yes</td>\n",
              "      <td>Private</td>\n",
              "      <td>Rural</td>\n",
              "      <td>105.92</td>\n",
              "      <td>32.5</td>\n",
              "      <td>never smoked</td>\n",
              "      <td>1</td>\n",
              "    </tr>\n",
              "    <tr>\n",
              "      <th>3</th>\n",
              "      <td>60182</td>\n",
              "      <td>Female</td>\n",
              "      <td>49.0</td>\n",
              "      <td>0</td>\n",
              "      <td>0</td>\n",
              "      <td>Yes</td>\n",
              "      <td>Private</td>\n",
              "      <td>Urban</td>\n",
              "      <td>171.23</td>\n",
              "      <td>34.4</td>\n",
              "      <td>smokes</td>\n",
              "      <td>1</td>\n",
              "    </tr>\n",
              "    <tr>\n",
              "      <th>4</th>\n",
              "      <td>1665</td>\n",
              "      <td>Female</td>\n",
              "      <td>79.0</td>\n",
              "      <td>1</td>\n",
              "      <td>0</td>\n",
              "      <td>Yes</td>\n",
              "      <td>Self-employed</td>\n",
              "      <td>Rural</td>\n",
              "      <td>174.12</td>\n",
              "      <td>24.0</td>\n",
              "      <td>never smoked</td>\n",
              "      <td>1</td>\n",
              "    </tr>\n",
              "  </tbody>\n",
              "</table>\n",
              "</div>"
            ],
            "text/plain": [
              "      id  gender   age  ...   bmi   smoking_status stroke\n",
              "0   9046    Male  67.0  ...  36.6  formerly smoked      1\n",
              "1  51676  Female  61.0  ...   NaN     never smoked      1\n",
              "2  31112    Male  80.0  ...  32.5     never smoked      1\n",
              "3  60182  Female  49.0  ...  34.4           smokes      1\n",
              "4   1665  Female  79.0  ...  24.0     never smoked      1\n",
              "\n",
              "[5 rows x 12 columns]"
            ]
          },
          "metadata": {
            "tags": []
          },
          "execution_count": 41
        }
      ]
    },
    {
      "cell_type": "markdown",
      "metadata": {
        "id": "clOa3fwYUCm_"
      },
      "source": [
        "Se ve de qué tipo son nuestras variables:"
      ]
    },
    {
      "cell_type": "code",
      "metadata": {
        "colab": {
          "base_uri": "https://localhost:8080/"
        },
        "id": "LaVMZUhY8SRB",
        "outputId": "3d539ed5-3a8e-40a1-8516-f0bedadab2d9"
      },
      "source": [
        "df_ini.dtypes"
      ],
      "execution_count": 42,
      "outputs": [
        {
          "output_type": "execute_result",
          "data": {
            "text/plain": [
              "id                     int64\n",
              "gender                object\n",
              "age                  float64\n",
              "hypertension           int64\n",
              "heart_disease          int64\n",
              "ever_married          object\n",
              "work_type             object\n",
              "Residence_type        object\n",
              "avg_glucose_level    float64\n",
              "bmi                  float64\n",
              "smoking_status        object\n",
              "stroke                 int64\n",
              "dtype: object"
            ]
          },
          "metadata": {
            "tags": []
          },
          "execution_count": 42
        }
      ]
    },
    {
      "cell_type": "markdown",
      "metadata": {
        "id": "CZkjzDRU8XSJ"
      },
      "source": [
        "Como vemos, contamos con 5110 registros de 12 variables de diferente tipo. \n",
        "\n",
        "Analicemos el conjunto de datos buscando valores faltantes:\n",
        "\n"
      ]
    },
    {
      "cell_type": "code",
      "metadata": {
        "colab": {
          "base_uri": "https://localhost:8080/"
        },
        "id": "0CrFs3pcTCAr",
        "outputId": "424e02bf-fe36-4d97-fdae-ac35f25bcde8"
      },
      "source": [
        "np.sum(df_ini.isnull())"
      ],
      "execution_count": 43,
      "outputs": [
        {
          "output_type": "execute_result",
          "data": {
            "text/plain": [
              "id                     0\n",
              "gender                 0\n",
              "age                    0\n",
              "hypertension           0\n",
              "heart_disease          0\n",
              "ever_married           0\n",
              "work_type              0\n",
              "Residence_type         0\n",
              "avg_glucose_level      0\n",
              "bmi                  201\n",
              "smoking_status         0\n",
              "stroke                 0\n",
              "dtype: int64"
            ]
          },
          "metadata": {
            "tags": []
          },
          "execution_count": 43
        }
      ]
    },
    {
      "cell_type": "markdown",
      "metadata": {
        "id": "7f8gJP5uTM0A"
      },
      "source": [
        "Encontramos que en la variable *bmi* hay 201 datos nulos. Teniendo en cuenta que el conjunto total se compone 5110, decidimos eliminar estos registros:"
      ]
    },
    {
      "cell_type": "code",
      "metadata": {
        "id": "KVhX-GSvWDMO",
        "colab": {
          "base_uri": "https://localhost:8080/"
        },
        "outputId": "bef54a92-3c40-43c7-d2a6-808b65fd95fd"
      },
      "source": [
        "df_ini.dropna(inplace = True)\n",
        "df_ini.reset_index(inplace = True, drop = True)\n",
        "print(df_ini.shape)"
      ],
      "execution_count": 44,
      "outputs": [
        {
          "output_type": "stream",
          "text": [
            "(4909, 12)\n"
          ],
          "name": "stdout"
        }
      ]
    },
    {
      "cell_type": "code",
      "metadata": {
        "colab": {
          "base_uri": "https://localhost:8080/"
        },
        "id": "k4SsL4HvWZsu",
        "outputId": "32bddf30-1fc4-4902-ce2a-74a350ab9d0f"
      },
      "source": [
        "np.sum(df_ini.isnull())"
      ],
      "execution_count": 45,
      "outputs": [
        {
          "output_type": "execute_result",
          "data": {
            "text/plain": [
              "id                   0\n",
              "gender               0\n",
              "age                  0\n",
              "hypertension         0\n",
              "heart_disease        0\n",
              "ever_married         0\n",
              "work_type            0\n",
              "Residence_type       0\n",
              "avg_glucose_level    0\n",
              "bmi                  0\n",
              "smoking_status       0\n",
              "stroke               0\n",
              "dtype: int64"
            ]
          },
          "metadata": {
            "tags": []
          },
          "execution_count": 45
        }
      ]
    },
    {
      "cell_type": "markdown",
      "metadata": {
        "id": "uZigjgzj9lw_"
      },
      "source": [
        "Centrémonos en la variable que queremos predecir, *strokes*:"
      ]
    },
    {
      "cell_type": "code",
      "metadata": {
        "colab": {
          "base_uri": "https://localhost:8080/"
        },
        "id": "tgYV11afSzHc",
        "outputId": "7567f9d3-d7f4-4217-a144-9635743a35b6"
      },
      "source": [
        "df_ini[\"stroke\"].value_counts()"
      ],
      "execution_count": 46,
      "outputs": [
        {
          "output_type": "execute_result",
          "data": {
            "text/plain": [
              "0    4700\n",
              "1     209\n",
              "Name: stroke, dtype: int64"
            ]
          },
          "metadata": {
            "tags": []
          },
          "execution_count": 46
        }
      ]
    },
    {
      "cell_type": "markdown",
      "metadata": {
        "id": "LMqsEI9zSJAA"
      },
      "source": [
        "Como es lógico, es una variable binaria, siendo 0 la clase mayoritaria y 1 la minoritaria. Si calculamos el porcentaje que representa cada clase del total,"
      ]
    },
    {
      "cell_type": "code",
      "metadata": {
        "colab": {
          "base_uri": "https://localhost:8080/"
        },
        "id": "LTWlbp0SS9oZ",
        "outputId": "2e1ffa2e-4881-47f1-84aa-93403431899d"
      },
      "source": [
        "df_ini[\"stroke\"].value_counts()/len(df_ini)"
      ],
      "execution_count": 47,
      "outputs": [
        {
          "output_type": "execute_result",
          "data": {
            "text/plain": [
              "0    0.957425\n",
              "1    0.042575\n",
              "Name: stroke, dtype: float64"
            ]
          },
          "metadata": {
            "tags": []
          },
          "execution_count": 47
        }
      ]
    },
    {
      "cell_type": "markdown",
      "metadata": {
        "id": "aa2rfSXh92BZ"
      },
      "source": [
        "nos damos cuenta de que la diferencia es notable, habiendo un 95,7% de casos negativos frente a un 4,3% de casos positivos. Estamos, por tanto, ante un conjunto de datos asimétrico (skewed dataset)."
      ]
    },
    {
      "cell_type": "markdown",
      "metadata": {
        "id": "hLDIHLxATkeD"
      },
      "source": [
        "## **Preprocesado de datos:**\n",
        "\n",
        "Para que nuestro algoritmo funcione correctamente, todas las variables deben ser numéricas. Usamos la función *LabelEncoder* para transformarlas y creamos un pequeño diccionario por si en el futuro procediese consultar los valores:"
      ]
    },
    {
      "cell_type": "code",
      "metadata": {
        "id": "3uFNB08tnn9t",
        "colab": {
          "base_uri": "https://localhost:8080/",
          "height": 206
        },
        "outputId": "858a1da2-a8a4-4b50-bf17-cf8e96e6583b"
      },
      "source": [
        "from sklearn import preprocessing\n",
        "le = preprocessing.LabelEncoder()\n",
        "\n",
        "df = df_ini.copy(deep=True)\n",
        "\n",
        "df[\"gender\"]=le.fit_transform(df_ini.gender)\n",
        "df[\"ever_married\"]=le.fit_transform(df_ini.ever_married)\n",
        "df[\"work_type\"]=le.fit_transform(df_ini.work_type)\n",
        "df[\"Residence_type\"]=le.fit_transform(df_ini.Residence_type)\n",
        "df[\"smoking_status\"]=le.fit_transform(df_ini.smoking_status)\n",
        "\n",
        "diccionario=pd.DataFrame({\n",
        "    \"original_gender\": df_ini.gender,\n",
        "    \"codified_gender\": df.gender,\n",
        "    \"original_ever_married\": df_ini.ever_married,\n",
        "    \"codified_ever_married\": df.ever_married,\n",
        "    \"original_work_type\": df_ini.work_type,\n",
        "    \"codified_work_type\": df.work_type,\n",
        "    \"original_Residence_type\": df_ini.Residence_type,\n",
        "    \"codified_Residence_type\": df.Residence_type,\n",
        "    \"original_smoking_status\": df_ini.smoking_status,\n",
        "    \"codified_smoking_status\": df.smoking_status,\n",
        "})\n",
        "\n",
        "diccionario.head()"
      ],
      "execution_count": 48,
      "outputs": [
        {
          "output_type": "execute_result",
          "data": {
            "text/html": [
              "<div>\n",
              "<style scoped>\n",
              "    .dataframe tbody tr th:only-of-type {\n",
              "        vertical-align: middle;\n",
              "    }\n",
              "\n",
              "    .dataframe tbody tr th {\n",
              "        vertical-align: top;\n",
              "    }\n",
              "\n",
              "    .dataframe thead th {\n",
              "        text-align: right;\n",
              "    }\n",
              "</style>\n",
              "<table border=\"1\" class=\"dataframe\">\n",
              "  <thead>\n",
              "    <tr style=\"text-align: right;\">\n",
              "      <th></th>\n",
              "      <th>original_gender</th>\n",
              "      <th>codified_gender</th>\n",
              "      <th>original_ever_married</th>\n",
              "      <th>codified_ever_married</th>\n",
              "      <th>original_work_type</th>\n",
              "      <th>codified_work_type</th>\n",
              "      <th>original_Residence_type</th>\n",
              "      <th>codified_Residence_type</th>\n",
              "      <th>original_smoking_status</th>\n",
              "      <th>codified_smoking_status</th>\n",
              "    </tr>\n",
              "  </thead>\n",
              "  <tbody>\n",
              "    <tr>\n",
              "      <th>0</th>\n",
              "      <td>Male</td>\n",
              "      <td>1</td>\n",
              "      <td>Yes</td>\n",
              "      <td>1</td>\n",
              "      <td>Private</td>\n",
              "      <td>2</td>\n",
              "      <td>Urban</td>\n",
              "      <td>1</td>\n",
              "      <td>formerly smoked</td>\n",
              "      <td>1</td>\n",
              "    </tr>\n",
              "    <tr>\n",
              "      <th>1</th>\n",
              "      <td>Male</td>\n",
              "      <td>1</td>\n",
              "      <td>Yes</td>\n",
              "      <td>1</td>\n",
              "      <td>Private</td>\n",
              "      <td>2</td>\n",
              "      <td>Rural</td>\n",
              "      <td>0</td>\n",
              "      <td>never smoked</td>\n",
              "      <td>2</td>\n",
              "    </tr>\n",
              "    <tr>\n",
              "      <th>2</th>\n",
              "      <td>Female</td>\n",
              "      <td>0</td>\n",
              "      <td>Yes</td>\n",
              "      <td>1</td>\n",
              "      <td>Private</td>\n",
              "      <td>2</td>\n",
              "      <td>Urban</td>\n",
              "      <td>1</td>\n",
              "      <td>smokes</td>\n",
              "      <td>3</td>\n",
              "    </tr>\n",
              "    <tr>\n",
              "      <th>3</th>\n",
              "      <td>Female</td>\n",
              "      <td>0</td>\n",
              "      <td>Yes</td>\n",
              "      <td>1</td>\n",
              "      <td>Self-employed</td>\n",
              "      <td>3</td>\n",
              "      <td>Rural</td>\n",
              "      <td>0</td>\n",
              "      <td>never smoked</td>\n",
              "      <td>2</td>\n",
              "    </tr>\n",
              "    <tr>\n",
              "      <th>4</th>\n",
              "      <td>Male</td>\n",
              "      <td>1</td>\n",
              "      <td>Yes</td>\n",
              "      <td>1</td>\n",
              "      <td>Private</td>\n",
              "      <td>2</td>\n",
              "      <td>Urban</td>\n",
              "      <td>1</td>\n",
              "      <td>formerly smoked</td>\n",
              "      <td>1</td>\n",
              "    </tr>\n",
              "  </tbody>\n",
              "</table>\n",
              "</div>"
            ],
            "text/plain": [
              "  original_gender  ...  codified_smoking_status\n",
              "0            Male  ...                        1\n",
              "1            Male  ...                        2\n",
              "2          Female  ...                        3\n",
              "3          Female  ...                        2\n",
              "4            Male  ...                        1\n",
              "\n",
              "[5 rows x 10 columns]"
            ]
          },
          "metadata": {
            "tags": []
          },
          "execution_count": 48
        }
      ]
    },
    {
      "cell_type": "markdown",
      "metadata": {
        "id": "L9ZaPSQZX6Sf"
      },
      "source": [
        "Así, a cada valor original le es asignado un número."
      ]
    },
    {
      "cell_type": "markdown",
      "metadata": {
        "id": "OBtkLKOTW9Om"
      },
      "source": [
        "Dado que el algoritmo **knn** (*k-nearest neighbors*) se basa en calcular distancias entre los registros combinando las variables explicativas, y como deseamos tratar con igual relevancia a todas estas variables, necesitamos que estas tengan un orden de magnitud similar entre ellas. Para conseguir esto, usamos la función *StandardScaler* de *sklearn.preprocessing* para tipificarlas, es decir, que tengan media 0 y desviación típica 1. "
      ]
    },
    {
      "cell_type": "code",
      "metadata": {
        "id": "4ZADYEa3rPGR"
      },
      "source": [
        "from sklearn.preprocessing import StandardScaler\n",
        "scaler = StandardScaler()\n",
        "scaled = scaler.fit(df.iloc[:,0:-1]).transform(df.iloc[:,0:-1])"
      ],
      "execution_count": 49,
      "outputs": []
    },
    {
      "cell_type": "code",
      "metadata": {
        "id": "MNJNX4JblNfw",
        "colab": {
          "base_uri": "https://localhost:8080/",
          "height": 206
        },
        "outputId": "5534bf94-d0ad-43e6-a667-86c87ae25b09"
      },
      "source": [
        "dfs = pd.DataFrame(scaled, columns=df.columns[:-1])\n",
        "dfs.head()"
      ],
      "execution_count": 50,
      "outputs": [
        {
          "output_type": "execute_result",
          "data": {
            "text/html": [
              "<div>\n",
              "<style scoped>\n",
              "    .dataframe tbody tr th:only-of-type {\n",
              "        vertical-align: middle;\n",
              "    }\n",
              "\n",
              "    .dataframe tbody tr th {\n",
              "        vertical-align: top;\n",
              "    }\n",
              "\n",
              "    .dataframe thead th {\n",
              "        text-align: right;\n",
              "    }\n",
              "</style>\n",
              "<table border=\"1\" class=\"dataframe\">\n",
              "  <thead>\n",
              "    <tr style=\"text-align: right;\">\n",
              "      <th></th>\n",
              "      <th>id</th>\n",
              "      <th>gender</th>\n",
              "      <th>age</th>\n",
              "      <th>hypertension</th>\n",
              "      <th>heart_disease</th>\n",
              "      <th>ever_married</th>\n",
              "      <th>work_type</th>\n",
              "      <th>Residence_type</th>\n",
              "      <th>avg_glucose_level</th>\n",
              "      <th>bmi</th>\n",
              "      <th>smoking_status</th>\n",
              "    </tr>\n",
              "  </thead>\n",
              "  <tbody>\n",
              "    <tr>\n",
              "      <th>0</th>\n",
              "      <td>-1.334653</td>\n",
              "      <td>1.198428</td>\n",
              "      <td>1.070138</td>\n",
              "      <td>-0.318067</td>\n",
              "      <td>4.381968</td>\n",
              "      <td>0.729484</td>\n",
              "      <td>-0.155697</td>\n",
              "      <td>0.985640</td>\n",
              "      <td>2.777698</td>\n",
              "      <td>0.981345</td>\n",
              "      <td>-0.351788</td>\n",
              "    </tr>\n",
              "    <tr>\n",
              "      <th>1</th>\n",
              "      <td>-0.283539</td>\n",
              "      <td>1.198428</td>\n",
              "      <td>1.646563</td>\n",
              "      <td>-0.318067</td>\n",
              "      <td>4.381968</td>\n",
              "      <td>0.729484</td>\n",
              "      <td>-0.155697</td>\n",
              "      <td>-1.014569</td>\n",
              "      <td>0.013842</td>\n",
              "      <td>0.459269</td>\n",
              "      <td>0.585232</td>\n",
              "    </tr>\n",
              "    <tr>\n",
              "      <th>2</th>\n",
              "      <td>1.101211</td>\n",
              "      <td>-0.833023</td>\n",
              "      <td>0.272012</td>\n",
              "      <td>-0.318067</td>\n",
              "      <td>-0.228208</td>\n",
              "      <td>0.729484</td>\n",
              "      <td>-0.155697</td>\n",
              "      <td>0.985640</td>\n",
              "      <td>1.484132</td>\n",
              "      <td>0.701207</td>\n",
              "      <td>1.522252</td>\n",
              "    </tr>\n",
              "    <tr>\n",
              "      <th>3</th>\n",
              "      <td>-1.686247</td>\n",
              "      <td>-0.833023</td>\n",
              "      <td>1.602222</td>\n",
              "      <td>3.143994</td>\n",
              "      <td>-0.228208</td>\n",
              "      <td>0.729484</td>\n",
              "      <td>0.759651</td>\n",
              "      <td>-1.014569</td>\n",
              "      <td>1.549193</td>\n",
              "      <td>-0.623083</td>\n",
              "      <td>0.585232</td>\n",
              "    </tr>\n",
              "    <tr>\n",
              "      <th>4</th>\n",
              "      <td>0.933870</td>\n",
              "      <td>1.198428</td>\n",
              "      <td>1.690903</td>\n",
              "      <td>-0.318067</td>\n",
              "      <td>-0.228208</td>\n",
              "      <td>0.729484</td>\n",
              "      <td>-0.155697</td>\n",
              "      <td>0.985640</td>\n",
              "      <td>1.821368</td>\n",
              "      <td>0.013595</td>\n",
              "      <td>-0.351788</td>\n",
              "    </tr>\n",
              "  </tbody>\n",
              "</table>\n",
              "</div>"
            ],
            "text/plain": [
              "         id    gender       age  ...  avg_glucose_level       bmi  smoking_status\n",
              "0 -1.334653  1.198428  1.070138  ...           2.777698  0.981345       -0.351788\n",
              "1 -0.283539  1.198428  1.646563  ...           0.013842  0.459269        0.585232\n",
              "2  1.101211 -0.833023  0.272012  ...           1.484132  0.701207        1.522252\n",
              "3 -1.686247 -0.833023  1.602222  ...           1.549193 -0.623083        0.585232\n",
              "4  0.933870  1.198428  1.690903  ...           1.821368  0.013595       -0.351788\n",
              "\n",
              "[5 rows x 11 columns]"
            ]
          },
          "metadata": {
            "tags": []
          },
          "execution_count": 50
        }
      ]
    },
    {
      "cell_type": "code",
      "metadata": {
        "colab": {
          "base_uri": "https://localhost:8080/",
          "height": 206
        },
        "id": "yUX1u6BytjO7",
        "outputId": "65fdbcae-f8f4-4b73-c0ef-0f2d48d911bc"
      },
      "source": [
        "dfs = pd.concat([dfs, df[\"stroke\"]], axis=1)\n",
        "dfs.head()"
      ],
      "execution_count": 51,
      "outputs": [
        {
          "output_type": "execute_result",
          "data": {
            "text/html": [
              "<div>\n",
              "<style scoped>\n",
              "    .dataframe tbody tr th:only-of-type {\n",
              "        vertical-align: middle;\n",
              "    }\n",
              "\n",
              "    .dataframe tbody tr th {\n",
              "        vertical-align: top;\n",
              "    }\n",
              "\n",
              "    .dataframe thead th {\n",
              "        text-align: right;\n",
              "    }\n",
              "</style>\n",
              "<table border=\"1\" class=\"dataframe\">\n",
              "  <thead>\n",
              "    <tr style=\"text-align: right;\">\n",
              "      <th></th>\n",
              "      <th>id</th>\n",
              "      <th>gender</th>\n",
              "      <th>age</th>\n",
              "      <th>hypertension</th>\n",
              "      <th>heart_disease</th>\n",
              "      <th>ever_married</th>\n",
              "      <th>work_type</th>\n",
              "      <th>Residence_type</th>\n",
              "      <th>avg_glucose_level</th>\n",
              "      <th>bmi</th>\n",
              "      <th>smoking_status</th>\n",
              "      <th>stroke</th>\n",
              "    </tr>\n",
              "  </thead>\n",
              "  <tbody>\n",
              "    <tr>\n",
              "      <th>0</th>\n",
              "      <td>-1.334653</td>\n",
              "      <td>1.198428</td>\n",
              "      <td>1.070138</td>\n",
              "      <td>-0.318067</td>\n",
              "      <td>4.381968</td>\n",
              "      <td>0.729484</td>\n",
              "      <td>-0.155697</td>\n",
              "      <td>0.985640</td>\n",
              "      <td>2.777698</td>\n",
              "      <td>0.981345</td>\n",
              "      <td>-0.351788</td>\n",
              "      <td>1</td>\n",
              "    </tr>\n",
              "    <tr>\n",
              "      <th>1</th>\n",
              "      <td>-0.283539</td>\n",
              "      <td>1.198428</td>\n",
              "      <td>1.646563</td>\n",
              "      <td>-0.318067</td>\n",
              "      <td>4.381968</td>\n",
              "      <td>0.729484</td>\n",
              "      <td>-0.155697</td>\n",
              "      <td>-1.014569</td>\n",
              "      <td>0.013842</td>\n",
              "      <td>0.459269</td>\n",
              "      <td>0.585232</td>\n",
              "      <td>1</td>\n",
              "    </tr>\n",
              "    <tr>\n",
              "      <th>2</th>\n",
              "      <td>1.101211</td>\n",
              "      <td>-0.833023</td>\n",
              "      <td>0.272012</td>\n",
              "      <td>-0.318067</td>\n",
              "      <td>-0.228208</td>\n",
              "      <td>0.729484</td>\n",
              "      <td>-0.155697</td>\n",
              "      <td>0.985640</td>\n",
              "      <td>1.484132</td>\n",
              "      <td>0.701207</td>\n",
              "      <td>1.522252</td>\n",
              "      <td>1</td>\n",
              "    </tr>\n",
              "    <tr>\n",
              "      <th>3</th>\n",
              "      <td>-1.686247</td>\n",
              "      <td>-0.833023</td>\n",
              "      <td>1.602222</td>\n",
              "      <td>3.143994</td>\n",
              "      <td>-0.228208</td>\n",
              "      <td>0.729484</td>\n",
              "      <td>0.759651</td>\n",
              "      <td>-1.014569</td>\n",
              "      <td>1.549193</td>\n",
              "      <td>-0.623083</td>\n",
              "      <td>0.585232</td>\n",
              "      <td>1</td>\n",
              "    </tr>\n",
              "    <tr>\n",
              "      <th>4</th>\n",
              "      <td>0.933870</td>\n",
              "      <td>1.198428</td>\n",
              "      <td>1.690903</td>\n",
              "      <td>-0.318067</td>\n",
              "      <td>-0.228208</td>\n",
              "      <td>0.729484</td>\n",
              "      <td>-0.155697</td>\n",
              "      <td>0.985640</td>\n",
              "      <td>1.821368</td>\n",
              "      <td>0.013595</td>\n",
              "      <td>-0.351788</td>\n",
              "      <td>1</td>\n",
              "    </tr>\n",
              "  </tbody>\n",
              "</table>\n",
              "</div>"
            ],
            "text/plain": [
              "         id    gender       age  ...       bmi  smoking_status  stroke\n",
              "0 -1.334653  1.198428  1.070138  ...  0.981345       -0.351788       1\n",
              "1 -0.283539  1.198428  1.646563  ...  0.459269        0.585232       1\n",
              "2  1.101211 -0.833023  0.272012  ...  0.701207        1.522252       1\n",
              "3 -1.686247 -0.833023  1.602222  ... -0.623083        0.585232       1\n",
              "4  0.933870  1.198428  1.690903  ...  0.013595       -0.351788       1\n",
              "\n",
              "[5 rows x 12 columns]"
            ]
          },
          "metadata": {
            "tags": []
          },
          "execution_count": 51
        }
      ]
    },
    {
      "cell_type": "markdown",
      "metadata": {
        "id": "FuxKCqq5CM0j"
      },
      "source": [
        "Observamos que *age* está tipificada:"
      ]
    },
    {
      "cell_type": "code",
      "metadata": {
        "colab": {
          "base_uri": "https://localhost:8080/"
        },
        "id": "4PlwFLRdVDiJ",
        "outputId": "75ac6626-938f-4b3d-8195-4de21125786e"
      },
      "source": [
        "print (round(dfs[\"age\"].mean(),2))\n",
        "print (round(dfs[\"age\"].std(),2))"
      ],
      "execution_count": 52,
      "outputs": [
        {
          "output_type": "stream",
          "text": [
            "0.0\n",
            "1.0\n"
          ],
          "name": "stdout"
        }
      ]
    },
    {
      "cell_type": "markdown",
      "metadata": {
        "id": "1adUoIcFCAYN"
      },
      "source": [
        "Para asegurarnos de que nuestro algoritmo funciona correctamente, permutamos las observaciones con la finalidad de evitar patrones indeseados: "
      ]
    },
    {
      "cell_type": "code",
      "metadata": {
        "id": "5fNlyc3SVLI_"
      },
      "source": [
        "dfs = dfs.sample(frac=1.0, random_state=42)"
      ],
      "execution_count": 53,
      "outputs": []
    },
    {
      "cell_type": "markdown",
      "metadata": {
        "id": "i85iDSx8atam"
      },
      "source": [
        "## **Selección del modelo KNN con Cross Validation**\n",
        "\n",
        "Vamos a generar varios modelos con diferente número de vecinos. Esto nos permitirá seleccionar aquel con una mayor *accuracy*.\n",
        "\n",
        "Hacemos un bucle sobre el número de vecinos, k. Como nuestro problema consiste en clasificar en dos clases, tratamos de evitar valores de k pares.\n",
        "\n",
        "Creamos cada modelo con la función *KNeighborsClassifier* del paquete *sklearn*, cuyos parámetros fundamentales son los siguientes:\n",
        "\n",
        "* n_neighbors: número de vecinos en los que queremos que se base nuestra predicción. Su valor puede ser cualquier número entero positivo. En nuestro caso, cambiaremos este valor para generar los diferentes modelos, ignorando los números pares para evitar el empate a la hora de decidir entre las dos clases.\n",
        "\n",
        "* weights: con este parámetro indicamos cómo queremos que la distancia entre los vecinos influya en la predicción. Hay 3 posibles valores:\n",
        "\n",
        "  - \"uniform\": todos los vecinos se consideran igualmente, independientemente de la distancia. Este el valor por defecto.\n",
        "\n",
        "  - \"distance\": los vecinos cercanos tienen una influencia mayor que los lejanos.\n",
        "\n",
        "  - \"[callable]\": podemos introducir cualquier función que deseemos.\n",
        "\n",
        " En nuestro caso, dejaremos el este parámetro es su valor por defecto, y por tanto cada vecino contará igual que el resto.\n",
        "\n",
        "* metric: métrica usada para calcular las distancias, siendo 'minkowski' el valor por defecto. En nuestro caso, usaremos la métrica euclídea, indicando 'euclidean' en este parámetro.\n",
        "\n",
        "\n",
        "Una vez tenemos el modelo, calculamos sus predicciones. Para esto usamos un generador de validación cruzado (cross-validated generator), implementado con la función *cross_val_predict*. Esta divide el conjunto de datos en *cv* partes. Cada parte constituye un subconjunto test, siendo el resto el subcojunto de entrenamiento. De esta forma se obtienen predicciones para todo el conjunto de datos. Con el parámetro *method = \"predict\"* indicamos que queremos que nos devuelva las predicciones. Con *n_jobs = -1* le decimos que ejecute la función en paralelo aprovechando todos los núcleos que tenga la máquina.\n",
        "\n",
        "Además, calculamos también la *accuracy* de cada modelo usando, otra vez, validación cruzada. Esto se implementa con la función *cross_val_score* indicando en el parámetro *scoring* lo que queremos obtener. Como la validación cruzada es realizada sobre las cv partes en las que se divide el conjunto de datos, la función nos devuelve un array con cv elementos. Definimos la *accuracy* del modelo como la media de los valores contenidos en este array.\n",
        "\n",
        "Finalmente, representamos cada valor *accuracy* con respecto al número de vecinos. Esto facilitará escoger el modelo adecuado para nuestro problema.\n",
        "\n",
        "\n"
      ]
    },
    {
      "cell_type": "code",
      "metadata": {
        "id": "Ili9F-jCDCFI"
      },
      "source": [
        "X = dfs.iloc[:,0:-1]\n",
        "Y = dfs.iloc[:,-1]"
      ],
      "execution_count": 54,
      "outputs": []
    },
    {
      "cell_type": "code",
      "metadata": {
        "id": "oIkXjxmlVuVv"
      },
      "source": [
        "from sklearn.neighbors import KNeighborsClassifier\n",
        "from sklearn.model_selection import cross_val_predict, cross_val_score\n",
        "\n",
        "preds_list = []\n",
        "score_list = []\n",
        "k_list = []\n",
        "\n",
        "#Dado que nuestro problema consiste en clasificar en dos clases, ignoramos los k números pares\n",
        "#1, 3, 5, ... 19\n",
        "for k in list(range(1, 20, 2)):\n",
        "  knn_model = KNeighborsClassifier(n_neighbors=k, weights=\"uniform\", metric=\"euclidean\")\n",
        "  preds = cross_val_predict(knn_model, X, Y, cv=5, method=\"predict\", n_jobs=-1)\n",
        "  score = cross_val_score(knn_model, X, Y, cv=5, scoring=\"accuracy\")\n",
        "  k_list.append(k)\n",
        "  preds_list.append(preds)\n",
        "  score_list.append(score.mean())\n",
        "\n",
        "#representamos \n",
        "df_scores = pd.DataFrame({\"K\":k_list, \n",
        "                   \"score\":score_list\n",
        "                   })"
      ],
      "execution_count": 55,
      "outputs": []
    },
    {
      "cell_type": "code",
      "metadata": {
        "colab": {
          "base_uri": "https://localhost:8080/",
          "height": 278
        },
        "id": "hOXiOGn2V4uP",
        "outputId": "595e820b-2dab-4e45-d52a-c2cff1249050"
      },
      "source": [
        "df_scores.set_index(\"K\")[\"score\"].plot(label=\"KNN Score\")\n",
        "plt.legend()\n",
        "plt.show();"
      ],
      "execution_count": 56,
      "outputs": [
        {
          "output_type": "display_data",
          "data": {
            "image/png": "[encoded data removed]",
            "text/plain": [
              "<Figure size 432x288 with 1 Axes>"
            ]
          },
          "metadata": {
            "tags": [],
            "needs_background": "light"
          }
        }
      ]
    },
    {
      "cell_type": "code",
      "metadata": {
        "colab": {
          "base_uri": "https://localhost:8080/"
        },
        "id": "dYlXYNQ_-ZMC",
        "outputId": "fc319bb6-9548-4ff6-f39e-b41d95c39064"
      },
      "source": [
        "score_list"
      ],
      "execution_count": 57,
      "outputs": [
        {
          "output_type": "execute_result",
          "data": {
            "text/plain": [
              "[0.9297215319170139,\n",
              " 0.9533515615430449,\n",
              " 0.9566104249581144,\n",
              " 0.9568140909458946,\n",
              " 0.9568142985564837,\n",
              " 0.9570179645442636,\n",
              " 0.9572216305320437,\n",
              " 0.9574252965198238,\n",
              " 0.9574252965198238,\n",
              " 0.9574252965198238]"
            ]
          },
          "metadata": {
            "tags": []
          },
          "execution_count": 57
        }
      ]
    },
    {
      "cell_type": "markdown",
      "metadata": {
        "id": "Y0FYgouq_sPu"
      },
      "source": [
        "Vemos que la tendencia es monótona creciente con respecto al aumento del número de vecinos, k. Más especificamente, la *accuracy* va aumentando entre los valores pequeños y a partir del valor k = 3 la función comienza a disminuir su pendiente hasta convertirse en prácticamente constante a partir del valor 5. Dependiendo del valor del número de vecinos podemos caer en los siguientes problemas:\n",
        "\n",
        "* underfitting: cuando k es muy grande, podemos acabar clasificando todo el conjunto en una sola clase. Además, computacionalmente sería muy costoso, ya que tendríamos que calcular el valor de nuestra predicción teniendo en cuenta un número muy grande de vecinos. \n",
        "\n",
        "  Podemos observar este efecto en *score_list*. A partir del elemento correspondiente con **k = 15** y en adelante la accuracy se vuelve exactamente igual al porcentaje de datos de clase 0 que hay en nuestro conjuto de datos. Por tanto, estos modelos están prediciendo siempre negativos.\n",
        "\n",
        "* overfitting: ocurre con k muy pequeño, **k < 5**. En este caso, las delimitaciones entre las clases serán complejas y nuestro modelo predecirá muy bien sobre el conjunto de entrenamiento pero muy mal sobre el conjunto test. \n",
        "\n",
        "En nuestro caso, es fácil ver cuándo entramos en *overfitting*, ya que la accuracy comienza a bajar. Por lo tanto, nos guiaremos por los valores de k pequeños. Así, **escogemos el modelo que tiene 5 vecinos** como el ideal para resolver esta tarea. \n",
        "\n",
        "Si nos fijamos en el valor de la *accuracy* para 5 vecinos, observamos que está en 95,6%. Este valor puede parecer alto, pero no tiene por qué serlo ya que nuestro modelo es asimétrico. Recordemos que el 95,7% de los valores respuesta son 0 mientras que solo el 4.3% son 1.\n",
        "\n",
        "Como vemos, la \"accuracy\" no es la mejor métrica a la hora de tratar con un problema de clasificación, aunque sí nos sirve como referencia para seleccionar el valor de K. Existen otras como la curva ROC (acrónimo de Receiver Operating Characteristic) o la matriz de confusión que nos dan más información sobre la capacidad explicativa de nuestro modelo."
      ]
    },
    {
      "cell_type": "markdown",
      "metadata": {
        "id": "8sxnadAofbGU"
      },
      "source": [
        "## **Entrenamiento y Evaluación del modelo**\n",
        "\n",
        "Creamos nuestro modelo de 5 vecinos y elaboramos las predicciones con la función *cross_val_predict*. A través del argumento *method* indicamos qué queremos que nos devuelva la función. El valor \"predic_proba\" calcula las probabilidades para cada clase, que usaremos más adelante. Con \"predict\" nos devuelve si, de acuerdo al modelo, el valor predicho es un positivo o un negativo."
      ]
    },
    {
      "cell_type": "code",
      "metadata": {
        "id": "CpTdmHILY6wH"
      },
      "source": [
        "knn_model = KNeighborsClassifier(n_neighbors=5, weights=\"uniform\", metric=\"euclidean\")\n",
        "probs = cross_val_predict(knn_model, X, Y, cv=5, method=\"predict_proba\", n_jobs=3)\n",
        "preds = cross_val_predict(knn_model, X, Y, cv=5, method=\"predict\", n_jobs=3)"
      ],
      "execution_count": 58,
      "outputs": []
    },
    {
      "cell_type": "markdown",
      "metadata": {
        "id": "h0do3XcxLWuc"
      },
      "source": [
        "Una vez tenemos nuestro modelo, evaluamos su capacidad explicativa con diferentes métricas. Para ello, se define:\n",
        "\n",
        "* $$ recall =  \\frac{TP}{TP+FN}$$ \n",
        "\n",
        "\n",
        "* $$ Precision =  \\frac{TP}{TP+FP}$$ \n",
        "\n",
        "\n",
        "* $$ F1 =  \\frac{precision*recall}{precision+recall}$$ \n",
        "\n",
        "Donde:\n",
        "\n",
        "* *TP*: Son los positivos verdaderos, es decir, aquellos donde nuestro clasificador acierta en clasificar un dato como positivo. \n",
        "\n",
        "* *FP*: Son los falsos positivos. En este caso, una predicción es positiva cuando su resultado real es negativo.\n",
        "\n",
        "* *FN*: o falsos negativos, donde una predicción es negativa cuando su resultado real es positivo.\n",
        "\n",
        "* Por completitud, se definen también los *TN*: predicciones negativas que son realmente negativas."
      ]
    },
    {
      "cell_type": "markdown",
      "metadata": {
        "id": "gS5uvweNK1I5"
      },
      "source": [
        "De esta forma, a partir de predicciones de nuestro modelo y los valores reales, obtenemos las siguientes métricas:\n",
        "\n",
        "\n",
        "### **Matriz de confusión:**"
      ]
    },
    {
      "cell_type": "code",
      "metadata": {
        "colab": {
          "base_uri": "https://localhost:8080/",
          "height": 282
        },
        "id": "zN0hVo71J_Sh",
        "outputId": "2d5259a6-a52b-4c2a-d86e-3332a4a2da03"
      },
      "source": [
        "import seaborn as sn\n",
        "df_cm = pd.DataFrame(confusion_matrix(Y, preds))\n",
        "sn.heatmap(df_cm, annot=True, annot_kws={\"size\": 16}, fmt=\"d\", cmap=\"YlGnBu\")"
      ],
      "execution_count": 59,
      "outputs": [
        {
          "output_type": "execute_result",
          "data": {
            "text/plain": [
              "<matplotlib.axes._subplots.AxesSubplot at 0x7f2169b02310>"
            ]
          },
          "metadata": {
            "tags": []
          },
          "execution_count": 59
        },
        {
          "output_type": "display_data",
          "data": {
            "image/png": "[encoded data removed]",
            "text/plain": [
              "<Figure size 432x288 with 2 Axes>"
            ]
          },
          "metadata": {
            "tags": [],
            "needs_background": "light"
          }
        }
      ]
    },
    {
      "cell_type": "markdown",
      "metadata": {
        "id": "S3ss88PuQl_8"
      },
      "source": [
        "Se obtienen 4693 verdaderos negativos (TN), 7 falsos positivos (FP), 206 falsos positivos (FN) y 3 verdaderos positivos (TP). Como vemos, nuestro modelo clasifica muy mal los positivos, pese a que el valor de *accuracy* era de 95,6%. Como ya comentamos, esto es debido a la asimetría de nuestro conjunto de datos, con un 95,7% de valores negativos y un 4,3% de valores positivos. Nuestro modelo está sesgado a clasificar un resultado como negativo y, por tanto, en la inmensa mayoría de casos acierta.\n",
        "\n",
        "### **recall, precision y f1-score:**\n",
        "\n",
        "Un informe más completo se puede obtener con la función *classification_report*:"
      ]
    },
    {
      "cell_type": "code",
      "metadata": {
        "colab": {
          "base_uri": "https://localhost:8080/"
        },
        "id": "-EmK2pZcJgzP",
        "outputId": "665822f3-74e8-4a56-c4ad-6be48e9b08a1"
      },
      "source": [
        "from sklearn.metrics import classification_report\n",
        "print(f\"Informe de Clasificación:\\n\"\n",
        "      f\"{classification_report(Y, preds)}\")"
      ],
      "execution_count": 60,
      "outputs": [
        {
          "output_type": "stream",
          "text": [
            "Informe de Clasificación:\n",
            "              precision    recall  f1-score   support\n",
            "\n",
            "           0       0.96      1.00      0.98      4700\n",
            "           1       0.30      0.01      0.03       209\n",
            "\n",
            "    accuracy                           0.96      4909\n",
            "   macro avg       0.63      0.51      0.50      4909\n",
            "weighted avg       0.93      0.96      0.94      4909\n",
            "\n"
          ],
          "name": "stdout"
        }
      ]
    },
    {
      "cell_type": "markdown",
      "metadata": {
        "id": "RbCaiyFqSYBP"
      },
      "source": [
        "Desglosado por clase observamos que la precisión y el recall son muy buenos para la clase 0. Sin embargo, para los positivos, tenemos valores muy pobres, sobre todo el recall. Como ya vimos, la métrica F1 (*f1-score*) combina ambos indicadores, siendo 0.98 un valor muy bueno para la clase de negativos y 0.03 muy malo para la de positivos. Se concluye que, como ya intuíamos en la matriz de confusión, nuestro modelo está sesgado y tiende a clasificar los resultados como negativos.\n",
        "\n",
        "Nuestro modelo considera 5 vecinos. Por tanto, **para una predicción existen 6 posibles resultados: 0, 0.2, 0.4, 0.6, 0.8 y 1**. Según estos valores, el modelo decide si clasificar la predicción en la clase 0 o en la clase 1. Por defecto, nuestro modelo está interpretando que si el resultado está por encima de 0.5 el resultado debe pertener a la clase 1, y si está por debajo, a la clase 0. \n",
        "\n",
        "El sesgo observado puede ser regulado variando este límite a partir del cual el modelo clasifica una predicción como positiva o negativa. Bajar este límite supone incrementar el recall a costa de la precision para la clase de positivos. Es decir, podremos obtener más verdaderos positivos, aunque esto signifique un mayor número de falsos positivos.\n",
        "\n",
        "La función *precision_recall_curve* nos permite ver qué valores de *recall* y *precision* obtendríamos para cada uno de estos mencionados límites de discriminación:\n",
        "\n",
        "\n",
        "\n"
      ]
    },
    {
      "cell_type": "code",
      "metadata": {
        "id": "cSD-y1Lx9h0W"
      },
      "source": [
        "from sklearn.metrics import precision_recall_curve\n",
        "precision, recall, limite = precision_recall_curve(Y,probs[:,1])"
      ],
      "execution_count": 61,
      "outputs": []
    },
    {
      "cell_type": "code",
      "metadata": {
        "colab": {
          "base_uri": "https://localhost:8080/"
        },
        "id": "jNhFcG9AA33W",
        "outputId": "13c5c589-8ec0-4c73-d0ec-20b4b9560ee6"
      },
      "source": [
        "precision"
      ],
      "execution_count": 62,
      "outputs": [
        {
          "output_type": "execute_result",
          "data": {
            "text/plain": [
              "array([0.04257486, 0.09939394, 0.14383562, 0.3       , 1.        ])"
            ]
          },
          "metadata": {
            "tags": []
          },
          "execution_count": 62
        }
      ]
    },
    {
      "cell_type": "code",
      "metadata": {
        "colab": {
          "base_uri": "https://localhost:8080/"
        },
        "id": "yO2o7pG8A-o1",
        "outputId": "aec19c85-474a-4897-bf2f-682b8512ae3e"
      },
      "source": [
        "recall"
      ],
      "execution_count": 63,
      "outputs": [
        {
          "output_type": "execute_result",
          "data": {
            "text/plain": [
              "array([1.        , 0.3923445 , 0.10047847, 0.01435407, 0.        ])"
            ]
          },
          "metadata": {
            "tags": []
          },
          "execution_count": 63
        }
      ]
    },
    {
      "cell_type": "code",
      "metadata": {
        "colab": {
          "base_uri": "https://localhost:8080/"
        },
        "id": "Jj6POWIsBCIW",
        "outputId": "7d991909-6faf-45c1-8a59-02b9337519a1"
      },
      "source": [
        "limite"
      ],
      "execution_count": 64,
      "outputs": [
        {
          "output_type": "execute_result",
          "data": {
            "text/plain": [
              "array([0. , 0.2, 0.4, 0.6])"
            ]
          },
          "metadata": {
            "tags": []
          },
          "execution_count": 64
        }
      ]
    },
    {
      "cell_type": "markdown",
      "metadata": {
        "id": "1QqkjQtGYd2G"
      },
      "source": [
        "Como vemos, solo tenemos 4 posibles límites. Esto se debe a que en ningún caso existen suficientes vecinos con valor 1 para obtener las probabilidades 0.8 y 1.\n",
        "\n",
        "Con estos 4 límites se obtienen 4 valores no triviales para la precision y el recall (el quinto valor, 1 y 0 respectivamente, implica tener un modelo que considera todo como la clase 1, y por tanto no es un valor útil salvo para pintar la gráfica que sigue a continuación). Podemos graficar estos valores para verlos mejor:"
      ]
    },
    {
      "cell_type": "code",
      "metadata": {
        "colab": {
          "base_uri": "https://localhost:8080/",
          "height": 540
        },
        "id": "-TAWENlN_frQ",
        "outputId": "5c52f56e-8296-44f4-9940-dced8919e8ae"
      },
      "source": [
        "plt.figure(figsize=(10, 8))\n",
        "plt.plot(limite, precision[:-1], c=\"green\", label=\"Precision\")\n",
        "plt.plot(limite, recall[:-1], c=\"red\", label=\"recall\")\n",
        "plt.axvline(0.5, alpha=0.5, c=\"gray\")\n",
        "plt.suptitle(\"Precision-recall Curve\")\n",
        "plt.legend()\n",
        "plt.show()"
      ],
      "execution_count": 65,
      "outputs": [
        {
          "output_type": "display_data",
          "data": {
            "image/png": "[encoded data removed]",
            "text/plain": [
              "<Figure size 720x576 with 1 Axes>"
            ]
          },
          "metadata": {
            "tags": [],
            "needs_background": "light"
          }
        }
      ]
    },
    {
      "cell_type": "markdown",
      "metadata": {
        "id": "FxuHLRERY1sA"
      },
      "source": [
        "La gráfica confirma lo que veníamos explicando, conforme bajamos el límite el recall aumenta y la precision disminuye. Se obtienen, por tanto, un mayor número de positivos, tanto verdaderos como falsos.\n",
        "\n",
        "Al crear nuestro modelo obtuvimos las predicciones y las probabilidades de que la respuesta sea positiva o negativa. Combinemos esta información en un dataframe: \n",
        "\n"
      ]
    },
    {
      "cell_type": "code",
      "metadata": {
        "id": "u2jk9qYp81VY",
        "colab": {
          "base_uri": "https://localhost:8080/",
          "height": 206
        },
        "outputId": "b7d89dc1-c166-4a21-c20c-4bd0c7811110"
      },
      "source": [
        "df_dict = {\"prob_class0\": probs[:,0],\n",
        "           \"prob_class1\": probs[:,1],\n",
        "           \"preds\":preds}\n",
        "\n",
        "df_probs = pd.DataFrame(df_dict)\n",
        "df_probs.head()"
      ],
      "execution_count": 66,
      "outputs": [
        {
          "output_type": "execute_result",
          "data": {
            "text/html": [
              "<div>\n",
              "<style scoped>\n",
              "    .dataframe tbody tr th:only-of-type {\n",
              "        vertical-align: middle;\n",
              "    }\n",
              "\n",
              "    .dataframe tbody tr th {\n",
              "        vertical-align: top;\n",
              "    }\n",
              "\n",
              "    .dataframe thead th {\n",
              "        text-align: right;\n",
              "    }\n",
              "</style>\n",
              "<table border=\"1\" class=\"dataframe\">\n",
              "  <thead>\n",
              "    <tr style=\"text-align: right;\">\n",
              "      <th></th>\n",
              "      <th>prob_class0</th>\n",
              "      <th>prob_class1</th>\n",
              "      <th>preds</th>\n",
              "    </tr>\n",
              "  </thead>\n",
              "  <tbody>\n",
              "    <tr>\n",
              "      <th>0</th>\n",
              "      <td>0.8</td>\n",
              "      <td>0.2</td>\n",
              "      <td>0</td>\n",
              "    </tr>\n",
              "    <tr>\n",
              "      <th>1</th>\n",
              "      <td>1.0</td>\n",
              "      <td>0.0</td>\n",
              "      <td>0</td>\n",
              "    </tr>\n",
              "    <tr>\n",
              "      <th>2</th>\n",
              "      <td>1.0</td>\n",
              "      <td>0.0</td>\n",
              "      <td>0</td>\n",
              "    </tr>\n",
              "    <tr>\n",
              "      <th>3</th>\n",
              "      <td>1.0</td>\n",
              "      <td>0.0</td>\n",
              "      <td>0</td>\n",
              "    </tr>\n",
              "    <tr>\n",
              "      <th>4</th>\n",
              "      <td>1.0</td>\n",
              "      <td>0.0</td>\n",
              "      <td>0</td>\n",
              "    </tr>\n",
              "  </tbody>\n",
              "</table>\n",
              "</div>"
            ],
            "text/plain": [
              "   prob_class0  prob_class1  preds\n",
              "0          0.8          0.2      0\n",
              "1          1.0          0.0      0\n",
              "2          1.0          0.0      0\n",
              "3          1.0          0.0      0\n",
              "4          1.0          0.0      0"
            ]
          },
          "metadata": {
            "tags": []
          },
          "execution_count": 66
        }
      ]
    },
    {
      "cell_type": "markdown",
      "metadata": {
        "id": "OfFyBJx_fdxk"
      },
      "source": [
        "Tengamos en cuenta ahora los diferentes límites de discriminación a partir de los cuales podría clasificar nuestro algoritmo:"
      ]
    },
    {
      "cell_type": "code",
      "metadata": {
        "colab": {
          "base_uri": "https://localhost:8080/",
          "height": 206
        },
        "id": "ubdDl5mMeSL2",
        "outputId": "a5e6c64f-a6a3-4d81-c499-817bbec95f27"
      },
      "source": [
        "df_probs[\"preds_20\"] = 0\n",
        "df_probs[\"preds_40\"] = 0\n",
        "df_probs[\"preds_60\"] = 0\n",
        "\n",
        "df_probs.loc[df_probs[\"prob_class1\"]>=0.2, \"preds_20\"] = 1\n",
        "df_probs.loc[df_probs[\"prob_class1\"]>=0.4, \"preds_40\"] = 1\n",
        "df_probs.loc[df_probs[\"prob_class1\"]>=0.6, \"preds_60\"] = 1\n",
        "\n",
        "df_probs.head()"
      ],
      "execution_count": 67,
      "outputs": [
        {
          "output_type": "execute_result",
          "data": {
            "text/html": [
              "<div>\n",
              "<style scoped>\n",
              "    .dataframe tbody tr th:only-of-type {\n",
              "        vertical-align: middle;\n",
              "    }\n",
              "\n",
              "    .dataframe tbody tr th {\n",
              "        vertical-align: top;\n",
              "    }\n",
              "\n",
              "    .dataframe thead th {\n",
              "        text-align: right;\n",
              "    }\n",
              "</style>\n",
              "<table border=\"1\" class=\"dataframe\">\n",
              "  <thead>\n",
              "    <tr style=\"text-align: right;\">\n",
              "      <th></th>\n",
              "      <th>prob_class0</th>\n",
              "      <th>prob_class1</th>\n",
              "      <th>preds</th>\n",
              "      <th>preds_20</th>\n",
              "      <th>preds_40</th>\n",
              "      <th>preds_60</th>\n",
              "    </tr>\n",
              "  </thead>\n",
              "  <tbody>\n",
              "    <tr>\n",
              "      <th>0</th>\n",
              "      <td>0.8</td>\n",
              "      <td>0.2</td>\n",
              "      <td>0</td>\n",
              "      <td>1</td>\n",
              "      <td>0</td>\n",
              "      <td>0</td>\n",
              "    </tr>\n",
              "    <tr>\n",
              "      <th>1</th>\n",
              "      <td>1.0</td>\n",
              "      <td>0.0</td>\n",
              "      <td>0</td>\n",
              "      <td>0</td>\n",
              "      <td>0</td>\n",
              "      <td>0</td>\n",
              "    </tr>\n",
              "    <tr>\n",
              "      <th>2</th>\n",
              "      <td>1.0</td>\n",
              "      <td>0.0</td>\n",
              "      <td>0</td>\n",
              "      <td>0</td>\n",
              "      <td>0</td>\n",
              "      <td>0</td>\n",
              "    </tr>\n",
              "    <tr>\n",
              "      <th>3</th>\n",
              "      <td>1.0</td>\n",
              "      <td>0.0</td>\n",
              "      <td>0</td>\n",
              "      <td>0</td>\n",
              "      <td>0</td>\n",
              "      <td>0</td>\n",
              "    </tr>\n",
              "    <tr>\n",
              "      <th>4</th>\n",
              "      <td>1.0</td>\n",
              "      <td>0.0</td>\n",
              "      <td>0</td>\n",
              "      <td>0</td>\n",
              "      <td>0</td>\n",
              "      <td>0</td>\n",
              "    </tr>\n",
              "  </tbody>\n",
              "</table>\n",
              "</div>"
            ],
            "text/plain": [
              "   prob_class0  prob_class1  preds  preds_20  preds_40  preds_60\n",
              "0          0.8          0.2      0         1         0         0\n",
              "1          1.0          0.0      0         0         0         0\n",
              "2          1.0          0.0      0         0         0         0\n",
              "3          1.0          0.0      0         0         0         0\n",
              "4          1.0          0.0      0         0         0         0"
            ]
          },
          "metadata": {
            "tags": []
          },
          "execution_count": 67
        }
      ]
    },
    {
      "cell_type": "markdown",
      "metadata": {
        "id": "NdlKdr2gglPD"
      },
      "source": [
        "Podemos volver a usar las métricas vistas anteriormente sobre estos nuevos límites:"
      ]
    },
    {
      "cell_type": "code",
      "metadata": {
        "colab": {
          "base_uri": "https://localhost:8080/",
          "height": 282
        },
        "id": "xZZNK4T6eSL3",
        "outputId": "8deb502f-7363-4e61-97b3-eb829fbeca2a"
      },
      "source": [
        "import seaborn as sn\n",
        "df_cm = pd.DataFrame(confusion_matrix(Y, df_probs[\"preds_20\"].values))\n",
        "sn.heatmap(df_cm, annot=True, annot_kws={\"size\": 16}, fmt=\"d\", cmap=\"YlGnBu\")"
      ],
      "execution_count": 68,
      "outputs": [
        {
          "output_type": "execute_result",
          "data": {
            "text/plain": [
              "<matplotlib.axes._subplots.AxesSubplot at 0x7f2169a0e050>"
            ]
          },
          "metadata": {
            "tags": []
          },
          "execution_count": 68
        },
        {
          "output_type": "display_data",
          "data": {
            "image/png": "[encoded data removed]",
            "text/plain": [
              "<Figure size 432x288 with 2 Axes>"
            ]
          },
          "metadata": {
            "tags": [],
            "needs_background": "light"
          }
        }
      ]
    },
    {
      "cell_type": "code",
      "metadata": {
        "colab": {
          "base_uri": "https://localhost:8080/",
          "height": 282
        },
        "id": "SVmV8YsZeSL3",
        "outputId": "f41745c8-94e8-48d0-c978-a23779cf60c5"
      },
      "source": [
        "import seaborn as sn\n",
        "df_cm = pd.DataFrame(confusion_matrix(Y, df_probs[\"preds_40\"].values))\n",
        "sn.heatmap(df_cm, annot=True, annot_kws={\"size\": 16}, fmt=\"d\", cmap=\"YlGnBu\")"
      ],
      "execution_count": 69,
      "outputs": [
        {
          "output_type": "execute_result",
          "data": {
            "text/plain": [
              "<matplotlib.axes._subplots.AxesSubplot at 0x7f2169945dd0>"
            ]
          },
          "metadata": {
            "tags": []
          },
          "execution_count": 69
        },
        {
          "output_type": "display_data",
          "data": {
            "image/png": "[encoded data removed]",
            "text/plain": [
              "<Figure size 432x288 with 2 Axes>"
            ]
          },
          "metadata": {
            "tags": [],
            "needs_background": "light"
          }
        }
      ]
    },
    {
      "cell_type": "code",
      "metadata": {
        "colab": {
          "base_uri": "https://localhost:8080/",
          "height": 282
        },
        "id": "9Cn95JuXeSL3",
        "outputId": "7a070647-a611-4858-fdce-ee3c67cc7dd8"
      },
      "source": [
        "import seaborn as sn\n",
        "df_cm = pd.DataFrame(confusion_matrix(Y, df_probs[\"preds_60\"].values))\n",
        "sn.heatmap(df_cm, annot=True, annot_kws={\"size\": 16}, fmt=\"d\", cmap=\"YlGnBu\")"
      ],
      "execution_count": 70,
      "outputs": [
        {
          "output_type": "execute_result",
          "data": {
            "text/plain": [
              "<matplotlib.axes._subplots.AxesSubplot at 0x7f2169a59e50>"
            ]
          },
          "metadata": {
            "tags": []
          },
          "execution_count": 70
        },
        {
          "output_type": "display_data",
          "data": {
            "image/png": "[encoded data removed]",
            "text/plain": [
              "<Figure size 432x288 with 2 Axes>"
            ]
          },
          "metadata": {
            "tags": [],
            "needs_background": "light"
          }
        }
      ]
    },
    {
      "cell_type": "markdown",
      "metadata": {
        "id": "G65e0CcIg3vU"
      },
      "source": [
        "Los resultados confirman lo que venimos explicando. Para el límite bajo de 0.2, con un alto recall y baja precision, tenemos muchos positivos, tanto falsos como verdaderos. Conforme vamos aumentando el límite el número de positivos va bajando.\n",
        "\n",
        "### **Curva ROC y valor AUC:**\n",
        "\n",
        "La curva ROC (Receiver Operating Characteristic) es una gráfica que ilustra la habilidad de un clasificador binario cuando variamos su límite de discriminación. La curva se pinta sobre un plano donde el eje *y* es el recall, también llamado sensitividad o TPR (*True positive rate*), y x es igual a 1 - especificidad, conocido también como FPR (*False Positive Rate*). Este último se define como:\n",
        "\n",
        "${\\displaystyle \\mathrm {FPR} = \\frac {\\mathrm {FP} }{\\mathrm {FP} +\\mathrm {TN} }}$\n",
        "\n",
        "De esta forma, una recta de pendiente 1 equivaldría a clasificar nuestras predicciones al azar, usando en nuestro caso una probibilidad del 95,7% para predecir un negativo y de un 4.3% para un positivo. Nuestra predicción no se basaría en ninguna variable explicativa. Por otro lado, si nuestro modelo es capaz de predecir en cierta medida, observaremos cómo la curva estará siempre por encima de esta línea de pendiente 1. Es decir, será mejor que usar el azar. Si por el contrario, nuestro modelo predijese peor que el azar, bastaría con invertir nuestro criterio de clasificación de clases. Por lo tanto, cualquier desviación de esta línea recta es considerado como algo positivo de cara a la utilidad del modelo. Cuanto más exagerada sea la diferencia entre la curva y la línea recta mejor será el modelo.\n",
        "\n",
        "Con la función *roc_curve*, a partir de los valores reales de las probabilidades predichas por nuestro modelo, obtenemos tanto los valores FPR como los TPR para cada uno de nuestros límites de discriminación. Con estos valores construimos la curva *roc*.\n",
        "\n",
        "Para poder comparar, se define el *auc* (Area under the curve) como el área bajo la curva ROC. En nuestro caso, realizamos el cálculo con la función *auc*.  \n",
        "\n"
      ]
    },
    {
      "cell_type": "code",
      "metadata": {
        "id": "5nGdv1xzrcwv",
        "colab": {
          "base_uri": "https://localhost:8080/",
          "height": 513
        },
        "outputId": "5682156b-4bcf-4024-c5b6-1682b3a16cce"
      },
      "source": [
        "from sklearn.metrics import roc_curve\n",
        "from sklearn.metrics import auc\n",
        "\n",
        "fpr, tpr, threshold = roc_curve(Y, probs[:, 1])\n",
        "roc_auc = auc(fpr, tpr)\n",
        "\n",
        "plt.figure(figsize=(10, 8))\n",
        "plt.title('Receiver Operating Characteristic')\n",
        "plt.plot(fpr, tpr, 'b', label = 'AUC = %0.2f' % roc_auc)\n",
        "plt.legend(loc = 'lower right')\n",
        "plt.plot([0, 1], [0, 1],'r--')\n",
        "plt.xlim([0, 1])\n",
        "plt.ylim([0, 1])\n",
        "plt.ylabel('True Positive Rate')\n",
        "plt.xlabel('False Positive Rate')\n",
        "plt.title('ROC Curve of KNN')\n",
        "plt.show()"
      ],
      "execution_count": 71,
      "outputs": [
        {
          "output_type": "display_data",
          "data": {
            "image/png": "[encoded data removed]",
            "text/plain": [
              "<Figure size 720x576 with 1 Axes>"
            ]
          },
          "metadata": {
            "tags": [],
            "needs_background": "light"
          }
        }
      ]
    },
    {
      "cell_type": "markdown",
      "metadata": {
        "id": "jtz40g1pz7fy"
      },
      "source": [
        "Como vemos, nuestro modelo es mejor que usar predicciones al azar. El valor *AUC* es de 0.62, el cual comparamos con la siguiente escala estándar:\n",
        "\n",
        "[0.5]: Es como lanzar una moneda.\n",
        "\n",
        "[0.5, 0.6): Test malo.\n",
        "\n",
        "[0.6, 0.75): Test regular.\n",
        "\n",
        "[0.75, 0.9): Test bueno.\n",
        "\n",
        "[0.9, 0.97): Test muy bueno.\n",
        "\n",
        "[0.97, 1): Test excelente.\n",
        "\n",
        "Observamos que nuestro modelo está entre malo y regular. Esto es consistente con los resultados anteriores, los cuales recopilaremos en el apartado final de conclusiones."
      ]
    },
    {
      "cell_type": "markdown",
      "metadata": {
        "id": "MGtbBy1Kk9VW"
      },
      "source": [
        "## **Conclusiones**:\n",
        "\n",
        "Resumamos lo que hemos obtenido:\n",
        "\n",
        "* Accuracy: se observó que a partir de 5 vecinos este valor se estanca entre el 95,5% y el 96%. Aunque parezca un resultado bueno, hay que tener en cuenta que nuestra variable respuesta tiene una cantidad muy diferente de negativos y positivos. En concreto, vimos que tenemos un 95,7% de valores con 0 y un 4.3% de valores con 1. Esta no es una buena métrica para evaluar la capacidad predictiva. Solo la usamos para elegir un modelo que no presentase ni *underfitting (k >= 15)* ni *overfitting (k < 5)*.\n",
        "\n",
        "* Matriz de confusión: se vio que el modelo clasifica muy mal los positivos, siendo la mayoría falsos negativos (206 falsos negativos frente a 3 verdaderos positivos). Además, se obtuvo un número mayor de falsos positivos (7) que de verdaderos positivos. Concluimos que nuestro modelo tiende a predecir negativos.\n",
        "\n",
        "* recall, precision y f1-score: calculamos un recall muy bajo de 0.01 y una precision baja de 0.30, dando como resultado un f1-score de 0.03 para la clase 1. Estos resultados concuerdan con lo observado en la matriz de confusión. Tal y como indica la precision, la mayoría de predicciones positivas son falsos positivos. Por su lado, un recall tan bajo nos dice que la inmensa mayoría de positivos reales son clasificados como falsos negativos.\n",
        "\n",
        "  Remarcamos que nuestro modelo usa un límite de discriminación de 0.5 a la hora de clasificar. Graficamos el recall y la precision para los posibles valores de este límite. Consecuentemente obtuvimos que bajar el valor de discriminación aumenta el recall y disminuye la precision. También vimos las diferentes matrices de confusión para cada uno de estos umbrales.\n",
        "\n",
        "* Curva ROC y AUC: Por último, dibujamos la curva ROC y calculamos su AUC obteniendo un valor de 0.62. Dentro del estándar, este resultado se corresponde con un modelo con una capacidad predictiva entre mala y regular.\n",
        "\n",
        "Como conclusion final, resaltamos que si se quiere ser precavido y detectar la mayor cantidad de posibles accidentes cerebrovasculares es necesario usar un umbral de discriminación bajo, por ejemplo 0.2. Esto hará aumentar el recall a costa de disminuir la precision. Es decir, detectaremos más verdaderos positivos a expensas de tener un mayor número de falsos positivos."
      ]
    }
  ]
}