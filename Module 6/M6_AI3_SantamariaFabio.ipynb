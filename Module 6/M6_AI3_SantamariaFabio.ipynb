{
  "nbformat": 4,
  "nbformat_minor": 0,
  "metadata": {
    "colab": {
      "name": "M6_AI3_SantamariaFabio.ipynb",
      "provenance": [],
      "collapsed_sections": []
    },
    "kernelspec": {
      "name": "python3",
      "display_name": "Python 3"
    },
    "language_info": {
      "name": "python"
    }
  },
  "cells": [
    {
      "cell_type": "markdown",
      "metadata": {
        "id": "sVvdQrXOYyUL"
      },
      "source": [
        "# **Técnicas Avanzadas de Aprendizaje**\n",
        "\n",
        "## Actividad individual 3: \"RECONOCIMIENTO DE NÚMEROS ESCRITOS A MANO\"\n",
        "\n",
        "Fabio Santamaría Iglesias\n",
        "\n",
        "21/06/2021"
      ]
    },
    {
      "cell_type": "markdown",
      "metadata": {
        "id": "9AxzEZWndyFE"
      },
      "source": [
        "Se importan las librerías básicas con las que trabajaremos:"
      ]
    },
    {
      "cell_type": "code",
      "metadata": {
        "id": "zxW6dUbDYPut"
      },
      "source": [
        "import pandas as pd\n",
        "import numpy as np\n",
        "import matplotlib.pyplot as plt\n",
        "%matplotlib inline"
      ],
      "execution_count": null,
      "outputs": []
    },
    {
      "cell_type": "markdown",
      "metadata": {
        "id": "_pj-kLww7ah6"
      },
      "source": [
        "# **Introducción**\n",
        "\n",
        "El objetivo de esta entrega es crear un modelo tipo Random Forest para clasificar imágenes de dígitos numéricos del 0 al 9 escritos a mano. De esta forma, el algortimo aprenderá a leer imágenes con estas cifras y entender su valor. \n",
        "\n",
        "\n",
        "En resumen, un modelo Random Forest está constituido por un conjunto de diferentes árboles de decisión (AD) trabajando en paralelo:\n",
        "\n",
        "![RF_wiki](https://upload.wikimedia.org/wikipedia/commons/7/76/Random_forest_diagram_complete.png)\n",
        "\n",
        "*Fuente: en.wikipedia.org*\n",
        "\n",
        "1. Cuando llega una instancia, con K variables predictoras $X_0, X_1, ..., X_k$, se ejecuta su predicción en todos los AD al mismo tiempo.\n",
        "2. Los AD son diferentes entre sí, bien porque los datos con los que se ha realizado el entrenamiento de cada uno no son los mismos (*Bootstrapping*), bien porque se hayan entrenado con variables distintas en cada ramificación (*Bagging*).\n",
        "3. Los AD son de poca profundidad.\n",
        "4. La predicción final se obtiene de agregar, de acuerdo a una regla dada, los diferentes resultados de todos los AD. En general, se calcula la media de las probabilidades que devuelve cada AD.\n",
        "\n"
      ]
    },
    {
      "cell_type": "markdown",
      "metadata": {
        "id": "PRDi9h8E8D9w"
      },
      "source": [
        "# **Lectura del dataset**\n",
        "\n",
        "La base de datos MNIST (base de datos modificada del Instituto Nacional de Estándares y Tecnología) es una gran base de datos de dígitos escritos a mano que se usa, comúnmente, para entrenar varios sistemas de procesamiento de imágenes. La base de datos MNIST contiene 60.000 imágenes de entrenamiento y 10.000 imágenes de prueba. Es posible acceder a esta base de datos a través de la librería *TensorFlow*:"
      ]
    },
    {
      "cell_type": "code",
      "metadata": {
        "id": "2S0MKbFhZ3aO",
        "colab": {
          "base_uri": "https://localhost:8080/"
        },
        "outputId": "336ff645-8c64-4503-c6db-5c8d89bdd64e"
      },
      "source": [
        "import tensorflow as tf\n",
        "\n",
        "(x_train, y_train), (x_test, y_test) = tf.keras.datasets.mnist.load_data()"
      ],
      "execution_count": null,
      "outputs": [
        {
          "output_type": "stream",
          "text": [
            "Downloading data from https://storage.googleapis.com/tensorflow/tf-keras-datasets/mnist.npz\n",
            "11493376/11490434 [==============================] - 0s 0us/step\n"
          ],
          "name": "stdout"
        }
      ]
    },
    {
      "cell_type": "markdown",
      "metadata": {
        "id": "psyuv4UKeYmK"
      },
      "source": [
        "Disponemos de la siguiente información:\n",
        "\n",
        "* *X_train*: array de 60.000x28x28, donde cada celda representa un pixel de las diferentes imágenes. Es decir, que tenemos un set de entrenamiento de 60.000 dígitos de 28x28 píxeles (784 pixels) cada uno. Los valores de cada celda representan el código RGB en escala de grises de los diferentes píxeles (0 es blanco y 255 es negro). \n",
        "\n",
        "* *Y_train*: array de 60.000 filas, donde cada fila tiene el valor entero del dígito de la imagen. \n",
        "\n",
        "* *X_test*: array de 10.000x28x28, donde cada celda representa un pixel de las diferentes imágenes. Es decir, que tenemos un set de test de 10.000 dígitos de 28x28 píxeles (784 pixels) cada uno. Los valores de cada celda representan el código RGB en escala de grises de los diferentes píxeles (0 es blanco y 255 es negro). \n",
        "\n",
        "* *Y_test*: array de 10.000 filas, donde cada fila tiene el valor entero del dígito de la imagen.\n",
        "\n",
        "Para poder entrenar nuestro modelo, cambiamos la forma en la que está expresada la información, pasando todos los objetos 3D array a 2D array. De esta forma, las imágenes 28x28 quedan expresadas como filas de 784 columnas."
      ]
    },
    {
      "cell_type": "code",
      "metadata": {
        "id": "P2QRmnfUedGh"
      },
      "source": [
        "x_train = x_train.reshape(60000,-1)\n",
        "x_test = x_test.reshape(10000,-1)"
      ],
      "execution_count": null,
      "outputs": []
    },
    {
      "cell_type": "markdown",
      "metadata": {
        "id": "JORIELm2jua6"
      },
      "source": [
        "Se puede corroborar que efectivamente nuestra base de datos contiene dígitos del 0 al 9:"
      ]
    },
    {
      "cell_type": "code",
      "metadata": {
        "colab": {
          "base_uri": "https://localhost:8080/",
          "height": 118
        },
        "id": "l4JH4rNGtSqt",
        "outputId": "4eb64364-af3a-4b40-b050-778cc53f47b8"
      },
      "source": [
        "u, indices = np.unique(y_train, return_index=True)\n",
        "X_u = x_train[indices]\n",
        "y_u = y_train[indices]\n",
        "\n",
        "_, axes = plt.subplots(nrows=1, ncols=10, figsize=(15, 15))\n",
        "for ax, image, label in zip(axes, X_u, y_u):\n",
        "    ax.set_axis_off()\n",
        "    image = image.reshape(28, 28)\n",
        "    ax.imshow(image, cmap=plt.cm.gray_r, interpolation='nearest')\n",
        "    ax.set_title('Etiqueta: %i' % label)"
      ],
      "execution_count": null,
      "outputs": [
        {
          "output_type": "display_data",
          "data": {
            "image/png": "[encoded data removed]",
            "text/plain": [
              "<Figure size 1080x1080 with 10 Axes>"
            ]
          },
          "metadata": {
            "tags": [],
            "needs_background": "light"
          }
        }
      ]
    },
    {
      "cell_type": "markdown",
      "metadata": {
        "id": "VGUo4r0_kP-Q"
      },
      "source": [
        "Para la realización de esta tarea, creamos dos subconjuntos de entrenamiento, uno con 600 imágenes y otro con 6000. Esto nos permitirá evaluar cómo afecta el tamaño del dataset al comportamiento final."
      ]
    },
    {
      "cell_type": "code",
      "metadata": {
        "id": "yu4-oaa7kMFZ"
      },
      "source": [
        "n_train = 600 # digitos a usar en entrenamiento\n",
        "x_train_600 = x_train[0:n_train]\n",
        "y_train_600 = y_train[0:n_train]\n",
        "\n",
        "n_train = 6000 # digitos a usar en entrenamiento\n",
        "x_train_6000 = x_train[0:n_train]\n",
        "y_train_6000 = y_train[0:n_train]"
      ],
      "execution_count": null,
      "outputs": []
    },
    {
      "cell_type": "markdown",
      "metadata": {
        "id": "AFpMe-4emFVp"
      },
      "source": [
        "Lo primero es comprobar cómo de balanceados están los *dataset* resultantes:"
      ]
    },
    {
      "cell_type": "code",
      "metadata": {
        "colab": {
          "base_uri": "https://localhost:8080/"
        },
        "id": "viiO-CwQkY7o",
        "outputId": "1e424e0f-74ef-44c4-d172-266e2dca1b2b"
      },
      "source": [
        "pd.Series(y_train_600).value_counts() / len(y_train_600)"
      ],
      "execution_count": null,
      "outputs": [
        {
          "output_type": "execute_result",
          "data": {
            "text/plain": [
              "1    0.131667\n",
              "9    0.108333\n",
              "2    0.106667\n",
              "7    0.103333\n",
              "4    0.098333\n",
              "3    0.098333\n",
              "0    0.096667\n",
              "6    0.090000\n",
              "5    0.085000\n",
              "8    0.081667\n",
              "dtype: float64"
            ]
          },
          "metadata": {
            "tags": []
          },
          "execution_count": 6
        }
      ]
    },
    {
      "cell_type": "code",
      "metadata": {
        "colab": {
          "base_uri": "https://localhost:8080/"
        },
        "id": "_Yt426nFl3h7",
        "outputId": "c964f0f0-b0ce-4eb0-8845-c71cef914f55"
      },
      "source": [
        "pd.Series(y_train_6000).value_counts() / len(y_train_6000)"
      ],
      "execution_count": null,
      "outputs": [
        {
          "output_type": "execute_result",
          "data": {
            "text/plain": [
              "1    0.111833\n",
              "7    0.108500\n",
              "4    0.103833\n",
              "3    0.101333\n",
              "6    0.101333\n",
              "9    0.100167\n",
              "0    0.098667\n",
              "2    0.096833\n",
              "8    0.091833\n",
              "5    0.085667\n",
              "dtype: float64"
            ]
          },
          "metadata": {
            "tags": []
          },
          "execution_count": 7
        }
      ]
    },
    {
      "cell_type": "markdown",
      "metadata": {
        "id": "IfH83__MmT1h"
      },
      "source": [
        "Se observa que el conjunto de 600 registros presenta mayor desproporcionalidad entre sus clases, habiendo un máximo del 13,1% de 1s y un mínimo de 8,1% de 8s. Por contra, en el conjunto de 6000 entradas el máximo se alcanza con 11,1% para los 1s y un 8,5% para los 5s.\n",
        "\n",
        "A continuación, entrenaremos modelos sobre estos dos *dataset*, esperando obtener peores resultados para el conjunto más pequeño y desbalanceado.\n",
        "\n",
        "# **Modelos con n = 600**\n",
        "\n",
        "Contaremos con un conjunto de entrenamiento de 600 imágenes. El primer paso es crear diferentes modelos variando los parámetros n_estimators y max_depth. Estos controlan las características de los árboles de decisión empleados. Después, evaluaremos con diferentes métricas el mejor algoritmo encontrado sobre el conjunto total de imágenes test.\n",
        "\n",
        "\n",
        "\n",
        "\n",
        " \n",
        "\n"
      ]
    },
    {
      "cell_type": "markdown",
      "metadata": {
        "id": "F4g2GJkm-F5h"
      },
      "source": [
        "## Elección del modelo\n",
        "\n",
        "Creamos diferentes algoritmos Random Forest cambiando los siguientes parámetros:\n",
        "\n",
        "* **n_estimators**: número de árboles de decisión que componen el algoritmo Random Forest. Cuanto mayor es su número, más robusto es el modelo contra *overfitting* y más poder de computación es necesario. Por defecto su valor es 100.\n",
        "\n",
        "* **max_depth**: profundidad de los árboles de decisión. Cuanto más alto es este número más se ajustan los AD al entrenamiento. Hemos visto que con AD muy poco profundos, Random Forest puede funcionar muy bien.\n",
        "\n",
        "Primero variamos el *max_depth*:"
      ]
    },
    {
      "cell_type": "code",
      "metadata": {
        "id": "Y4wYigoNAp9e"
      },
      "source": [
        "from sklearn.ensemble import RandomForestClassifier\n",
        "\n",
        "md_list = []\n",
        "score_train_list = []\n",
        "score_test_list = []\n",
        "\n",
        "for maxdepth in list(range(1,30,4)):\n",
        "  rf_model = RandomForestClassifier(random_state=0, max_depth=maxdepth, n_jobs=5)\n",
        "  rf_model.fit(x_train_600, y_train_600)\n",
        "\n",
        "  ## Generación de listas\n",
        "  md_list.append(maxdepth)\n",
        "  score_train_list.append(100.0*rf_model.score(x_train_600, y_train_600))\n",
        "  score_test_list.append(100.0*rf_model.score(x_test, y_test))"
      ],
      "execution_count": null,
      "outputs": []
    },
    {
      "cell_type": "code",
      "metadata": {
        "colab": {
          "base_uri": "https://localhost:8080/",
          "height": 309
        },
        "id": "Lrj75k2sC8sX",
        "outputId": "4055c405-2824-4e7b-b553-0f0c0e1c3bd2"
      },
      "source": [
        "df = pd.DataFrame({\"max_depth\":md_list, \n",
        "                   \"score_train\":score_train_list,\n",
        "                   \"score_test\":score_test_list})\n",
        "\n",
        "df.set_index(\"max_depth\", inplace=True)\n",
        "df[\"score_train\"].plot(label=\"Train Score\")\n",
        "df[\"score_test\"].plot(label=\"Test Score\")\n",
        "plt.suptitle(\"Accuracy Train and Test\")\n",
        "plt.legend()\n",
        "plt.show();"
      ],
      "execution_count": null,
      "outputs": [
        {
          "output_type": "display_data",
          "data": {
            "image/png": "[encoded data removed]",
            "text/plain": [
              "<Figure size 432x288 with 1 Axes>"
            ]
          },
          "metadata": {
            "tags": [],
            "needs_background": "light"
          }
        }
      ]
    },
    {
      "cell_type": "markdown",
      "metadata": {
        "id": "PE9rLJTAydlA"
      },
      "source": [
        "Como vemos, el resultado mejora hasta llegar a max_depth = 10, valor a partir del cual la *accuracy* tanto del conjunto de entrenamiento como del conjunto test se hace constante.\n",
        "\n",
        "Por tanto, con valores inferiores a 10 construiríamos modelos con **underfitting**, demasiado sencillos para clasificar correctamente los datos. Un valor grande, añadiría complejidad innecesaria y consumiría recursos sin ofrecer a cambio un mejor resultado. Escogemos como valor óptimo max_depth = 10."
      ]
    },
    {
      "cell_type": "code",
      "metadata": {
        "colab": {
          "base_uri": "https://localhost:8080/"
        },
        "id": "j4u7PKuEZ0dh",
        "outputId": "06238ef7-70bf-4d2f-943e-c51cd8a6fdaf"
      },
      "source": [
        "rf_model_600_10 = RandomForestClassifier(max_depth=10, random_state=0, n_jobs=5)\n",
        "rf_model_600_10.fit(x_train_600,y_train_600)"
      ],
      "execution_count": null,
      "outputs": [
        {
          "output_type": "execute_result",
          "data": {
            "text/plain": [
              "RandomForestClassifier(bootstrap=True, ccp_alpha=0.0, class_weight=None,\n",
              "                       criterion='gini', max_depth=10, max_features='auto',\n",
              "                       max_leaf_nodes=None, max_samples=None,\n",
              "                       min_impurity_decrease=0.0, min_impurity_split=None,\n",
              "                       min_samples_leaf=1, min_samples_split=2,\n",
              "                       min_weight_fraction_leaf=0.0, n_estimators=100, n_jobs=5,\n",
              "                       oob_score=False, random_state=0, verbose=0,\n",
              "                       warm_start=False)"
            ]
          },
          "metadata": {
            "tags": []
          },
          "execution_count": 10
        }
      ]
    },
    {
      "cell_type": "markdown",
      "metadata": {
        "id": "sfXhX9FN57WZ"
      },
      "source": [
        "A continuación, iteramos para diferentes números de árboles de decisión empleados:"
      ]
    },
    {
      "cell_type": "code",
      "metadata": {
        "id": "6d09jpmT1wRL"
      },
      "source": [
        "n_estimators_list = []\n",
        "score_train_list = []\n",
        "score_test_list = []\n",
        "\n",
        "for n_estimators in list(range(10,200,10)):\n",
        "  rf_model = RandomForestClassifier(random_state=0, n_estimators = n_estimators, max_depth=10, n_jobs=5)\n",
        "  rf_model.fit(x_train_600, y_train_600)\n",
        "\n",
        "  ## Generación de listas\n",
        "  n_estimators_list.append(n_estimators)\n",
        "  score_train_list.append(100.0*rf_model.score(x_train_600, y_train_600))\n",
        "  score_test_list.append(100.0*rf_model.score(x_test, y_test))"
      ],
      "execution_count": null,
      "outputs": []
    },
    {
      "cell_type": "code",
      "metadata": {
        "colab": {
          "base_uri": "https://localhost:8080/",
          "height": 309
        },
        "id": "V7zt6xFF1wRM",
        "outputId": "127169d0-4ed6-431f-a5bb-26c53d73323a"
      },
      "source": [
        "df = pd.DataFrame({\"n_estimators\":n_estimators_list, \n",
        "                   \"score_train\":score_train_list,\n",
        "                   \"score_test\":score_test_list})\n",
        "\n",
        "df.set_index(\"n_estimators\", inplace=True)\n",
        "df[\"score_train\"].plot(label=\"Train Score\")\n",
        "df[\"score_test\"].plot(label=\"Test Score\")\n",
        "plt.suptitle(\"Accuracy Train and Test\")\n",
        "plt.legend()\n",
        "plt.show();"
      ],
      "execution_count": null,
      "outputs": [
        {
          "output_type": "display_data",
          "data": {
            "image/png": "[encoded data removed]",
            "text/plain": [
              "<Figure size 432x288 with 1 Axes>"
            ]
          },
          "metadata": {
            "tags": [],
            "needs_background": "light"
          }
        }
      ]
    },
    {
      "cell_type": "markdown",
      "metadata": {
        "id": "_84m1ZYX6Gio"
      },
      "source": [
        "Para el conjunto de entrenamiento la *accuracy* se aproxima a 100 para cualquier valor del número de estimadores. Esto se debe fundamentalmente a que nuestros árboles son lo suficientemente profundos para clasificar muy bien el conjunto de entrenamiento.\n",
        "\n",
        "Por su lado, en el dataset de prueba la *accuracy* va aumentando de forma monótona hasta alcanzar el 85% en 75 estimadores, valor a partir del cual la tendencia se vuelve prácticamente constante. De esta forma, conforme vamos aumentando el número de estimadores, nuestro algoritmo se va haciendo más resistente al **overfitting**.\n",
        "\n",
        "Dado que la capacidad computacional requerida es directamente proporcional al número de estimadores, intentamos seleccionar el valor mínimo posible de forma que no afecte al rendimiento de nuestro modelo. Teniendo esto en cuenta, el óptimo se sitúa en 75 estimadores. "
      ]
    },
    {
      "cell_type": "markdown",
      "metadata": {
        "id": "E77ThVN3j7Uq"
      },
      "source": [
        "## Modelo óptimo\n",
        "\n",
        "Ya podemos crear el modelo que mejor se comporta en nuestro conjunto test teniendo en cuenta lo visto anteriormente. A continuación, aplicaremos las métricas correspondientes para analizar en profundidad su comportamiento."
      ]
    },
    {
      "cell_type": "code",
      "metadata": {
        "colab": {
          "base_uri": "https://localhost:8080/"
        },
        "id": "msUVcMH31wRM",
        "outputId": "6ebc4e73-d1b7-44b8-af1d-179b5a9f75e3"
      },
      "source": [
        "rf_model_600_final = RandomForestClassifier(max_depth=10, n_estimators = 75, random_state=0, n_jobs=5)\n",
        "rf_model_600_final.fit(x_train_600,y_train_600)"
      ],
      "execution_count": null,
      "outputs": [
        {
          "output_type": "execute_result",
          "data": {
            "text/plain": [
              "RandomForestClassifier(bootstrap=True, ccp_alpha=0.0, class_weight=None,\n",
              "                       criterion='gini', max_depth=10, max_features='auto',\n",
              "                       max_leaf_nodes=None, max_samples=None,\n",
              "                       min_impurity_decrease=0.0, min_impurity_split=None,\n",
              "                       min_samples_leaf=1, min_samples_split=2,\n",
              "                       min_weight_fraction_leaf=0.0, n_estimators=75, n_jobs=5,\n",
              "                       oob_score=False, random_state=0, verbose=0,\n",
              "                       warm_start=False)"
            ]
          },
          "metadata": {
            "tags": []
          },
          "execution_count": 13
        }
      ]
    },
    {
      "cell_type": "code",
      "metadata": {
        "colab": {
          "base_uri": "https://localhost:8080/"
        },
        "id": "Ynq6fp951wRM",
        "outputId": "f5153292-6f58-42d1-ea93-0e37bab64353"
      },
      "source": [
        "pred_train = rf_model_600_final.predict(x_train_600)\n",
        "pred_test_model_600 = rf_model_600_final.predict(x_test)\n",
        "print(\"Precisión sobre los datos de entrenamiento: {:.2f}\".format(100.0*rf_model_600_final.score(x_train_600, y_train_600)))\n",
        "accuracy_rf_model_600_final = 100.0*rf_model_600_final.score(x_test, y_test)\n",
        "print(\"Precisión sobre los datos de test: {:.2f}\".format(accuracy_rf_model_600_final))"
      ],
      "execution_count": null,
      "outputs": [
        {
          "output_type": "stream",
          "text": [
            "Precisión sobre los datos de entrenamiento: 100.00\n",
            "Precisión sobre los datos de test: 84.80\n"
          ],
          "name": "stdout"
        }
      ]
    },
    {
      "cell_type": "markdown",
      "metadata": {
        "id": "UbKXitbs7Yz9"
      },
      "source": [
        "### Predicción\n",
        "\n",
        "Podemos ver un ejemplo de las predicciones realizadas por este modelo: "
      ]
    },
    {
      "cell_type": "code",
      "metadata": {
        "colab": {
          "base_uri": "https://localhost:8080/",
          "height": 133
        },
        "id": "lxa6oh3v0ESW",
        "outputId": "eaede850-221a-4ca0-f9fb-f1e2d1b8adfa"
      },
      "source": [
        "_, axes = plt.subplots(nrows=1, ncols=10, figsize=(15, 15))\n",
        "for ax, image, real_value, prediction in zip(axes, x_test, y_test, pred_test_model_600):\n",
        "    ax.set_axis_off()\n",
        "    image = image.reshape(28, 28)\n",
        "    ax.imshow(image, cmap=plt.cm.gray_r, interpolation='nearest')\n",
        "    ax.set_title(f'Prediction: {prediction} \\n Real Value: {real_value}')"
      ],
      "execution_count": null,
      "outputs": [
        {
          "output_type": "display_data",
          "data": {
            "image/png": "[encoded data removed]",
            "text/plain": [
              "<Figure size 1080x1080 with 10 Axes>"
            ]
          },
          "metadata": {
            "tags": [],
            "needs_background": "light"
          }
        }
      ]
    },
    {
      "cell_type": "markdown",
      "metadata": {
        "id": "4GXxAl-g77dP"
      },
      "source": [
        "Se observa que la novena predicción se ha identificado erróneamente como 4.\n",
        "\n",
        "Para un análisis mucho más detallado de los errores usamos las siguientes métricas:\n",
        "\n",
        "### Matriz de confusión"
      ]
    },
    {
      "cell_type": "code",
      "metadata": {
        "colab": {
          "base_uri": "https://localhost:8080/",
          "height": 308
        },
        "id": "1uuFknQFx6Bz",
        "outputId": "c806835e-059a-4908-c126-c6373b4499eb"
      },
      "source": [
        "from sklearn import metrics\n",
        "\n",
        "disp = metrics.plot_confusion_matrix(rf_model_600_final, x_test, y_test, values_format = '')\n",
        "disp.figure_.suptitle(\"Confusion Matrix\")\n",
        "plt.show()"
      ],
      "execution_count": null,
      "outputs": [
        {
          "output_type": "display_data",
          "data": {
            "image/png": "[encoded data removed]",
            "text/plain": [
              "<Figure size 432x288 with 2 Axes>"
            ]
          },
          "metadata": {
            "tags": [],
            "needs_background": "light"
          }
        }
      ]
    },
    {
      "cell_type": "markdown",
      "metadata": {
        "id": "mGWbwnYI-6H1"
      },
      "source": [
        "Como vemos, en general, nuestro modelo funciona correctamente para todas las clases. La diagonal concentra el mayor número de casos.\n",
        "\n",
        "Además, se puede apreciar cómo en los números más diferentes entre sí, como el 0 y el 1. El algoritmo no confunde estas clases entre sí casi nunca (en total, solo ha clasificado erróneamente un 0 como un 1). Por contra, para los dígitos similares, como el 3 y el 5, o el 4 y el 9, hay un alto número de falsos positivos y negativos entre ellos."
      ]
    },
    {
      "cell_type": "markdown",
      "metadata": {
        "id": "D8sFDUmj-rgc"
      },
      "source": [
        "### Precision, Recall y F1-score:\n",
        "\n",
        "Para poder cuantificar mejor por clase los tipos de error que se están cometiendo, calculamos sus *recall*, *precision* y *f1-score*:"
      ]
    },
    {
      "cell_type": "code",
      "metadata": {
        "colab": {
          "base_uri": "https://localhost:8080/"
        },
        "id": "WQc6vI4zx0gG",
        "outputId": "9027b307-9da4-443d-d685-756ab979408a"
      },
      "source": [
        "print(f\"Classification report for classifier {rf_model_600_final}:\\n\"\n",
        "      f\"{metrics.classification_report(y_test, pred_test_model_600)}\\n\")"
      ],
      "execution_count": null,
      "outputs": [
        {
          "output_type": "stream",
          "text": [
            "Classification report for classifier RandomForestClassifier(bootstrap=True, ccp_alpha=0.0, class_weight=None,\n",
            "                       criterion='gini', max_depth=10, max_features='auto',\n",
            "                       max_leaf_nodes=None, max_samples=None,\n",
            "                       min_impurity_decrease=0.0, min_impurity_split=None,\n",
            "                       min_samples_leaf=1, min_samples_split=2,\n",
            "                       min_weight_fraction_leaf=0.0, n_estimators=75, n_jobs=5,\n",
            "                       oob_score=False, random_state=0, verbose=0,\n",
            "                       warm_start=False):\n",
            "              precision    recall  f1-score   support\n",
            "\n",
            "           0       0.88      0.96      0.91       980\n",
            "           1       0.90      0.98      0.94      1135\n",
            "           2       0.85      0.84      0.84      1032\n",
            "           3       0.87      0.80      0.84      1010\n",
            "           4       0.81      0.81      0.81       982\n",
            "           5       0.79      0.74      0.76       892\n",
            "           6       0.90      0.85      0.87       958\n",
            "           7       0.90      0.88      0.89      1028\n",
            "           8       0.89      0.75      0.82       974\n",
            "           9       0.71      0.84      0.77      1009\n",
            "\n",
            "    accuracy                           0.85     10000\n",
            "   macro avg       0.85      0.84      0.85     10000\n",
            "weighted avg       0.85      0.85      0.85     10000\n",
            "\n",
            "\n"
          ],
          "name": "stdout"
        }
      ]
    },
    {
      "cell_type": "markdown",
      "metadata": {
        "id": "rPT-kuMZAaLg"
      },
      "source": [
        "Como vemos, la clase que mejor se comporta se corresponde con el número 1, seguida del 0. Sobre todo, sobresale el valor *recall* de 0.98 obtenido para la cifra 1. Esto es esperable, ya que su forma es bastante diferente al resto de dígitos.\n",
        "\n",
        "Por el contrario, los 5s y los 9s son los que peor F1-score tienen. En particular, la clase 9 tiene una precision muy baja, queriendo decir que muchas de las predicciones identificadas con 9 son en realidad falsos positivos."
      ]
    },
    {
      "cell_type": "markdown",
      "metadata": {
        "id": "L15kH9SFh3nI"
      },
      "source": [
        "## Modelo con max_depth bajo\n",
        "\n",
        "Para ver qué efecto tendría haber usado árboles de decisión más sencillos en nuestro Random Forest, creamos de nuevo un modelo con max_depth = 5, un valor subóptimo. Un valor bajo, conlleva que los árboles de decisión no son los suficientemente complejos para realizar correctamente la clasificación, teniendo por tanto un modelo con *underfitting*."
      ]
    },
    {
      "cell_type": "code",
      "metadata": {
        "colab": {
          "base_uri": "https://localhost:8080/"
        },
        "id": "_CIJcQ2big_Q",
        "outputId": "05c250ce-570a-4e72-ba89-b29b5d086fe8"
      },
      "source": [
        "rf_model_600_5 = RandomForestClassifier(max_depth=5, random_state=0, n_jobs=5)\n",
        "rf_model_600_5.fit(x_train_600,y_train_600)"
      ],
      "execution_count": null,
      "outputs": [
        {
          "output_type": "execute_result",
          "data": {
            "text/plain": [
              "RandomForestClassifier(bootstrap=True, ccp_alpha=0.0, class_weight=None,\n",
              "                       criterion='gini', max_depth=5, max_features='auto',\n",
              "                       max_leaf_nodes=None, max_samples=None,\n",
              "                       min_impurity_decrease=0.0, min_impurity_split=None,\n",
              "                       min_samples_leaf=1, min_samples_split=2,\n",
              "                       min_weight_fraction_leaf=0.0, n_estimators=100, n_jobs=5,\n",
              "                       oob_score=False, random_state=0, verbose=0,\n",
              "                       warm_start=False)"
            ]
          },
          "metadata": {
            "tags": []
          },
          "execution_count": 18
        }
      ]
    },
    {
      "cell_type": "markdown",
      "metadata": {
        "id": "fkK4Zhvriwxu"
      },
      "source": [
        "Iteramos para diferentes números de árboles de decisión empleados, para ver si  en efecto cambia algo:"
      ]
    },
    {
      "cell_type": "code",
      "metadata": {
        "id": "ePp3_6-9iwxw"
      },
      "source": [
        "n_estimators_list = []\n",
        "score_train_list = []\n",
        "score_test_list = []\n",
        "\n",
        "for n_estimators in list(range(10,200,10)):\n",
        "  rf_model = RandomForestClassifier(random_state=0, n_estimators = n_estimators, max_depth=5, n_jobs=5)\n",
        "  rf_model.fit(x_train_600, y_train_600)\n",
        "\n",
        "  ## Generación de listas\n",
        "  n_estimators_list.append(n_estimators)\n",
        "  score_train_list.append(100.0*rf_model.score(x_train_600, y_train_600))\n",
        "  score_test_list.append(100.0*rf_model.score(x_test, y_test))"
      ],
      "execution_count": null,
      "outputs": []
    },
    {
      "cell_type": "code",
      "metadata": {
        "colab": {
          "base_uri": "https://localhost:8080/",
          "height": 309
        },
        "id": "X5y0mJTtiwxx",
        "outputId": "53b1f9ae-8293-4fcc-a576-b099638c7df1"
      },
      "source": [
        "df = pd.DataFrame({\"n_estimators\":n_estimators_list, \n",
        "                   \"score_train\":score_train_list,\n",
        "                   \"score_test\":score_test_list})\n",
        "\n",
        "df.set_index(\"n_estimators\", inplace=True)\n",
        "df[\"score_train\"].plot(label=\"Train Score\")\n",
        "df[\"score_test\"].plot(label=\"Test Score\")\n",
        "plt.suptitle(\"Accuracy Train and Test\")\n",
        "plt.legend()\n",
        "plt.show();"
      ],
      "execution_count": null,
      "outputs": [
        {
          "output_type": "display_data",
          "data": {
            "image/png": "[encoded data removed]",
            "text/plain": [
              "<Figure size 432x288 with 1 Axes>"
            ]
          },
          "metadata": {
            "tags": [],
            "needs_background": "light"
          }
        }
      ]
    },
    {
      "cell_type": "markdown",
      "metadata": {
        "id": "UWsz0w6PjJ8N"
      },
      "source": [
        "Se obtiene un resultado similar. En esta ocasión, el conjunto de pruebas no alcanza a superar el 80% de *accuracy*. Tal y como esperábamos, el resultado empeora comparado con max_depth = 10.\n",
        "\n",
        "Por los argumentos vistos anteriormente, volvemos a escoger 75 estimadores como el valor compromiso entre tener un número reducido de árboles de decisión y un buen comportamiento sobre el conjunto de pruebas (menor *overfitting*)."
      ]
    },
    {
      "cell_type": "code",
      "metadata": {
        "colab": {
          "base_uri": "https://localhost:8080/"
        },
        "id": "fAfcDepjlkHg",
        "outputId": "72bc34f0-d685-4001-94c2-2537b849bebc"
      },
      "source": [
        "rf_model_600_suboptimo = RandomForestClassifier(max_depth=5, n_estimators = 75, random_state=0, n_jobs=5)\n",
        "rf_model_600_suboptimo.fit(x_train_600,y_train_600)"
      ],
      "execution_count": null,
      "outputs": [
        {
          "output_type": "execute_result",
          "data": {
            "text/plain": [
              "RandomForestClassifier(bootstrap=True, ccp_alpha=0.0, class_weight=None,\n",
              "                       criterion='gini', max_depth=5, max_features='auto',\n",
              "                       max_leaf_nodes=None, max_samples=None,\n",
              "                       min_impurity_decrease=0.0, min_impurity_split=None,\n",
              "                       min_samples_leaf=1, min_samples_split=2,\n",
              "                       min_weight_fraction_leaf=0.0, n_estimators=75, n_jobs=5,\n",
              "                       oob_score=False, random_state=0, verbose=0,\n",
              "                       warm_start=False)"
            ]
          },
          "metadata": {
            "tags": []
          },
          "execution_count": 21
        }
      ]
    },
    {
      "cell_type": "code",
      "metadata": {
        "colab": {
          "base_uri": "https://localhost:8080/"
        },
        "id": "k6xhVWqtlkHj",
        "outputId": "a8dd1238-2108-465a-e4a7-f0907fc42bf4"
      },
      "source": [
        "pred_train = rf_model_600_suboptimo.predict(x_train_600)\n",
        "pred_test_model_600_sub = rf_model_600_suboptimo.predict(x_test)\n",
        "print(\"Precisión sobre los datos de entrenamiento: {:.2f}\".format(100.0*rf_model_600_suboptimo.score(x_train_600, y_train_600)))\n",
        "accuracy_rf_model_600_suboptimo = 100.0*rf_model_600_suboptimo.score(x_test, y_test)\n",
        "print(\"Precisión sobre los datos de test: {:.2f}\".format(accuracy_rf_model_600_suboptimo))"
      ],
      "execution_count": null,
      "outputs": [
        {
          "output_type": "stream",
          "text": [
            "Precisión sobre los datos de entrenamiento: 93.67\n",
            "Precisión sobre los datos de test: 78.60\n"
          ],
          "name": "stdout"
        }
      ]
    },
    {
      "cell_type": "markdown",
      "metadata": {
        "id": "NNXHkwpTjqCa"
      },
      "source": [
        "### Predicción\n",
        "Se ve un ejemplo de las predicciones realizadas por este modelo: "
      ]
    },
    {
      "cell_type": "code",
      "metadata": {
        "colab": {
          "base_uri": "https://localhost:8080/",
          "height": 133
        },
        "id": "_fWdF0iijqCb",
        "outputId": "abdeb1d9-ea61-4db5-ca8e-ff098ee26bf1"
      },
      "source": [
        "_, axes = plt.subplots(nrows=1, ncols=10, figsize=(15, 15))\n",
        "for ax, image, real_value, prediction in zip(axes, x_test, y_test, pred_test_model_600_sub):\n",
        "    ax.set_axis_off()\n",
        "    image = image.reshape(28, 28)\n",
        "    ax.imshow(image, cmap=plt.cm.gray_r, interpolation='nearest')\n",
        "    ax.set_title(f'Prediction: {prediction} \\n Real Value: {real_value}')"
      ],
      "execution_count": null,
      "outputs": [
        {
          "output_type": "display_data",
          "data": {
            "image/png": "[encoded data removed]",
            "text/plain": [
              "<Figure size 1080x1080 with 10 Axes>"
            ]
          },
          "metadata": {
            "tags": [],
            "needs_background": "light"
          }
        }
      ]
    },
    {
      "cell_type": "markdown",
      "metadata": {
        "id": "mm8hDYbfjqCf"
      },
      "source": [
        "En la séptima y en la novena predicción se ha identificado erróneamente un 4 como un 9 y un 5 como un 4, respectivamente.\n",
        "\n",
        "A continuación, se aplican las diferentes métricas para analizar en detalle los errores:\n",
        "\n",
        "### Matriz de confusión"
      ]
    },
    {
      "cell_type": "code",
      "metadata": {
        "colab": {
          "base_uri": "https://localhost:8080/",
          "height": 308
        },
        "id": "klJ5Jls3jqCf",
        "outputId": "1f3deda1-42ee-4c8b-a778-aa13489944fc"
      },
      "source": [
        "disp = metrics.plot_confusion_matrix(rf_model_600_suboptimo, x_test, y_test, values_format = '')\n",
        "disp.figure_.suptitle(\"Confusion Matrix\")\n",
        "plt.show()"
      ],
      "execution_count": null,
      "outputs": [
        {
          "output_type": "display_data",
          "data": {
            "image/png": "[encoded data removed]",
            "text/plain": [
              "<Figure size 432x288 with 2 Axes>"
            ]
          },
          "metadata": {
            "tags": [],
            "needs_background": "light"
          }
        }
      ]
    },
    {
      "cell_type": "markdown",
      "metadata": {
        "id": "x_G_4JmojqCh"
      },
      "source": [
        "El modelo funciona bien para clases correspondientes a los dígitos 0 y 1. Sin embargo, no es capaz de leer los 5s adecuadamente. En concreto, este resultado es bastante peor que el obtenido con max_depth = 10. "
      ]
    },
    {
      "cell_type": "markdown",
      "metadata": {
        "id": "MPGmKHtXjqCh"
      },
      "source": [
        "### Precision, Recall y F1-score:\n",
        "\n",
        "Lo siguiente es calcular el *recall*, *precision* y *f1-score* de cada clase:"
      ]
    },
    {
      "cell_type": "code",
      "metadata": {
        "colab": {
          "base_uri": "https://localhost:8080/"
        },
        "id": "zRvCUcZajqCj",
        "outputId": "e772a153-6e86-4a95-d6d2-ee88777a7120"
      },
      "source": [
        "print(f\"Classification report for classifier {rf_model_600_suboptimo}:\\n\"\n",
        "      f\"{metrics.classification_report(y_test, pred_test_model_600_sub)}\\n\")"
      ],
      "execution_count": null,
      "outputs": [
        {
          "output_type": "stream",
          "text": [
            "Classification report for classifier RandomForestClassifier(bootstrap=True, ccp_alpha=0.0, class_weight=None,\n",
            "                       criterion='gini', max_depth=5, max_features='auto',\n",
            "                       max_leaf_nodes=None, max_samples=None,\n",
            "                       min_impurity_decrease=0.0, min_impurity_split=None,\n",
            "                       min_samples_leaf=1, min_samples_split=2,\n",
            "                       min_weight_fraction_leaf=0.0, n_estimators=75, n_jobs=5,\n",
            "                       oob_score=False, random_state=0, verbose=0,\n",
            "                       warm_start=False):\n",
            "              precision    recall  f1-score   support\n",
            "\n",
            "           0       0.85      0.96      0.90       980\n",
            "           1       0.79      0.98      0.87      1135\n",
            "           2       0.81      0.74      0.77      1032\n",
            "           3       0.78      0.77      0.77      1010\n",
            "           4       0.72      0.76      0.74       982\n",
            "           5       0.80      0.55      0.65       892\n",
            "           6       0.87      0.80      0.83       958\n",
            "           7       0.84      0.86      0.85      1028\n",
            "           8       0.91      0.64      0.75       974\n",
            "           9       0.60      0.76      0.67      1009\n",
            "\n",
            "    accuracy                           0.79     10000\n",
            "   macro avg       0.80      0.78      0.78     10000\n",
            "weighted avg       0.79      0.79      0.78     10000\n",
            "\n",
            "\n"
          ],
          "name": "stdout"
        }
      ]
    },
    {
      "cell_type": "markdown",
      "metadata": {
        "id": "6uD02cYPjqCk"
      },
      "source": [
        "En este caso, la clase que mejor *precision* tiene se corresponde con el número 6, con 0.87. No obstante, su *recall*  es relativamente malo, con solo un 0.8.\n",
        "\n",
        "Por otro lado, el número que más *recall* tiene es el 1, con 0.98. Esta clase alcanza una *precision* de 0.79, un valor medio en comparación con el resto. \n",
        "\n",
        "A pesar de esto, la clase que tiene un f1-score más alto, el efecto combinado de *recall* y *precision*, es la 0, seguida de la 1. Esto tiene sentido, ya que ambas son bastante diferentes entre sí y del resto de clases, las cuales se parecen más entre ellas."
      ]
    },
    {
      "cell_type": "markdown",
      "metadata": {
        "id": "LSypBzArm0FF"
      },
      "source": [
        "# **Modelos con n = 6000**\n",
        "\n",
        "Repetimos el mismo procedimiento llevado a cabo anteriormente para el conjunto de datos n = 600:\n",
        "\n",
        "* Escoger el mejor modelo\n",
        "\n",
        "* Métricas sobre el algoritmo más óptimo."
      ]
    },
    {
      "cell_type": "markdown",
      "metadata": {
        "id": "Nisjwz1GCby-"
      },
      "source": [
        "## Elección del modelo\n",
        "\n",
        "Primero, creamos diferentes algoritmos Random Forest cambiando los parámetros max_depth y n_estimators. Empezamos iterando con profundidades diferentes:"
      ]
    },
    {
      "cell_type": "code",
      "metadata": {
        "id": "MaHpLi80m_mZ"
      },
      "source": [
        "md_list = []\n",
        "score_train_list = []\n",
        "score_test_list = []\n",
        "\n",
        "for maxdepth in list(range(1,30,4)):\n",
        "  rf_model = RandomForestClassifier(random_state=0, max_depth=maxdepth, n_jobs=5)\n",
        "  rf_model.fit(x_train_6000, y_train_6000)\n",
        "\n",
        "  ## Generación de listas\n",
        "  md_list.append(maxdepth)\n",
        "  score_train_list.append(100.0*rf_model.score(x_train_6000, y_train_6000))\n",
        "  score_test_list.append(100.0*rf_model.score(x_test, y_test))"
      ],
      "execution_count": null,
      "outputs": []
    },
    {
      "cell_type": "code",
      "metadata": {
        "colab": {
          "base_uri": "https://localhost:8080/",
          "height": 309
        },
        "id": "ejHfUdeYm_ma",
        "outputId": "205e701c-13fc-4ad7-c165-10d9e3d2cf1d"
      },
      "source": [
        "df = pd.DataFrame({\"max_depth\":md_list, \n",
        "                   \"score_train\":score_train_list,\n",
        "                   \"score_test\":score_test_list})\n",
        "\n",
        "df.set_index(\"max_depth\", inplace=True)\n",
        "df[\"score_train\"].plot(label=\"Train Score\")\n",
        "df[\"score_test\"].plot(label=\"Test Score\")\n",
        "plt.suptitle(\"Accuracy Train and Test\")\n",
        "plt.legend()\n",
        "plt.show();"
      ],
      "execution_count": null,
      "outputs": [
        {
          "output_type": "display_data",
          "data": {
            "image/png": "[encoded data removed]",
            "text/plain": [
              "<Figure size 432x288 with 1 Axes>"
            ]
          },
          "metadata": {
            "tags": [],
            "needs_background": "light"
          }
        }
      ]
    },
    {
      "cell_type": "markdown",
      "metadata": {
        "id": "sXD8rHnhbBvX"
      },
      "source": [
        "Se observa que, tanto para el conjunto de entrenamiento como para el de prueba, la *accuracy* va aumentando monótonamente conforme se incremeta el max_depth hasta llegar al valor k = 15, a partir del cual la tendencia es prácticamente constante.\n",
        "\n",
        "Cuanto más sencillo sean nuestros árboles, menos recursos computacionales serán necesarios para entrenar o predecir. Por contra, sin son demasiado simples, presentarán *underfitting*. Teniendo esto en mente, escogemos como valor óptimo max_depth = 15, uno de los valores más pequeños donde la *accuracy* en el conjunto de prueba es más alta."
      ]
    },
    {
      "cell_type": "markdown",
      "metadata": {
        "id": "RxWZ6jUpchsI"
      },
      "source": [
        "A continuación, iteramos sobre el número de estimadores:"
      ]
    },
    {
      "cell_type": "code",
      "metadata": {
        "id": "Gph51_dxm_md"
      },
      "source": [
        "n_estimators_list = []\n",
        "score_train_list = []\n",
        "score_test_list = []\n",
        "\n",
        "for n_estimators in list(range(10,200,10)):\n",
        "  rf_model = RandomForestClassifier(random_state=0, n_estimators = n_estimators, max_depth=15, n_jobs=5)\n",
        "  rf_model.fit(x_train_6000, y_train_6000)\n",
        "\n",
        "  ## Generación de listas\n",
        "  n_estimators_list.append(n_estimators)\n",
        "  score_train_list.append(100.0*rf_model.score(x_train_6000, y_train_6000))\n",
        "  score_test_list.append(100.0*rf_model.score(x_test, y_test))"
      ],
      "execution_count": null,
      "outputs": []
    },
    {
      "cell_type": "code",
      "metadata": {
        "colab": {
          "base_uri": "https://localhost:8080/",
          "height": 309
        },
        "id": "63KsLk5vm_me",
        "outputId": "ca217499-8492-4e86-862b-896fe8acd755"
      },
      "source": [
        "df = pd.DataFrame({\"n_estimators\":n_estimators_list, \n",
        "                   \"score_train\":score_train_list,\n",
        "                   \"score_test\":score_test_list})\n",
        "\n",
        "df.set_index(\"n_estimators\", inplace=True)\n",
        "df[\"score_train\"].plot(label=\"Train Score\")\n",
        "df[\"score_test\"].plot(label=\"Test Score\")\n",
        "plt.suptitle(\"Accuracy Train and Test\")\n",
        "plt.legend()\n",
        "plt.show();"
      ],
      "execution_count": null,
      "outputs": [
        {
          "output_type": "display_data",
          "data": {
            "image/png": "[encoded data removed]",
            "text/plain": [
              "<Figure size 432x288 with 1 Axes>"
            ]
          },
          "metadata": {
            "tags": [],
            "needs_background": "light"
          }
        }
      ]
    },
    {
      "cell_type": "markdown",
      "metadata": {
        "id": "Nfnqbr_ocrka"
      },
      "source": [
        "De nuevo, para el conjunto de entrenamiento la *accuracy* se aproxima a 100 para cualquier valor del número de estimadores.\n",
        "\n",
        "Por su lado, en el dataset de prueba la *accuracy* va aumentando de forma monótona hasta alcanzar el 94% en 100 estimadores, valor a partir del cual la tendencia se vuelve prácticamente constante. Como ya vimos, conforme el número de estimadores va aumentando el algoritmo se va haciendo más resistente al *overfitting*.\n",
        "\n",
        "Escogemos el valor mínimo posible de forma que no afecte al rendimiento de nuestro modelo. Por tanto, un valor bueno se sitúa en 100 estimadores. "
      ]
    },
    {
      "cell_type": "markdown",
      "metadata": {
        "id": "8wJJK-gapGq_"
      },
      "source": [
        "## Modelo óptimo\n",
        "\n",
        "Volvemos a repetir los mismos pasos:\n",
        "\n",
        "* Crear el modelo que mejor se comporta en nuestro conjunto test teniendo en cuenta lo visto anteriormente.\n",
        "\n",
        "* Aplicar las métricas correspondientes para analizar en profundidad su comportamiento."
      ]
    },
    {
      "cell_type": "code",
      "metadata": {
        "colab": {
          "base_uri": "https://localhost:8080/"
        },
        "id": "za5KsRlqm_mg",
        "outputId": "11f7fdbd-a403-4d6f-efc1-6f334d4a80e2"
      },
      "source": [
        "rf_model_6000_final = RandomForestClassifier(max_depth=15, n_estimators=100, random_state=0, n_jobs=5)\n",
        "rf_model_6000_final.fit(x_train_6000,y_train_6000)"
      ],
      "execution_count": null,
      "outputs": [
        {
          "output_type": "execute_result",
          "data": {
            "text/plain": [
              "RandomForestClassifier(bootstrap=True, ccp_alpha=0.0, class_weight=None,\n",
              "                       criterion='gini', max_depth=15, max_features='auto',\n",
              "                       max_leaf_nodes=None, max_samples=None,\n",
              "                       min_impurity_decrease=0.0, min_impurity_split=None,\n",
              "                       min_samples_leaf=1, min_samples_split=2,\n",
              "                       min_weight_fraction_leaf=0.0, n_estimators=100, n_jobs=5,\n",
              "                       oob_score=False, random_state=0, verbose=0,\n",
              "                       warm_start=False)"
            ]
          },
          "metadata": {
            "tags": []
          },
          "execution_count": 30
        }
      ]
    },
    {
      "cell_type": "code",
      "metadata": {
        "colab": {
          "base_uri": "https://localhost:8080/"
        },
        "id": "TFNY8nuJm_mh",
        "outputId": "191bbaa7-6802-41bc-f9ff-ab11106d0b0a"
      },
      "source": [
        "pred_train_6000 = rf_model_6000_final.predict(x_train_6000)\n",
        "pred_test_model_6000 = rf_model_6000_final.predict(x_test)\n",
        "print(\"Precisión sobre los datos de entrenamiento: {:.2f}\".format(100.0*rf_model_6000_final.score(x_train_6000, y_train_6000)))\n",
        "accuracy_rf_model_6000_final = 100.0*rf_model_6000_final.score(x_test, y_test)\n",
        "print(\"Precisión sobre los datos de test: {:.2f}\".format(accuracy_rf_model_6000_final))"
      ],
      "execution_count": null,
      "outputs": [
        {
          "output_type": "stream",
          "text": [
            "Precisión sobre los datos de entrenamiento: 100.00\n",
            "Precisión sobre los datos de test: 94.23\n"
          ],
          "name": "stdout"
        }
      ]
    },
    {
      "cell_type": "markdown",
      "metadata": {
        "id": "Ias89Nw6Dan4"
      },
      "source": [
        "### Predicción\n",
        "\n",
        "Veamos un ejemplo de las predicciones realizadas por este modelo: "
      ]
    },
    {
      "cell_type": "code",
      "metadata": {
        "colab": {
          "base_uri": "https://localhost:8080/",
          "height": 133
        },
        "id": "xGv3oFuGm_mi",
        "outputId": "e3d6c903-ffb1-442e-859f-38e67dcbad5a"
      },
      "source": [
        "_, axes = plt.subplots(nrows=1, ncols=10, figsize=(15, 15))\n",
        "for ax, image, real_value, prediction in zip(axes, x_test, y_test, pred_test_model_6000):\n",
        "    ax.set_axis_off()\n",
        "    image = image.reshape(28, 28)\n",
        "    ax.imshow(image, cmap=plt.cm.gray_r, interpolation='nearest')\n",
        "    ax.set_title(f'Prediction: {prediction} \\n Real Value: {real_value}')"
      ],
      "execution_count": null,
      "outputs": [
        {
          "output_type": "display_data",
          "data": {
            "image/png": "[encoded data removed]",
            "text/plain": [
              "<Figure size 1080x1080 with 10 Axes>"
            ]
          },
          "metadata": {
            "tags": [],
            "needs_background": "light"
          }
        }
      ]
    },
    {
      "cell_type": "markdown",
      "metadata": {
        "id": "UxlV2CC-Dev4"
      },
      "source": [
        "Se vuelve a observar como la novena predicción, el 5, se ha identificado erróneamente como 9.\n",
        "\n",
        "Usamos las siguientes métricas para un análisis mucho más detallado de los errores:\n",
        "\n",
        "### Matriz de confusión\n"
      ]
    },
    {
      "cell_type": "code",
      "metadata": {
        "colab": {
          "base_uri": "https://localhost:8080/",
          "height": 308
        },
        "id": "2KzKLP5sm_mk",
        "outputId": "840a33a8-dda2-418d-ebdb-b264f92e776e"
      },
      "source": [
        "disp = metrics.plot_confusion_matrix(rf_model_6000_final, x_test, y_test, values_format = '')\n",
        "disp.figure_.suptitle(\"Confusion Matrix\")\n",
        "plt.show()"
      ],
      "execution_count": null,
      "outputs": [
        {
          "output_type": "display_data",
          "data": {
            "image/png": "[encoded data removed]",
            "text/plain": [
              "<Figure size 432x288 with 2 Axes>"
            ]
          },
          "metadata": {
            "tags": [],
            "needs_background": "light"
          }
        }
      ]
    },
    {
      "cell_type": "markdown",
      "metadata": {
        "id": "LGSIr9MyEQP4"
      },
      "source": [
        "En general, nuestro modelo funciona correctamente para todas las clases. La diagonal acumula la mayor parte de los casos.\n",
        "\n",
        "A mayores, se aprecia cómo los números más diferentes entre sí, como el 0 y el 1, son perfectamente distinguibles por el algoritmo. No hay ningún 1 clasificado como 0, o viceversa. Por contra, para los dígitos similares, como el 3 y el 5, o el 4 y el 9, encontramos un número más alto de falsos positivos y negativos."
      ]
    },
    {
      "cell_type": "markdown",
      "metadata": {
        "id": "K7tq9e_2EQP6"
      },
      "source": [
        "### Precision, Recall y F1-score:\n",
        "\n",
        "A continuación, se cuantifica por clase los tipos de error, calculando el *recall*, *precision* y *f1-score*:"
      ]
    },
    {
      "cell_type": "code",
      "metadata": {
        "colab": {
          "base_uri": "https://localhost:8080/"
        },
        "id": "RtKSMaKem_mj",
        "outputId": "5b6a9b9e-d445-451e-cf95-03057db64f00"
      },
      "source": [
        "print(f\"Classification report for classifier {rf_model_6000_final}:\\n\"\n",
        "      f\"{metrics.classification_report(y_test, pred_test_model_6000)}\\n\")"
      ],
      "execution_count": null,
      "outputs": [
        {
          "output_type": "stream",
          "text": [
            "Classification report for classifier RandomForestClassifier(bootstrap=True, ccp_alpha=0.0, class_weight=None,\n",
            "                       criterion='gini', max_depth=15, max_features='auto',\n",
            "                       max_leaf_nodes=None, max_samples=None,\n",
            "                       min_impurity_decrease=0.0, min_impurity_split=None,\n",
            "                       min_samples_leaf=1, min_samples_split=2,\n",
            "                       min_weight_fraction_leaf=0.0, n_estimators=100, n_jobs=5,\n",
            "                       oob_score=False, random_state=0, verbose=0,\n",
            "                       warm_start=False):\n",
            "              precision    recall  f1-score   support\n",
            "\n",
            "           0       0.96      0.99      0.97       980\n",
            "           1       0.98      0.99      0.98      1135\n",
            "           2       0.93      0.93      0.93      1032\n",
            "           3       0.95      0.92      0.93      1010\n",
            "           4       0.94      0.94      0.94       982\n",
            "           5       0.94      0.92      0.93       892\n",
            "           6       0.95      0.96      0.95       958\n",
            "           7       0.94      0.92      0.93      1028\n",
            "           8       0.94      0.91      0.92       974\n",
            "           9       0.90      0.93      0.92      1009\n",
            "\n",
            "    accuracy                           0.94     10000\n",
            "   macro avg       0.94      0.94      0.94     10000\n",
            "weighted avg       0.94      0.94      0.94     10000\n",
            "\n",
            "\n"
          ],
          "name": "stdout"
        }
      ]
    },
    {
      "cell_type": "markdown",
      "metadata": {
        "id": "2hH2TUCDEt6b"
      },
      "source": [
        "Como vemos, las clases que mejor se comportan en general corresponden a los números 1 y 0. Ambas tienen un *recall* de 0.99, lo cual nos indica que casi todos los dígitos 0 y 1 han sido clasificados como tal. Además, la precision también es muy alta, de 0.96 para la clase 0 y de 0.98 para la clase 1, habiendo por tanto muy pocos falsos positivos.\n",
        "\n",
        "Al contrario, los 8s y los 9s son los que peor F1-score tienen. En particular, la clase 9 tiene la *precision* más baja, indicando que muchas de las predicciones clasificadas como 9 son en realidad falsos positivos. El *recall* más bajo se encuentra en los 7s y en los 3s, siendo estos etiquetados erróneamente como otros números."
      ]
    },
    {
      "cell_type": "markdown",
      "metadata": {
        "id": "Uva97UCPDveR"
      },
      "source": [
        "# **Conclusiones**\n",
        "\n",
        "Se han realizado 3 modelos diferentes. En base a la *accuracy* se han obteniendo los siguientes resultados:"
      ]
    },
    {
      "cell_type": "code",
      "metadata": {
        "colab": {
          "base_uri": "https://localhost:8080/",
          "height": 142
        },
        "id": "8XazDeqe05eQ",
        "outputId": "b0f09c48-dd6b-4a48-9717-bcb300111b28"
      },
      "source": [
        "data = {'Parámetros' : ['max_depth = 10, n_estimators = 75', 'max_depth = 5, n_estimators = 75', 'max_depth = 15, n_estimators = 100'], \n",
        "        'Accuracy': [accuracy_rf_model_600_final, accuracy_rf_model_600_suboptimo, accuracy_rf_model_6000_final]}  \n",
        "pd.DataFrame(data, index=['Modelo óptimo n = 600', \n",
        "                    'Modelo subóptimo n = 600', \n",
        "                    'Modelo óptimo n = 6000'])"
      ],
      "execution_count": null,
      "outputs": [
        {
          "output_type": "execute_result",
          "data": {
            "text/html": [
              "<div>\n",
              "<style scoped>\n",
              "    .dataframe tbody tr th:only-of-type {\n",
              "        vertical-align: middle;\n",
              "    }\n",
              "\n",
              "    .dataframe tbody tr th {\n",
              "        vertical-align: top;\n",
              "    }\n",
              "\n",
              "    .dataframe thead th {\n",
              "        text-align: right;\n",
              "    }\n",
              "</style>\n",
              "<table border=\"1\" class=\"dataframe\">\n",
              "  <thead>\n",
              "    <tr style=\"text-align: right;\">\n",
              "      <th></th>\n",
              "      <th>Parámetros</th>\n",
              "      <th>Accuracy</th>\n",
              "    </tr>\n",
              "  </thead>\n",
              "  <tbody>\n",
              "    <tr>\n",
              "      <th>Modelo óptimo n = 600</th>\n",
              "      <td>max_depth = 10, n_estimators = 75</td>\n",
              "      <td>84.80</td>\n",
              "    </tr>\n",
              "    <tr>\n",
              "      <th>Modelo subóptimo n = 600</th>\n",
              "      <td>max_depth = 5, n_estimators = 75</td>\n",
              "      <td>78.60</td>\n",
              "    </tr>\n",
              "    <tr>\n",
              "      <th>Modelo óptimo n = 6000</th>\n",
              "      <td>max_depth = 15, n_estimators = 100</td>\n",
              "      <td>94.23</td>\n",
              "    </tr>\n",
              "  </tbody>\n",
              "</table>\n",
              "</div>"
            ],
            "text/plain": [
              "                                                  Parámetros  Accuracy\n",
              "Modelo óptimo n = 600      max_depth = 10, n_estimators = 75     84.80\n",
              "Modelo subóptimo n = 600    max_depth = 5, n_estimators = 75     78.60\n",
              "Modelo óptimo n = 6000    max_depth = 15, n_estimators = 100     94.23"
            ]
          },
          "metadata": {
            "tags": []
          },
          "execution_count": 55
        }
      ]
    },
    {
      "cell_type": "markdown",
      "metadata": {
        "id": "y_8IvVTB1CQ5"
      },
      "source": [
        "En general, los modelos n = 600 tienen un peor comportamiento que el modelo n = 6000. En concreto, el modelo subóptimo presenta el valor de *accuracy* más bajo. Por contra, en el modelo n = 6000 se aprecia una mejora muy significativa, un incremento casi del 10% con respecto al modelo óptimo n = 600.\n",
        "\n",
        "Esto se ve reflejado en el resto de métricas, tanto las matrices de confusión como en el cálculo de los indicadores *precision*, *recall* y *f1-score*. Para verlo mejor, resumamos en una tabla los valores mínimos alcanzados en estos indicadores:"
      ]
    },
    {
      "cell_type": "markdown",
      "metadata": {
        "id": "xCegcw_32PO_"
      },
      "source": [
        "|    Modelo  |*Precision* mínima (%)| *Recall* mínimo (%)  | *F1-Score* mínimo (%)|\n",
        "|---------------|:-------------:|:-------------:|:-------------:|\n",
        "|   *óptimo n = 600*    |      71     |         74      |     76      |\n",
        "|   *subóptimo n = 600*  |      60     |         55      |     65      |\n",
        "|   *óptimo n = 6000*    |     90     |         91      |      92      |\n"
      ]
    },
    {
      "cell_type": "markdown",
      "metadata": {
        "id": "0g92DdsQ3LTm"
      },
      "source": [
        "Como se observa, el modelo n = 6000 es el único que funciona con al menos un 90% de *presicion* y *recall* en todas sus clases.\n",
        "\n",
        "En todos estos modelos se concluyó que la clasificación es mejor para las clases 0 y 1, siendo el resto de números peor predichos. Dígitos como el 4, el 5 o el 8 son confundidos frecuentemente con el 9. De forma similar ocurre para el 2 y el 7. Esta evidencia soporta la hipótesis de que cifras con trazos más diferentes entre sí son mejor clasificados que aquellas cuya caligrafía es más parecida.\n",
        "\n",
        "Por último, se ha analizado cómo influye cambiar el número de *n_estimators* (número de árboles de decisión) y *max_depth* (máxima profundidad de cada árbol) en los modelos. Aumentar el número de árboles protege del overfitting, a expensas de requerir un poder computacional más elevado. Por su lado, árboles con poca profundidad son más proclives a producir *underfitting*. Además, usar un mayor número de registros nos empuja a establecer un max_depth más elevado, obteniendo finalmente un modelo más complejo y con mejor comportamiento."
      ]
    }
  ]
}