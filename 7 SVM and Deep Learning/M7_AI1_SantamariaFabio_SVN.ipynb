{
  "nbformat": 4,
  "nbformat_minor": 0,
  "metadata": {
    "colab": {
      "name": "M7_AI1_SantamariaFabio.ipynb",
      "provenance": [],
      "collapsed_sections": [
        "sVvdQrXOYyUL"
      ],
      "toc_visible": true
    },
    "kernelspec": {
      "display_name": "Python 3",
      "name": "python3"
    },
    "language_info": {
      "name": "python"
    }
  },
  "cells": [
    {
      "cell_type": "markdown",
      "metadata": {
        "id": "sVvdQrXOYyUL"
      },
      "source": [
        "# **Aprendizaje Automático para Machine Learning**\n",
        "\n",
        "## Actividad individual 1: \"SUPPORT VECTOR MACHINE\"\n",
        "\n",
        "Fabio Santamaría Iglesias\n",
        "\n",
        "05/07/2021"
      ]
    },
    {
      "cell_type": "markdown",
      "metadata": {
        "id": "_pj-kLww7ah6"
      },
      "source": [
        "# **Introducción**\n",
        "\n",
        "En esta práctica realizaremos clasificación de imágenes con Support Vector Machines. Para ello, utilizaremos dos datasets: MNIST y Fashion-MNIST. \n",
        "\n",
        "* MNIST \n",
        "\n",
        "  Es un dataset de dígitos de MNIST (Modified-NIST, del Instituto Nacional de Estándares y Tecnología de EEUU). Consta de 60.000 imágenes de entrenamiento y 10.000 de prueba. El tamaño de la imagen es de 28 x 28 píxeles. Cada imagen está etiquetada de 0 a 9 en función del dígito representado. Se utiliza como banco de pruebas para clasificar imágenes con algoritmos de Machine Learning. \n",
        "\n",
        "* Fashion-MNIST \n",
        "\n",
        "  Es un dataset de imágenes de artículos de moda de la empresa Zalando. Fue concebido para sustituir a MNIST porque requiere modelos de clasificación más complejos.  Mantiene las características de MNIST en cuanto a número de imágenes (60.000 de entrenamiento y 10.000 de prueba), tamaño de las imágenes (28 x 28 píxeles) y número de clases (10). Se diferencia en el contenido de las imágenes: 10 tipos de artículos de moda, en lugar de los 10 dígitos. \n",
        "\n",
        "El objetivo es comparar el resultado (accuracy) en función del dataset y el tipo de kernel SVM. Para ello, cargaremos ambos datasets desde tensorflow.\n",
        "Después, aplicaremos un preprocesado con la finalidad de convertir las imágenes en vectores unidimensionales. Una vez hecho esto, aplicaremos un PCA para reducir la dimensionalidad del problema.\n",
        "\n",
        "En concreto, usaremos el clasificador SVM de sklearn utilizando dos tipos de kernel: Lineal y Gausiano. Nos restringiremos a entrenar con 20.000 imágenes y aplicaremos las métricas con el dataset de prueba completo (10.000 imágenes). Por último, entrenaremos el modelo óptimo con todo el *dataset* disponible para sacarle el mejor partido.  \n",
        "\n",
        "Para acortar el tiempo de entrenamiento con el kernel gaussiano, dejaremos el valor de gamma por defecto (“scale”), así como el valor de probability por defecto (“False”).\n",
        "\n",
        "Comenzamos importando las librerías básicas con las que trabajaremos:"
      ]
    },
    {
      "cell_type": "code",
      "metadata": {
        "id": "zxW6dUbDYPut"
      },
      "source": [
        "import pandas as pd\n",
        "import numpy as np\n",
        "import matplotlib.pyplot as plt\n",
        "%matplotlib inline"
      ],
      "execution_count": 27,
      "outputs": []
    },
    {
      "cell_type": "markdown",
      "metadata": {
        "id": "PRDi9h8E8D9w"
      },
      "source": [
        "## **Obtenición del dataset**\n",
        "\n",
        "Cargamos los conjuntos de datos desde *tensorflow*:"
      ]
    },
    {
      "cell_type": "code",
      "metadata": {
        "id": "LpvPlHNlsqFT"
      },
      "source": [
        "import tensorflow as tf\n",
        "\n",
        "(x_train_mnist, y_train_mnist), (x_test_mnist, y_test_mnist) = tf.keras.datasets.mnist.load_data()\n",
        "\n",
        "(x_train_fashion, y_train_fashion), (x_test_fashion, y_test_fashion) = tf.keras.datasets.fashion_mnist.load_data()"
      ],
      "execution_count": 28,
      "outputs": []
    },
    {
      "cell_type": "markdown",
      "metadata": {
        "id": "dOma7xvRt3qd"
      },
      "source": [
        "## **Preprocesado de datos**\n",
        "\n",
        "Para poder entrenar nuestro modelo, cambiamos la forma en la que está expresada la información, pasando todos los objetos 3D array a 2D array. De esta forma, las imágenes 28x28 quedan expresadas como filas de 784 columnas."
      ]
    },
    {
      "cell_type": "code",
      "metadata": {
        "id": "P2QRmnfUedGh"
      },
      "source": [
        "x_train_mnist = x_train_mnist.reshape(60000,-1)\n",
        "x_test_mnist = x_test_mnist.reshape(10000,-1)\n",
        "\n",
        "x_train_fashion = x_train_fashion.reshape(60000,-1)\n",
        "x_test_fashion = x_test_fashion.reshape(10000,-1)"
      ],
      "execution_count": 29,
      "outputs": []
    },
    {
      "cell_type": "markdown",
      "metadata": {
        "id": "Vw0Di_vQt4sP"
      },
      "source": [
        "Se puede corroborar que efectivamente nuestra base de datos *mnist* contiene dígitos del 0 al 9:"
      ]
    },
    {
      "cell_type": "code",
      "metadata": {
        "colab": {
          "base_uri": "https://localhost:8080/",
          "height": 118
        },
        "id": "l4JH4rNGtSqt",
        "outputId": "4776f71c-546d-4549-9999-4a3ae3d356f5"
      },
      "source": [
        "u, indices = np.unique(y_train_mnist, return_index=True)\n",
        "X_u = x_train_mnist[indices]\n",
        "y_u = y_train_mnist[indices]\n",
        "\n",
        "_, axes = plt.subplots(nrows=1, ncols=10, figsize=(15, 15))\n",
        "for ax, image, label in zip(axes, X_u, y_u):\n",
        "    ax.set_axis_off()\n",
        "    image = image.reshape(28, 28)\n",
        "    ax.imshow(image, cmap=plt.cm.gray_r, interpolation='nearest')\n",
        "    ax.set_title('Etiqueta: %i' % label)"
      ],
      "execution_count": 30,
      "outputs": [
        {
          "output_type": "display_data",
          "data": {
            "image/png": "[encoded data removed]",
            "text/plain": [
              "<Figure size 1080x1080 with 10 Axes>"
            ]
          },
          "metadata": {
            "tags": [],
            "needs_background": "light"
          }
        }
      ]
    },
    {
      "cell_type": "markdown",
      "metadata": {
        "id": "AC-X8ObiuHJN"
      },
      "source": [
        "Similarmente, con *fashion-minst*:"
      ]
    },
    {
      "cell_type": "code",
      "metadata": {
        "colab": {
          "base_uri": "https://localhost:8080/",
          "height": 118
        },
        "id": "Hpna1aDruLjt",
        "outputId": "6f2fcae8-bd1f-42a0-cac9-2185fe1f6f62"
      },
      "source": [
        "u, indices = np.unique(y_train_fashion, return_index=True)\n",
        "X_u = x_train_fashion[indices]\n",
        "y_u = y_train_fashion[indices]\n",
        "\n",
        "_, axes = plt.subplots(nrows=1, ncols=10, figsize=(15, 15))\n",
        "for ax, image, label in zip(axes, X_u, y_u):\n",
        "    ax.set_axis_off()\n",
        "    image = image.reshape(28, 28)\n",
        "    ax.imshow(image, cmap=plt.cm.gray_r, interpolation='nearest')\n",
        "    ax.set_title('Etiqueta: %i' % label)"
      ],
      "execution_count": 31,
      "outputs": [
        {
          "output_type": "display_data",
          "data": {
            "image/png": "[encoded data removed]",
            "text/plain": [
              "<Figure size 1080x1080 with 10 Axes>"
            ]
          },
          "metadata": {
            "tags": [],
            "needs_background": "light"
          }
        }
      ]
    },
    {
      "cell_type": "markdown",
      "metadata": {
        "id": "KirnUva33PTf"
      },
      "source": [
        "Comprobamos que los *dataset* no contienen ningún valor faltante:"
      ]
    },
    {
      "cell_type": "code",
      "metadata": {
        "colab": {
          "base_uri": "https://localhost:8080/"
        },
        "id": "C4YchJ0AwQPh",
        "outputId": "0b0eb29a-ad35-485a-d145-098422b4827a"
      },
      "source": [
        "np.any(np.isnan(y_train_mnist))"
      ],
      "execution_count": 32,
      "outputs": [
        {
          "output_type": "execute_result",
          "data": {
            "text/plain": [
              "False"
            ]
          },
          "metadata": {
            "tags": []
          },
          "execution_count": 32
        }
      ]
    },
    {
      "cell_type": "code",
      "metadata": {
        "colab": {
          "base_uri": "https://localhost:8080/"
        },
        "id": "EKnuZSp3xB__",
        "outputId": "590a82e4-254c-421d-e116-3d72d6dfd499"
      },
      "source": [
        "np.any(np.isnan(y_train_fashion))"
      ],
      "execution_count": 33,
      "outputs": [
        {
          "output_type": "execute_result",
          "data": {
            "text/plain": [
              "False"
            ]
          },
          "metadata": {
            "tags": []
          },
          "execution_count": 33
        }
      ]
    },
    {
      "cell_type": "code",
      "metadata": {
        "colab": {
          "base_uri": "https://localhost:8080/"
        },
        "id": "FRJYYlFRxI4y",
        "outputId": "38e0ac93-9db7-4137-bfe5-41d5a102154c"
      },
      "source": [
        "np.any(np.isnan(x_train_mnist))"
      ],
      "execution_count": 34,
      "outputs": [
        {
          "output_type": "execute_result",
          "data": {
            "text/plain": [
              "False"
            ]
          },
          "metadata": {
            "tags": []
          },
          "execution_count": 34
        }
      ]
    },
    {
      "cell_type": "code",
      "metadata": {
        "colab": {
          "base_uri": "https://localhost:8080/"
        },
        "id": "E6FJAUu-xIiy",
        "outputId": "00db4a40-8855-4477-b973-cd30649b1b42"
      },
      "source": [
        "np.any(np.isnan(x_train_fashion))"
      ],
      "execution_count": 35,
      "outputs": [
        {
          "output_type": "execute_result",
          "data": {
            "text/plain": [
              "False"
            ]
          },
          "metadata": {
            "tags": []
          },
          "execution_count": 35
        }
      ]
    },
    {
      "cell_type": "code",
      "metadata": {
        "colab": {
          "base_uri": "https://localhost:8080/"
        },
        "id": "UlzCz9J0xxQE",
        "outputId": "43cbee6c-944a-4fd2-89bc-2d424a9de4e8"
      },
      "source": [
        "np.any(np.isnan(y_test_mnist))"
      ],
      "execution_count": 36,
      "outputs": [
        {
          "output_type": "execute_result",
          "data": {
            "text/plain": [
              "False"
            ]
          },
          "metadata": {
            "tags": []
          },
          "execution_count": 36
        }
      ]
    },
    {
      "cell_type": "code",
      "metadata": {
        "colab": {
          "base_uri": "https://localhost:8080/"
        },
        "id": "UbR8E6AHxxQE",
        "outputId": "a74cd8fd-5de1-4b31-e77c-63dfdfb6b99f"
      },
      "source": [
        "np.any(np.isnan(y_test_fashion))"
      ],
      "execution_count": 37,
      "outputs": [
        {
          "output_type": "execute_result",
          "data": {
            "text/plain": [
              "False"
            ]
          },
          "metadata": {
            "tags": []
          },
          "execution_count": 37
        }
      ]
    },
    {
      "cell_type": "code",
      "metadata": {
        "colab": {
          "base_uri": "https://localhost:8080/"
        },
        "id": "JBh4AEwlxxQE",
        "outputId": "e8922e40-4a47-479d-bd80-dd2d23d867b1"
      },
      "source": [
        "np.any(np.isnan(x_test_mnist))"
      ],
      "execution_count": 38,
      "outputs": [
        {
          "output_type": "execute_result",
          "data": {
            "text/plain": [
              "False"
            ]
          },
          "metadata": {
            "tags": []
          },
          "execution_count": 38
        }
      ]
    },
    {
      "cell_type": "code",
      "metadata": {
        "colab": {
          "base_uri": "https://localhost:8080/"
        },
        "id": "64jNFQFBxxQE",
        "outputId": "64187636-8bc9-48e1-bfbd-28085bc50c09"
      },
      "source": [
        "np.any(np.isnan(x_test_fashion))"
      ],
      "execution_count": 39,
      "outputs": [
        {
          "output_type": "execute_result",
          "data": {
            "text/plain": [
              "False"
            ]
          },
          "metadata": {
            "tags": []
          },
          "execution_count": 39
        }
      ]
    },
    {
      "cell_type": "markdown",
      "metadata": {
        "id": "hLDIHLxATkeD"
      },
      "source": [
        "Para la realización de esta tarea, usaremos solo 20.000 registros de cada conjunto de entrenamiento. Esto reduce el coste computacional para crear los modelos y nos permitirá explorar más posibilidades."
      ]
    },
    {
      "cell_type": "code",
      "metadata": {
        "id": "LaVMZUhY8SRB"
      },
      "source": [
        "n_train = 20000 # registros a usar en entrenamiento\n",
        "x_train_mnist_20000 = x_train_mnist[0:n_train]\n",
        "x_train_fashion_20000 = x_train_fashion[0:n_train]\n",
        "\n",
        "y_train_mnist_20000 = y_train_mnist[0:n_train]\n",
        "y_train_fashion_20000 = y_train_fashion[0:n_train]"
      ],
      "execution_count": 40,
      "outputs": []
    },
    {
      "cell_type": "markdown",
      "metadata": {
        "id": "SKpqSXS746cf"
      },
      "source": [
        "Lo primero es comprobar cómo de balanceados están los *dataset* resultantes:"
      ]
    },
    {
      "cell_type": "code",
      "metadata": {
        "colab": {
          "base_uri": "https://localhost:8080/"
        },
        "id": "lE0B9mP2viIT",
        "outputId": "a1df8205-c630-4e7e-86b1-50197dcad642"
      },
      "source": [
        "pd.Series(y_train_mnist_20000).value_counts() / len(y_train_mnist_20000)"
      ],
      "execution_count": 41,
      "outputs": [
        {
          "output_type": "execute_result",
          "data": {
            "text/plain": [
              "1    0.11405\n",
              "7    0.10465\n",
              "3    0.10380\n",
              "9    0.10070\n",
              "0    0.09970\n",
              "6    0.09855\n",
              "4    0.09725\n",
              "2    0.09645\n",
              "8    0.09610\n",
              "5    0.08875\n",
              "dtype: float64"
            ]
          },
          "metadata": {
            "tags": []
          },
          "execution_count": 41
        }
      ]
    },
    {
      "cell_type": "code",
      "metadata": {
        "colab": {
          "base_uri": "https://localhost:8080/"
        },
        "id": "sM2i6vcxvkCL",
        "outputId": "7a8f3455-0a0a-4098-e961-9fe68ce31c56"
      },
      "source": [
        "pd.Series(y_train_fashion_20000).value_counts() / len(y_train_fashion_20000)"
      ],
      "execution_count": 42,
      "outputs": [
        {
          "output_type": "execute_result",
          "data": {
            "text/plain": [
              "6    0.10340\n",
              "9    0.10140\n",
              "1    0.10125\n",
              "3    0.10055\n",
              "5    0.10050\n",
              "7    0.10015\n",
              "2    0.09910\n",
              "8    0.09855\n",
              "4    0.09835\n",
              "0    0.09675\n",
              "dtype: float64"
            ]
          },
          "metadata": {
            "tags": []
          },
          "execution_count": 42
        }
      ]
    },
    {
      "cell_type": "markdown",
      "metadata": {
        "id": "rqiYGpPm3a4u"
      },
      "source": [
        "Se observa que ambos conjuntos están aproximadamente balanceados. En ambos contamos con 10 clases, siendo mayoritaria la clase 1 para *mnist* (11,4%) y la clase 6 para *fashion_mnist* (10,3%). Por su parte, las clases que menos registros tienen se corresponden con la clase 5 (8,9%) y la clase 0 (9,7%), respectivamente. Por lo tanto, existe una desproporción relativamente pequeña entre la clase mayoritaria y la minoritaria de cada conjunto de datos, de menos del 2,6% para *mnist* y del 0.7% para *fashion_mnist*."
      ]
    },
    {
      "cell_type": "markdown",
      "metadata": {
        "id": "i85iDSx8atam"
      },
      "source": [
        "# **Selección del modelo SVM**\n",
        "\n",
        "\n",
        "\n",
        "Una vez analizados los *dataset*, y viendo que no poseemos un conocimiento previo sobre los mismos, realizaremos una búsqueda de los mejores hiperparámetros para encontrar un modelo SVM adecuado. Para ello, nos valdremos de la función *GridSearchCV*, la cual realizará los ajustes sobre el conjunto de parámetros que especifiquemos. Así, probaremos con dos tipos de *kernel*, el lineal y el gaussiano, para diferentes valores de C. \n",
        "\n",
        "Aquí, tal y como indica la [API de la librería *SVC*](https://scikit-learn.org/stable/modules/generated/sklearn.svm.SVC.html), C es un hiperparámetro de regularización. En concreto, la relevancia de la regularización es inversamente proporcional a C. Por lo tanto, a menor C más importancia da nuestro modelo a los puntos incorrectamente clasificados. Su valor debe ser positivo.\n",
        "\n",
        "Antes de empezar, debemos mencionar que se ha comprobado que realizar esta búsqueda sobre tantos registros requiere unos recursos computaciones muy elevados y mucho tiempo de ejecución. Con la finalidad de emplear un tiempo razonable, aplicamos primeramente una reducción de dimensionalidad sobre el *dataset* usando el método PCA.\n",
        "\n",
        "Así, lo primero es realizar un escalado de los datos, tipificándolos. De esta forma, nos aseguramos que todas las features (784) son tratadas de igual manera. Para esto, usamos el objeto *StandardScaler*, al cual le aplicamos la función *fit_transform* para aprender la conversión más adecuada de los datos de entrenamiento, y *transform* para transformar el conjunto de prueba, aplicando las reglas previamente aprendidas de *fit_transform*."
      ]
    },
    {
      "cell_type": "markdown",
      "metadata": {
        "id": "-vRYoGkNkmKg"
      },
      "source": [
        "## MNIST\n",
        "\n",
        "Empezamos con el dataset de dígitos mnist"
      ]
    },
    {
      "cell_type": "markdown",
      "metadata": {
        "id": "4edoWTr3lq8q"
      },
      "source": [
        "### Tipificación de las catacterísticas\n",
        "\n",
        "Usamos el objecto StandardScaler y su función *fit_transform* para aprender la conversión más adecuada de los datos de entrenamiento. Posteriormente, aplicamos la función *transform* sobre el conjunto de prueba:"
      ]
    },
    {
      "cell_type": "code",
      "metadata": {
        "id": "tj1PO_5TGCSz"
      },
      "source": [
        "from sklearn.preprocessing import StandardScaler\n",
        "\n",
        "scaler = StandardScaler()\n",
        "\n",
        "x_train_mnist_20000_scaled = scaler.fit_transform(x_train_mnist_20000)\n",
        "x_test_mnist_scaled = scaler.transform(x_test_mnist)"
      ],
      "execution_count": 43,
      "outputs": []
    },
    {
      "cell_type": "markdown",
      "metadata": {
        "id": "IgNgNN432rOg"
      },
      "source": [
        "Se puede comprobar, por ejemplo, como la media y la varianza de la primera característica se reducen drásticamente:"
      ]
    },
    {
      "cell_type": "code",
      "metadata": {
        "colab": {
          "base_uri": "https://localhost:8080/"
        },
        "id": "GxDMKK8I0ihR",
        "outputId": "3ce69c4d-fc4b-485f-cf64-a4da06a85758"
      },
      "source": [
        "print(x_train_mnist_20000[0].mean())\n",
        "print(x_train_mnist_20000[0].var())"
      ],
      "execution_count": 44,
      "outputs": [
        {
          "output_type": "stream",
          "text": [
            "35.108418367346935\n",
            "6343.935949539255\n"
          ],
          "name": "stdout"
        }
      ]
    },
    {
      "cell_type": "code",
      "metadata": {
        "colab": {
          "base_uri": "https://localhost:8080/"
        },
        "id": "-0h0tUPlx1TU",
        "outputId": "5af5aa7e-04fb-48bb-ec04-c8f955c34551"
      },
      "source": [
        "print(x_train_mnist_20000_scaled[0].mean())\n",
        "print(x_train_mnist_20000_scaled[0].var())"
      ],
      "execution_count": 45,
      "outputs": [
        {
          "output_type": "stream",
          "text": [
            "0.04546077806502856\n",
            "1.1354239367956749\n"
          ],
          "name": "stdout"
        }
      ]
    },
    {
      "cell_type": "markdown",
      "metadata": {
        "id": "MCgUo0qX2oVd"
      },
      "source": [
        "### PCA\n",
        "\n",
        "Finalmente, realizamos un PCA sobre los datos escalados:"
      ]
    },
    {
      "cell_type": "code",
      "metadata": {
        "colab": {
          "base_uri": "https://localhost:8080/"
        },
        "id": "dgm59Vm02Z8F",
        "outputId": "a4cec19b-ec5d-4b8c-ac43-e354101d6f78"
      },
      "source": [
        "from sklearn.decomposition import PCA\n",
        "\n",
        "pca = PCA()\n",
        "x_train_minst_20000_final = pca.fit_transform(x_train_mnist_20000_scaled)\n",
        "x_test_mnist_final = pca.transform(x_test_mnist_scaled)\n",
        "\n",
        "print(pca.explained_variance_ratio_)"
      ],
      "execution_count": 46,
      "outputs": [
        {
          "output_type": "stream",
          "text": [
            "[5.81775574e-02 4.29843046e-02 3.90283121e-02 2.97657240e-02\n",
            " 2.59065473e-02 2.27433633e-02 2.01658131e-02 1.81206320e-02\n",
            " 1.61917608e-02 1.46852206e-02 1.40009723e-02 1.22715468e-02\n",
            " 1.15142319e-02 1.13090533e-02 1.08902901e-02 1.04645401e-02\n",
            " 9.75561072e-03 9.59844468e-03 9.26520743e-03 9.15832000e-03\n",
            " 8.71122872e-03 8.36737242e-03 7.95164043e-03 7.72453673e-03\n",
            " 7.44983987e-03 7.22383400e-03 7.12917140e-03 6.87547994e-03\n",
            " 6.70234711e-03 6.57725040e-03 6.37092103e-03 6.27567670e-03\n",
            " 6.13575361e-03 5.97899542e-03 5.92499792e-03 5.79054551e-03\n",
            " 5.64356602e-03 5.57342531e-03 5.46119056e-03 5.37822063e-03\n",
            " 5.26599697e-03 4.93892757e-03 4.85284557e-03 4.80459914e-03\n",
            " 4.74284551e-03 4.67569330e-03 4.60468274e-03 4.52211396e-03\n",
            " 4.48376795e-03 4.40720644e-03 4.38864393e-03 4.22364534e-03\n",
            " 4.20871991e-03 4.12676796e-03 4.04052204e-03 3.90702884e-03\n",
            " 3.85102694e-03 3.80225603e-03 3.73317422e-03 3.69048260e-03\n",
            " 3.63841880e-03 3.56436443e-03 3.55078717e-03 3.51884890e-03\n",
            " 3.51113783e-03 3.40150195e-03 3.34832769e-03 3.28385722e-03\n",
            " 3.27029482e-03 3.22897516e-03 3.18453045e-03 3.13650134e-03\n",
            " 3.12267125e-03 3.08193999e-03 3.03007105e-03 3.01249699e-03\n",
            " 2.97421445e-03 2.95186965e-03 2.93248952e-03 2.89936898e-03\n",
            " 2.87404046e-03 2.87029832e-03 2.86352813e-03 2.83587255e-03\n",
            " 2.80164309e-03 2.76697875e-03 2.74105300e-03 2.73503515e-03\n",
            " 2.68913361e-03 2.65344347e-03 2.64381661e-03 2.62077529e-03\n",
            " 2.60734281e-03 2.58820977e-03 2.55532074e-03 2.52063765e-03\n",
            " 2.49188377e-03 2.44717346e-03 2.44144694e-03 2.42561154e-03\n",
            " 2.39501532e-03 2.36514446e-03 2.33285867e-03 2.29144395e-03\n",
            " 2.27763970e-03 2.26561581e-03 2.24810530e-03 2.21719351e-03\n",
            " 2.18163659e-03 2.17109799e-03 2.14875980e-03 2.11731446e-03\n",
            " 2.09968608e-03 2.06836311e-03 2.03653194e-03 2.01760919e-03\n",
            " 2.00473075e-03 1.99756693e-03 1.97034460e-03 1.95275300e-03\n",
            " 1.92627020e-03 1.91266791e-03 1.88615643e-03 1.87142190e-03\n",
            " 1.86681438e-03 1.82387341e-03 1.81580993e-03 1.80777562e-03\n",
            " 1.79625473e-03 1.79066633e-03 1.76192152e-03 1.73688428e-03\n",
            " 1.72756191e-03 1.72387202e-03 1.69468425e-03 1.66683945e-03\n",
            " 1.64247708e-03 1.63013869e-03 1.61152000e-03 1.59880161e-03\n",
            " 1.58738458e-03 1.57128798e-03 1.55791211e-03 1.55189845e-03\n",
            " 1.54228983e-03 1.53046224e-03 1.50193314e-03 1.48706242e-03\n",
            " 1.47574139e-03 1.46732527e-03 1.45354017e-03 1.44265321e-03\n",
            " 1.43549312e-03 1.43271134e-03 1.42904879e-03 1.42669018e-03\n",
            " 1.40616583e-03 1.39414091e-03 1.38684935e-03 1.37674010e-03\n",
            " 1.36730667e-03 1.35348097e-03 1.34245629e-03 1.33179305e-03\n",
            " 1.32164258e-03 1.29418444e-03 1.28039786e-03 1.27468706e-03\n",
            " 1.26391383e-03 1.25138869e-03 1.23683398e-03 1.22627887e-03\n",
            " 1.21251877e-03 1.20343483e-03 1.19996995e-03 1.17763878e-03\n",
            " 1.17215148e-03 1.15355303e-03 1.14717748e-03 1.14147521e-03\n",
            " 1.12337015e-03 1.11636072e-03 1.10755062e-03 1.09345938e-03\n",
            " 1.07855706e-03 1.07376570e-03 1.06351581e-03 1.06204269e-03\n",
            " 1.05620960e-03 1.04075323e-03 1.02800136e-03 1.02113891e-03\n",
            " 1.01308368e-03 9.98431470e-04 9.88668767e-04 9.78253762e-04\n",
            " 9.60959069e-04 9.57255809e-04 9.50940639e-04 9.35374500e-04\n",
            " 9.31825044e-04 9.23110084e-04 9.09462899e-04 9.07682027e-04\n",
            " 9.01369160e-04 8.83982997e-04 8.74237500e-04 8.69075419e-04\n",
            " 8.60970694e-04 8.53440794e-04 8.49958307e-04 8.40637050e-04\n",
            " 8.31922089e-04 8.20942453e-04 8.08115604e-04 8.07481875e-04\n",
            " 8.05952400e-04 7.93334344e-04 7.86189868e-04 7.79712840e-04\n",
            " 7.70955648e-04 7.52229490e-04 7.49240410e-04 7.42812119e-04\n",
            " 7.40431714e-04 7.30003920e-04 7.25118824e-04 7.21668940e-04\n",
            " 7.13244021e-04 7.07298426e-04 6.98666380e-04 6.97129947e-04\n",
            " 6.90888202e-04 6.72751929e-04 6.67634771e-04 6.59730935e-04\n",
            " 6.54696807e-04 6.49723092e-04 6.45855633e-04 6.36854290e-04\n",
            " 6.33490047e-04 6.30780822e-04 6.25639176e-04 6.20196200e-04\n",
            " 6.16104954e-04 6.12494064e-04 6.06101469e-04 5.97409711e-04\n",
            " 5.97138952e-04 5.86364456e-04 5.76298019e-04 5.75153301e-04\n",
            " 5.66521255e-04 5.62913012e-04 5.60407566e-04 5.56581749e-04\n",
            " 5.48696392e-04 5.41828046e-04 5.35809850e-04 5.30603317e-04\n",
            " 5.27609797e-04 5.23531266e-04 5.19664137e-04 5.15798770e-04\n",
            " 5.13811025e-04 5.09573289e-04 5.06773176e-04 5.04904542e-04\n",
            " 4.96637923e-04 4.95994736e-04 4.94509792e-04 4.88521583e-04\n",
            " 4.84766736e-04 4.76661968e-04 4.72477070e-04 4.67809231e-04\n",
            " 4.63992443e-04 4.54022120e-04 4.52989694e-04 4.50519787e-04\n",
            " 4.44485536e-04 4.42793289e-04 4.40405338e-04 4.39011332e-04\n",
            " 4.35374289e-04 4.29816806e-04 4.21795145e-04 4.19666093e-04\n",
            " 4.16689134e-04 4.13426867e-04 4.12582326e-04 4.08800124e-04\n",
            " 4.05363269e-04 4.03446264e-04 4.01308897e-04 3.96130986e-04\n",
            " 3.91234723e-04 3.89638661e-04 3.86196391e-04 3.83686021e-04\n",
            " 3.80608143e-04 3.74919852e-04 3.71237116e-04 3.70232496e-04\n",
            " 3.66401186e-04 3.62386258e-04 3.59038616e-04 3.53181494e-04\n",
            " 3.48181263e-04 3.47294364e-04 3.45739678e-04 3.42611299e-04\n",
            " 3.38791351e-04 3.36566279e-04 3.34469152e-04 3.31284905e-04\n",
            " 3.26699035e-04 3.25883817e-04 3.24961183e-04 3.22033441e-04\n",
            " 3.20266545e-04 3.17534673e-04 3.15359363e-04 3.14051597e-04\n",
            " 3.12369894e-04 3.08957546e-04 3.08738220e-04 3.05287195e-04\n",
            " 3.01945449e-04 3.00045258e-04 2.97932297e-04 2.94922625e-04\n",
            " 2.92798552e-04 2.92308846e-04 2.88403477e-04 2.86427567e-04\n",
            " 2.84158287e-04 2.83585533e-04 2.80822134e-04 2.78853429e-04\n",
            " 2.75144885e-04 2.71769192e-04 2.69931615e-04 2.69484359e-04\n",
            " 2.68435457e-04 2.65741941e-04 2.61724546e-04 2.60686561e-04\n",
            " 2.58936895e-04 2.56811595e-04 2.52640146e-04 2.50325143e-04\n",
            " 2.49284157e-04 2.46989213e-04 2.45455806e-04 2.43655596e-04\n",
            " 2.42252284e-04 2.40200919e-04 2.38736235e-04 2.34240855e-04\n",
            " 2.33534637e-04 2.33256370e-04 2.32155286e-04 2.31386892e-04\n",
            " 2.30095113e-04 2.29012838e-04 2.26896550e-04 2.24110959e-04\n",
            " 2.23200809e-04 2.22534508e-04 2.21464286e-04 2.18158616e-04\n",
            " 2.16823782e-04 2.14121978e-04 2.12913531e-04 2.11886288e-04\n",
            " 2.10457396e-04 2.09863627e-04 2.08480211e-04 2.07343905e-04\n",
            " 2.06176640e-04 2.03824319e-04 2.02916047e-04 2.01716532e-04\n",
            " 2.00463259e-04 1.99733856e-04 1.98536764e-04 1.95915586e-04\n",
            " 1.94825620e-04 1.93525422e-04 1.91046355e-04 1.89872134e-04\n",
            " 1.88580514e-04 1.87924411e-04 1.86839780e-04 1.85939547e-04\n",
            " 1.82865027e-04 1.82312076e-04 1.81323892e-04 1.80163097e-04\n",
            " 1.78210661e-04 1.77735073e-04 1.76471803e-04 1.75920037e-04\n",
            " 1.74356570e-04 1.72716485e-04 1.71633760e-04 1.71323531e-04\n",
            " 1.70017964e-04 1.69703302e-04 1.69368380e-04 1.68366985e-04\n",
            " 1.67255981e-04 1.67076761e-04 1.65693259e-04 1.63449769e-04\n",
            " 1.62635562e-04 1.61507902e-04 1.60240172e-04 1.59451469e-04\n",
            " 1.59338170e-04 1.57556334e-04 1.56890517e-04 1.55997727e-04\n",
            " 1.54292176e-04 1.53462395e-04 1.52290341e-04 1.51175589e-04\n",
            " 1.50129656e-04 1.49248892e-04 1.47835125e-04 1.47685028e-04\n",
            " 1.46808386e-04 1.45929777e-04 1.45462028e-04 1.44908721e-04\n",
            " 1.43839453e-04 1.42819507e-04 1.41602550e-04 1.41246863e-04\n",
            " 1.40474396e-04 1.40196986e-04 1.39485011e-04 1.38338618e-04\n",
            " 1.37827037e-04 1.36925575e-04 1.36011481e-04 1.34382382e-04\n",
            " 1.34238483e-04 1.33443795e-04 1.32870721e-04 1.30871372e-04\n",
            " 1.30461630e-04 1.29610307e-04 1.29512492e-04 1.28289281e-04\n",
            " 1.27707184e-04 1.27278348e-04 1.26883066e-04 1.26102771e-04\n",
            " 1.24701811e-04 1.24546831e-04 1.23797633e-04 1.22989035e-04\n",
            " 1.22797749e-04 1.20609311e-04 1.20223250e-04 1.19893259e-04\n",
            " 1.19018254e-04 1.18655324e-04 1.17869053e-04 1.16964887e-04\n",
            " 1.16706134e-04 1.15841898e-04 1.15250452e-04 1.14530936e-04\n",
            " 1.13933187e-04 1.13616484e-04 1.12267208e-04 1.12038848e-04\n",
            " 1.10765617e-04 1.10465077e-04 1.09563453e-04 1.09472819e-04\n",
            " 1.09048757e-04 1.08676420e-04 1.07773272e-04 1.06786441e-04\n",
            " 1.06547892e-04 1.05952804e-04 1.05535969e-04 1.04838923e-04\n",
            " 1.04004051e-04 1.03642016e-04 1.02760489e-04 1.01962352e-04\n",
            " 1.01686076e-04 1.01368394e-04 1.00653265e-04 1.00451747e-04\n",
            " 1.00082591e-04 9.95684577e-05 9.93263955e-05 9.84400730e-05\n",
            " 9.79306286e-05 9.75366089e-05 9.70828335e-05 9.60328152e-05\n",
            " 9.58501463e-05 9.47452314e-05 9.44260975e-05 9.38835590e-05\n",
            " 9.33320130e-05 9.25949658e-05 9.23345353e-05 9.20432005e-05\n",
            " 9.15652867e-05 9.11411514e-05 9.04331492e-05 9.00784244e-05\n",
            " 8.97944347e-05 8.92535941e-05 8.90244335e-05 8.87717986e-05\n",
            " 8.82740512e-05 8.75708629e-05 8.70725290e-05 8.68167472e-05\n",
            " 8.62444719e-05 8.56846697e-05 8.53245843e-05 8.50857456e-05\n",
            " 8.41158531e-05 8.40569596e-05 8.39102270e-05 8.31055010e-05\n",
            " 8.26887901e-05 8.19507538e-05 8.17642618e-05 8.14417540e-05\n",
            " 8.09059812e-05 8.07592018e-05 8.01788620e-05 7.95502864e-05\n",
            " 7.92221958e-05 7.88933022e-05 7.85147089e-05 7.82905173e-05\n",
            " 7.76604219e-05 7.74249513e-05 7.72507562e-05 7.69803909e-05\n",
            " 7.61956795e-05 7.58121873e-05 7.56470224e-05 7.50871110e-05\n",
            " 7.49960620e-05 7.43830202e-05 7.40506519e-05 7.38093148e-05\n",
            " 7.33905581e-05 7.27921455e-05 7.23608633e-05 7.19567671e-05\n",
            " 7.13705920e-05 7.11693597e-05 7.09992192e-05 7.07593949e-05\n",
            " 6.99040770e-05 6.90000364e-05 6.88187086e-05 6.86508846e-05\n",
            " 6.80497433e-05 6.75076641e-05 6.70146258e-05 6.66140536e-05\n",
            " 6.62399017e-05 6.57707316e-05 6.55882370e-05 6.51466672e-05\n",
            " 6.46378029e-05 6.43882574e-05 6.38209445e-05 6.34489039e-05\n",
            " 6.31259377e-05 6.25853984e-05 6.24411151e-05 6.18296022e-05\n",
            " 6.15876734e-05 6.08321527e-05 6.06941050e-05 6.04530856e-05\n",
            " 6.03821435e-05 6.00600546e-05 5.94157554e-05 5.92361393e-05\n",
            " 5.91882342e-05 5.90035711e-05 5.86297914e-05 5.83345213e-05\n",
            " 5.79854044e-05 5.75580016e-05 5.67104926e-05 5.66121366e-05\n",
            " 5.62665291e-05 5.59410375e-05 5.57450736e-05 5.52990497e-05\n",
            " 5.47488088e-05 5.45453677e-05 5.44337596e-05 5.42623708e-05\n",
            " 5.40653661e-05 5.37393008e-05 5.33109580e-05 5.29328017e-05\n",
            " 5.23726174e-05 5.22591407e-05 5.18130310e-05 5.16119349e-05\n",
            " 5.12589289e-05 5.08067330e-05 5.01602007e-05 4.99462903e-05\n",
            " 4.98219671e-05 4.92336706e-05 4.91135970e-05 4.88994524e-05\n",
            " 4.83929033e-05 4.79548870e-05 4.78862741e-05 4.72802411e-05\n",
            " 4.69259399e-05 4.64180485e-05 4.62535489e-05 4.59829784e-05\n",
            " 4.56607275e-05 4.52544485e-05 4.47777852e-05 4.42470912e-05\n",
            " 4.37538163e-05 4.34443915e-05 4.32514785e-05 4.28229419e-05\n",
            " 4.24760776e-05 4.22747212e-05 4.19810899e-05 4.17028885e-05\n",
            " 4.12828293e-05 4.07789453e-05 4.05278241e-05 4.02671365e-05\n",
            " 3.98636450e-05 3.97553857e-05 3.92121813e-05 3.85698043e-05\n",
            " 3.84855575e-05 3.82052053e-05 3.79566003e-05 3.78293361e-05\n",
            " 3.75605162e-05 3.71720624e-05 3.67625903e-05 3.65763925e-05\n",
            " 3.61577014e-05 3.58973511e-05 3.54518307e-05 3.49011354e-05\n",
            " 3.45619767e-05 3.43711512e-05 3.35724954e-05 3.35509706e-05\n",
            " 3.29026475e-05 3.25691353e-05 3.22899189e-05 3.17423839e-05\n",
            " 3.16524557e-05 3.11744818e-05 3.01894318e-05 2.97384744e-05\n",
            " 2.92983068e-05 2.88265134e-05 2.75723510e-05 2.59882699e-05\n",
            " 2.57687611e-05 2.50908779e-05 1.11007235e-05 3.94545522e-31\n",
            " 2.10670444e-32 5.02556706e-33 3.06350761e-33 2.96714283e-33\n",
            " 2.63892532e-33 2.31612339e-33 2.11203323e-33 1.79623295e-33\n",
            " 1.66309116e-33 1.29037283e-33 1.12476452e-33 8.84596768e-34\n",
            " 8.32528078e-34 7.17413592e-34 5.51177646e-34 3.94472781e-34\n",
            " 3.31397848e-34 2.98359850e-34 2.57607570e-34 2.52194428e-34\n",
            " 2.47539779e-34 2.47539779e-34 2.47539779e-34 2.47539779e-34\n",
            " 2.47539779e-34 2.47539779e-34 2.47539779e-34 2.47539779e-34\n",
            " 2.47539779e-34 2.47539779e-34 2.47539779e-34 2.47539779e-34\n",
            " 2.47539779e-34 2.47539779e-34 2.47539779e-34 2.47539779e-34\n",
            " 2.47539779e-34 2.47539779e-34 2.47539779e-34 2.47539779e-34\n",
            " 2.47539779e-34 2.47539779e-34 2.47539779e-34 2.47539779e-34\n",
            " 2.47539779e-34 2.47539779e-34 2.47539779e-34 2.47539779e-34\n",
            " 2.47539779e-34 2.47539779e-34 2.47539779e-34 2.47539779e-34\n",
            " 2.47539779e-34 2.47539779e-34 2.47539779e-34 2.47539779e-34\n",
            " 2.47539779e-34 2.47539779e-34 2.47539779e-34 2.47539779e-34\n",
            " 2.47539779e-34 2.47539779e-34 2.47539779e-34 2.47539779e-34\n",
            " 2.47539779e-34 2.47539779e-34 2.47539779e-34 2.47539779e-34\n",
            " 2.47539779e-34 2.47539779e-34 2.47539779e-34 2.47539779e-34\n",
            " 2.47539779e-34 2.47539779e-34 2.47539779e-34 2.47539779e-34\n",
            " 2.47539779e-34 2.47539779e-34 2.47539779e-34 2.47539779e-34\n",
            " 2.47539779e-34 2.47539779e-34 2.47539779e-34 2.47539779e-34\n",
            " 2.47539779e-34 2.47539779e-34 2.47539779e-34 2.47539779e-34\n",
            " 2.47539779e-34 2.47539779e-34 2.47539779e-34 2.09853197e-34\n",
            " 1.31838217e-34 1.15224809e-34 4.72202225e-35 4.81108137e-36]\n"
          ],
          "name": "stdout"
        }
      ]
    },
    {
      "cell_type": "markdown",
      "metadata": {
        "id": "bI5XpiCkyc3e"
      },
      "source": [
        "Como vemos, la componente principal representa cerca del 5,82% de la variabilidad total. Las sucesivas componentes van explicando en menor medida cada dato.\n",
        "\n",
        "Si nos fijamos, hay un salto muy grande, pasando de $10 ^{-5}$ a $10 ^{-31}$, una diferencia de muchas órdenes de magnitud. Esto quiere decir que podremos reducir la dimensionalidad de nuestro conjunto de datos sin perder apenas representatividad. Probablemente esto se deba a las esquinas de las imágenes, cuyos píxeles esperamos que siempre estén en blanco. De hecho, podemos buscar a partir de qué componente se produce este salto:"
      ]
    },
    {
      "cell_type": "code",
      "metadata": {
        "colab": {
          "base_uri": "https://localhost:8080/"
        },
        "id": "BwziJQNzcmxr",
        "outputId": "faed585f-ed5b-42e9-f222-c65c1a7bc0ce"
      },
      "source": [
        "print(len(pca.explained_variance_ratio_[pca.explained_variance_ratio_ > 0.00001]))"
      ],
      "execution_count": 47,
      "outputs": [
        {
          "output_type": "stream",
          "text": [
            "687\n"
          ],
          "name": "stdout"
        }
      ]
    },
    {
      "cell_type": "markdown",
      "metadata": {
        "id": "TFJrXZWZ0xZ9"
      },
      "source": [
        "Este número nos sigue pareciendo algo elevado. Probemos a quedarnos con las primeras 500 componentes y veamos que conseguimos explicar más del 98% de la variabilidad de los datos del conjunto de entrenamiento:"
      ]
    },
    {
      "cell_type": "code",
      "metadata": {
        "colab": {
          "base_uri": "https://localhost:8080/"
        },
        "id": "DhjvHH_ac92a",
        "outputId": "328e4395-a85c-4fa2-92f2-a7f7d9bb0419"
      },
      "source": [
        "sum(pca.explained_variance_ratio_[0:500])"
      ],
      "execution_count": 48,
      "outputs": [
        {
          "output_type": "execute_result",
          "data": {
            "text/plain": [
              "0.9885214361090495"
            ]
          },
          "metadata": {
            "tags": []
          },
          "execution_count": 48
        }
      ]
    },
    {
      "cell_type": "code",
      "metadata": {
        "id": "HZTwQSY5dZH4"
      },
      "source": [
        "x_train_minst_20000_500_components_final = x_train_minst_20000_final[:,0:500]\n",
        "x_test_mnist_500_components_final = x_test_mnist_final[:,0:500]"
      ],
      "execution_count": 49,
      "outputs": []
    },
    {
      "cell_type": "markdown",
      "metadata": {
        "id": "pO71p5fl1dRm"
      },
      "source": [
        "### Búsqueda del mejor modelo\n",
        "\n",
        "A continuación, realizamos la búsqueda paramétrica sobre el conjunto de entrenamiento, introduciendo un C con los valores 1, 10, 100 y 1000 tanto para el kernel lineal como para el kernel gaussiano:"
      ]
    },
    {
      "cell_type": "code",
      "metadata": {
        "colab": {
          "base_uri": "https://localhost:8080/"
        },
        "id": "wKIGA3BNb9M8",
        "outputId": "b555e701-881a-490f-b8ca-3fc0a91bd214"
      },
      "source": [
        "from sklearn.model_selection import GridSearchCV\n",
        "from sklearn.svm import SVC\n",
        "\n",
        "param_grid = {'C': [1, 10, 100, 1000],\n",
        "              'kernel': ['rbf', 'linear']} \n",
        "\n",
        "grid = GridSearchCV(SVC(), param_grid)\n",
        "grid.fit(x_train_minst_20000_500_components_final, y_train_mnist_20000)\n",
        "best_params = grid.best_params_\n",
        "print(f\"Best params: {best_params}\")"
      ],
      "execution_count": null,
      "outputs": [
        {
          "output_type": "stream",
          "text": [
            "Best params: {'C': 10, 'kernel': 'rbf'}\n"
          ],
          "name": "stdout"
        }
      ]
    },
    {
      "cell_type": "markdown",
      "metadata": {
        "id": "jjHJJagGwWVY"
      },
      "source": [
        "Tras unos 45 minutos de ejecución, la función nos indica que el mejor modelo es aquel con kernel tipo gaussiano y con un valor C de 10. (Si hubiésemos optado por no realizar un PCA, la ejecución se demoraría más de 2 horas.)\n",
        "\n",
        "No obstante, consideramos que este tiempo de entrenamiento es muy elevado y por tanto optamos por implementar explícitamente la búsqueda de forma que podamos medir el tiempo de entrenamiento, así como las principales métricas para cada modelo. Esto nos permitirá seleccionar un valor compromiso entre una alta *accuracy* y un tiempo de ejecución razonablemente pequeño.\n",
        "\n",
        "Empezamos con el kernel gaussiano para diferentes valores de C:"
      ]
    },
    {
      "cell_type": "code",
      "metadata": {
        "colab": {
          "base_uri": "https://localhost:8080/",
          "height": 1000
        },
        "id": "exwlInbVzclX",
        "outputId": "cedbbc3d-3b1f-47b4-8542-79d55f243c94"
      },
      "source": [
        "from time import time\n",
        "import datetime\n",
        "from sklearn.svm import SVC\n",
        "from sklearn.metrics import confusion_matrix,classification_report\n",
        "\n",
        "minAccTrain = 100\n",
        "maxAccTrain = 0\n",
        "rapidoAccTrain = 0\n",
        "lentoAccTrain = 0\n",
        "minAccTest= 100\n",
        "maxAccTest = 0\n",
        "rapidoAccTest = 0\n",
        "lentoAccTest = 0\n",
        "\n",
        "mejorTime = 0\n",
        "peorTime = 0\n",
        "minTime = 1000000000\n",
        "maxTime = 0\n",
        "\n",
        "mejorModelo = SVC()\n",
        "peorModelo = SVC()\n",
        "rapidoModelo = SVC()\n",
        "lentoModelo = SVC()\n",
        "\n",
        "c_list = []\n",
        "acc_train_list = []\n",
        "acc_test_list = []\n",
        "\n",
        "kernel = \"rbf\"\n",
        "\n",
        "for c in (1, 10, 100, 1000):\n",
        "    print(\"Kernel Gaussiano con C =\", c)\n",
        "    timeIni = time()\n",
        "    modelo = SVC(kernel = kernel, C=c)\n",
        "    print(modelo.fit(x_train_minst_20000_500_components_final, y_train_mnist_20000))\n",
        "    timeEnd = time()\n",
        "    timeDiff = datetime.datetime.fromtimestamp(timeEnd-timeIni).strftime(\"%M:%S:%f\")\n",
        "    print(\"Tiempo entrenamiento: \", timeDiff)\n",
        "\n",
        "    c_list.append(c)\n",
        "\n",
        "    #para el conjunto de entrenamiento:\n",
        "    acc_train = modelo.score(x_train_minst_20000_500_components_final, y_train_mnist_20000)\n",
        "    acc_train_list.append(acc_train)\n",
        "    print(\"Precisión (accuracy): \", acc_train)\n",
        "\n",
        "\n",
        "    predicciones = modelo.predict(x_train_minst_20000_500_components_final)\n",
        "    print(\"Matriz de confusión:\")\n",
        "    print(confusion_matrix(y_train_mnist_20000, predicciones))\n",
        "    print(classification_report(y_train_mnist_20000, predicciones))\n",
        "    print(\"---------------------------------------\")\n",
        "    print()\n",
        "\n",
        "    #para el conjunto test:\n",
        "    acc_test = modelo.score(x_test_mnist_500_components_final, y_test_mnist)\n",
        "    acc_test_list.append(acc_test)\n",
        "    print(\"Precisión (accuracy): \", acc_test)\n",
        "\n",
        "    predicciones = modelo.predict(x_test_mnist_500_components_final)\n",
        "    print(\"Matriz de confusión:\")\n",
        "    print(confusion_matrix(y_test_mnist, predicciones))\n",
        "    print(classification_report(y_test_mnist, predicciones))\n",
        "    print(\"---------------------------------------\")\n",
        "    print()\n",
        "\n",
        "df = pd.DataFrame({\"c\":c_list, \n",
        "                   \"score_train\":acc_train_list,\n",
        "                   \"score_test\":acc_test_list})\n",
        "\n",
        "df.set_index(\"c\", inplace=True)\n",
        "df[\"score_train\"].plot(label=\"Train Score\")\n",
        "df[\"score_test\"].plot(label=\"Test Score\")\n",
        "plt.suptitle(\"Accuracy Train and Test\")\n",
        "plt.legend()\n",
        "plt.show();"
      ],
      "execution_count": null,
      "outputs": [
        {
          "output_type": "stream",
          "text": [
            "Kernel Gaussiano con C = 1\n",
            "SVC(C=1, break_ties=False, cache_size=200, class_weight=None, coef0=0.0,\n",
            "    decision_function_shape='ovr', degree=3, gamma='scale', kernel='rbf',\n",
            "    max_iter=-1, probability=False, random_state=None, shrinking=True,\n",
            "    tol=0.001, verbose=False)\n",
            "Tiempo entrenamiento:  01:46:756187\n",
            "Precisión (accuracy):  0.9855\n",
            "Matriz de confusión:\n",
            "[[1988    0    0    0    1    1    3    0    0    1]\n",
            " [   0 2261    6    4    2    0    1    1    3    3]\n",
            " [   2    4 1910    2    1    0    1    5    3    1]\n",
            " [   0    3    7 2027    1   12    0   10   10    6]\n",
            " [   0    3    1    0 1921    0    2    1    0   17]\n",
            " [   2    1    1    9    3 1747    7    0    4    1]\n",
            " [   4    3    1    0    2    4 1954    0    3    0]\n",
            " [   0    4    3    0    7    0    0 2061    2   16]\n",
            " [   0   10    3    7    3    5    2    2 1884    6]\n",
            " [   3    3    0    8   18    3    1   17    4 1957]]\n",
            "              precision    recall  f1-score   support\n",
            "\n",
            "           0       0.99      1.00      1.00      1994\n",
            "           1       0.99      0.99      0.99      2281\n",
            "           2       0.99      0.99      0.99      1929\n",
            "           3       0.99      0.98      0.98      2076\n",
            "           4       0.98      0.99      0.98      1945\n",
            "           5       0.99      0.98      0.99      1775\n",
            "           6       0.99      0.99      0.99      1971\n",
            "           7       0.98      0.98      0.98      2093\n",
            "           8       0.98      0.98      0.98      1922\n",
            "           9       0.97      0.97      0.97      2014\n",
            "\n",
            "    accuracy                           0.99     20000\n",
            "   macro avg       0.99      0.99      0.99     20000\n",
            "weighted avg       0.99      0.99      0.99     20000\n",
            "\n",
            "---------------------------------------\n",
            "\n",
            "Precisión (accuracy):  0.9521\n",
            "Matriz de confusión:\n",
            "[[ 957    0    2    3    1    3    8    3    3    0]\n",
            " [   0 1124    3    2    0    1    4    0    1    0]\n",
            " [   9    1  978    4    3    1    3   22   11    0]\n",
            " [   0    0    8  964    0    8    0   16   12    2]\n",
            " [   0    0   14    0  934    1    8    8    3   14]\n",
            " [   3    1    4   16    5  828   13   10   10    2]\n",
            " [   6    2    0    1    4    8  927    7    3    0]\n",
            " [   1   13   19    6    1    0    0  970    0   18]\n",
            " [   5    2    6   14    7    9    3   17  907    4]\n",
            " [   4    6    6   13   20    2    0   21    5  932]]\n",
            "              precision    recall  f1-score   support\n",
            "\n",
            "           0       0.97      0.98      0.97       980\n",
            "           1       0.98      0.99      0.98      1135\n",
            "           2       0.94      0.95      0.94      1032\n",
            "           3       0.94      0.95      0.95      1010\n",
            "           4       0.96      0.95      0.95       982\n",
            "           5       0.96      0.93      0.94       892\n",
            "           6       0.96      0.97      0.96       958\n",
            "           7       0.90      0.94      0.92      1028\n",
            "           8       0.95      0.93      0.94       974\n",
            "           9       0.96      0.92      0.94      1009\n",
            "\n",
            "    accuracy                           0.95     10000\n",
            "   macro avg       0.95      0.95      0.95     10000\n",
            "weighted avg       0.95      0.95      0.95     10000\n",
            "\n",
            "---------------------------------------\n",
            "\n",
            "Kernel Gaussiano con C = 10\n",
            "SVC(C=10, break_ties=False, cache_size=200, class_weight=None, coef0=0.0,\n",
            "    decision_function_shape='ovr', degree=3, gamma='scale', kernel='rbf',\n",
            "    max_iter=-1, probability=False, random_state=None, shrinking=True,\n",
            "    tol=0.001, verbose=False)\n",
            "Tiempo entrenamiento:  01:36:594752\n",
            "Precisión (accuracy):  0.99945\n",
            "Matriz de confusión:\n",
            "[[1994    0    0    0    0    0    0    0    0    0]\n",
            " [   0 2280    0    0    0    0    0    0    0    1]\n",
            " [   0    1 1928    0    0    0    0    0    0    0]\n",
            " [   0    0    0 2072    0    1    0    1    1    1]\n",
            " [   0    0    0    0 1943    0    0    0    0    2]\n",
            " [   0    0    0    0    0 1775    0    0    0    0]\n",
            " [   0    0    0    0    0    0 1971    0    0    0]\n",
            " [   0    0    0    0    0    0    0 2093    0    0]\n",
            " [   0    0    0    0    0    0    0    0 1922    0]\n",
            " [   0    0    0    0    2    0    0    1    0 2011]]\n",
            "              precision    recall  f1-score   support\n",
            "\n",
            "           0       1.00      1.00      1.00      1994\n",
            "           1       1.00      1.00      1.00      2281\n",
            "           2       1.00      1.00      1.00      1929\n",
            "           3       1.00      1.00      1.00      2076\n",
            "           4       1.00      1.00      1.00      1945\n",
            "           5       1.00      1.00      1.00      1775\n",
            "           6       1.00      1.00      1.00      1971\n",
            "           7       1.00      1.00      1.00      2093\n",
            "           8       1.00      1.00      1.00      1922\n",
            "           9       1.00      1.00      1.00      2014\n",
            "\n",
            "    accuracy                           1.00     20000\n",
            "   macro avg       1.00      1.00      1.00     20000\n",
            "weighted avg       1.00      1.00      1.00     20000\n",
            "\n",
            "---------------------------------------\n",
            "\n",
            "Precisión (accuracy):  0.9609\n",
            "Matriz de confusión:\n",
            "[[ 958    0    4    2    2    3    6    2    3    0]\n",
            " [   0 1126    3    0    0    1    4    0    1    0]\n",
            " [   5    1  986    4    5    0    1   22    8    0]\n",
            " [   0    1   11  969    0    7    0   12    8    2]\n",
            " [   0    0   13    0  941    1    6    9    3    9]\n",
            " [   2    0    3   11    4  845   10   10    5    2]\n",
            " [   4    3    2    1    6    7  926    7    2    0]\n",
            " [   1    8   14    5    1    0    0  988    0   11]\n",
            " [   3    2    5    9    6    7    2   15  923    2]\n",
            " [   2    4    7    9   16    4    0   17    3  947]]\n",
            "              precision    recall  f1-score   support\n",
            "\n",
            "           0       0.98      0.98      0.98       980\n",
            "           1       0.98      0.99      0.99      1135\n",
            "           2       0.94      0.96      0.95      1032\n",
            "           3       0.96      0.96      0.96      1010\n",
            "           4       0.96      0.96      0.96       982\n",
            "           5       0.97      0.95      0.96       892\n",
            "           6       0.97      0.97      0.97       958\n",
            "           7       0.91      0.96      0.94      1028\n",
            "           8       0.97      0.95      0.96       974\n",
            "           9       0.97      0.94      0.96      1009\n",
            "\n",
            "    accuracy                           0.96     10000\n",
            "   macro avg       0.96      0.96      0.96     10000\n",
            "weighted avg       0.96      0.96      0.96     10000\n",
            "\n",
            "---------------------------------------\n",
            "\n",
            "Kernel Gaussiano con C = 100\n",
            "SVC(C=100, break_ties=False, cache_size=200, class_weight=None, coef0=0.0,\n",
            "    decision_function_shape='ovr', degree=3, gamma='scale', kernel='rbf',\n",
            "    max_iter=-1, probability=False, random_state=None, shrinking=True,\n",
            "    tol=0.001, verbose=False)\n",
            "Tiempo entrenamiento:  01:36:652748\n",
            "Precisión (accuracy):  1.0\n",
            "Matriz de confusión:\n",
            "[[1994    0    0    0    0    0    0    0    0    0]\n",
            " [   0 2281    0    0    0    0    0    0    0    0]\n",
            " [   0    0 1929    0    0    0    0    0    0    0]\n",
            " [   0    0    0 2076    0    0    0    0    0    0]\n",
            " [   0    0    0    0 1945    0    0    0    0    0]\n",
            " [   0    0    0    0    0 1775    0    0    0    0]\n",
            " [   0    0    0    0    0    0 1971    0    0    0]\n",
            " [   0    0    0    0    0    0    0 2093    0    0]\n",
            " [   0    0    0    0    0    0    0    0 1922    0]\n",
            " [   0    0    0    0    0    0    0    0    0 2014]]\n",
            "              precision    recall  f1-score   support\n",
            "\n",
            "           0       1.00      1.00      1.00      1994\n",
            "           1       1.00      1.00      1.00      2281\n",
            "           2       1.00      1.00      1.00      1929\n",
            "           3       1.00      1.00      1.00      2076\n",
            "           4       1.00      1.00      1.00      1945\n",
            "           5       1.00      1.00      1.00      1775\n",
            "           6       1.00      1.00      1.00      1971\n",
            "           7       1.00      1.00      1.00      2093\n",
            "           8       1.00      1.00      1.00      1922\n",
            "           9       1.00      1.00      1.00      2014\n",
            "\n",
            "    accuracy                           1.00     20000\n",
            "   macro avg       1.00      1.00      1.00     20000\n",
            "weighted avg       1.00      1.00      1.00     20000\n",
            "\n",
            "---------------------------------------\n",
            "\n",
            "Precisión (accuracy):  0.9612\n",
            "Matriz de confusión:\n",
            "[[ 958    0    4    2    2    3    6    2    3    0]\n",
            " [   0 1126    3    0    0    1    4    0    1    0]\n",
            " [   5    1  986    4    5    0    1   22    8    0]\n",
            " [   0    0   11  971    0    5    0   12    8    3]\n",
            " [   0    0   13    0  941    1    6    9    3    9]\n",
            " [   2    0    3   13    4  844   10   10    4    2]\n",
            " [   4    3    2    1    5    7  927    7    2    0]\n",
            " [   1   11   14    5    1    0    0  986    0   10]\n",
            " [   3    2    5    8    6    7    2   15  924    2]\n",
            " [   2    5    6    9   13    5    0   17    3  949]]\n",
            "              precision    recall  f1-score   support\n",
            "\n",
            "           0       0.98      0.98      0.98       980\n",
            "           1       0.98      0.99      0.99      1135\n",
            "           2       0.94      0.96      0.95      1032\n",
            "           3       0.96      0.96      0.96      1010\n",
            "           4       0.96      0.96      0.96       982\n",
            "           5       0.97      0.95      0.96       892\n",
            "           6       0.97      0.97      0.97       958\n",
            "           7       0.91      0.96      0.94      1028\n",
            "           8       0.97      0.95      0.96       974\n",
            "           9       0.97      0.94      0.96      1009\n",
            "\n",
            "    accuracy                           0.96     10000\n",
            "   macro avg       0.96      0.96      0.96     10000\n",
            "weighted avg       0.96      0.96      0.96     10000\n",
            "\n",
            "---------------------------------------\n",
            "\n",
            "Kernel Gaussiano con C = 1000\n",
            "SVC(C=1000, break_ties=False, cache_size=200, class_weight=None, coef0=0.0,\n",
            "    decision_function_shape='ovr', degree=3, gamma='scale', kernel='rbf',\n",
            "    max_iter=-1, probability=False, random_state=None, shrinking=True,\n",
            "    tol=0.001, verbose=False)\n",
            "Tiempo entrenamiento:  01:36:736250\n",
            "Precisión (accuracy):  1.0\n",
            "Matriz de confusión:\n",
            "[[1994    0    0    0    0    0    0    0    0    0]\n",
            " [   0 2281    0    0    0    0    0    0    0    0]\n",
            " [   0    0 1929    0    0    0    0    0    0    0]\n",
            " [   0    0    0 2076    0    0    0    0    0    0]\n",
            " [   0    0    0    0 1945    0    0    0    0    0]\n",
            " [   0    0    0    0    0 1775    0    0    0    0]\n",
            " [   0    0    0    0    0    0 1971    0    0    0]\n",
            " [   0    0    0    0    0    0    0 2093    0    0]\n",
            " [   0    0    0    0    0    0    0    0 1922    0]\n",
            " [   0    0    0    0    0    0    0    0    0 2014]]\n",
            "              precision    recall  f1-score   support\n",
            "\n",
            "           0       1.00      1.00      1.00      1994\n",
            "           1       1.00      1.00      1.00      2281\n",
            "           2       1.00      1.00      1.00      1929\n",
            "           3       1.00      1.00      1.00      2076\n",
            "           4       1.00      1.00      1.00      1945\n",
            "           5       1.00      1.00      1.00      1775\n",
            "           6       1.00      1.00      1.00      1971\n",
            "           7       1.00      1.00      1.00      2093\n",
            "           8       1.00      1.00      1.00      1922\n",
            "           9       1.00      1.00      1.00      2014\n",
            "\n",
            "    accuracy                           1.00     20000\n",
            "   macro avg       1.00      1.00      1.00     20000\n",
            "weighted avg       1.00      1.00      1.00     20000\n",
            "\n",
            "---------------------------------------\n",
            "\n",
            "Precisión (accuracy):  0.9612\n",
            "Matriz de confusión:\n",
            "[[ 958    0    4    2    2    3    6    2    3    0]\n",
            " [   0 1126    3    0    0    1    4    0    1    0]\n",
            " [   5    1  986    4    5    0    1   22    8    0]\n",
            " [   0    0   11  971    0    5    0   12    8    3]\n",
            " [   0    0   13    0  941    1    6    9    3    9]\n",
            " [   2    0    3   13    4  844   10   10    4    2]\n",
            " [   4    3    2    1    5    7  927    7    2    0]\n",
            " [   1   11   14    5    1    0    0  986    0   10]\n",
            " [   3    2    5    8    6    7    2   15  924    2]\n",
            " [   2    5    6    9   13    5    0   17    3  949]]\n",
            "              precision    recall  f1-score   support\n",
            "\n",
            "           0       0.98      0.98      0.98       980\n",
            "           1       0.98      0.99      0.99      1135\n",
            "           2       0.94      0.96      0.95      1032\n",
            "           3       0.96      0.96      0.96      1010\n",
            "           4       0.96      0.96      0.96       982\n",
            "           5       0.97      0.95      0.96       892\n",
            "           6       0.97      0.97      0.97       958\n",
            "           7       0.91      0.96      0.94      1028\n",
            "           8       0.97      0.95      0.96       974\n",
            "           9       0.97      0.94      0.96      1009\n",
            "\n",
            "    accuracy                           0.96     10000\n",
            "   macro avg       0.96      0.96      0.96     10000\n",
            "weighted avg       0.96      0.96      0.96     10000\n",
            "\n",
            "---------------------------------------\n",
            "\n"
          ],
          "name": "stdout"
        },
        {
          "output_type": "display_data",
          "data": {
            "image/png": "[encoded data removed]",
            "text/plain": [
              "<Figure size 432x288 with 1 Axes>"
            ]
          },
          "metadata": {
            "tags": [],
            "needs_background": "light"
          }
        }
      ]
    },
    {
      "cell_type": "markdown",
      "metadata": {
        "id": "ocO9zR_JpiNa"
      },
      "source": [
        "Resumimos los resultados obtenidos de la *accuracy* para cada modelo usando el kernel gaussiano:"
      ]
    },
    {
      "cell_type": "markdown",
      "metadata": {
        "id": "OuxU1Vb1n6PJ"
      },
      "source": [
        "|    C  | tiempo de entrenamiento (mm:ss) | *Accuracy* en entrenamiento | *Accuracy* en test |\n",
        "|---------------|:-------------:|:-------------:|:-------------:|\n",
        "|   1    |      1:46     |         0.9855      |     0.9521      |\n",
        "|   10  |      1:36     |         0.99945      |     0.9609      |\n",
        "|   100    |     1:36     |         1      |      0.9612      |\n",
        "|   1000    |     1:36     |         1     |      0.9612      |"
      ]
    },
    {
      "cell_type": "markdown",
      "metadata": {
        "id": "Kv809smEpdqQ"
      },
      "source": [
        "Obtenemos resultados muy parecidos para los valores 10, 100 y 1000. Por contra, C = 1 da como resultado un valor más pequeño de la *accuracy* tanto en el conjunto de entrenamiento como en el conjunto de prueba.\n",
        "\n",
        "Recordemos que, en este caso, C es inversamente proporcional al peso que tiene la regularización de los errores, es decir, al margen tenido en cuenta en la SVM. Otra forma de expresarlo es decir que C es inversamente proporcional a la importancia que le da el modelo a cometer errores de clasificación. \n",
        "\n",
        "Por ello, es lógico que para un valor pequeño de C veamos *underfitting* (mucho sesgo y poca variabilidad), ya que para dibujar las fronteras entre clases se están teniendo en cuenta un gran número de puntos. Esto impide encontrar el modelo con los mejores hiperplanos, pues para establecer cada separación se consideran puntos que puede que no estén cerca de la frontera. \n",
        "\n",
        "Por otro lado, vemos que valores grandes de C mantienen prácticamente la misma *accuracy*, siendo la precisión obtenida en el conjunto de entrenamiento aproximadamente del 100% y en el conjunto de prueba de un 96%. Aquí entramos en el terreno del *overfitting*. Como vemos, los errores de clasificación cuentan mucho y los hiperplanos se están ajustando demasiado a la frontera en el conjunto de entrenamiento y cometen algunos errores en el conjunto de prueba.\n",
        "\n",
        "Junto con la *accuracy* se ha pintado la matriz de confusión, así como los principales indicadores: precision, recall y f1-score. Esto nos permite asegurarnos de que los modelos se comportan aproximadamente igual sobre las diferentes clases.\n",
        "\n",
        "Por último, no se aprecia una diferencia en los tiempos de entrenamiento empleados por cada modelo.\n",
        "\n",
        "Seguimos con el entrenamiento explícito para el kernel lineal:\n",
        "\n"
      ]
    },
    {
      "cell_type": "code",
      "metadata": {
        "colab": {
          "base_uri": "https://localhost:8080/",
          "height": 1000
        },
        "id": "-T8wXEoe91A0",
        "outputId": "e54b66ad-6198-459a-9f56-854961d0b4b0"
      },
      "source": [
        "from time import time\n",
        "import datetime\n",
        "from sklearn.svm import SVC\n",
        "from sklearn.metrics import confusion_matrix,classification_report\n",
        "\n",
        "minAccTrain = 100\n",
        "maxAccTrain = 0\n",
        "rapidoAccTrain = 0\n",
        "lentoAccTrain = 0\n",
        "minAccTest= 100\n",
        "maxAccTest = 0\n",
        "rapidoAccTest = 0\n",
        "lentoAccTest = 0\n",
        "\n",
        "mejorTime = 0\n",
        "peorTime = 0\n",
        "minTime = 1000000000\n",
        "maxTime = 0\n",
        "\n",
        "mejorModelo = SVC()\n",
        "peorModelo = SVC()\n",
        "rapidoModelo = SVC()\n",
        "lentoModelo = SVC()\n",
        "\n",
        "c_list = []\n",
        "acc_train_list = []\n",
        "acc_test_list = []\n",
        "\n",
        "kernel = \"linear\"\n",
        "\n",
        "for c in (1, 10, 100, 1000):\n",
        "    print(\"Kernel Lineal con C =\", c)\n",
        "    timeIni = time()\n",
        "    modelo = SVC(kernel = kernel, C=c)\n",
        "    print(modelo.fit(x_train_minst_20000_500_components_final, y_train_mnist_20000))\n",
        "    timeEnd = time()\n",
        "    timeDiff = datetime.datetime.fromtimestamp(timeEnd-timeIni).strftime(\"%M:%S:%f\")\n",
        "    print(\"Tiempo entrenamiento: \", timeDiff)\n",
        "\n",
        "    c_list.append(c)\n",
        "\n",
        "    #para el conjunto de entrenamiento:\n",
        "    acc_train = modelo.score(x_train_minst_20000_500_components_final, y_train_mnist_20000)\n",
        "    acc_train_list.append(acc_train)\n",
        "    print(\"Precisión (accuracy): \", acc_train)\n",
        "\n",
        "\n",
        "    predicciones = modelo.predict(x_train_minst_20000_500_components_final)\n",
        "    print(\"Matriz de confusión:\")\n",
        "    print(confusion_matrix(y_train_mnist_20000, predicciones))\n",
        "    print(classification_report(y_train_mnist_20000, predicciones))\n",
        "    print(\"---------------------------------------\")\n",
        "    print()\n",
        "\n",
        "    #para el conjunto test:\n",
        "    acc_test = modelo.score(x_test_mnist_500_components_final, y_test_mnist)\n",
        "    acc_test_list.append(acc_test)\n",
        "    print(\"Precisión (accuracy): \", acc_test)\n",
        "\n",
        "    predicciones = modelo.predict(x_test_mnist_500_components_final)\n",
        "    print(\"Matriz de confusión:\")\n",
        "    print(confusion_matrix(y_test_mnist, predicciones))\n",
        "    print(classification_report(y_test_mnist, predicciones))\n",
        "    print(\"---------------------------------------\")\n",
        "    print()\n",
        "\n",
        "df = pd.DataFrame({\"c\":c_list, \n",
        "                   \"score_train\":acc_train_list,\n",
        "                   \"score_test\":acc_test_list})\n",
        "\n",
        "df.set_index(\"c\", inplace=True)\n",
        "df[\"score_train\"].plot(label=\"Train Score\")\n",
        "df[\"score_test\"].plot(label=\"Test Score\")\n",
        "plt.suptitle(\"Accuracy Train and Test\")\n",
        "plt.legend()\n",
        "plt.show();"
      ],
      "execution_count": null,
      "outputs": [
        {
          "output_type": "stream",
          "text": [
            "Kernel Lineal con C = 1\n",
            "SVC(C=1, break_ties=False, cache_size=200, class_weight=None, coef0=0.0,\n",
            "    decision_function_shape='ovr', degree=3, gamma='scale', kernel='linear',\n",
            "    max_iter=-1, probability=False, random_state=None, shrinking=True,\n",
            "    tol=0.001, verbose=False)\n",
            "Tiempo entrenamiento:  00:49:892517\n",
            "Precisión (accuracy):  0.99605\n",
            "Matriz de confusión:\n",
            "[[1994    0    0    0    0    0    0    0    0    0]\n",
            " [   0 2281    0    0    0    0    0    0    0    0]\n",
            " [   0    1 1923    1    0    0    0    0    4    0]\n",
            " [   0    0    2 2059    0    7    0    0    8    0]\n",
            " [   0    1    0    0 1941    0    0    0    0    3]\n",
            " [   0    0    1    5    0 1768    0    0    1    0]\n",
            " [   0    0    0    0    0    0 1971    0    0    0]\n",
            " [   0    0    0    1    1    0    0 2079    0   12]\n",
            " [   0    1    0    7    0    1    0    0 1913    0]\n",
            " [   0    2    0    0    8    0    0   12    0 1992]]\n",
            "              precision    recall  f1-score   support\n",
            "\n",
            "           0       1.00      1.00      1.00      1994\n",
            "           1       1.00      1.00      1.00      2281\n",
            "           2       1.00      1.00      1.00      1929\n",
            "           3       0.99      0.99      0.99      2076\n",
            "           4       1.00      1.00      1.00      1945\n",
            "           5       1.00      1.00      1.00      1775\n",
            "           6       1.00      1.00      1.00      1971\n",
            "           7       0.99      0.99      0.99      2093\n",
            "           8       0.99      1.00      0.99      1922\n",
            "           9       0.99      0.99      0.99      2014\n",
            "\n",
            "    accuracy                           1.00     20000\n",
            "   macro avg       1.00      1.00      1.00     20000\n",
            "weighted avg       1.00      1.00      1.00     20000\n",
            "\n",
            "---------------------------------------\n",
            "\n",
            "Precisión (accuracy):  0.916\n",
            "Matriz de confusión:\n",
            "[[ 950    0    4    3    0    9    9    1    4    0]\n",
            " [   0 1117    5    2    1    2    2    1    5    0]\n",
            " [  10    9  938   21    5    3    7   11   25    3]\n",
            " [   7    3   27  899    4   29    1    9   24    7]\n",
            " [   4    1    8    2  924    1    5    5    3   29]\n",
            " [   9    6    7   45    9  766    6    2   34    8]\n",
            " [  11    3   15    1    9   19  900    0    0    0]\n",
            " [   2   10   20   19    6    1    0  946    1   23]\n",
            " [   7    7   16   35   10   41   14    7  830    7]\n",
            " [  11    9    1   14   33    5    1   41    4  890]]\n",
            "              precision    recall  f1-score   support\n",
            "\n",
            "           0       0.94      0.97      0.95       980\n",
            "           1       0.96      0.98      0.97      1135\n",
            "           2       0.90      0.91      0.90      1032\n",
            "           3       0.86      0.89      0.88      1010\n",
            "           4       0.92      0.94      0.93       982\n",
            "           5       0.87      0.86      0.87       892\n",
            "           6       0.95      0.94      0.95       958\n",
            "           7       0.92      0.92      0.92      1028\n",
            "           8       0.89      0.85      0.87       974\n",
            "           9       0.92      0.88      0.90      1009\n",
            "\n",
            "    accuracy                           0.92     10000\n",
            "   macro avg       0.92      0.91      0.91     10000\n",
            "weighted avg       0.92      0.92      0.92     10000\n",
            "\n",
            "---------------------------------------\n",
            "\n",
            "Kernel Lineal con C = 10\n",
            "SVC(C=10, break_ties=False, cache_size=200, class_weight=None, coef0=0.0,\n",
            "    decision_function_shape='ovr', degree=3, gamma='scale', kernel='linear',\n",
            "    max_iter=-1, probability=False, random_state=None, shrinking=True,\n",
            "    tol=0.001, verbose=False)\n",
            "Tiempo entrenamiento:  01:01:257489\n",
            "Precisión (accuracy):  0.99895\n",
            "Matriz de confusión:\n",
            "[[1994    0    0    0    0    0    0    0    0    0]\n",
            " [   0 2281    0    0    0    0    0    0    0    0]\n",
            " [   0    0 1929    0    0    0    0    0    0    0]\n",
            " [   0    0    0 2071    0    0    0    0    5    0]\n",
            " [   0    0    0    0 1945    0    0    0    0    0]\n",
            " [   0    0    0    0    0 1775    0    0    0    0]\n",
            " [   0    0    0    0    0    0 1971    0    0    0]\n",
            " [   0    0    0    0    0    0    0 2088    0    5]\n",
            " [   0    0    0    3    0    0    0    0 1919    0]\n",
            " [   0    0    0    0    0    0    0    8    0 2006]]\n",
            "              precision    recall  f1-score   support\n",
            "\n",
            "           0       1.00      1.00      1.00      1994\n",
            "           1       1.00      1.00      1.00      2281\n",
            "           2       1.00      1.00      1.00      1929\n",
            "           3       1.00      1.00      1.00      2076\n",
            "           4       1.00      1.00      1.00      1945\n",
            "           5       1.00      1.00      1.00      1775\n",
            "           6       1.00      1.00      1.00      1971\n",
            "           7       1.00      1.00      1.00      2093\n",
            "           8       1.00      1.00      1.00      1922\n",
            "           9       1.00      1.00      1.00      2014\n",
            "\n",
            "    accuracy                           1.00     20000\n",
            "   macro avg       1.00      1.00      1.00     20000\n",
            "weighted avg       1.00      1.00      1.00     20000\n",
            "\n",
            "---------------------------------------\n",
            "\n",
            "Precisión (accuracy):  0.9132\n",
            "Matriz de confusión:\n",
            "[[ 951    0    4    3    0    8    9    1    4    0]\n",
            " [   0 1117    5    2    1    2    2    1    5    0]\n",
            " [  10    9  939   22    5    3    7   11   23    3]\n",
            " [   6    3   24  898    4   26    2   10   31    6]\n",
            " [   4    1    9    2  926    1    5    5    3   26]\n",
            " [   9    6    6   44   10  770    6    1   32    8]\n",
            " [  11    3   15    1    9   18  900    0    1    0]\n",
            " [   2   10   20   17    5    3    0  942    1   28]\n",
            " [   9    7   23   39   11   40   14    8  816    7]\n",
            " [  11    9    1   15   46    5    1   44    4  873]]\n",
            "              precision    recall  f1-score   support\n",
            "\n",
            "           0       0.94      0.97      0.95       980\n",
            "           1       0.96      0.98      0.97      1135\n",
            "           2       0.90      0.91      0.90      1032\n",
            "           3       0.86      0.89      0.87      1010\n",
            "           4       0.91      0.94      0.93       982\n",
            "           5       0.88      0.86      0.87       892\n",
            "           6       0.95      0.94      0.95       958\n",
            "           7       0.92      0.92      0.92      1028\n",
            "           8       0.89      0.84      0.86       974\n",
            "           9       0.92      0.87      0.89      1009\n",
            "\n",
            "    accuracy                           0.91     10000\n",
            "   macro avg       0.91      0.91      0.91     10000\n",
            "weighted avg       0.91      0.91      0.91     10000\n",
            "\n",
            "---------------------------------------\n",
            "\n",
            "Kernel Lineal con C = 100\n",
            "SVC(C=100, break_ties=False, cache_size=200, class_weight=None, coef0=0.0,\n",
            "    decision_function_shape='ovr', degree=3, gamma='scale', kernel='linear',\n",
            "    max_iter=-1, probability=False, random_state=None, shrinking=True,\n",
            "    tol=0.001, verbose=False)\n",
            "Tiempo entrenamiento:  01:29:648243\n",
            "Precisión (accuracy):  0.9999\n",
            "Matriz de confusión:\n",
            "[[1994    0    0    0    0    0    0    0    0    0]\n",
            " [   0 2281    0    0    0    0    0    0    0    0]\n",
            " [   0    0 1929    0    0    0    0    0    0    0]\n",
            " [   0    0    0 2076    0    0    0    0    0    0]\n",
            " [   0    0    0    0 1945    0    0    0    0    0]\n",
            " [   0    0    0    0    0 1775    0    0    0    0]\n",
            " [   0    0    0    0    0    0 1971    0    0    0]\n",
            " [   0    0    0    0    0    0    0 2093    0    0]\n",
            " [   0    0    0    0    0    0    0    0 1922    0]\n",
            " [   0    0    0    0    0    0    0    2    0 2012]]\n",
            "              precision    recall  f1-score   support\n",
            "\n",
            "           0       1.00      1.00      1.00      1994\n",
            "           1       1.00      1.00      1.00      2281\n",
            "           2       1.00      1.00      1.00      1929\n",
            "           3       1.00      1.00      1.00      2076\n",
            "           4       1.00      1.00      1.00      1945\n",
            "           5       1.00      1.00      1.00      1775\n",
            "           6       1.00      1.00      1.00      1971\n",
            "           7       1.00      1.00      1.00      2093\n",
            "           8       1.00      1.00      1.00      1922\n",
            "           9       1.00      1.00      1.00      2014\n",
            "\n",
            "    accuracy                           1.00     20000\n",
            "   macro avg       1.00      1.00      1.00     20000\n",
            "weighted avg       1.00      1.00      1.00     20000\n",
            "\n",
            "---------------------------------------\n",
            "\n",
            "Precisión (accuracy):  0.9116\n",
            "Matriz de confusión:\n",
            "[[ 951    0    4    3    0    8    9    1    4    0]\n",
            " [   0 1119    5    1    1    3    2    0    4    0]\n",
            " [  10    9  939   23    5    3    7   12   22    2]\n",
            " [   6    3   24  900    4   27    2   10   28    6]\n",
            " [   4    1    9    2  926    1    5    5    3   26]\n",
            " [   9    6    7   43   10  771    6    1   31    8]\n",
            " [  11    3   15    1    9   19  900    0    0    0]\n",
            " [   2   10   22   17    5    3    0  933    1   35]\n",
            " [   9    7   22   39   11   40   14   10  816    6]\n",
            " [  10    9    1   18   50    5    1   50    4  861]]\n",
            "              precision    recall  f1-score   support\n",
            "\n",
            "           0       0.94      0.97      0.95       980\n",
            "           1       0.96      0.99      0.97      1135\n",
            "           2       0.90      0.91      0.90      1032\n",
            "           3       0.86      0.89      0.88      1010\n",
            "           4       0.91      0.94      0.92       982\n",
            "           5       0.88      0.86      0.87       892\n",
            "           6       0.95      0.94      0.95       958\n",
            "           7       0.91      0.91      0.91      1028\n",
            "           8       0.89      0.84      0.86       974\n",
            "           9       0.91      0.85      0.88      1009\n",
            "\n",
            "    accuracy                           0.91     10000\n",
            "   macro avg       0.91      0.91      0.91     10000\n",
            "weighted avg       0.91      0.91      0.91     10000\n",
            "\n",
            "---------------------------------------\n",
            "\n",
            "Kernel Lineal con C = 1000\n",
            "SVC(C=1000, break_ties=False, cache_size=200, class_weight=None, coef0=0.0,\n",
            "    decision_function_shape='ovr', degree=3, gamma='scale', kernel='linear',\n",
            "    max_iter=-1, probability=False, random_state=None, shrinking=True,\n",
            "    tol=0.001, verbose=False)\n",
            "Tiempo entrenamiento:  01:27:580992\n",
            "Precisión (accuracy):  1.0\n",
            "Matriz de confusión:\n",
            "[[1994    0    0    0    0    0    0    0    0    0]\n",
            " [   0 2281    0    0    0    0    0    0    0    0]\n",
            " [   0    0 1929    0    0    0    0    0    0    0]\n",
            " [   0    0    0 2076    0    0    0    0    0    0]\n",
            " [   0    0    0    0 1945    0    0    0    0    0]\n",
            " [   0    0    0    0    0 1775    0    0    0    0]\n",
            " [   0    0    0    0    0    0 1971    0    0    0]\n",
            " [   0    0    0    0    0    0    0 2093    0    0]\n",
            " [   0    0    0    0    0    0    0    0 1922    0]\n",
            " [   0    0    0    0    0    0    0    0    0 2014]]\n",
            "              precision    recall  f1-score   support\n",
            "\n",
            "           0       1.00      1.00      1.00      1994\n",
            "           1       1.00      1.00      1.00      2281\n",
            "           2       1.00      1.00      1.00      1929\n",
            "           3       1.00      1.00      1.00      2076\n",
            "           4       1.00      1.00      1.00      1945\n",
            "           5       1.00      1.00      1.00      1775\n",
            "           6       1.00      1.00      1.00      1971\n",
            "           7       1.00      1.00      1.00      2093\n",
            "           8       1.00      1.00      1.00      1922\n",
            "           9       1.00      1.00      1.00      2014\n",
            "\n",
            "    accuracy                           1.00     20000\n",
            "   macro avg       1.00      1.00      1.00     20000\n",
            "weighted avg       1.00      1.00      1.00     20000\n",
            "\n",
            "---------------------------------------\n",
            "\n",
            "Precisión (accuracy):  0.911\n",
            "Matriz de confusión:\n",
            "[[ 951    0    4    3    0    8    9    1    4    0]\n",
            " [   0 1119    5    1    1    3    2    0    4    0]\n",
            " [  11    9  939   23    5    3    7   12   22    1]\n",
            " [   6    3   24  900    4   27    2   10   28    6]\n",
            " [   4    1    9    2  926    1    5    5    3   26]\n",
            " [   9    6    7   43   10  771    6    1   31    8]\n",
            " [  11    3   15    1    9   19  900    0    0    0]\n",
            " [   2   11   22   17    6    3    0  928    1   38]\n",
            " [   9    7   22   39   11   40   14   10  816    6]\n",
            " [  10    9    1   17   49    5    1   53    4  860]]\n",
            "              precision    recall  f1-score   support\n",
            "\n",
            "           0       0.94      0.97      0.95       980\n",
            "           1       0.96      0.99      0.97      1135\n",
            "           2       0.90      0.91      0.90      1032\n",
            "           3       0.86      0.89      0.88      1010\n",
            "           4       0.91      0.94      0.92       982\n",
            "           5       0.88      0.86      0.87       892\n",
            "           6       0.95      0.94      0.95       958\n",
            "           7       0.91      0.90      0.91      1028\n",
            "           8       0.89      0.84      0.86       974\n",
            "           9       0.91      0.85      0.88      1009\n",
            "\n",
            "    accuracy                           0.91     10000\n",
            "   macro avg       0.91      0.91      0.91     10000\n",
            "weighted avg       0.91      0.91      0.91     10000\n",
            "\n",
            "---------------------------------------\n",
            "\n"
          ],
          "name": "stdout"
        },
        {
          "output_type": "display_data",
          "data": {
            "image/png": "[encoded data removed]",
            "text/plain": [
              "<Figure size 432x288 with 1 Axes>"
            ]
          },
          "metadata": {
            "tags": [],
            "needs_background": "light"
          }
        }
      ]
    },
    {
      "cell_type": "markdown",
      "metadata": {
        "id": "GU5K4RuzzQTw"
      },
      "source": [
        "Al igual que antes, resumimos en una tabla los valores de la *accuracy* para el kernel lineal:"
      ]
    },
    {
      "cell_type": "markdown",
      "metadata": {
        "id": "uSqbvw29xQLA"
      },
      "source": [
        "|    C  | tiempo de entrenamiento (mm:ss) | *Accuracy* en entrenamiento | *Accuracy* en test |\n",
        "|---------------|:-------------:|:-------------:|:-------------:|\n",
        "|   1    |      0:49     |         0.99605      |     0.916      |\n",
        "|   10  |      1:01     |         0.99895      |     0.9132     |\n",
        "|   100    |     1:29     |         0.9999      |      0.9116     |\n",
        "|   1000    |     1:27     |         1     |      0.911     |"
      ]
    },
    {
      "cell_type": "markdown",
      "metadata": {
        "id": "rkadka4ZfMER"
      },
      "source": [
        "Como vemos, no hay una gran diferencia entre los valores de C usados. Aun así, se aprecia que conforme C aumenta la precisión en el conjunto de entrenamiento va aumentando mientras que en el de prueba disminuye, adentrándonos en la región de *overfitting*. Como ya hemos comentado, esto se corresponde con lo esperado, ya que C es inversamente proporcional al factor de regularización. Un C elevado implica que los errores del modelo cuentan mucho, y por tanto, el modelo tiende a sobreajustarse a los datos de entrenamiento, mejorando su *accuracy*.\n",
        "\n",
        "En estos modelos tampoco se aprecia una diferencia en tiempos significativa. De igual forma, podemos ver en las matrices de confusión y en los indicadores de cada modelo ninguna clase sobresale especialmente sobre las demás.\n",
        "\n"
      ]
    },
    {
      "cell_type": "markdown",
      "metadata": {
        "id": "UyoVPJ8mgNRl"
      },
      "source": [
        "### Mejor modelo SVM"
      ]
    },
    {
      "cell_type": "markdown",
      "metadata": {
        "id": "J54Q6vPE1e9a"
      },
      "source": [
        "Para elegir el mejor modelo nos fijamos en la *accuracy* obtenida sobre el conjunto prueba. Usar el *kernel gaussiano* mejora la precisión de los modelos para cualquier valor de C. Por tanto, descartamos el kernel lineal.\n",
        "\n",
        "Para los modelos gaussianos se ha visto cómo la precisión sobre el conjunto de prueba se estabiliza alrededor del valor 96% con C = 10, 100 y 1000. Entre ellos, tampoco se ha observado una diferencia sustancial en tiempos de ejecución o diferente trato entre clases. Es muy difícil decantarnos por un modelo en concreto.\n",
        "\n",
        "No obstante, con *GridSearchCV* obtuvimos que el mejor modelo tiene C = 10 y kernel tipo gaussiano. En principio, la *accuracy* que nos da este método es de mejor calidad, pues realiza una validación cruzada (5-fold por defecto) sobre el *dataset* de entrenamiento, que contiene el doble de registros que nuestro *dataset* prueba.\n",
        "\n",
        "Por todo ello, establecemos como modelo aquel con C = 10 y *kernel gaussiano* y lo entrenamos sobre todo el dataset de entrenamiento para obtener el máximo potencial:"
      ]
    },
    {
      "cell_type": "code",
      "metadata": {
        "colab": {
          "base_uri": "https://localhost:8080/",
          "height": 699
        },
        "id": "OUm8sr_43u-8",
        "outputId": "4023f657-6db3-48d9-b049-56f8011b939f"
      },
      "source": [
        "from time import time\n",
        "import datetime\n",
        "from sklearn.svm import SVC\n",
        "from sklearn import metrics\n",
        "from sklearn.metrics import classification_report\n",
        "\n",
        "timeIni = time()\n",
        "modelo_mnist_final = SVC(kernel = 'rbf', C=10)\n",
        "print(modelo_mnist_final.fit(x_train_mnist, y_train_mnist))\n",
        "timeEnd = time()\n",
        "timeDiff = datetime.datetime.fromtimestamp(timeEnd-timeIni).strftime(\"%M:%S:%f\")\n",
        "print(\"Tiempo entrenamiento: \", timeDiff)\n",
        "\n",
        "#para el conjunto test:\n",
        "acc_test = modelo_mnist_final.score(x_test_mnist, y_test_mnist)\n",
        "print(\"Precisión (accuracy): \", acc_test)\n",
        "disp = metrics.plot_confusion_matrix(modelo_mnist_final, x_test_mnist, y_test_mnist,  values_format = '')\n",
        "disp.figure_.suptitle(\"Confusion Matrix\")\n",
        "predicciones = modelo_mnist_final.predict(x_test_mnist)\n",
        "print(classification_report(y_test_mnist, predicciones))"
      ],
      "execution_count": 51,
      "outputs": [
        {
          "output_type": "stream",
          "text": [
            "SVC(C=10, break_ties=False, cache_size=200, class_weight=None, coef0=0.0,\n",
            "    decision_function_shape='ovr', degree=3, gamma='scale', kernel='rbf',\n",
            "    max_iter=-1, probability=False, random_state=None, shrinking=True,\n",
            "    tol=0.001, verbose=False)\n",
            "Tiempo entrenamiento:  08:03:148099\n",
            "Precisión (accuracy):  0.9837\n",
            "              precision    recall  f1-score   support\n",
            "\n",
            "           0       0.98      0.99      0.99       980\n",
            "           1       0.99      0.99      0.99      1135\n",
            "           2       0.98      0.98      0.98      1032\n",
            "           3       0.98      0.99      0.98      1010\n",
            "           4       0.98      0.98      0.98       982\n",
            "           5       0.99      0.98      0.98       892\n",
            "           6       0.99      0.99      0.99       958\n",
            "           7       0.98      0.98      0.98      1028\n",
            "           8       0.98      0.98      0.98       974\n",
            "           9       0.98      0.97      0.97      1009\n",
            "\n",
            "    accuracy                           0.98     10000\n",
            "   macro avg       0.98      0.98      0.98     10000\n",
            "weighted avg       0.98      0.98      0.98     10000\n",
            "\n"
          ],
          "name": "stdout"
        },
        {
          "output_type": "display_data",
          "data": {
            "image/png": "[encoded data removed]",
            "text/plain": [
              "<Figure size 432x288 with 2 Axes>"
            ]
          },
          "metadata": {
            "tags": [],
            "needs_background": "light"
          }
        }
      ]
    },
    {
      "cell_type": "markdown",
      "metadata": {
        "id": "NN-Lqd9klR_p"
      },
      "source": [
        "Al usar todo el conjunto de entrenamiento hemos conseguido, tras 8 minutos, alcanzar una *accuracy* del 98,37% sobre el conjunto de prueba. Esto supone una mejora del 2% con respecto al modelo obtenido con 20.000 registros cuya dimensionalidad había sido reducida de 784 a 500 dimensiones para facilitar la búsqueda de los hiperparámetros óptimos.\n",
        "\n",
        "Como vemos en la matriz de confusión, la inmensa mayoría de instancias han sido correctamente clasificadas, apareciendo predominantemente en la diagonal. Lo mismo se observa en los indicadores de *precision*, *recall* y *f1-score*."
      ]
    },
    {
      "cell_type": "markdown",
      "metadata": {
        "id": "mz7rm7E5kyXV"
      },
      "source": [
        "## Fashion-MNIST\n",
        "\n",
        "Aplicaremos los mismos pasos seguidos anteriormente para este *dataset*. Así, lo primero es tipificar las variables:"
      ]
    },
    {
      "cell_type": "markdown",
      "metadata": {
        "id": "hji9X21KmYCg"
      },
      "source": [
        "### Tipificación de las características"
      ]
    },
    {
      "cell_type": "code",
      "metadata": {
        "id": "xX7lRhjFemSl"
      },
      "source": [
        "from sklearn.preprocessing import StandardScaler\n",
        "\n",
        "scaler = StandardScaler()\n",
        "\n",
        "x_train_fashion_20000_scaled = scaler.fit_transform(x_train_fashion_20000)\n",
        "x_test_fashion_scaled = scaler.transform(x_test_fashion)"
      ],
      "execution_count": null,
      "outputs": []
    },
    {
      "cell_type": "code",
      "metadata": {
        "colab": {
          "base_uri": "https://localhost:8080/"
        },
        "id": "iFIOXIdpemSm",
        "outputId": "f9e63134-ef48-4b27-9648-fdbf08e1dd61"
      },
      "source": [
        "print(x_train_fashion_20000[0].mean())\n",
        "print(x_train_fashion_20000[0].var())"
      ],
      "execution_count": null,
      "outputs": [
        {
          "output_type": "stream",
          "text": [
            "97.25382653061224\n",
            "10361.681745561747\n"
          ],
          "name": "stdout"
        }
      ]
    },
    {
      "cell_type": "code",
      "metadata": {
        "colab": {
          "base_uri": "https://localhost:8080/"
        },
        "id": "eeBV1dXXemSm",
        "outputId": "1b26e083-64b3-42fc-d9fb-fc7688e0ef0a"
      },
      "source": [
        "print(x_train_fashion_20000_scaled[0].mean())\n",
        "print(x_train_fashion_20000_scaled[0].var())"
      ],
      "execution_count": null,
      "outputs": [
        {
          "output_type": "stream",
          "text": [
            "0.32357839104381997\n",
            "1.1724892831361209\n"
          ],
          "name": "stdout"
        }
      ]
    },
    {
      "cell_type": "markdown",
      "metadata": {
        "id": "txSYSOeGlAgl"
      },
      "source": [
        "### PCA\n",
        "\n",
        "Después, reducir la dimensionalidad:"
      ]
    },
    {
      "cell_type": "code",
      "metadata": {
        "colab": {
          "base_uri": "https://localhost:8080/"
        },
        "id": "npC9bo82emSn",
        "outputId": "07ccbad7-3ef1-4e30-b299-dad10df9907b"
      },
      "source": [
        "from sklearn.decomposition import PCA\n",
        "\n",
        "pca = PCA()\n",
        "x_train_fashion_20000_final = pca.fit_transform(x_train_fashion_20000_scaled)\n",
        "x_test_fashion_final = pca.transform(x_test_fashion_scaled)\n",
        "\n",
        "print(pca.explained_variance_ratio_)"
      ],
      "execution_count": null,
      "outputs": [
        {
          "output_type": "stream",
          "text": [
            "[2.20331904e-01 1.44668852e-01 5.46335955e-02 5.13092931e-02\n",
            " 4.01565960e-02 2.98837003e-02 2.76166567e-02 2.31495218e-02\n",
            " 1.68293192e-02 1.35545479e-02 1.18420712e-02 9.64263309e-03\n",
            " 9.24786683e-03 8.75639383e-03 7.54035828e-03 7.28842656e-03\n",
            " 6.55114657e-03 6.42171397e-03 6.34574980e-03 5.87456576e-03\n",
            " 5.57416231e-03 5.17632964e-03 4.76805770e-03 4.57919779e-03\n",
            " 4.34559599e-03 4.18651814e-03 4.10627238e-03 3.96059091e-03\n",
            " 3.84307749e-03 3.76000271e-03 3.73022326e-03 3.53014139e-03\n",
            " 3.47116194e-03 3.34053937e-03 3.32220204e-03 3.22855325e-03\n",
            " 3.10842188e-03 2.98673477e-03 2.88554919e-03 2.84035415e-03\n",
            " 2.76712923e-03 2.74905070e-03 2.68599265e-03 2.52129276e-03\n",
            " 2.49771494e-03 2.44133497e-03 2.39651782e-03 2.23816279e-03\n",
            " 2.22572331e-03 2.17187239e-03 2.12075244e-03 2.07129034e-03\n",
            " 2.02389069e-03 1.99965718e-03 1.96546628e-03 1.94482183e-03\n",
            " 1.91526289e-03 1.88235105e-03 1.81213908e-03 1.79068035e-03\n",
            " 1.71791717e-03 1.70157461e-03 1.69004264e-03 1.64793031e-03\n",
            " 1.63438591e-03 1.57957265e-03 1.54001361e-03 1.50740751e-03\n",
            " 1.49582013e-03 1.46484646e-03 1.43168224e-03 1.41577222e-03\n",
            " 1.40687654e-03 1.40223498e-03 1.37280511e-03 1.34956024e-03\n",
            " 1.32719065e-03 1.30211394e-03 1.28283934e-03 1.27499399e-03\n",
            " 1.24854637e-03 1.22874024e-03 1.21129491e-03 1.17783802e-03\n",
            " 1.17534950e-03 1.13509276e-03 1.13093132e-03 1.10238115e-03\n",
            " 1.10149045e-03 1.08794096e-03 1.07213238e-03 1.07004696e-03\n",
            " 1.04847522e-03 1.03766355e-03 1.01698425e-03 1.00187002e-03\n",
            " 9.95767761e-04 9.77426103e-04 9.59760506e-04 9.46617835e-04\n",
            " 9.44192027e-04 9.33173527e-04 9.23318814e-04 9.17535808e-04\n",
            " 9.03386914e-04 8.93855434e-04 8.88024232e-04 8.64162955e-04\n",
            " 8.58127974e-04 8.41237141e-04 8.39241812e-04 8.25486179e-04\n",
            " 8.23940016e-04 8.12391325e-04 8.03152179e-04 7.96871716e-04\n",
            " 7.88651862e-04 7.82355757e-04 7.71607816e-04 7.65014937e-04\n",
            " 7.48902027e-04 7.43038548e-04 7.37672322e-04 7.32625906e-04\n",
            " 7.30573104e-04 7.20542516e-04 7.09366323e-04 7.07389884e-04\n",
            " 6.94445841e-04 6.93236409e-04 6.84861306e-04 6.75464032e-04\n",
            " 6.71608411e-04 6.66670874e-04 6.62028014e-04 6.43810420e-04\n",
            " 6.35430393e-04 6.28140942e-04 6.25176724e-04 6.20966595e-04\n",
            " 6.16208970e-04 6.09644035e-04 6.09001722e-04 6.01517349e-04\n",
            " 5.91793199e-04 5.89231981e-04 5.84393742e-04 5.78701539e-04\n",
            " 5.73343705e-04 5.66449585e-04 5.65137667e-04 5.62238251e-04\n",
            " 5.53350995e-04 5.47897809e-04 5.44800274e-04 5.40666010e-04\n",
            " 5.37207144e-04 5.30675380e-04 5.27998749e-04 5.24725392e-04\n",
            " 5.16109482e-04 5.15797897e-04 5.10813692e-04 5.03740727e-04\n",
            " 5.00848219e-04 4.95602704e-04 4.90800466e-04 4.87312234e-04\n",
            " 4.85961796e-04 4.78682114e-04 4.76869977e-04 4.75892247e-04\n",
            " 4.72177960e-04 4.65593324e-04 4.62502346e-04 4.56206123e-04\n",
            " 4.54546172e-04 4.51007993e-04 4.47212489e-04 4.43987065e-04\n",
            " 4.39380249e-04 4.38200280e-04 4.33290628e-04 4.30199006e-04\n",
            " 4.25852741e-04 4.24242354e-04 4.21244894e-04 4.16604986e-04\n",
            " 4.14660813e-04 4.13414977e-04 4.09602714e-04 4.04796673e-04\n",
            " 4.00616744e-04 3.99135698e-04 3.92697713e-04 3.91723943e-04\n",
            " 3.88078863e-04 3.85812553e-04 3.84038182e-04 3.81375404e-04\n",
            " 3.78229754e-04 3.76906380e-04 3.75414384e-04 3.69349916e-04\n",
            " 3.69209687e-04 3.64360655e-04 3.62920929e-04 3.61020732e-04\n",
            " 3.58683864e-04 3.57353900e-04 3.54980073e-04 3.50452897e-04\n",
            " 3.48634501e-04 3.45413026e-04 3.43099296e-04 3.40393071e-04\n",
            " 3.38457239e-04 3.36880582e-04 3.35661325e-04 3.33950667e-04\n",
            " 3.30934520e-04 3.30645412e-04 3.28097962e-04 3.24412354e-04\n",
            " 3.23067926e-04 3.21263798e-04 3.18553494e-04 3.17048183e-04\n",
            " 3.14494891e-04 3.13186379e-04 3.11146586e-04 3.09056243e-04\n",
            " 3.06409535e-04 3.04720574e-04 3.02835755e-04 2.99609052e-04\n",
            " 2.98858723e-04 2.96412979e-04 2.94753252e-04 2.92854886e-04\n",
            " 2.91723897e-04 2.87367246e-04 2.86450356e-04 2.85842662e-04\n",
            " 2.83012468e-04 2.80975536e-04 2.79825251e-04 2.77840696e-04\n",
            " 2.77565937e-04 2.76289219e-04 2.74070994e-04 2.72000210e-04\n",
            " 2.70589713e-04 2.68637632e-04 2.66766069e-04 2.66012558e-04\n",
            " 2.63493462e-04 2.62312067e-04 2.61032263e-04 2.59980141e-04\n",
            " 2.58320151e-04 2.58191954e-04 2.56625860e-04 2.54673307e-04\n",
            " 2.53979287e-04 2.52468264e-04 2.51687664e-04 2.50696718e-04\n",
            " 2.47788641e-04 2.47388713e-04 2.44900037e-04 2.43774065e-04\n",
            " 2.42713946e-04 2.42012293e-04 2.40670151e-04 2.38508326e-04\n",
            " 2.36406129e-04 2.35910925e-04 2.33893786e-04 2.33464680e-04\n",
            " 2.32581427e-04 2.31006809e-04 2.30630041e-04 2.29149845e-04\n",
            " 2.28433845e-04 2.27904193e-04 2.26185297e-04 2.24993532e-04\n",
            " 2.23088346e-04 2.21425508e-04 2.20471687e-04 2.19647552e-04\n",
            " 2.18684738e-04 2.17842210e-04 2.16447948e-04 2.16072969e-04\n",
            " 2.14689527e-04 2.11868290e-04 2.10908651e-04 2.09631224e-04\n",
            " 2.09291272e-04 2.08201816e-04 2.06482514e-04 2.04492716e-04\n",
            " 2.04002277e-04 2.02814941e-04 2.01912592e-04 2.00289611e-04\n",
            " 1.99344914e-04 1.98855369e-04 1.97144970e-04 1.95638096e-04\n",
            " 1.95576052e-04 1.94415840e-04 1.93551586e-04 1.92962719e-04\n",
            " 1.91611502e-04 1.89897124e-04 1.89611669e-04 1.88074831e-04\n",
            " 1.87143910e-04 1.86692642e-04 1.86435243e-04 1.85307518e-04\n",
            " 1.84306077e-04 1.83188712e-04 1.81574004e-04 1.80253753e-04\n",
            " 1.78340622e-04 1.77511152e-04 1.76470889e-04 1.76037911e-04\n",
            " 1.75490243e-04 1.74571179e-04 1.73922235e-04 1.72987381e-04\n",
            " 1.71240811e-04 1.70615633e-04 1.70143963e-04 1.69890402e-04\n",
            " 1.69261329e-04 1.68226100e-04 1.67230303e-04 1.66676123e-04\n",
            " 1.65963298e-04 1.64965227e-04 1.64078835e-04 1.63367454e-04\n",
            " 1.63153598e-04 1.61945932e-04 1.61435676e-04 1.59833500e-04\n",
            " 1.59678869e-04 1.58547925e-04 1.56736668e-04 1.56286231e-04\n",
            " 1.55652875e-04 1.54773114e-04 1.54419233e-04 1.53543882e-04\n",
            " 1.52702921e-04 1.51838466e-04 1.51269349e-04 1.50418556e-04\n",
            " 1.50179604e-04 1.49371874e-04 1.48624798e-04 1.47856380e-04\n",
            " 1.46905721e-04 1.46514903e-04 1.46444238e-04 1.45347380e-04\n",
            " 1.44849865e-04 1.43567195e-04 1.43379925e-04 1.42265872e-04\n",
            " 1.42013382e-04 1.41093184e-04 1.40968732e-04 1.40130400e-04\n",
            " 1.39263730e-04 1.38434825e-04 1.38118693e-04 1.36803219e-04\n",
            " 1.36424148e-04 1.36063059e-04 1.35790271e-04 1.34518639e-04\n",
            " 1.34023161e-04 1.33677035e-04 1.32971638e-04 1.32722085e-04\n",
            " 1.31966182e-04 1.31491414e-04 1.30947758e-04 1.29746429e-04\n",
            " 1.29464566e-04 1.28783865e-04 1.28656272e-04 1.27927206e-04\n",
            " 1.27493059e-04 1.26509135e-04 1.25485798e-04 1.24505715e-04\n",
            " 1.24319391e-04 1.23422256e-04 1.22827085e-04 1.22204273e-04\n",
            " 1.21783223e-04 1.20999552e-04 1.20588485e-04 1.20050707e-04\n",
            " 1.19519049e-04 1.18936811e-04 1.18724747e-04 1.17631208e-04\n",
            " 1.17448255e-04 1.17185820e-04 1.16407537e-04 1.15742832e-04\n",
            " 1.15038663e-04 1.14717700e-04 1.14602831e-04 1.13949779e-04\n",
            " 1.13552145e-04 1.12710744e-04 1.11960239e-04 1.11721948e-04\n",
            " 1.11276854e-04 1.10936710e-04 1.10425770e-04 1.10013062e-04\n",
            " 1.09478006e-04 1.08664851e-04 1.08238743e-04 1.07605436e-04\n",
            " 1.07384155e-04 1.06970204e-04 1.06668452e-04 1.05944629e-04\n",
            " 1.05444356e-04 1.04955925e-04 1.04444640e-04 1.04073923e-04\n",
            " 1.03936374e-04 1.03703030e-04 1.02878522e-04 1.02363437e-04\n",
            " 1.01738864e-04 1.01075686e-04 1.00497396e-04 1.00271318e-04\n",
            " 9.94848831e-05 9.91781377e-05 9.89410168e-05 9.85348378e-05\n",
            " 9.82361030e-05 9.76227837e-05 9.73725557e-05 9.69775365e-05\n",
            " 9.65101723e-05 9.60636769e-05 9.58880874e-05 9.52641860e-05\n",
            " 9.45440921e-05 9.43978129e-05 9.33291850e-05 9.31369310e-05\n",
            " 9.28811554e-05 9.26572711e-05 9.20419869e-05 9.16882935e-05\n",
            " 9.09282404e-05 9.05756214e-05 9.02133211e-05 8.96757122e-05\n",
            " 8.94405254e-05 8.90874782e-05 8.86063045e-05 8.83746613e-05\n",
            " 8.76753133e-05 8.74082576e-05 8.71552783e-05 8.69248900e-05\n",
            " 8.65018282e-05 8.59978168e-05 8.51540132e-05 8.47209358e-05\n",
            " 8.45628488e-05 8.40105816e-05 8.36723504e-05 8.33121314e-05\n",
            " 8.27851985e-05 8.25964610e-05 8.20941245e-05 8.15967535e-05\n",
            " 8.12395341e-05 8.08479109e-05 8.04373538e-05 7.98435721e-05\n",
            " 7.94924798e-05 7.91384423e-05 7.89932876e-05 7.87290677e-05\n",
            " 7.80807212e-05 7.76531436e-05 7.76071714e-05 7.71660978e-05\n",
            " 7.69773284e-05 7.65521240e-05 7.58829148e-05 7.57809788e-05\n",
            " 7.55136170e-05 7.53857987e-05 7.48152181e-05 7.45138403e-05\n",
            " 7.44464573e-05 7.41363053e-05 7.30840076e-05 7.27326478e-05\n",
            " 7.26269268e-05 7.25842867e-05 7.21089497e-05 7.17494821e-05\n",
            " 7.15913022e-05 7.10474694e-05 7.09567407e-05 7.02772254e-05\n",
            " 6.99946781e-05 6.94246110e-05 6.92420537e-05 6.90721303e-05\n",
            " 6.88509948e-05 6.80502967e-05 6.77977571e-05 6.73972813e-05\n",
            " 6.71861236e-05 6.71173323e-05 6.66459940e-05 6.62643481e-05\n",
            " 6.59831223e-05 6.59549227e-05 6.52380660e-05 6.51571513e-05\n",
            " 6.47079138e-05 6.44428579e-05 6.40876001e-05 6.39032392e-05\n",
            " 6.37333149e-05 6.30816437e-05 6.28836099e-05 6.25716076e-05\n",
            " 6.22283847e-05 6.21509714e-05 6.17106192e-05 6.12442006e-05\n",
            " 6.08945394e-05 6.07462234e-05 6.03580709e-05 5.99574211e-05\n",
            " 5.97687566e-05 5.95133800e-05 5.93703964e-05 5.90264727e-05\n",
            " 5.89450331e-05 5.84385976e-05 5.82846514e-05 5.78936089e-05\n",
            " 5.77654661e-05 5.76947144e-05 5.73376477e-05 5.66502342e-05\n",
            " 5.64774154e-05 5.64514508e-05 5.59249191e-05 5.58356234e-05\n",
            " 5.56175724e-05 5.53863637e-05 5.48044638e-05 5.44429430e-05\n",
            " 5.38989827e-05 5.35987034e-05 5.35140980e-05 5.30516744e-05\n",
            " 5.28612750e-05 5.26552282e-05 5.25999275e-05 5.22856518e-05\n",
            " 5.19594224e-05 5.16554551e-05 5.14446318e-05 5.13232531e-05\n",
            " 5.10292444e-05 5.07818220e-05 5.04255056e-05 5.01679932e-05\n",
            " 4.96831598e-05 4.96229145e-05 4.95982266e-05 4.91046188e-05\n",
            " 4.87010312e-05 4.84923122e-05 4.82419911e-05 4.80514446e-05\n",
            " 4.79102609e-05 4.75495342e-05 4.72664867e-05 4.70982113e-05\n",
            " 4.69630673e-05 4.64904453e-05 4.60734288e-05 4.59880075e-05\n",
            " 4.56476085e-05 4.55157616e-05 4.53128698e-05 4.49916120e-05\n",
            " 4.49206439e-05 4.47540179e-05 4.44193217e-05 4.40459345e-05\n",
            " 4.37796991e-05 4.35965000e-05 4.32605176e-05 4.31364504e-05\n",
            " 4.27830945e-05 4.24916311e-05 4.24612422e-05 4.22547323e-05\n",
            " 4.18651609e-05 4.14472398e-05 4.12496915e-05 4.07861397e-05\n",
            " 4.07636603e-05 4.05349232e-05 4.03233822e-05 4.02198758e-05\n",
            " 3.97996094e-05 3.95730114e-05 3.94567347e-05 3.92638068e-05\n",
            " 3.89631941e-05 3.88670183e-05 3.84658690e-05 3.83081364e-05\n",
            " 3.79246175e-05 3.78876396e-05 3.78325662e-05 3.74283105e-05\n",
            " 3.72457086e-05 3.70069714e-05 3.68303445e-05 3.66639072e-05\n",
            " 3.62809539e-05 3.61417341e-05 3.59711529e-05 3.59114246e-05\n",
            " 3.54805211e-05 3.52971868e-05 3.51550618e-05 3.50535526e-05\n",
            " 3.47515669e-05 3.45909598e-05 3.43270237e-05 3.41551633e-05\n",
            " 3.36461712e-05 3.33826795e-05 3.32291872e-05 3.31568712e-05\n",
            " 3.27859997e-05 3.26234355e-05 3.25697444e-05 3.23944872e-05\n",
            " 3.21932144e-05 3.21414518e-05 3.18898942e-05 3.18381641e-05\n",
            " 3.14516710e-05 3.12641169e-05 3.08855757e-05 3.07342281e-05\n",
            " 3.06447282e-05 3.03143112e-05 3.00292898e-05 2.96924191e-05\n",
            " 2.95601043e-05 2.94166718e-05 2.91450978e-05 2.90808282e-05\n",
            " 2.88810912e-05 2.83746366e-05 2.83381562e-05 2.79782155e-05\n",
            " 2.77736793e-05 2.77123551e-05 2.75032815e-05 2.73188559e-05\n",
            " 2.70360190e-05 2.68236283e-05 2.66936665e-05 2.65421449e-05\n",
            " 2.62634704e-05 2.61922933e-05 2.60547522e-05 2.56469618e-05\n",
            " 2.54541470e-05 2.52472897e-05 2.50256856e-05 2.48632702e-05\n",
            " 2.46568723e-05 2.46024621e-05 2.43695129e-05 2.41336332e-05\n",
            " 2.40507391e-05 2.37702874e-05 2.36496403e-05 2.35381320e-05\n",
            " 2.32451733e-05 2.28488497e-05 2.27619399e-05 2.25809383e-05\n",
            " 2.24313213e-05 2.21292893e-05 2.19963638e-05 2.19303818e-05\n",
            " 2.16849014e-05 2.13188758e-05 2.12627308e-05 2.10953404e-05\n",
            " 2.07444634e-05 2.05550725e-05 2.02837139e-05 2.01325761e-05\n",
            " 2.00135259e-05 1.98078178e-05 1.96304973e-05 1.95522038e-05\n",
            " 1.92685746e-05 1.90415179e-05 1.88714704e-05 1.84970108e-05\n",
            " 1.83712313e-05 1.83092201e-05 1.80918977e-05 1.76504579e-05\n",
            " 1.75047898e-05 1.74463500e-05 1.72533332e-05 1.71252578e-05\n",
            " 1.68317308e-05 1.65627880e-05 1.64566520e-05 1.61656101e-05\n",
            " 1.60906808e-05 1.56033548e-05 1.54425417e-05 1.53318490e-05\n",
            " 1.49571994e-05 1.46426696e-05 1.43488153e-05 1.41653219e-05\n",
            " 1.39707645e-05 1.37393288e-05 1.36451010e-05 1.33731364e-05\n",
            " 1.31683818e-05 1.26470035e-05 1.23999932e-05 1.23013564e-05\n",
            " 1.20583765e-05 1.19414622e-05 1.16195272e-05 1.10629950e-05\n",
            " 1.07308863e-05 1.03394347e-05 9.93975682e-06 9.72892330e-06\n",
            " 9.67236062e-06 8.74567417e-06 8.62336056e-06 8.36861655e-06\n",
            " 8.17916758e-06 7.43050551e-06 6.45263011e-06 5.62213508e-06]\n"
          ],
          "name": "stdout"
        }
      ]
    },
    {
      "cell_type": "markdown",
      "metadata": {
        "id": "6jwpQDJXlGBv"
      },
      "source": [
        "Al igual que antes, con 500 componentes conseguimos representar más del 98% de la variabilidad de nuestro conjunto de entrenamiento:"
      ]
    },
    {
      "cell_type": "code",
      "metadata": {
        "colab": {
          "base_uri": "https://localhost:8080/"
        },
        "id": "LHxMBEt3emSn",
        "outputId": "6f782582-b22a-426f-8f5a-5d5a3dfaa9e9"
      },
      "source": [
        "sum(pca.explained_variance_ratio_[0:500])"
      ],
      "execution_count": null,
      "outputs": [
        {
          "output_type": "execute_result",
          "data": {
            "text/plain": [
              "0.9884430213069976"
            ]
          },
          "metadata": {
            "tags": []
          },
          "execution_count": 25
        }
      ]
    },
    {
      "cell_type": "code",
      "metadata": {
        "id": "4dkysBLHemSn"
      },
      "source": [
        "x_train_fashion_20000_500_components_final = x_train_fashion_20000_final[:,0:500]\n",
        "x_test_fashion_500_components_final = x_test_fashion_final[:,0:500]"
      ],
      "execution_count": null,
      "outputs": []
    },
    {
      "cell_type": "markdown",
      "metadata": {
        "id": "b_SH1ndQlPvw"
      },
      "source": [
        "### Búsqueda del mejor modelo\n",
        "\n",
        "Si intentamos una búsqueda del mejor modelo usando *GridSearchCV*, nos encontraremos que, tras más de 4 horas de ejecución, la función no nos devuelve un resultado. Es por ello que entrenamos los modelos explícitamente con nuestro conjunto de entrenamiento sin realizar ninguna validación cruzada, usando el conjunto de prueba para validar nuestro modelo. Esto requerirá menos recursos aunque el valor para la *accuracy* no será tan fiable.\n",
        "\n",
        "Empezamos con el kernel gaussiano para diferentes valores de C:"
      ]
    },
    {
      "cell_type": "code",
      "metadata": {
        "colab": {
          "base_uri": "https://localhost:8080/",
          "height": 1000
        },
        "id": "d2ekI63BfmQd",
        "outputId": "84b3f8cf-7833-4d2a-97c3-7d49ffa2ec1d"
      },
      "source": [
        "from time import time\n",
        "import datetime\n",
        "from sklearn.svm import SVC\n",
        "from sklearn.metrics import confusion_matrix,classification_report\n",
        "\n",
        "minAccTrain = 100\n",
        "maxAccTrain = 0\n",
        "rapidoAccTrain = 0\n",
        "lentoAccTrain = 0\n",
        "minAccTest= 100\n",
        "maxAccTest = 0\n",
        "rapidoAccTest = 0\n",
        "lentoAccTest = 0\n",
        "\n",
        "mejorTime = 0\n",
        "peorTime = 0\n",
        "minTime = 1000000000\n",
        "maxTime = 0\n",
        "\n",
        "mejorModelo = SVC()\n",
        "peorModelo = SVC()\n",
        "rapidoModelo = SVC()\n",
        "lentoModelo = SVC()\n",
        "\n",
        "c_list = []\n",
        "acc_train_list = []\n",
        "acc_test_list = []\n",
        "\n",
        "kernel = \"rbf\"\n",
        "\n",
        "for c in (1, 10, 100, 1000):\n",
        "    print(\"Kernel Gaussiano con C =\", c)\n",
        "    timeIni = time()\n",
        "    modelo = SVC(kernel = kernel, C=c)\n",
        "    print(modelo.fit(x_train_fashion_20000_500_components_final, y_train_fashion_20000))\n",
        "    timeEnd = time()\n",
        "    timeDiff = datetime.datetime.fromtimestamp(timeEnd-timeIni).strftime(\"%M:%S:%f\")\n",
        "    print(\"Tiempo entrenamiento: \", timeDiff)\n",
        "\n",
        "    c_list.append(c)\n",
        "\n",
        "    #para el conjunto de entrenamiento:\n",
        "    acc_train = modelo.score(x_train_fashion_20000_500_components_final, y_train_fashion_20000)\n",
        "    acc_train_list.append(acc_train)\n",
        "    print(\"Precisión (accuracy): \", acc_train)\n",
        "\n",
        "\n",
        "    predicciones = modelo.predict(x_train_fashion_20000_500_components_final)\n",
        "    print(\"Matriz de confusión:\")\n",
        "    print(confusion_matrix(y_train_fashion_20000, predicciones))\n",
        "    print(classification_report(y_train_fashion_20000, predicciones))\n",
        "    print(\"---------------------------------------\")\n",
        "    print()\n",
        "\n",
        "    #para el conjunto test:\n",
        "    acc_test = modelo.score(x_test_fashion_500_components_final, y_test_fashion)\n",
        "    acc_test_list.append(acc_test)\n",
        "    print(\"Precisión (accuracy): \", acc_test)\n",
        "\n",
        "    predicciones = modelo.predict(x_test_fashion_500_components_final)\n",
        "    print(\"Matriz de confusión:\")\n",
        "    print(confusion_matrix(y_test_fashion, predicciones))\n",
        "    print(classification_report(y_test_fashion, predicciones))\n",
        "    print(\"---------------------------------------\")\n",
        "    print()\n",
        "\n",
        "df = pd.DataFrame({\"c\":c_list, \n",
        "                   \"score_train\":acc_train_list,\n",
        "                   \"score_test\":acc_test_list})\n",
        "\n",
        "df.set_index(\"c\", inplace=True)\n",
        "df[\"score_train\"].plot(label=\"Train Score\")\n",
        "df[\"score_test\"].plot(label=\"Test Score\")\n",
        "plt.suptitle(\"Accuracy Train and Test\")\n",
        "plt.legend()\n",
        "plt.show();"
      ],
      "execution_count": null,
      "outputs": [
        {
          "output_type": "stream",
          "text": [
            "Kernel Gaussiano con C = 1\n",
            "SVC(C=1, break_ties=False, cache_size=200, class_weight=None, coef0=0.0,\n",
            "    decision_function_shape='ovr', degree=3, gamma='scale', kernel='rbf',\n",
            "    max_iter=-1, probability=False, random_state=None, shrinking=True,\n",
            "    tol=0.001, verbose=False)\n",
            "Tiempo entrenamiento:  01:30:058862\n",
            "Precisión (accuracy):  0.9145\n",
            "Matriz de confusión:\n",
            "[[1735    1   12   70    5    0  104    0    8    0]\n",
            " [   6 1976    4   35    1    0    3    0    0    0]\n",
            " [  20    0 1682   15  162    1  102    0    0    0]\n",
            " [  46    1   15 1873   41    0   29    0    6    0]\n",
            " [   1    0  107   62 1699    0   96    0    2    0]\n",
            " [   0    0    0    2    0 1956    0   45    2    5]\n",
            " [ 215    1  123   53  124    0 1545    0    6    1]\n",
            " [   0    0    0    0    0   36    0 1919    3   45]\n",
            " [   2    1    3    9    2    1    3    3 1946    1]\n",
            " [   0    0    0    1    0   14    0   54    0 1959]]\n",
            "              precision    recall  f1-score   support\n",
            "\n",
            "           0       0.86      0.90      0.88      1935\n",
            "           1       1.00      0.98      0.99      2025\n",
            "           2       0.86      0.85      0.86      1982\n",
            "           3       0.88      0.93      0.91      2011\n",
            "           4       0.84      0.86      0.85      1967\n",
            "           5       0.97      0.97      0.97      2010\n",
            "           6       0.82      0.75      0.78      2068\n",
            "           7       0.95      0.96      0.95      2003\n",
            "           8       0.99      0.99      0.99      1971\n",
            "           9       0.97      0.97      0.97      2028\n",
            "\n",
            "    accuracy                           0.91     20000\n",
            "   macro avg       0.91      0.91      0.91     20000\n",
            "weighted avg       0.91      0.91      0.91     20000\n",
            "\n",
            "---------------------------------------\n",
            "\n",
            "Precisión (accuracy):  0.8668\n",
            "Matriz de confusión:\n",
            "[[817   0   7  52   3   0 107   0  14   0]\n",
            " [  3 954   7  29   4   0   3   0   0   0]\n",
            " [ 10   0 785  15 109   0  73   0   8   0]\n",
            " [ 22   5  13 889  27   0  42   0   2   0]\n",
            " [  0   0  87  36 797   0  76   0   4   0]\n",
            " [  0   0   0   1   0 942   0  37   3  17]\n",
            " [123   1 105  37  77   0 635   0  22   0]\n",
            " [  0   0   0   0   0  24   0 937   0  39]\n",
            " [  1   1   3   5   4   5   9   3 969   0]\n",
            " [  0   0   0   0   0  15   0  37   5 943]]\n",
            "              precision    recall  f1-score   support\n",
            "\n",
            "           0       0.84      0.82      0.83      1000\n",
            "           1       0.99      0.95      0.97      1000\n",
            "           2       0.78      0.79      0.78      1000\n",
            "           3       0.84      0.89      0.86      1000\n",
            "           4       0.78      0.80      0.79      1000\n",
            "           5       0.96      0.94      0.95      1000\n",
            "           6       0.67      0.64      0.65      1000\n",
            "           7       0.92      0.94      0.93      1000\n",
            "           8       0.94      0.97      0.96      1000\n",
            "           9       0.94      0.94      0.94      1000\n",
            "\n",
            "    accuracy                           0.87     10000\n",
            "   macro avg       0.87      0.87      0.87     10000\n",
            "weighted avg       0.87      0.87      0.87     10000\n",
            "\n",
            "---------------------------------------\n",
            "\n",
            "Kernel Gaussiano con C = 10\n",
            "SVC(C=10, break_ties=False, cache_size=200, class_weight=None, coef0=0.0,\n",
            "    decision_function_shape='ovr', degree=3, gamma='scale', kernel='rbf',\n",
            "    max_iter=-1, probability=False, random_state=None, shrinking=True,\n",
            "    tol=0.001, verbose=False)\n",
            "Tiempo entrenamiento:  01:22:527690\n",
            "Precisión (accuracy):  0.98435\n",
            "Matriz de confusión:\n",
            "[[1905    0    1    5    0    0   24    0    0    0]\n",
            " [   0 2021    0    4    0    0    0    0    0    0]\n",
            " [   2    0 1922    3   43    0   12    0    0    0]\n",
            " [   8    0    0 1983   18    0    2    0    0    0]\n",
            " [   0    0   28   11 1903    0   25    0    0    0]\n",
            " [   0    0    0    0    0 2006    0    4    0    0]\n",
            " [  38    0   26   12   31    0 1961    0    0    0]\n",
            " [   0    0    0    0    0    1    0 1997    0    5]\n",
            " [   0    0    0    0    0    0    0    0 1971    0]\n",
            " [   0    0    0    0    0    0    0   10    0 2018]]\n",
            "              precision    recall  f1-score   support\n",
            "\n",
            "           0       0.98      0.98      0.98      1935\n",
            "           1       1.00      1.00      1.00      2025\n",
            "           2       0.97      0.97      0.97      1982\n",
            "           3       0.98      0.99      0.98      2011\n",
            "           4       0.95      0.97      0.96      1967\n",
            "           5       1.00      1.00      1.00      2010\n",
            "           6       0.97      0.95      0.96      2068\n",
            "           7       0.99      1.00      1.00      2003\n",
            "           8       1.00      1.00      1.00      1971\n",
            "           9       1.00      1.00      1.00      2028\n",
            "\n",
            "    accuracy                           0.98     20000\n",
            "   macro avg       0.98      0.98      0.98     20000\n",
            "weighted avg       0.98      0.98      0.98     20000\n",
            "\n",
            "---------------------------------------\n",
            "\n",
            "Precisión (accuracy):  0.8776\n",
            "Matriz de confusión:\n",
            "[[821   0  12  30   3   1 121   0  12   0]\n",
            " [  4 962   4  25   4   0   1   0   0   0]\n",
            " [ 19   0 808  10  98   0  59   0   6   0]\n",
            " [ 33   8  14 880  39   0  23   0   3   0]\n",
            " [  1   0  92  30 801   0  72   0   4   0]\n",
            " [  0   0   0   1   0 957   0  25   3  14]\n",
            " [105   1  95  36  68   0 675   0  20   0]\n",
            " [  0   0   0   0   0  20   0 952   0  28]\n",
            " [  3   0   6   4   6   3   5   4 969   0]\n",
            " [  0   0   0   0   0  11   0  34   4 951]]\n",
            "              precision    recall  f1-score   support\n",
            "\n",
            "           0       0.83      0.82      0.83      1000\n",
            "           1       0.99      0.96      0.98      1000\n",
            "           2       0.78      0.81      0.80      1000\n",
            "           3       0.87      0.88      0.87      1000\n",
            "           4       0.79      0.80      0.79      1000\n",
            "           5       0.96      0.96      0.96      1000\n",
            "           6       0.71      0.68      0.69      1000\n",
            "           7       0.94      0.95      0.94      1000\n",
            "           8       0.95      0.97      0.96      1000\n",
            "           9       0.96      0.95      0.95      1000\n",
            "\n",
            "    accuracy                           0.88     10000\n",
            "   macro avg       0.88      0.88      0.88     10000\n",
            "weighted avg       0.88      0.88      0.88     10000\n",
            "\n",
            "---------------------------------------\n",
            "\n",
            "Kernel Gaussiano con C = 100\n",
            "SVC(C=100, break_ties=False, cache_size=200, class_weight=None, coef0=0.0,\n",
            "    decision_function_shape='ovr', degree=3, gamma='scale', kernel='rbf',\n",
            "    max_iter=-1, probability=False, random_state=None, shrinking=True,\n",
            "    tol=0.001, verbose=False)\n",
            "Tiempo entrenamiento:  01:23:165694\n",
            "Precisión (accuracy):  1.0\n",
            "Matriz de confusión:\n",
            "[[1935    0    0    0    0    0    0    0    0    0]\n",
            " [   0 2025    0    0    0    0    0    0    0    0]\n",
            " [   0    0 1982    0    0    0    0    0    0    0]\n",
            " [   0    0    0 2011    0    0    0    0    0    0]\n",
            " [   0    0    0    0 1967    0    0    0    0    0]\n",
            " [   0    0    0    0    0 2010    0    0    0    0]\n",
            " [   0    0    0    0    0    0 2068    0    0    0]\n",
            " [   0    0    0    0    0    0    0 2003    0    0]\n",
            " [   0    0    0    0    0    0    0    0 1971    0]\n",
            " [   0    0    0    0    0    0    0    0    0 2028]]\n",
            "              precision    recall  f1-score   support\n",
            "\n",
            "           0       1.00      1.00      1.00      1935\n",
            "           1       1.00      1.00      1.00      2025\n",
            "           2       1.00      1.00      1.00      1982\n",
            "           3       1.00      1.00      1.00      2011\n",
            "           4       1.00      1.00      1.00      1967\n",
            "           5       1.00      1.00      1.00      2010\n",
            "           6       1.00      1.00      1.00      2068\n",
            "           7       1.00      1.00      1.00      2003\n",
            "           8       1.00      1.00      1.00      1971\n",
            "           9       1.00      1.00      1.00      2028\n",
            "\n",
            "    accuracy                           1.00     20000\n",
            "   macro avg       1.00      1.00      1.00     20000\n",
            "weighted avg       1.00      1.00      1.00     20000\n",
            "\n",
            "---------------------------------------\n",
            "\n",
            "Precisión (accuracy):  0.8748\n",
            "Matriz de confusión:\n",
            "[[802   0  13  28   4   0 141   0  12   0]\n",
            " [  4 966   4  21   2   0   3   0   0   0]\n",
            " [ 19   1 813   9  99   0  53   0   6   0]\n",
            " [ 39   8  18 870  36   0  26   0   3   0]\n",
            " [  2   0 105  29 784   0  76   0   4   0]\n",
            " [  0   0   0   1   0 962   0  19   3  15]\n",
            " [109   1  97  30  68   0 675   0  20   0]\n",
            " [  0   0   0   0   0  23   0 954   0  23]\n",
            " [  3   0   7   4   6   3   4   4 969   0]\n",
            " [  0   0   0   0   0  10   0  33   4 953]]\n",
            "              precision    recall  f1-score   support\n",
            "\n",
            "           0       0.82      0.80      0.81      1000\n",
            "           1       0.99      0.97      0.98      1000\n",
            "           2       0.77      0.81      0.79      1000\n",
            "           3       0.88      0.87      0.87      1000\n",
            "           4       0.78      0.78      0.78      1000\n",
            "           5       0.96      0.96      0.96      1000\n",
            "           6       0.69      0.68      0.68      1000\n",
            "           7       0.94      0.95      0.95      1000\n",
            "           8       0.95      0.97      0.96      1000\n",
            "           9       0.96      0.95      0.96      1000\n",
            "\n",
            "    accuracy                           0.87     10000\n",
            "   macro avg       0.88      0.87      0.87     10000\n",
            "weighted avg       0.88      0.87      0.87     10000\n",
            "\n",
            "---------------------------------------\n",
            "\n",
            "Kernel Gaussiano con C = 1000\n",
            "SVC(C=1000, break_ties=False, cache_size=200, class_weight=None, coef0=0.0,\n",
            "    decision_function_shape='ovr', degree=3, gamma='scale', kernel='rbf',\n",
            "    max_iter=-1, probability=False, random_state=None, shrinking=True,\n",
            "    tol=0.001, verbose=False)\n",
            "Tiempo entrenamiento:  01:24:378966\n",
            "Precisión (accuracy):  1.0\n",
            "Matriz de confusión:\n",
            "[[1935    0    0    0    0    0    0    0    0    0]\n",
            " [   0 2025    0    0    0    0    0    0    0    0]\n",
            " [   0    0 1982    0    0    0    0    0    0    0]\n",
            " [   0    0    0 2011    0    0    0    0    0    0]\n",
            " [   0    0    0    0 1967    0    0    0    0    0]\n",
            " [   0    0    0    0    0 2010    0    0    0    0]\n",
            " [   0    0    0    0    0    0 2068    0    0    0]\n",
            " [   0    0    0    0    0    0    0 2003    0    0]\n",
            " [   0    0    0    0    0    0    0    0 1971    0]\n",
            " [   0    0    0    0    0    0    0    0    0 2028]]\n",
            "              precision    recall  f1-score   support\n",
            "\n",
            "           0       1.00      1.00      1.00      1935\n",
            "           1       1.00      1.00      1.00      2025\n",
            "           2       1.00      1.00      1.00      1982\n",
            "           3       1.00      1.00      1.00      2011\n",
            "           4       1.00      1.00      1.00      1967\n",
            "           5       1.00      1.00      1.00      2010\n",
            "           6       1.00      1.00      1.00      2068\n",
            "           7       1.00      1.00      1.00      2003\n",
            "           8       1.00      1.00      1.00      1971\n",
            "           9       1.00      1.00      1.00      2028\n",
            "\n",
            "    accuracy                           1.00     20000\n",
            "   macro avg       1.00      1.00      1.00     20000\n",
            "weighted avg       1.00      1.00      1.00     20000\n",
            "\n",
            "---------------------------------------\n",
            "\n",
            "Precisión (accuracy):  0.8749\n",
            "Matriz de confusión:\n",
            "[[803   0  13  28   4   0 140   0  12   0]\n",
            " [  4 966   4  21   2   0   3   0   0   0]\n",
            " [ 19   1 812   9  99   0  54   0   6   0]\n",
            " [ 39   8  17 870  37   0  26   0   3   0]\n",
            " [  2   0 105  29 784   0  76   0   4   0]\n",
            " [  0   0   0   1   0 962   0  19   3  15]\n",
            " [108   1  97  30  68   0 676   0  20   0]\n",
            " [  0   0   0   0   0  23   0 954   0  23]\n",
            " [  3   0   6   4   6   3   5   4 969   0]\n",
            " [  0   0   0   0   0  10   0  33   4 953]]\n",
            "              precision    recall  f1-score   support\n",
            "\n",
            "           0       0.82      0.80      0.81      1000\n",
            "           1       0.99      0.97      0.98      1000\n",
            "           2       0.77      0.81      0.79      1000\n",
            "           3       0.88      0.87      0.87      1000\n",
            "           4       0.78      0.78      0.78      1000\n",
            "           5       0.96      0.96      0.96      1000\n",
            "           6       0.69      0.68      0.68      1000\n",
            "           7       0.94      0.95      0.95      1000\n",
            "           8       0.95      0.97      0.96      1000\n",
            "           9       0.96      0.95      0.96      1000\n",
            "\n",
            "    accuracy                           0.87     10000\n",
            "   macro avg       0.88      0.87      0.87     10000\n",
            "weighted avg       0.88      0.87      0.87     10000\n",
            "\n",
            "---------------------------------------\n",
            "\n"
          ],
          "name": "stdout"
        },
        {
          "output_type": "display_data",
          "data": {
            "image/png": "[encoded data removed]",
            "text/plain": [
              "<Figure size 432x288 with 1 Axes>"
            ]
          },
          "metadata": {
            "tags": [],
            "needs_background": "light"
          }
        }
      ]
    },
    {
      "cell_type": "markdown",
      "metadata": {
        "id": "2Lqose2V5RMk"
      },
      "source": [
        "Resumimos los resultados obtenidos de la *accuracy* para cada modelo usando el kernel gaussiano:\n",
        "\n"
      ]
    },
    {
      "cell_type": "markdown",
      "metadata": {
        "id": "TTqpN_aO5Z7W"
      },
      "source": [
        "|    C  | tiempo de entrenamiento (mm:ss) | *Accuracy* en entrenamiento | *Accuracy* en test |\n",
        "|---------------|:-------------:|:-------------:|:-------------:|\n",
        "|   1    |      1:30     |         0.9145      |     0.8668      |\n",
        "|   10  |      1:22     |         0.98435      |     0.8776      |\n",
        "|   100    |     1:23     |         1      |      0.8748      |\n",
        "|   1000    |     1:24     |         1     |      0.8749      |"
      ]
    },
    {
      "cell_type": "markdown",
      "metadata": {
        "id": "iocoYxxX5nCK"
      },
      "source": [
        "Al igual que con el *dataset* de dígitos, encontramos:\n",
        "\n",
        "* Al incrementar C la precisión tanto en el conjunto de entrenamiento como el conjunto de test aumenta. Por tanto, para valores de C pequeños, los modelos presentan *underfitting* (mucho sesgo, poca varianza). Como ya explicamos, esto se debe a que C es inversamente proporcional al factor de regularización, con valores altos de C penalizando de forma más severa los errores y reduciendo el margen. Un C muy bajo, por tanto, tolera más clasificaciones erróneas y la SVM no es capaz de obtener los mejores hiperplanos ya que está teniendo en cuenta puntos alejados de las fronteras.\n",
        "\n",
        "* No hay diferencias significativas en los tiempos de ejecución.\n",
        "\n",
        "* Las matrices de confusión y los indicadores *precision*, *recall* y *f1-score* son similares entre los modelos, pero diferentes para cada clase en el conjunto de prueba. Así, las clases 1, 5 y 8 tienen valores mucho más altos de *f1-score* que las correspondientes a las 6, 4, 0 y 2. Por otro lado, no se aprecia diferencias grandes entre *precision* y *recall*, estando equilibrados ambos. \n",
        "\n",
        "Seguimos con el kernel lineal:"
      ]
    },
    {
      "cell_type": "code",
      "metadata": {
        "colab": {
          "base_uri": "https://localhost:8080/"
        },
        "id": "-k9vFJB3fmQe",
        "outputId": "082b6ff0-5786-4895-f7b6-b53fef674fc8"
      },
      "source": [
        "from time import time\n",
        "import datetime\n",
        "from sklearn.svm import SVC\n",
        "from sklearn.metrics import confusion_matrix,classification_report\n",
        "\n",
        "minAccTrain = 100\n",
        "maxAccTrain = 0\n",
        "rapidoAccTrain = 0\n",
        "lentoAccTrain = 0\n",
        "minAccTest= 100\n",
        "maxAccTest = 0\n",
        "rapidoAccTest = 0\n",
        "lentoAccTest = 0\n",
        "\n",
        "mejorTime = 0\n",
        "peorTime = 0\n",
        "minTime = 1000000000\n",
        "maxTime = 0\n",
        "\n",
        "mejorModelo = SVC()\n",
        "peorModelo = SVC()\n",
        "rapidoModelo = SVC()\n",
        "lentoModelo = SVC()\n",
        "\n",
        "c_list = []\n",
        "acc_train_list = []\n",
        "acc_test_list = []\n",
        "\n",
        "kernel = \"linear\"\n",
        "\n",
        "for c in (1, 10, 100, 1000):\n",
        "    print(\"Kernel Lineal con C =\", c)\n",
        "    timeIni = time()\n",
        "    modelo = SVC(kernel = kernel, C=c)\n",
        "    print(modelo.fit(x_train_fashion_20000_500_components_final, y_train_fashion_20000))\n",
        "    timeEnd = time()\n",
        "    timeDiff = datetime.datetime.fromtimestamp(timeEnd-timeIni).strftime(\"%M:%S:%f\")\n",
        "    print(\"Tiempo entrenamiento: \", timeDiff)\n",
        "\n",
        "    c_list.append(c)\n",
        "\n",
        "    #para el conjunto de entrenamiento:\n",
        "    acc_train = modelo.score(x_train_fashion_20000_500_components_final, y_train_fashion_20000)\n",
        "    acc_train_list.append(acc_train)\n",
        "    print(\"Precisión (accuracy): \", acc_train)\n",
        "\n",
        "\n",
        "    predicciones = modelo.predict(x_train_fashion_20000_500_components_final)\n",
        "    print(\"Matriz de confusión:\")\n",
        "    print(confusion_matrix(y_train_fashion_20000, predicciones))\n",
        "    print(classification_report(y_train_fashion_20000, predicciones))\n",
        "    print(\"---------------------------------------\")\n",
        "    print()\n",
        "\n",
        "    #para el conjunto test:\n",
        "    acc_test = modelo.score(x_test_fashion_500_components_final, y_test_fashion)\n",
        "    acc_test_list.append(acc_test)\n",
        "    print(\"Precisión (accuracy): \", acc_test)\n",
        "\n",
        "    predicciones = modelo.predict(x_test_fashion_500_components_final)\n",
        "    print(\"Matriz de confusión:\")\n",
        "    print(confusion_matrix(y_test_fashion, predicciones))\n",
        "    print(classification_report(y_test_fashion, predicciones))\n",
        "    print(\"---------------------------------------\")\n",
        "    print()\n",
        "\n",
        "df = pd.DataFrame({\"c\":c_list, \n",
        "                   \"score_train\":acc_train_list,\n",
        "                   \"score_test\":acc_test_list})\n",
        "\n",
        "df.set_index(\"c\", inplace=True)\n",
        "df[\"score_train\"].plot(label=\"Train Score\")\n",
        "df[\"score_test\"].plot(label=\"Test Score\")\n",
        "plt.suptitle(\"Accuracy Train and Test\")\n",
        "plt.legend()\n",
        "plt.show();"
      ],
      "execution_count": null,
      "outputs": [
        {
          "output_type": "stream",
          "text": [
            "Kernel Lineal con C = 1\n",
            "SVC(C=1, break_ties=False, cache_size=200, class_weight=None, coef0=0.0,\n",
            "    decision_function_shape='ovr', degree=3, gamma='scale', kernel='linear',\n",
            "    max_iter=-1, probability=False, random_state=None, shrinking=True,\n",
            "    tol=0.001, verbose=False)\n",
            "Tiempo entrenamiento:  02:20:413560\n",
            "Precisión (accuracy):  0.93245\n",
            "Matriz de confusión:\n",
            "[[1794    0    3   31    0    0  107    0    0    0]\n",
            " [   0 2023    0    2    0    0    0    0    0    0]\n",
            " [  10    0 1686    5  175    0  106    0    0    0]\n",
            " [  23    0    2 1953   20    0   13    0    0    0]\n",
            " [   2    0  150   21 1688    0  106    0    0    0]\n",
            " [   0    0    0    0    0 1987    0   23    0    0]\n",
            " [ 206    3  153   30  114    0 1562    0    0    0]\n",
            " [   0    0    0    0    0   21    0 1974    0    8]\n",
            " [   0    0    0    0    0    0    0    0 1971    0]\n",
            " [   0    0    0    0    0    1    0   16    0 2011]]\n",
            "              precision    recall  f1-score   support\n",
            "\n",
            "           0       0.88      0.93      0.90      1935\n",
            "           1       1.00      1.00      1.00      2025\n",
            "           2       0.85      0.85      0.85      1982\n",
            "           3       0.96      0.97      0.96      2011\n",
            "           4       0.85      0.86      0.85      1967\n",
            "           5       0.99      0.99      0.99      2010\n",
            "           6       0.82      0.76      0.79      2068\n",
            "           7       0.98      0.99      0.98      2003\n",
            "           8       1.00      1.00      1.00      1971\n",
            "           9       1.00      0.99      0.99      2028\n",
            "\n",
            "    accuracy                           0.93     20000\n",
            "   macro avg       0.93      0.93      0.93     20000\n",
            "weighted avg       0.93      0.93      0.93     20000\n",
            "\n",
            "---------------------------------------\n",
            "\n",
            "Precisión (accuracy):  0.8217\n",
            "Matriz de confusión:\n",
            "[[811   3  15  40   4   2 112   0  13   0]\n",
            " [ 10 962   1  20   4   0   2   0   1   0]\n",
            " [ 28   7 751  12 101   0  92   0   9   0]\n",
            " [ 65  33  33 795  29   0  38   0   7   0]\n",
            " [  2   1 153  42 719   0  82   0   1   0]\n",
            " [  0   0   0   1   0 915   0  46   4  34]\n",
            " [176   4 137  35 107   1 520   0  20   0]\n",
            " [  0   0   0   0   0  48   0 911   1  40]\n",
            " [ 17   2  14  12   5   7  28   5 910   0]\n",
            " [  0   0   0   0   0  27   2  48   0 923]]\n",
            "              precision    recall  f1-score   support\n",
            "\n",
            "           0       0.73      0.81      0.77      1000\n",
            "           1       0.95      0.96      0.96      1000\n",
            "           2       0.68      0.75      0.71      1000\n",
            "           3       0.83      0.80      0.81      1000\n",
            "           4       0.74      0.72      0.73      1000\n",
            "           5       0.92      0.92      0.92      1000\n",
            "           6       0.59      0.52      0.55      1000\n",
            "           7       0.90      0.91      0.91      1000\n",
            "           8       0.94      0.91      0.93      1000\n",
            "           9       0.93      0.92      0.92      1000\n",
            "\n",
            "    accuracy                           0.82     10000\n",
            "   macro avg       0.82      0.82      0.82     10000\n",
            "weighted avg       0.82      0.82      0.82     10000\n",
            "\n",
            "---------------------------------------\n",
            "\n",
            "Kernel Lineal con C = 10\n",
            "SVC(C=10, break_ties=False, cache_size=200, class_weight=None, coef0=0.0,\n",
            "    decision_function_shape='ovr', degree=3, gamma='scale', kernel='linear',\n",
            "    max_iter=-1, probability=False, random_state=None, shrinking=True,\n",
            "    tol=0.001, verbose=False)\n",
            "Tiempo entrenamiento:  17:44:834549\n",
            "Precisión (accuracy):  0.942\n",
            "Matriz de confusión:\n",
            "[[1827    0    0   15    0    0   93    0    0    0]\n",
            " [   0 2025    0    0    0    0    0    0    0    0]\n",
            " [   8    1 1709    4  162    0   98    0    0    0]\n",
            " [  14    0    2 1984    3    0    8    0    0    0]\n",
            " [   3    1  143   13 1708    0   98    0    1    0]\n",
            " [   0    0    0    0    0 2003    0    7    0    0]\n",
            " [ 205    2  148   19  103    0 1591    0    0    0]\n",
            " [   0    0    0    0    0    9    0 1994    0    0]\n",
            " [   0    0    0    0    0    0    0    0 1971    0]\n",
            " [   0    0    0    0    0    0    0    0    0 2028]]\n",
            "              precision    recall  f1-score   support\n",
            "\n",
            "           0       0.89      0.94      0.92      1935\n",
            "           1       1.00      1.00      1.00      2025\n",
            "           2       0.85      0.86      0.86      1982\n",
            "           3       0.97      0.99      0.98      2011\n",
            "           4       0.86      0.87      0.87      1967\n",
            "           5       1.00      1.00      1.00      2010\n",
            "           6       0.84      0.77      0.80      2068\n",
            "           7       1.00      1.00      1.00      2003\n",
            "           8       1.00      1.00      1.00      1971\n",
            "           9       1.00      1.00      1.00      2028\n",
            "\n",
            "    accuracy                           0.94     20000\n",
            "   macro avg       0.94      0.94      0.94     20000\n",
            "weighted avg       0.94      0.94      0.94     20000\n",
            "\n",
            "---------------------------------------\n",
            "\n",
            "Precisión (accuracy):  0.8157\n",
            "Matriz de confusión:\n",
            "[[808   3  13  43   4   2 113   0  14   0]\n",
            " [ 13 961   0  19   4   0   2   0   1   0]\n",
            " [ 29   8 752  12 107   0  83   0   9   0]\n",
            " [ 73  35  32 777  39   0  37   0   7   0]\n",
            " [  2   1 150  45 718   0  83   0   1   0]\n",
            " [  0   1   0   0   0 906   0  54   4  35]\n",
            " [181   5 150  42 108   1 495   0  18   0]\n",
            " [  0   0   0   0   0  52   0 905   1  42]\n",
            " [ 20   1  12  10   3   7  29   5 913   0]\n",
            " [  0   0   0   0   0  33   2  43   0 922]]\n",
            "              precision    recall  f1-score   support\n",
            "\n",
            "           0       0.72      0.81      0.76      1000\n",
            "           1       0.95      0.96      0.95      1000\n",
            "           2       0.68      0.75      0.71      1000\n",
            "           3       0.82      0.78      0.80      1000\n",
            "           4       0.73      0.72      0.72      1000\n",
            "           5       0.91      0.91      0.91      1000\n",
            "           6       0.59      0.49      0.54      1000\n",
            "           7       0.90      0.91      0.90      1000\n",
            "           8       0.94      0.91      0.93      1000\n",
            "           9       0.92      0.92      0.92      1000\n",
            "\n",
            "    accuracy                           0.82     10000\n",
            "   macro avg       0.81      0.82      0.81     10000\n",
            "weighted avg       0.81      0.82      0.81     10000\n",
            "\n",
            "---------------------------------------\n",
            "\n",
            "Kernel Lineal con C = 100\n",
            "SVC(C=100, break_ties=False, cache_size=200, class_weight=None, coef0=0.0,\n",
            "    decision_function_shape='ovr', degree=3, gamma='scale', kernel='linear',\n",
            "    max_iter=-1, probability=False, random_state=None, shrinking=True,\n",
            "    tol=0.001, verbose=False)\n",
            "Tiempo entrenamiento:  35:42:142332\n",
            "Precisión (accuracy):  0.94535\n",
            "Matriz de confusión:\n",
            "[[1832    0    0    5    0    0   98    0    0    0]\n",
            " [   0 2025    0    0    0    0    0    0    0    0]\n",
            " [   8    1 1716    3  159    0   95    0    0    0]\n",
            " [   4    0    1 2005    0    0    1    0    0    0]\n",
            " [   2    0  132    9 1723    0  100    0    1    0]\n",
            " [   0    0    0    0    0 2010    0    0    0    0]\n",
            " [ 208    2  146   13  103    0 1596    0    0    0]\n",
            " [   0    0    0    0    0    2    0 2001    0    0]\n",
            " [   0    0    0    0    0    0    0    0 1971    0]\n",
            " [   0    0    0    0    0    0    0    0    0 2028]]\n",
            "              precision    recall  f1-score   support\n",
            "\n",
            "           0       0.89      0.95      0.92      1935\n",
            "           1       1.00      1.00      1.00      2025\n",
            "           2       0.86      0.87      0.86      1982\n",
            "           3       0.99      1.00      0.99      2011\n",
            "           4       0.87      0.88      0.87      1967\n",
            "           5       1.00      1.00      1.00      2010\n",
            "           6       0.84      0.77      0.81      2068\n",
            "           7       1.00      1.00      1.00      2003\n",
            "           8       1.00      1.00      1.00      1971\n",
            "           9       1.00      1.00      1.00      2028\n",
            "\n",
            "    accuracy                           0.95     20000\n",
            "   macro avg       0.94      0.95      0.94     20000\n",
            "weighted avg       0.94      0.95      0.94     20000\n",
            "\n",
            "---------------------------------------\n",
            "\n",
            "Precisión (accuracy):  0.8133\n",
            "Matriz de confusión:\n",
            "[[808   3  13  44   5   2 110   0  15   0]\n",
            " [ 12 964   0  15   4   0   4   0   1   0]\n",
            " [ 33   7 752  11 110   0  77   0  10   0]\n",
            " [ 75  38  32 767  40   0  41   0   7   0]\n",
            " [  2   1 153  42 715   0  86   0   1   0]\n",
            " [  0   1   0   0   0 904   0  56   4  35]\n",
            " [182   5 141  40 112   1 501   0  18   0]\n",
            " [  0   0   0   0   0  70   0 887   1  42]\n",
            " [ 18   1  12  12   4   6  28   6 913   0]\n",
            " [  0   0   0   0   0  33   2  43   0 922]]\n",
            "              precision    recall  f1-score   support\n",
            "\n",
            "           0       0.72      0.81      0.76      1000\n",
            "           1       0.95      0.96      0.95      1000\n",
            "           2       0.68      0.75      0.72      1000\n",
            "           3       0.82      0.77      0.79      1000\n",
            "           4       0.72      0.71      0.72      1000\n",
            "           5       0.89      0.90      0.90      1000\n",
            "           6       0.59      0.50      0.54      1000\n",
            "           7       0.89      0.89      0.89      1000\n",
            "           8       0.94      0.91      0.93      1000\n",
            "           9       0.92      0.92      0.92      1000\n",
            "\n",
            "    accuracy                           0.81     10000\n",
            "   macro avg       0.81      0.81      0.81     10000\n",
            "weighted avg       0.81      0.81      0.81     10000\n",
            "\n",
            "---------------------------------------\n",
            "\n",
            "Kernel Lineal con C = 1000\n"
          ],
          "name": "stdout"
        }
      ]
    },
    {
      "cell_type": "markdown",
      "metadata": {
        "id": "RB9Ia0bY_Fco"
      },
      "source": [
        "Al igual que antes, resumimos los valores de *accuracy* y tiempos de ejecución para cada modelo en una tabla:"
      ]
    },
    {
      "cell_type": "markdown",
      "metadata": {
        "id": "wSj_HdJh_QKO"
      },
      "source": [
        "|    C  | tiempo de entrenamiento (mm:ss) | *Accuracy* en entrenamiento | *Accuracy* en test |\n",
        "|---------------|:-------------:|:-------------:|:-------------:|\n",
        "|   1    |      2:20     |         0.93245      |     0.8217      |\n",
        "|   10  |      17:44     |         0.942      |     0.8157      |\n",
        "|   100    |     35:42    |         0.94535      |      0.8133      |\n",
        "|   1000    |     ---     |         ---    |      ---      |"
      ]
    },
    {
      "cell_type": "markdown",
      "metadata": {
        "id": "MAmoDE7r_9ZS"
      },
      "source": [
        "Conforme aumenta C se observa que el tiempo necesario se incrementa sustancialmente, hasta el punto de no llegar a ser capaces de realizar el modelo C = 1000. Por su lado, la *accuracy* crece con C en el conjunto de entrenamiento y se hace más pequeña en el conjunto de prueba. Esto último nos indica que conforme aumentamos C nos vamos adentrando en la zona de *overfitting*, tal y como hemos comentado en los análisis anteriores.\n",
        "\n",
        "De nuevo, las matrices de confusión y los indicadores *precision*, *recall* y *f1-score* nos muestran similitudes entre los modelos, pero diferencias para cada clase en el conjunto de prueba. Se ve que las clases 1, 5 y 8 tienen valores mucho más altos de *f1-score* que las correspondientes a las 6, 4, 0 y 2. Además, *precision* y *recall* vuelven a tener valores parecidos para cada clase.\n",
        "\n",
        "Comparando entre kernels, el gaussiano mejora al lineal en más de un 4% para cualquier valor de C. Dentro de este kernel, encontramos que el valor máximo de *accuracy* se da para C = 10. Por ello, concluimos que nuestro modelo óptimo tendría un kernel gaussiano y un C = 10."
      ]
    },
    {
      "cell_type": "markdown",
      "metadata": {
        "id": "4JjqR6G-hwxW"
      },
      "source": [
        "### Mejor modelo SVM\n",
        "\n",
        "Tras el análisis anterior, construimos el modelo óptimo con C = 10 y *kernel gaussiano* y lo entrenamos sobre todo el dataset de entrenamiento para obtener el máximo potencial:"
      ]
    },
    {
      "cell_type": "code",
      "metadata": {
        "colab": {
          "base_uri": "https://localhost:8080/",
          "height": 699
        },
        "id": "J98Pkdo-9f6m",
        "outputId": "6f7a0ece-bd8b-4a6e-aeff-f59e879f5999"
      },
      "source": [
        "from time import time\n",
        "import datetime\n",
        "from sklearn.svm import SVC\n",
        "from sklearn import metrics\n",
        "from sklearn.metrics import classification_report\n",
        "\n",
        "\n",
        "modelo_fashion_final = SVC(kernel = 'rbf', C=10)\n",
        "timeIni = time()\n",
        "print(modelo_fashion_final.fit(x_train_fashion, y_train_fashion))\n",
        "timeEnd = time()\n",
        "timeDiff = datetime.datetime.fromtimestamp(timeEnd-timeIni).strftime(\"%M:%S:%f\")\n",
        "print(\"Tiempo entrenamiento: \", timeDiff)\n",
        "\n",
        "#para el conjunto test:\n",
        "acc_test = modelo_fashion_final.score(x_test_fashion, y_test_fashion)\n",
        "print(\"Precisión (accuracy): \", acc_test)\n",
        "disp = metrics.plot_confusion_matrix(modelo_fashion_final, x_test_fashion, y_test_fashion, values_format = '')\n",
        "disp.figure_.suptitle(\"Confusion Matrix\")\n",
        "predicciones = modelo_fashion_final.predict(x_test_fashion)\n",
        "print(classification_report(y_test_fashion, predicciones))"
      ],
      "execution_count": 52,
      "outputs": [
        {
          "output_type": "stream",
          "text": [
            "SVC(C=10, break_ties=False, cache_size=200, class_weight=None, coef0=0.0,\n",
            "    decision_function_shape='ovr', degree=3, gamma='scale', kernel='rbf',\n",
            "    max_iter=-1, probability=False, random_state=None, shrinking=True,\n",
            "    tol=0.001, verbose=False)\n",
            "Tiempo entrenamiento:  11:26:441688\n",
            "Precisión (accuracy):  0.9002\n",
            "              precision    recall  f1-score   support\n",
            "\n",
            "           0       0.84      0.85      0.85      1000\n",
            "           1       0.99      0.97      0.98      1000\n",
            "           2       0.81      0.84      0.82      1000\n",
            "           3       0.90      0.91      0.91      1000\n",
            "           4       0.83      0.83      0.83      1000\n",
            "           5       0.97      0.97      0.97      1000\n",
            "           6       0.75      0.72      0.73      1000\n",
            "           7       0.95      0.96      0.96      1000\n",
            "           8       0.98      0.98      0.98      1000\n",
            "           9       0.97      0.96      0.97      1000\n",
            "\n",
            "    accuracy                           0.90     10000\n",
            "   macro avg       0.90      0.90      0.90     10000\n",
            "weighted avg       0.90      0.90      0.90     10000\n",
            "\n"
          ],
          "name": "stdout"
        },
        {
          "output_type": "display_data",
          "data": {
            "image/png": "[encoded data removed]",
            "text/plain": [
              "<Figure size 432x288 with 2 Axes>"
            ]
          },
          "metadata": {
            "tags": [],
            "needs_background": "light"
          }
        }
      ]
    },
    {
      "cell_type": "markdown",
      "metadata": {
        "id": "Y0FYgouq_sPu"
      },
      "source": [
        "El modelo tarda 11 minutos y 26 segundos en entrenar con todo el *dataset*, unas 10 veces más tiempo que el modelo análogo entrenado en nuestro análisis (1:22). La *accuracy* obtenida sobre el conjunto de prueba es del 90%, un 3% mejor. Recordemos que el modelo empleado en nuestro análisis fue entrenado sobre un conjunto de 20.000 registros (un tercio del total) y su dimensionalidad fue reducida de 784 a 500 dimensiones.\n",
        "\n",
        "En cuanto a las métricas, vemos que en la matriz de confusión la inmensa mayoría de registros de prueba han sido correctamente clasificados, apareciendo predominantemente en la diagonal. Consecuentemente, los indicadores de *precision*, *recall* y *f1-score* muestran en general muy buenos en resultados.\n",
        "\n",
        "En particular, se ve que las clases 6, 4, 0 y 2 se cometen más errores que para las clases 1, 5 y 9. Vemos que dichos errores son tanto por falsos positivos como por falsos negativos, ya que la *precision* y el *recall* tienen un valor parecido en todas las clases.\n",
        "\n"
      ]
    },
    {
      "cell_type": "markdown",
      "metadata": {
        "id": "MGtbBy1Kk9VW"
      },
      "source": [
        "# **Conclusiones**\n",
        "\n",
        "Recapitulando, en esta tarea se han implementado varios modelos SVM con dos *datasets*, uno basado en números escritos a mano y otro en imágenes de prendas de ropa.\n",
        "\n",
        "Tras limitarnos a un subconjunto de entrenamiento de los datos disponibles (20.000 registros de 60.000) y reducir la dimensionalidad (de 784 a 500 dimensiones), se ha realizado una búsqueda de los hiperparámetros más adecuados para cada caso, variando para ello el tipo de kernel (lineal o gaussiano) y el valor de C (1, 10, 100, 1000)\n",
        "\n",
        "Se ha visto que con valores de C muy pequeños se tiende a modelos con *underfitting* y con valores grandes a *overfitting*. En la implementación de la librería SVC, este parámetro es inversamente proporcional a la penalización asignada a los errores de clasificación. Consecuentemente, un valor pequeño de C permite un mayor grado de clasificaciones erróneas, haciendo posible que el algoritmo no separe correctamente las clases y se base en puntos muy alejados de las fronteras. Por su lado, un valor alto de C penaliza mucho los errores y se tiende a buscar hiperplanos muy ajustados al conjunto de entrenamiento.\n",
        "\n",
        "A continuación, se ha considerado el tiempo de entrenamiento. Para los modelos con mejor *accuracy* en el conjunto de prueba, las diferencias entre los tiempos de ejecución son pequeñas, en ningún caso se han excedido los 2 minutos. Aquellos con C alto y kernel lineal, sobre todo en el conjunto *fashion_mnist*, presentan elevados tiempos de ejecución. Sin embargo, ninguno de estos modelos tiene una *accuracy* aceptable.\n",
        "\n",
        "Después, se ha construido el mejor modelo SVM que hemos encontrado en el análisis exploratorio paramétrico y se ha aplicado sobre todo el *dataset* de entrenamiento disponible con la finalidad de sacar el mayor potencial posible a nuestros datos y así obtener la máxima *accuracy* sobre el conjunto de prueba. Tanto para el *dataset* de *mnist* como para el de *fashion_mnist*, el mejor modelo ha resultado ser aquel con *kernel* gaussiano y C = 10. Resumimos en la siguiente tabla los resultados obtenidos:\n",
        "\n"
      ]
    },
    {
      "cell_type": "markdown",
      "metadata": {
        "id": "RpwCNfpbXVXd"
      },
      "source": [
        "|    *dataset*  | tiempo de entrenamiento (mm:ss) | *Accuracy* en test |\n",
        "|---------------|:-------------:|:-------------:|\n",
        "|   mnist    |      8:03     |         0.9837      |\n",
        "|   fashion_mnist  |      11:26     |         0.9002     |\n"
      ]
    },
    {
      "cell_type": "markdown",
      "metadata": {
        "id": "iTYh4D57XXvQ"
      },
      "source": [
        "Para el *dataset mnist* se ha obtenido una *accuracy* del 98,37% sobre el conjunto de prueba mientras que para el *fashion_mnist* se ha alcanzado el 90%. Al usar todos los datos disponibles, el tiempo de entrenamiento ha aumentado.\n",
        "\n",
        "Con respecto a las métricas, la matriz de confusión y los indicadores *precision*, *recall*, y *f1-score* son muy buenos para el conjunto *mnist*. No se aprecian diferencias entre clases. Por contra, para *fashion_mnist*, sí se observan como las clases 1, 5 y 9 son mejor clasificadas que las clases 6, 4, 0 y 2. En principio, esto se debe a que los números son más diferenciables entre si que algunas prendas de ropa. \n",
        "\n",
        "Se concluye que las SVM son capaces de ofrecer un nivel de *accuracy* muy bueno comparado con otros algoritmos vistos durante el máster. En concreto, en el módulo 6 se aplicó un *Random Forest* para clasificar el conjunto de *mnist* llegando solo a una *accuracy* del 90%."
      ]
    }
  ]
}