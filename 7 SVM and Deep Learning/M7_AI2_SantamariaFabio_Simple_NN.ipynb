{
  "nbformat": 4,
  "nbformat_minor": 0,
  "metadata": {
    "colab": {
      "name": "M7_AI2_SantamariaFabio.ipynb",
      "provenance": [],
      "collapsed_sections": [
        "sVvdQrXOYyUL"
      ],
      "toc_visible": true
    },
    "kernelspec": {
      "display_name": "Python 3",
      "name": "python3"
    },
    "language_info": {
      "name": "python"
    }
  },
  "cells": [
    {
      "cell_type": "markdown",
      "metadata": {
        "id": "sVvdQrXOYyUL"
      },
      "source": [
        "# **Aprendizaje Automático para Machine Learning**\n",
        "\n",
        "## Actividad individual 2: \"PERCEPTRON\"\n",
        "\n",
        "Fabio Santamaría Iglesias\n",
        "\n",
        "21/07/2021"
      ]
    },
    {
      "cell_type": "markdown",
      "metadata": {
        "id": "_pj-kLww7ah6"
      },
      "source": [
        "# **Introducción**\n",
        "\n",
        "El objetivo de esta actividad consiste en construir un perceptrón. Lo aplicaremos a un *dataset* de puntos bidimensionales agrupados en dos clusters diferenciados por una etiqueta. De esta forma, nuestra neurona aprenderá a clasificar nuevos puntos en base a su posición.\n",
        "\n",
        "Primeramente, importamos las librerías comunes que vamos a usar:\n"
      ]
    },
    {
      "cell_type": "code",
      "metadata": {
        "id": "zxW6dUbDYPut"
      },
      "source": [
        "import numpy as np\n",
        "import matplotlib.pyplot as plt\n",
        "%matplotlib inline"
      ],
      "execution_count": null,
      "outputs": []
    },
    {
      "cell_type": "markdown",
      "metadata": {
        "id": "PRDi9h8E8D9w"
      },
      "source": [
        "# **Obtenición del dataset**\n",
        "\n",
        "A continuación, generamos un *dataset* compuesto por 2000 puntos bidimensionales. Cada punto tiene una etiqueta con dos valores posibles. Buscamos aplicar nuestro perceptrón para predecir el valor de la etiqueta de un punto en función de sus coordenadas bidimensionales. Por ello, nuestro problema solo puede ser resuelto si los puntos se hallan formando clusters según el valor de su etiqueta.\n",
        "\n",
        "Para crear un *dataset* con las características mencionadas usamos la librería *make_blobs*:"
      ]
    },
    {
      "cell_type": "code",
      "metadata": {
        "colab": {
          "base_uri": "https://localhost:8080/",
          "height": 265
        },
        "id": "8Cka7qpQzK4p",
        "outputId": "3e6b403a-bc1f-4760-b647-a6dc0359d186"
      },
      "source": [
        "from sklearn.datasets import make_blobs\n",
        "X, y = make_blobs(n_samples=2000, random_state=42, n_features=2, centers=2)\n",
        "plt.scatter(x=X[:,0], y=X[:,1], c=y)\n",
        "plt.show()"
      ],
      "execution_count": null,
      "outputs": [
        {
          "output_type": "display_data",
          "data": {
            "image/png": "[encoded data removed]",
            "text/plain": [
              "<Figure size 432x288 with 1 Axes>"
            ]
          },
          "metadata": {
            "tags": [],
            "needs_background": "light"
          }
        }
      ]
    },
    {
      "cell_type": "markdown",
      "metadata": {
        "id": "jhoeOchmhskL"
      },
      "source": [
        "A continuación, dividimos el conjunto de datos en entrenamiento (80%) y prueba (20%):"
      ]
    },
    {
      "cell_type": "code",
      "metadata": {
        "id": "LpvPlHNlsqFT",
        "colab": {
          "base_uri": "https://localhost:8080/"
        },
        "outputId": "32177644-d8fc-41f2-b9c4-60ebd3c699c7"
      },
      "source": [
        "from sklearn.model_selection import train_test_split\n",
        "\n",
        "X_train, X_test, y_train, y_test = train_test_split(X, y, stratify=y, random_state=42, test_size=0.2)\n",
        "print (X_train.shape, y_train.shape)\n",
        "print (X_test.shape, y_test.shape)"
      ],
      "execution_count": null,
      "outputs": [
        {
          "output_type": "stream",
          "text": [
            "(1600, 2) (1600,)\n",
            "(400, 2) (400,)\n"
          ],
          "name": "stdout"
        }
      ]
    },
    {
      "cell_type": "markdown",
      "metadata": {
        "id": "xH6pHMbyh3Nd"
      },
      "source": [
        "# **Perceptrón**\n",
        "\n",
        "El perceptrón unicapa, con una única neurona, se compone de tantos pesos como características tengan nuestros datos. Adicionalmente, se introduce un peso a mayores, denominado bias. \n",
        "\n",
        "Para que el modelo aprenda a clasificar, debemos entrenarlo. En un principio, sus pesos se encuentran inicializados de forma aleatoria. Durante el entrenamiento, se propagan los datos hacia delante para obtener predicciones. Se calcula la diferencia entre estas predicciones del modelo y el valor real definiendo para ello una función de coste. A continuación, se ajustan los parámetros de la red hacia atrás (si hubiese más de una capa, empezaríamos por la última), de forma que podemos buscar un mínimo en esta función y reducir el error en las predicciones. \n",
        "\n",
        "Así, nuestro modelo tiene 3 grados de libertad, cuyos valores se van fijando con la condición de aprendizaje. Además, como el modelo es puramente lineal, se obtendrá una recta que separa ambas clases, tal y como veremos a continuación.\n",
        "\n",
        "Creamos una clase que representará nuestro perceptrón:"
      ]
    },
    {
      "cell_type": "code",
      "metadata": {
        "id": "G-Tedaha1k80"
      },
      "source": [
        "import numpy as np\n",
        "import matplotlib.pyplot as plt\n",
        "\n",
        "class Perceptron:\n",
        "    # N es el número de características del dataset de entrada\n",
        "    # alpha es la tasa de aprendizaje (learning rate)\n",
        "    def __init__(self, N, alpha=0.1):\n",
        "        # inicializamos la matriz de pesos (W) y almacenamos N y alpha\n",
        "        self.W = np.random.randn(N) / np.sqrt(N)\n",
        "        self.N = N\n",
        "        self.alpha = alpha\n",
        "        \n",
        "    def sigmoid(self, x):\n",
        "        return 1 / (1 + np.exp(-x))\n",
        "\n",
        "    def sigmoid_derivative(self, x):\n",
        "        return self.sigmoid(x) * (1 - self.sigmoid(x))\n",
        "\n",
        "    def fit(self, X, y, epochs=10, addBias=True):\n",
        "        # añadimos una columna de 1s como última entrada de la \n",
        "        # matriz de características -- de esta forma podemos tratar \n",
        "        # el sesgo (bias) como parámetro entrenable dentro de la \n",
        "        # matriz de pesos\n",
        "        if addBias:\n",
        "            print(\"Bias =\", addBias)\n",
        "            X = np.c_[X, np.ones((X.shape[0]))]\n",
        "            self.W = np.random.randn(self.N+1) / np.sqrt(self.N)\n",
        "        w = np.zeros([epochs, X.shape[1]])\n",
        "        Error = np.zeros(epochs)\n",
        "        # iteramos\n",
        "        for epoch in np.arange(0, epochs):\n",
        "            cost = 0\n",
        "            for (x, target) in zip(X, y):\n",
        "            # realizamos el producto escalar y aplicamos la función escalón\n",
        "            # para obtener la predicción\n",
        "                p = self.sigmoid(np.dot(x, self.W))\n",
        "                # actualizamos pesos si la predicción es distinta del target\n",
        "                if p != target:\n",
        "                    # calculamos delta\n",
        "                    cost += (target - p)**2 / 2\n",
        "                    delta =  (p - target) * self.sigmoid_derivative(np.dot(x, self.W))\n",
        "                    # actualizamos la matriz de pesos\n",
        "                    self.W += -self.alpha * delta * x \n",
        "            w[epoch] = self.W\n",
        "            print(f'Epoch: {epoch + 1} / {epochs} Cost: {cost}')\n",
        "            Error[epoch] = cost   \n",
        "        return Error, w\n",
        "\n",
        "    def predict_proba(self, X, addBias=True):\n",
        "        # aseguramos que X es matriz\n",
        "        X = np.atleast_2d(X)\n",
        "        # comprobamos si hay que añadir columna de \"1\" para bias\n",
        "        if addBias:\n",
        "            X = np.c_[X, np.ones((X.shape[0]))]\n",
        "            # realizamos el producto escalar y aplicamos la función escalón\n",
        "            # para obtener la predicción\n",
        "        return self.sigmoid(np.dot(X, self.W))\n",
        "\n",
        "    def predict(self, X, addBias=True, limit = 0.5):\n",
        "        return 1 if self.predict_proba(X, addBias=True) > limit else 0"
      ],
      "execution_count": null,
      "outputs": []
    },
    {
      "cell_type": "markdown",
      "metadata": {
        "id": "MnYddB1tiF19"
      },
      "source": [
        "Esta clase se conforma de:\n",
        "\n",
        "* El constructor, donde se definen los atributos de la neurona:\n",
        "  * N: La dimensión de las instancias contenidas en X. En nuestro caso nuestros puntos son bidimensionales, por tanto, N = 2.\n",
        "  * alpha: El learning rate. Cuanto mayor sea, más rápido descenderemos hacía un mínimo. Un *alpha* muy grande puede evitar la convergencia. Con *alpha* muy pequeño necesitamos muchas iteraciones, por tanto muchos recursos, y podemos vernos atrapados en un mínimo local.\n",
        "\n",
        "* Las funciones del perceptrón:\n",
        "  * sigmoid: función Sigmoid\n",
        "  * sigmoid_derivate: derivada de la función Sigmoid\n",
        "  * fit: realiza el entrenamiento mediante *back propagation*. En este caso, se van ajustando los pesos del perceptrón componente a componente para cada punto de entrenamiento.  \n",
        "  * predict_proba: nos devuelve una predicción entre 0 y 1. Tiene cierta relación con la probabilidad de que una instancia sea de una clase u otra.\n",
        "  * predict: convierte el resultado de *predict_proba* en un resultado binario. Para ello, se define un límite de discriminación. En nuestro caso, lo hemos puesto en 0.5.\n"
      ]
    },
    {
      "cell_type": "markdown",
      "metadata": {
        "id": "fEj3ZX2-iJx1"
      },
      "source": [
        "# **Entrenamiento**\n",
        "\n",
        "Entrenamos el perceptrón sobre nuestro *dataset* de entrenamiento con la función *fit*. Establecemos un *learning rate* de 0.001 y realizamos el aprendizaje durante 20 épocas. Hemos definido el coste como:\n",
        "\n",
        "$$ Error = \\frac{1}{2}(salida-y)^2 $$\n",
        "\n",
        "La función para nos devuelva una lista del coste calculado para cada época."
      ]
    },
    {
      "cell_type": "code",
      "metadata": {
        "colab": {
          "base_uri": "https://localhost:8080/"
        },
        "id": "oXkkMjlZ3f92",
        "outputId": "0b535c2e-a135-49a3-8d76-33f5cfc1efce"
      },
      "source": [
        "# definimos el perceptrón y lo entrenamos\n",
        "print(\"Entrenando perceptron...\")\n",
        "p = Perceptron(X_train.shape[1], alpha=0.001)\n",
        "error, w = p.fit(X_train, y_train, epochs=20, addBias=True)"
      ],
      "execution_count": null,
      "outputs": [
        {
          "output_type": "stream",
          "text": [
            "Entrenando perceptron...\n",
            "Bias = True\n",
            "Epoch: 1 / 20 Cost: 187.45179731731196\n",
            "Epoch: 2 / 20 Cost: 16.287959556069524\n",
            "Epoch: 3 / 20 Cost: 4.925011879321356\n",
            "Epoch: 4 / 20 Cost: 2.6659307587896945\n",
            "Epoch: 5 / 20 Cost: 1.7876576598897551\n",
            "Epoch: 6 / 20 Cost: 1.3373983616947078\n",
            "Epoch: 7 / 20 Cost: 1.0688052552832734\n",
            "Epoch: 8 / 20 Cost: 0.8925041225679303\n",
            "Epoch: 9 / 20 Cost: 0.7689136835038406\n",
            "Epoch: 10 / 20 Cost: 0.6780157886653421\n",
            "Epoch: 11 / 20 Cost: 0.6086757291656693\n",
            "Epoch: 12 / 20 Cost: 0.5542398036569752\n",
            "Epoch: 13 / 20 Cost: 0.5105030068163187\n",
            "Epoch: 14 / 20 Cost: 0.47468561174108875\n",
            "Epoch: 15 / 20 Cost: 0.4448809569793945\n",
            "Epoch: 16 / 20 Cost: 0.41974024387641234\n",
            "Epoch: 17 / 20 Cost: 0.398284008545848\n",
            "Epoch: 18 / 20 Cost: 0.3797848178587707\n",
            "Epoch: 19 / 20 Cost: 0.3636917713525269\n",
            "Epoch: 20 / 20 Cost: 0.349580465547664\n"
          ],
          "name": "stdout"
        }
      ]
    },
    {
      "cell_type": "markdown",
      "metadata": {
        "id": "SrfaELz6mWxm"
      },
      "source": [
        "Como se puede ver, conforme la neurona va aprendiendo con cada iteración, la función de coste va disminuyendo su valor. Gráficamente:"
      ]
    },
    {
      "cell_type": "code",
      "metadata": {
        "colab": {
          "base_uri": "https://localhost:8080/",
          "height": 281
        },
        "id": "8T2E4QXFjmLt",
        "outputId": "e4250d75-c3c2-49f7-efb3-5fd3ffe18ab9"
      },
      "source": [
        "plt.title(\"Función de coste vs época\")\n",
        "plt.plot(error,'-o')\n",
        "plt.show();"
      ],
      "execution_count": null,
      "outputs": [
        {
          "output_type": "display_data",
          "data": {
            "image/png": "[encoded data removed]",
            "text/plain": [
              "<Figure size 432x288 with 1 Axes>"
            ]
          },
          "metadata": {
            "tags": [],
            "needs_background": "light"
          }
        }
      ]
    },
    {
      "cell_type": "markdown",
      "metadata": {
        "id": "pg0GyCbwiQb1"
      },
      "source": [
        "# **Evaluación**\n",
        "\n",
        "A continuación, evaluaremos cómo de bien se comporta nuestro perceptrón sobre el *dataset* de prueba. También trataremos de ver en profundidad qué regla ha aprendido para clasificar estos puntos."
      ]
    },
    {
      "cell_type": "markdown",
      "metadata": {
        "id": "3Y1QDgT4w-XE"
      },
      "source": [
        "## **Predicción**\n",
        "\n",
        "Veamos cuán buena es nuestra neurona clasificando los puntos de prueba, con los que no ha sido entrenada y por tanto son nuevos para ella:"
      ]
    },
    {
      "cell_type": "code",
      "metadata": {
        "colab": {
          "base_uri": "https://localhost:8080/"
        },
        "id": "OzFQFsQ232lN",
        "outputId": "04dcf831-c1ae-4ade-c378-906d38057d10"
      },
      "source": [
        "pred_list = []\n",
        "for (x, target) in zip(X_test, y_test):\n",
        "    # hacemos un predicción y comprobamos\n",
        "    pred = p.predict(x,addBias=True)\n",
        "    print(\"dato={}, target={}, pred={}\".format(\n",
        "        x, target, pred))\n",
        "    pred_list.append(pred)"
      ],
      "execution_count": null,
      "outputs": [
        {
          "output_type": "stream",
          "text": [
            "dato=[-2.99804704  7.89466869], target=0, pred=0\n",
            "dato=[-2.64765361  7.78998789], target=0, pred=0\n",
            "dato=[3.93298627 2.82872534], target=1, pred=1\n",
            "dato=[-2.52861723  8.71110635], target=0, pred=0\n",
            "dato=[-2.49076369  9.36186783], target=0, pred=0\n",
            "dato=[3.39416146 2.02810379], target=1, pred=1\n",
            "dato=[4.9923838  1.40281832], target=1, pred=1\n",
            "dato=[-3.73132543  9.72728456], target=0, pred=0\n",
            "dato=[-2.22820576  8.39158661], target=0, pred=0\n",
            "dato=[5.33870726 2.39414263], target=1, pred=1\n",
            "dato=[-2.36831138  7.24584676], target=0, pred=0\n",
            "dato=[2.73052275 3.29147201], target=1, pred=1\n",
            "dato=[-1.4851351   9.60681308], target=0, pred=0\n",
            "dato=[4.22805547 2.10509765], target=1, pred=1\n",
            "dato=[-3.61490229  8.7993651 ], target=0, pred=0\n",
            "dato=[-2.20036461 10.71650107], target=0, pred=0\n",
            "dato=[-2.53671253 10.78653772], target=0, pred=0\n",
            "dato=[-2.95926309  9.63713606], target=0, pred=0\n",
            "dato=[4.80036846 4.18570072], target=1, pred=1\n",
            "dato=[5.19302799 1.42496939], target=1, pred=1\n",
            "dato=[2.11031876 1.67656222], target=1, pred=1\n",
            "dato=[-4.13674006  9.06237107], target=0, pred=0\n",
            "dato=[3.75063801 2.92847024], target=1, pred=1\n",
            "dato=[4.81516562 0.63644425], target=1, pred=1\n",
            "dato=[5.85783799 1.45997332], target=1, pred=1\n",
            "dato=[-3.16103373  9.0616848 ], target=0, pred=0\n",
            "dato=[5.23867323 2.64151017], target=1, pred=1\n",
            "dato=[-2.62042368  8.11037849], target=0, pred=0\n",
            "dato=[-1.99414994 12.86701762], target=0, pred=0\n",
            "dato=[4.57519023 2.04604378], target=1, pred=1\n",
            "dato=[-1.54531851 11.22480913], target=0, pred=0\n",
            "dato=[6.06873654 0.49903755], target=1, pred=1\n",
            "dato=[-1.87060516  7.35276607], target=0, pred=0\n",
            "dato=[-2.43339306  8.33712442], target=0, pred=0\n",
            "dato=[-1.67979204  6.80315082], target=0, pred=0\n",
            "dato=[5.67899062 1.8974054 ], target=1, pred=1\n",
            "dato=[4.829585   1.31118751], target=1, pred=1\n",
            "dato=[4.97073014 3.42417112], target=1, pred=1\n",
            "dato=[-2.22333223  9.34874292], target=0, pred=0\n",
            "dato=[3.80792392 1.33488696], target=1, pred=1\n",
            "dato=[4.69981147 2.25054662], target=1, pred=1\n",
            "dato=[-1.28816393  9.59638383], target=0, pred=0\n",
            "dato=[-3.03371789  9.50366069], target=0, pred=0\n",
            "dato=[3.61050733 0.6204994 ], target=1, pred=1\n",
            "dato=[-0.31939469  8.20598784], target=0, pred=0\n",
            "dato=[5.30619134 2.43576098], target=1, pred=1\n",
            "dato=[5.29140083 0.83548401], target=1, pred=1\n",
            "dato=[-2.32817606  7.71745418], target=0, pred=0\n",
            "dato=[3.36981775 2.26012554], target=1, pred=1\n",
            "dato=[-0.10578204  8.95666733], target=0, pred=0\n",
            "dato=[4.18986598 3.2303189 ], target=1, pred=1\n",
            "dato=[5.2349083  1.41574663], target=1, pred=1\n",
            "dato=[0.0177348  8.48341736], target=0, pred=0\n",
            "dato=[-3.17827036 10.05419082], target=0, pred=0\n",
            "dato=[3.67183308 1.66286198], target=1, pred=1\n",
            "dato=[-2.48840392  8.28628319], target=0, pred=0\n",
            "dato=[-0.66256063  7.94420136], target=0, pred=0\n",
            "dato=[5.32320783 1.76385586], target=1, pred=1\n",
            "dato=[3.82902133 0.71559183], target=1, pred=1\n",
            "dato=[-1.03265727 10.39437748], target=0, pred=0\n",
            "dato=[-2.8184067   8.26212972], target=0, pred=0\n",
            "dato=[-2.51280016  7.85592144], target=0, pred=0\n",
            "dato=[-1.6966718  10.37052616], target=0, pred=0\n",
            "dato=[6.28935973 3.04378024], target=1, pred=1\n",
            "dato=[-2.67226459  8.26938348], target=0, pred=0\n",
            "dato=[-2.76823977  8.81793628], target=0, pred=0\n",
            "dato=[-2.25545796  9.4819793 ], target=0, pred=0\n",
            "dato=[-1.40101481  7.9743802 ], target=0, pred=0\n",
            "dato=[-3.70312263  9.15722922], target=0, pred=0\n",
            "dato=[-2.57187672  9.96942845], target=0, pred=0\n",
            "dato=[-3.57681805  8.87190664], target=0, pred=0\n",
            "dato=[4.8132205  2.21712288], target=1, pred=1\n",
            "dato=[5.22578304 1.23639955], target=1, pred=1\n",
            "dato=[-2.95538106  7.1247454 ], target=0, pred=0\n",
            "dato=[4.14675601 3.41680169], target=1, pred=1\n",
            "dato=[-2.3398368   7.60057163], target=0, pred=0\n",
            "dato=[-1.00579932  9.89164842], target=0, pred=0\n",
            "dato=[-2.4804528  10.29273799], target=0, pred=0\n",
            "dato=[4.51614616 2.43097529], target=1, pred=1\n",
            "dato=[4.2743729  1.82187046], target=1, pred=1\n",
            "dato=[4.29732964 2.14363345], target=1, pred=1\n",
            "dato=[3.85787534 1.21346657], target=1, pred=1\n",
            "dato=[4.98744045 2.05986738], target=1, pred=1\n",
            "dato=[5.9359419  0.86601287], target=1, pred=1\n",
            "dato=[3.74453251 1.56506884], target=1, pred=1\n",
            "dato=[4.78086154 3.56179661], target=1, pred=1\n",
            "dato=[-2.75526011  8.17103953], target=0, pred=0\n",
            "dato=[-2.18602991  8.86668354], target=0, pred=0\n",
            "dato=[-4.98084212  8.21739087], target=0, pred=0\n",
            "dato=[-2.39980283  9.74005275], target=0, pred=0\n",
            "dato=[-3.21118931  8.35138521], target=0, pred=0\n",
            "dato=[-2.39568028  9.6764168 ], target=0, pred=0\n",
            "dato=[-3.57150134  9.48787856], target=0, pred=0\n",
            "dato=[-3.95721152  6.81548017], target=0, pred=0\n",
            "dato=[-0.60800694  8.95362531], target=0, pred=0\n",
            "dato=[-2.61364684  8.84546441], target=0, pred=0\n",
            "dato=[-2.59756058  8.6442751 ], target=0, pred=0\n",
            "dato=[-2.75458574  8.26054996], target=0, pred=0\n",
            "dato=[-5.00860334 11.3052287 ], target=0, pred=0\n",
            "dato=[-1.57091382  8.4982414 ], target=0, pred=0\n",
            "dato=[-3.59026095  9.63022174], target=0, pred=0\n",
            "dato=[3.69096232 3.72053288], target=1, pred=1\n",
            "dato=[-1.99416236  9.52807208], target=0, pred=0\n",
            "dato=[-3.13233815  8.45880901], target=0, pred=0\n",
            "dato=[5.05997333 2.58002028], target=1, pred=1\n",
            "dato=[5.04848614 1.66536121], target=1, pred=1\n",
            "dato=[-3.33678784  9.10043001], target=0, pred=0\n",
            "dato=[-2.16557933  7.25124597], target=0, pred=0\n",
            "dato=[-3.50952895  8.33654116], target=0, pred=0\n",
            "dato=[7.79193557 0.84967565], target=1, pred=1\n",
            "dato=[5.832614   0.71530153], target=1, pred=1\n",
            "dato=[-1.59012114  8.72401158], target=0, pred=0\n",
            "dato=[5.88938374 0.64039229], target=1, pred=1\n",
            "dato=[4.7119157  1.76096071], target=1, pred=1\n",
            "dato=[4.82458931 2.91108522], target=1, pred=1\n",
            "dato=[4.0580968  0.79928972], target=1, pred=1\n",
            "dato=[-2.52450747  9.59357763], target=0, pred=0\n",
            "dato=[-2.27358306  9.78515132], target=0, pred=0\n",
            "dato=[5.0639457  2.01261673], target=1, pred=1\n",
            "dato=[3.71445421 2.22855344], target=1, pred=1\n",
            "dato=[3.63132415 0.01054399], target=1, pred=1\n",
            "dato=[-1.9915386   8.28854232], target=0, pred=0\n",
            "dato=[5.34438538 2.76222637], target=1, pred=1\n",
            "dato=[4.58329035 3.19214047], target=1, pred=1\n",
            "dato=[4.22251202 1.67807977], target=1, pred=1\n",
            "dato=[-3.21125072  8.68662398], target=0, pred=0\n",
            "dato=[-2.44134211  9.8670598 ], target=0, pred=0\n",
            "dato=[-3.08596895  9.76967735], target=0, pred=0\n",
            "dato=[-2.53056492  8.26707445], target=0, pred=0\n",
            "dato=[-1.63807292  8.6882626 ], target=0, pred=0\n",
            "dato=[-2.2387408   8.96404802], target=0, pred=0\n",
            "dato=[5.1217449  2.52043448], target=1, pred=1\n",
            "dato=[5.13810058 3.11331872], target=1, pred=1\n",
            "dato=[4.8566544  0.87586716], target=1, pred=1\n",
            "dato=[-2.48101647  9.00516713], target=0, pred=0\n",
            "dato=[-2.68614485  8.21598888], target=0, pred=0\n",
            "dato=[4.4383873  1.96664837], target=1, pred=1\n",
            "dato=[-4.63105252  8.40646414], target=0, pred=0\n",
            "dato=[4.83490382 1.21488762], target=1, pred=1\n",
            "dato=[4.73522304 1.70972147], target=1, pred=1\n",
            "dato=[-2.5214444   8.11703176], target=0, pred=0\n",
            "dato=[-2.64183137  8.03975682], target=0, pred=0\n",
            "dato=[4.09576483 1.81037678], target=1, pred=1\n",
            "dato=[3.81594335 1.25406023], target=1, pred=1\n",
            "dato=[5.06576604 1.99231746], target=1, pred=1\n",
            "dato=[4.7158341 2.7158521], target=1, pred=1\n",
            "dato=[5.32194833 2.09934759], target=1, pred=1\n",
            "dato=[5.31881013 1.83617419], target=1, pred=1\n",
            "dato=[6.65515395 3.26381414], target=1, pred=1\n",
            "dato=[-2.72032786  8.0271066 ], target=0, pred=0\n",
            "dato=[-3.85738305  9.75755022], target=0, pred=0\n",
            "dato=[4.18203045 1.81380745], target=1, pred=1\n",
            "dato=[4.68510155 2.02436759], target=1, pred=1\n",
            "dato=[4.78292761 2.82278167], target=1, pred=1\n",
            "dato=[-2.63014577  9.43381857], target=0, pred=0\n",
            "dato=[4.78924232 2.33730998], target=1, pred=1\n",
            "dato=[-3.43243087  7.66260152], target=0, pred=0\n",
            "dato=[-3.41289948  9.33864541], target=0, pred=0\n",
            "dato=[-2.41220166  9.60944315], target=0, pred=0\n",
            "dato=[-2.10094487  7.31170252], target=0, pred=0\n",
            "dato=[-3.03969877  8.43846789], target=0, pred=0\n",
            "dato=[6.66348506 1.97996953], target=1, pred=1\n",
            "dato=[5.41503433 2.52620977], target=1, pred=1\n",
            "dato=[ 4.04290455 -0.41713468], target=1, pred=1\n",
            "dato=[3.10483859 0.09315965], target=1, pred=1\n",
            "dato=[-2.10546753  8.99009052], target=0, pred=0\n",
            "dato=[4.31921121 3.76838104], target=1, pred=1\n",
            "dato=[4.86518676 1.60364276], target=1, pred=1\n",
            "dato=[2.86129125 2.29282151], target=1, pred=1\n",
            "dato=[-3.121635    9.37578965], target=0, pred=0\n",
            "dato=[5.27529687 0.73391129], target=1, pred=1\n",
            "dato=[4.54542012 2.39277966], target=1, pred=1\n",
            "dato=[4.29043951 1.20060094], target=1, pred=1\n",
            "dato=[4.6088199  1.06348627], target=1, pred=1\n",
            "dato=[-2.0795794   9.22197382], target=0, pred=0\n",
            "dato=[-1.40367169 10.20131643], target=0, pred=0\n",
            "dato=[ 0.56968319 10.13386104], target=0, pred=0\n",
            "dato=[5.35963678 0.67989673], target=1, pred=1\n",
            "dato=[5.66933632 2.84548506], target=1, pred=1\n",
            "dato=[-4.3123373   7.43015019], target=0, pred=0\n",
            "dato=[4.86421849 2.87718724], target=1, pred=1\n",
            "dato=[5.30580309 2.39475629], target=1, pred=1\n",
            "dato=[4.23997977 2.24246444], target=1, pred=1\n",
            "dato=[-1.67886181  8.1582023 ], target=0, pred=0\n",
            "dato=[4.59705545 2.03119242], target=1, pred=1\n",
            "dato=[-3.06142067  9.64721795], target=0, pred=0\n",
            "dato=[-4.63309335  8.48853111], target=0, pred=0\n",
            "dato=[4.55644087 0.52352446], target=1, pred=1\n",
            "dato=[3.35942327 2.16264951], target=1, pred=1\n",
            "dato=[-1.47165768  8.50426973], target=0, pred=0\n",
            "dato=[5.70008874 4.73282972], target=1, pred=1\n",
            "dato=[3.80129304 1.08648876], target=1, pred=1\n",
            "dato=[-2.70653604  8.86301284], target=0, pred=0\n",
            "dato=[-3.11481316 10.84029584], target=0, pred=0\n",
            "dato=[5.0322948  1.46420606], target=1, pred=1\n",
            "dato=[2.20106168 1.83889052], target=1, pred=1\n",
            "dato=[-1.47891417  9.25307529], target=0, pred=0\n",
            "dato=[-2.24931483  9.796109  ], target=0, pred=0\n",
            "dato=[-0.94367359  8.94853587], target=0, pred=0\n",
            "dato=[4.41740394 4.02003188], target=1, pred=1\n",
            "dato=[5.72164556 0.66095049], target=1, pred=1\n",
            "dato=[-0.87576609  7.86794074], target=0, pred=0\n",
            "dato=[5.84587335 2.75057704], target=1, pred=1\n",
            "dato=[-3.29409594  9.66256656], target=0, pred=0\n",
            "dato=[-1.7087881   9.76857746], target=0, pred=0\n",
            "dato=[2.0041311  1.97654519], target=1, pred=1\n",
            "dato=[5.10308513 0.60603188], target=1, pred=1\n",
            "dato=[3.68796038 2.0506502 ], target=1, pred=1\n",
            "dato=[-2.15774942 10.08443637], target=0, pred=0\n",
            "dato=[-2.20139585  7.30411774], target=0, pred=0\n",
            "dato=[-2.74952302  8.63946532], target=0, pred=0\n",
            "dato=[4.93410297 1.73876188], target=1, pred=1\n",
            "dato=[5.05474434 2.43645821], target=1, pred=1\n",
            "dato=[4.01784403 2.55590727], target=1, pred=1\n",
            "dato=[-2.57936333  7.35332519], target=0, pred=0\n",
            "dato=[-3.03895783  9.52755356], target=0, pred=0\n",
            "dato=[5.03057476 0.64669756], target=1, pred=1\n",
            "dato=[4.04236864 3.39553955], target=1, pred=1\n",
            "dato=[4.11363098 3.36150746], target=1, pred=1\n",
            "dato=[5.87075335 3.65818396], target=1, pred=1\n",
            "dato=[4.25590756 2.22336989], target=1, pred=1\n",
            "dato=[-3.49168502  8.78965298], target=0, pred=0\n",
            "dato=[4.23019224 2.68549184], target=1, pred=1\n",
            "dato=[-2.16744165 10.89045697], target=0, pred=0\n",
            "dato=[-3.02680892  9.23807408], target=0, pred=0\n",
            "dato=[-1.89004336 11.0717816 ], target=0, pred=0\n",
            "dato=[4.45075845 2.8948198 ], target=1, pred=1\n",
            "dato=[-3.04516107  9.82234393], target=0, pred=0\n",
            "dato=[-4.28223009 10.27620763], target=0, pred=0\n",
            "dato=[5.19135511 2.3137589 ], target=1, pred=1\n",
            "dato=[-2.02818839  9.23817015], target=0, pred=0\n",
            "dato=[-2.98023593  9.24633607], target=0, pred=0\n",
            "dato=[3.72360474 3.32861249], target=1, pred=1\n",
            "dato=[-1.30878372  8.35739185], target=0, pred=0\n",
            "dato=[5.13130829 2.54293004], target=1, pred=1\n",
            "dato=[3.74109479 0.64285606], target=1, pred=1\n",
            "dato=[-3.38481588  7.6314864 ], target=0, pred=0\n",
            "dato=[-3.69245614  6.97505395], target=0, pred=0\n",
            "dato=[-2.53650216  8.08101817], target=0, pred=0\n",
            "dato=[3.82686446 2.7964496 ], target=1, pred=1\n",
            "dato=[-4.37998954  8.66277264], target=0, pred=0\n",
            "dato=[4.86216869 3.2520355 ], target=1, pred=1\n",
            "dato=[-1.1249248   9.57819525], target=0, pred=0\n",
            "dato=[3.63766182 1.22073445], target=1, pred=1\n",
            "dato=[-2.75816177  9.98585708], target=0, pred=0\n",
            "dato=[5.42275257 1.54204411], target=1, pred=1\n",
            "dato=[-1.54434599 10.62986895], target=0, pred=0\n",
            "dato=[-2.87451917  9.19896643], target=0, pred=0\n",
            "dato=[4.17547457 2.43523058], target=1, pred=1\n",
            "dato=[-2.67734144  8.54219555], target=0, pred=0\n",
            "dato=[3.43772931 1.57748897], target=1, pred=1\n",
            "dato=[4.94369743 2.69473219], target=1, pred=1\n",
            "dato=[-1.68378127  9.82779576], target=0, pred=0\n",
            "dato=[-3.12198631  8.62658457], target=0, pred=0\n",
            "dato=[3.50967511 4.38484636], target=1, pred=1\n",
            "dato=[-2.42079074 10.49181621], target=0, pred=0\n",
            "dato=[4.25706165 1.84944074], target=1, pred=1\n",
            "dato=[4.22641368 2.23345019], target=1, pred=1\n",
            "dato=[3.64992104 1.93816207], target=1, pred=1\n",
            "dato=[6.24865969 2.80139937], target=1, pred=1\n",
            "dato=[4.24268352 0.87089994], target=1, pred=1\n",
            "dato=[5.60527632 3.20930041], target=1, pred=1\n",
            "dato=[5.19217877 2.59880062], target=1, pred=1\n",
            "dato=[5.4649771  1.10603947], target=1, pred=1\n",
            "dato=[3.06288235 1.17034524], target=1, pred=1\n",
            "dato=[4.30857045 1.36093295], target=1, pred=1\n",
            "dato=[-1.5851706   8.82938399], target=0, pred=0\n",
            "dato=[4.86514295 2.66589244], target=1, pred=1\n",
            "dato=[-1.32990044  9.08180461], target=0, pred=0\n",
            "dato=[5.63644935 1.5066743 ], target=1, pred=1\n",
            "dato=[3.24408963 2.56451893], target=1, pred=1\n",
            "dato=[5.06142492 2.23998808], target=1, pred=1\n",
            "dato=[5.8346417  2.86781687], target=1, pred=1\n",
            "dato=[3.47809499 1.69003079], target=1, pred=1\n",
            "dato=[-2.85191214  8.21200886], target=0, pred=0\n",
            "dato=[-1.58996869  8.34614204], target=0, pred=0\n",
            "dato=[3.7392581  2.61156161], target=1, pred=1\n",
            "dato=[-2.47119414  9.13431745], target=0, pred=0\n",
            "dato=[4.28153868 1.32562788], target=1, pred=1\n",
            "dato=[-2.43763139  8.53662868], target=0, pred=0\n",
            "dato=[5.84041049 2.11352955], target=1, pred=1\n",
            "dato=[4.11579044 2.12552456], target=1, pred=1\n",
            "dato=[3.83993833 0.06516755], target=1, pred=1\n",
            "dato=[5.15517316 1.13888787], target=1, pred=1\n",
            "dato=[4.33901909 0.76369275], target=1, pred=1\n",
            "dato=[4.30474106 2.31550752], target=1, pred=1\n",
            "dato=[3.80555579 2.73719947], target=1, pred=1\n",
            "dato=[3.51733403 1.05566686], target=1, pred=1\n",
            "dato=[-2.25981394 10.59173941], target=0, pred=0\n",
            "dato=[-2.72264049 10.50501227], target=0, pred=0\n",
            "dato=[-2.24180531  9.33598393], target=0, pred=0\n",
            "dato=[3.17309365 1.47176754], target=1, pred=1\n",
            "dato=[-2.53355222 11.15655649], target=0, pred=0\n",
            "dato=[3.90050743 3.16506902], target=1, pred=1\n",
            "dato=[4.69213733 0.91256462], target=1, pred=1\n",
            "dato=[5.07835458 1.99278634], target=1, pred=1\n",
            "dato=[-2.82954493  9.43845207], target=0, pred=0\n",
            "dato=[4.87266558 1.21640571], target=1, pred=1\n",
            "dato=[4.08157708 0.87301545], target=1, pred=1\n",
            "dato=[-1.62608785  8.93644893], target=0, pred=0\n",
            "dato=[-1.52487522  8.80029728], target=0, pred=0\n",
            "dato=[-5.16016743 10.10579298], target=0, pred=0\n",
            "dato=[3.72368692 1.14134748], target=1, pred=1\n",
            "dato=[4.5908495 1.8128096], target=1, pred=1\n",
            "dato=[5.64732281 0.71824702], target=1, pred=1\n",
            "dato=[4.14872509 1.68829419], target=1, pred=1\n",
            "dato=[-4.09310045  9.77470078], target=0, pred=0\n",
            "dato=[3.67611991 1.01601877], target=1, pred=1\n",
            "dato=[3.05389552 0.0932453 ], target=1, pred=1\n",
            "dato=[4.10407737 0.26581173], target=1, pred=1\n",
            "dato=[-1.52743214  8.68945474], target=0, pred=0\n",
            "dato=[-3.24472757 10.2503793 ], target=0, pred=0\n",
            "dato=[-2.54935557  7.58351103], target=0, pred=0\n",
            "dato=[-2.99680385  8.58172794], target=0, pred=0\n",
            "dato=[-1.55519586  9.66567738], target=0, pred=0\n",
            "dato=[-1.81224322  8.68046664], target=0, pred=0\n",
            "dato=[-0.98607355  9.55319617], target=0, pred=0\n",
            "dato=[-3.54644378  8.82394745], target=0, pred=0\n",
            "dato=[2.73207128 1.11278467], target=1, pred=1\n",
            "dato=[-0.83929312  9.40895766], target=0, pred=0\n",
            "dato=[-3.25166821  7.69426362], target=0, pred=0\n",
            "dato=[-3.98771961  8.29444192], target=0, pred=0\n",
            "dato=[-1.98807519  9.65950171], target=0, pred=0\n",
            "dato=[-2.26844444 11.61596924], target=0, pred=0\n",
            "dato=[-3.58133664  6.09293564], target=0, pred=0\n",
            "dato=[-3.10485892 10.38872422], target=0, pred=0\n",
            "dato=[-3.38718021  8.18740577], target=0, pred=0\n",
            "dato=[-3.26316221  8.73361105], target=0, pred=0\n",
            "dato=[-3.18922234  9.24653983], target=0, pred=0\n",
            "dato=[3.82145017 3.50553741], target=1, pred=1\n",
            "dato=[4.93645438 2.43635448], target=1, pred=1\n",
            "dato=[5.89272147 1.52494507], target=1, pred=1\n",
            "dato=[3.5477152  2.80792101], target=1, pred=1\n",
            "dato=[-3.16327331  7.18365323], target=0, pred=0\n",
            "dato=[2.95722014 0.94914109], target=1, pred=1\n",
            "dato=[5.55526911 1.42362941], target=1, pred=1\n",
            "dato=[4.46078555 2.36898947], target=1, pred=1\n",
            "dato=[-2.30862843 10.16292348], target=0, pred=0\n",
            "dato=[4.36099544 2.81832766], target=1, pred=1\n",
            "dato=[-1.43556587  7.98777083], target=0, pred=0\n",
            "dato=[4.93207156 1.78584067], target=1, pred=1\n",
            "dato=[-4.19263582  8.20841606], target=0, pred=0\n",
            "dato=[-2.58363105  9.63495823], target=0, pred=0\n",
            "dato=[3.26701938 2.32464958], target=1, pred=1\n",
            "dato=[-1.55607258  9.52737155], target=0, pred=0\n",
            "dato=[-2.6093517   8.81061238], target=0, pred=0\n",
            "dato=[5.15137841 3.90832372], target=1, pred=1\n",
            "dato=[4.28583813 1.39956791], target=1, pred=1\n",
            "dato=[5.7642322  1.63909245], target=1, pred=1\n",
            "dato=[-3.22760489  9.90921051], target=0, pred=0\n",
            "dato=[-3.13296658 10.92831748], target=0, pred=0\n",
            "dato=[4.24219914 0.78913913], target=1, pred=1\n",
            "dato=[-1.42614638 10.06808818], target=0, pred=0\n",
            "dato=[4.59098165 0.56797984], target=1, pred=1\n",
            "dato=[5.48805305 0.74064637], target=1, pred=1\n",
            "dato=[-2.66933042  9.6856262 ], target=0, pred=0\n",
            "dato=[-1.76710225  9.31357871], target=0, pred=0\n",
            "dato=[-3.11090424 10.86656431], target=0, pred=0\n",
            "dato=[5.50151496 2.11223008], target=1, pred=1\n",
            "dato=[4.00257109 2.43155639], target=1, pred=1\n",
            "dato=[-1.89642372  7.96087057], target=0, pred=0\n",
            "dato=[-3.18558993 10.81522656], target=0, pred=0\n",
            "dato=[-1.64872413  8.43120869], target=0, pred=0\n",
            "dato=[-2.34054295  9.45622678], target=0, pred=0\n",
            "dato=[-1.24228647  8.30661666], target=0, pred=0\n",
            "dato=[-2.43237573  7.7312939 ], target=0, pred=0\n",
            "dato=[-1.97044163  8.09361254], target=0, pred=0\n",
            "dato=[-2.17159496  8.60240916], target=0, pred=0\n",
            "dato=[-0.19453906  7.14702094], target=0, pred=0\n",
            "dato=[-2.52562052 10.2026794 ], target=0, pred=0\n",
            "dato=[-2.97261532  8.54855637], target=0, pred=0\n",
            "dato=[5.85807355 3.03053799], target=1, pred=1\n",
            "dato=[-4.013918    9.77434209], target=0, pred=0\n",
            "dato=[4.57580107 2.50946059], target=1, pred=1\n",
            "dato=[4.63428282 2.64191134], target=1, pred=1\n",
            "dato=[3.62319571 1.72908921], target=1, pred=1\n",
            "dato=[5.5090349  2.86046052], target=1, pred=1\n",
            "dato=[2.97127958 3.03189821], target=1, pred=1\n",
            "dato=[-2.96150394  6.5904068 ], target=0, pred=0\n",
            "dato=[6.47243588 2.78732145], target=1, pred=1\n",
            "dato=[-2.38690012  9.55758416], target=0, pred=0\n",
            "dato=[5.25009501 2.13014264], target=1, pred=1\n",
            "dato=[5.2466019  1.78997307], target=1, pred=1\n",
            "dato=[3.67421403 3.60233605], target=1, pred=1\n",
            "dato=[-2.54418611 10.78508676], target=0, pred=0\n",
            "dato=[4.4456097  1.21737818], target=1, pred=1\n",
            "dato=[4.99554778 2.16474708], target=1, pred=1\n",
            "dato=[-2.16647228  9.47103935], target=0, pred=0\n",
            "dato=[-2.59747967 11.59399547], target=0, pred=0\n",
            "dato=[-2.81723191  9.79394666], target=0, pred=0\n",
            "dato=[4.84714617 2.04251402], target=1, pred=1\n",
            "dato=[-1.55877378  8.43738247], target=0, pred=0\n",
            "dato=[6.44422695 1.78226589], target=1, pred=1\n",
            "dato=[5.52128637 2.69430505], target=1, pred=1\n",
            "dato=[2.42801692 3.50660339], target=1, pred=1\n",
            "dato=[6.73572234 3.56761208], target=1, pred=1\n",
            "dato=[-0.95804565  9.12996076], target=0, pred=0\n",
            "dato=[-2.1475616   8.36916637], target=0, pred=0\n",
            "dato=[-2.7301618   9.04117197], target=0, pred=0\n",
            "dato=[5.1310865 1.6151403], target=1, pred=1\n"
          ],
          "name": "stdout"
        }
      ]
    },
    {
      "cell_type": "markdown",
      "metadata": {
        "id": "erz5DuHBm965"
      },
      "source": [
        "Como vemos, nuestra neurona clasifica muy bien los puntos. Para medir cómo de bien, calculemos la *accuracy*:"
      ]
    },
    {
      "cell_type": "code",
      "metadata": {
        "colab": {
          "base_uri": "https://localhost:8080/"
        },
        "id": "cyoTGtDkZi48",
        "outputId": "408895ab-335d-4a6a-f51c-fef4db7b74d8"
      },
      "source": [
        "np.mean(y_test == pred_list)"
      ],
      "execution_count": null,
      "outputs": [
        {
          "output_type": "execute_result",
          "data": {
            "text/plain": [
              "1.0"
            ]
          },
          "metadata": {
            "tags": []
          },
          "execution_count": 8
        }
      ]
    },
    {
      "cell_type": "markdown",
      "metadata": {
        "id": "v62DBdGqxml0"
      },
      "source": [
        "El modelo es capaz de clasificar de forma perfecta todos los puntos de prueba. "
      ]
    },
    {
      "cell_type": "markdown",
      "metadata": {
        "id": "IA8vfh8jnIY9"
      },
      "source": [
        "## **¿Qué ha aprendido?**\n",
        "\n",
        "Dado que este caso es muy sencillo, podemos tratar de extraer la información aprendida en la matriz *W* y así construir la línea que el perceptrón está usando a la hora de separar las clases. En efecto, si tratamos de ver qué es *np.dot(X, self.W))* en la función *predict_proba* llegamos a que\n",
        "\n",
        "$$W \\cdot X = w_1 x_1 + w_2 x_2 + w_3.$$\n",
        "\n",
        "Donde $x_1$ y $x_2$ son las dimensiones de nuestro punto X. $w_1,  w_2, w_3$ son los pesos calculados mediante *back propagation*, en particular $w_3$ es el bias. Así, nuestra neurona aprende a ajustar los pesos para que el producto anterior sea próximo a 1 o a 0 según el caso.\n",
        "\n",
        "Para poder pasar a una clasificación binaria introdujimos un límite de discriminación que, como en todo problema logístico, establece el umbral a partir del cual la predicción numérica se considera como de una clase u otra. Teniendo esto en cuenta, es fácil de ver que la función *predict* establece:\n",
        "\n",
        "$$ a(x) = \\begin{cases}\n",
        "1&\\text{si $W \\cdot X \\gt limite$}\\\\\n",
        "0&\\text{si $W \\cdot X \\leq limite$}\\\\\n",
        "\\end{cases} $$\n",
        "\n",
        "Por tanto, podemos trazar la frontera que separa a las dos clases como la línea:\n",
        "$$ w_1 x_1 + w_2 x_2 + w_3 - limite = 0$$\n",
        "\n",
        "De esta forma: \n",
        "\n",
        "$$ x_2 = - (w_1 x_1 + w_3 - limite) / w_2 $$\n",
        "\n",
        "\n",
        "A continuación, se traza esta línea junto con los puntos del *dataset*:"
      ]
    },
    {
      "cell_type": "code",
      "metadata": {
        "colab": {
          "base_uri": "https://localhost:8080/",
          "height": 265
        },
        "id": "VJ27S_eFUflr",
        "outputId": "9bbe47ea-4a23-42bb-f074-948446e8dc6f"
      },
      "source": [
        "plt.scatter(x=X[:,0], y=X[:,1], c=y)\n",
        "\n",
        "x_range_axis = np.arange(-4, 4, 0.1)\n",
        "limit = 0.5\n",
        "\n",
        "#fórmula análoga a lo que hace el método predict \n",
        "y_range_axis = - (p.W[0] * x_range_axis + p.W[2] - limit) / p.W[1]\n",
        "\n",
        "plt.plot(x_range_axis, y_range_axis)\n",
        "\n",
        "plt.show()"
      ],
      "execution_count": null,
      "outputs": [
        {
          "output_type": "display_data",
          "data": {
            "image/png": "[encoded data removed]",
            "text/plain": [
              "<Figure size 432x288 with 1 Axes>"
            ]
          },
          "metadata": {
            "tags": [],
            "needs_background": "light"
          }
        }
      ]
    },
    {
      "cell_type": "markdown",
      "metadata": {
        "id": "KVK3BIHXnhIt"
      },
      "source": [
        "La línea corta el plano, quedando todos los puntos de una case en un lado y todos los puntos de la otra clase al otro."
      ]
    },
    {
      "cell_type": "markdown",
      "metadata": {
        "id": "nlUKezPAvRIi"
      },
      "source": [
        "# **Conclusiones**\n",
        "\n",
        "En este trabajo hemos creado un perceptrón y hemos puesto a prueba su capacidad de aprender a separar un conjunto de puntos repartido en dos clusters. Cada punto representaba un dato con dos parámetros independientes que identificamos como posiciones en un plano bidimensional. Además, cada punto contenía una etiqueta de clase, que tomaba dos valores posibles. El conjunto de puntos fue elegido de tal forma que fuese perfectamente separable en base a esta etiqueta mediante una línea.\n",
        "\n",
        "A continuación, se entrenó el perceptrón con un subconjunto de datos del conjunto original y se validó con el conjunto remanente. Así, se inicializó de forma aleatoria y fue aprendiendo a clasificar los puntos. Para ello, fue calculando la función de coste definida como el error medio cuadrático para cada punto en varías etapas o iteraciones. Con esta información, trató de buscar el mínimo mediante el método Schtocastic Gradient Descend, ajustando los pesos del perceptrón para reducir el valor de la función de coste. Con cada iteración, observamos como el error disminuía.\n",
        "\n",
        "Al haber trabajado con un conjunto de puntos perfectamente separable, nuestra neurona ha sido capaz de encontrar una separación entre ambos clusters, separando todos los puntos exitosamente. Se ha obtenido una *accuracy* del 100%. Además, se ha visualizado como todos los puntos quedan separados por la condición de la función *predict*."
      ]
    }
  ]
}